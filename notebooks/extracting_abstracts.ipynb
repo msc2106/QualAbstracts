{
 "cells": [
  {
   "cell_type": "markdown",
   "metadata": {},
   "source": [
    "Removing the Abstract from Full Text Docs\n",
    "----"
   ]
  },
  {
   "cell_type": "markdown",
   "metadata": {},
   "source": [
    "# Setup and loading data"
   ]
  },
  {
   "cell_type": "code",
   "execution_count": 48,
   "metadata": {},
   "outputs": [],
   "source": [
    "import pandas as pd\n",
    "import numpy as np\n",
    "import re"
   ]
  },
  {
   "cell_type": "code",
   "execution_count": 36,
   "metadata": {},
   "outputs": [],
   "source": [
    "uncleaned_fulltext = pd.read_csv('../data/fulltext_uncleaned.csv')"
   ]
  },
  {
   "cell_type": "code",
   "execution_count": 37,
   "metadata": {},
   "outputs": [],
   "source": [
    "def whitespace(col:pd.Series):\n",
    "    # replace all endlines and tabs with spaces\n",
    "    tmp = col.str.replace(r'[\\t\\n]+', ' ', regex=True)\n",
    "    # remove all duplicate spaces\n",
    "    tmp = tmp.str.replace(r' {2,}', ' ', regex=True)\n",
    "    return tmp\n",
    "\n",
    "df_inprocess = uncleaned_fulltext.copy()\n",
    "df_inprocess.abstract = whitespace(df_inprocess.abstract)\n",
    "df_inprocess.fulltext = whitespace(df_inprocess.fulltext)"
   ]
  },
  {
   "cell_type": "code",
   "execution_count": 41,
   "metadata": {},
   "outputs": [
    {
     "name": "stdout",
     "output_type": "stream",
     "text": [
      "full abstract matches:  2402\n",
      "middle 20% abstract matches:  5160\n",
      "end abstract matches:  7453\n",
      "word 'Abstract' appears:  8124\n"
     ]
    }
   ],
   "source": [
    "def contains_abstract_whole(row):\n",
    "    return row['abstract'] in row['fulltext']\n",
    "def contains_abstract_part(row):\n",
    "    length = len(row['abstract'])\n",
    "    one_tenth = length // 10\n",
    "    start = length // 2 - one_tenth\n",
    "    end = start + 2*one_tenth\n",
    "    selection = row['abstract'][start:end]\n",
    "    return selection in row['fulltext']\n",
    "def contains_abstract_end(row):\n",
    "    selection = row['abstract'][-50:]\n",
    "    return selection in row['fulltext']\n",
    "\n",
    "print('full abstract matches: ', df_inprocess.apply(contains_abstract_whole, axis=1).sum())\n",
    "print('middle 20% abstract matches: ', df_inprocess.apply(contains_abstract_part, axis=1).sum())\n",
    "print('end abstract matches: ', df_inprocess.apply(contains_abstract_end, axis=1).sum())\n",
    "print('word \\'Abstract\\' appears: ', df_inprocess.fulltext.str.contains('A[Bb][Ss][Tt][Rr][Aa][Cc][Tt]', regex=True).sum())"
   ]
  },
  {
   "cell_type": "code",
   "execution_count": 45,
   "metadata": {},
   "outputs": [
    {
     "name": "stdout",
     "output_type": "stream",
     "text": [
      "1657\n",
      "This article engages with the relationship between social theory, architectural theory and material culture. The article is a reply to an article in a previous volume of the journal in question (Smith, M. (2001) ‘Repetition and difference: Lefebvre, Le Corbusier and modernity’s (im)moral landscape’, Ethics, Place and Environment, 4(1), 31-34) and, consequently, is also a direct engagement with another academic's scholarship. It represents a critique of their work as well as a recasting of their ideas, arguing that the matter in question went beyond interpretative issues to a direct critique of another author's scholarship on both Le Corbusier and Lefebvre. A reply to my article from the author of the original article was carried in a later issue of the journal (Smith, M. (2002) ‘Ethical Difference(s): a Response to Maycroft on Le Corbusier and Lefebvre’, Ethics, Place and Environment, 5(3), 260-269).\n",
      "Repetition and Difference: Lefebvre, Le Corbusier and Modernity’s (Im)moral Landscape Neil Maycroft History of Art & Material Culture Lincoln School of Art & Design University of Lincoln e-mail: nmaycroft@lincoln.ac.uk This was first published as ‘Smith, Le Corbusier and Lefebvre: a critical commentary’, in Ethics, Place and Environment, Volume 5, No. 2, June 2002. http://www.informaworld.com /smpp/content db=all?content=10.1080/1366879022000020202 1 Introduction As someone who has written extensively on Henri Lefebvre and is currently researching Le Corbusier, I was immediately drawn to Mick Smith’s article (Ethics, Place and Environment, 2001, 4, 31-44). The piece makes many telling points concerning the role that various spatial practices have played in the production of a distinct modernity characterised by abstract space. The exemplar in producing and promoting the consolidation of this abstract space, which destroys both individual and social difference, is, according to Smith, the architect and town-planner Le Corbusier. Lefebvre is introduced by Smith in order to both consolidate the critique of Le Corbusier and provide the basis for the development of a ‘difference ethics’. However, in building his case, Smith brings forth a characterisation of Le Corbusier which many will find tendentious and unjustified. The article also articulates a partial view of Lefebvre’s attitude towards Le Corbusier. More worryingly, Smith, on occasion, questionably stretches the limits of textual interpretation in order to build his case, especially against Le Corbusier. Underlying these aspects is a disquieting lack of contextualisation and it is this that I wish to address first. Contextual issues Both Le Corbusier (1887-1965) and Henri Lefebvre (1901-1991) lived long and productive lives each marked by prodigious published output. Yet Smith’s article contains little sense of which Lefebvre and which Le Corbusier is being discussed. There is no notion of any development of each’s ideas over time or of ambiguity, contradiction or self-critique. The article also presents a confus- ing publication and translation chronology. Smith dates Le Corbusier’s The City of Tomorrow and its Planning as 1971 though the book was originally published in 1925 in France as Urbanisme and first translated into English in 1929. He references the publication date of Towards a New Architecture as 1974 though this was first published in 1923 as Vers une architecture and first translated into English in 1927. These dry details are significant as Smith not only misplaces the publication dates but also reverses the order of their original appearance. Urbanisme is in many respects a reply to debates that 2 arose from the publication of Vers une architecture.1 Moreover, although he references Kofman & Lebas’ introduction, ‘Lost in Transposition’, to Lefeb- vre’s Writings on Cities (Kofman & Lebas, 1996) he has not taken notice of their warnings concerning the problems of reading authors in translation. It was Frederick Etchells, in the first English translation, who changed the title from Vers une architecture to Towards a New Architecture, ‘perhaps assum- ing that the English reader would not understand the cultural implications in the original title with its connotation of restoring a lost unity ’ (Benton, 1990, p. 46, emphasis added). Etchells also translated Urbanisme as The City of Tomorrow and its Planning again adding a clear future orientation absent from Le Corbusier’s originals. These points are noteworthy given that Smith imbues Le Corbusier’s writings with an Utopian forward-looking sen- sibility rather than following Le Corbusier’s own insistence that his plans were practical possibilities rooted in the current conditions of the time and not at all Utopian. These works of Le Corbusier which Smith references were written in the aftermath of the First World War in which there was already the perceived threat of a new war. Furthermore, the devastation that war had brought to France was uppermost in Le Corbusier’s considerations; overcrowding, pol- lution, tuberculosis, poverty and a chronic housing situation were unfolding in a highly conservative and nationalist atmosphere. By the end of the 1920s Le Corbusier had also largely left behind his interest in the grand and heroic modernist projects that Smith attacks. However, apart from one reference to Le Corbusier’s ‘Voisin Plan’ for Paris from 1925, Smith does not name one single building or project of Le Corbusier’s, whether conceptual or realised. If Smith’s article had just made passing reference to Le Corbusier such ab- sence of detail may be justified. However, Smith refers to Le Corbusier in the title of his piece, bases his view on a reading of the primary material and names no other twentieth century architect or town planner. By this series of reductions, Smith makes Le Corbusier synonymous with advocating the 1According to Docker the whole of The City of Tomorrow and its Planning can be viewed as a response to Le Corbusier’s critics: ‘he evidently felt that he was unfairly being accused of ignoring emotion, the poetic, and nature’ (Docker, 1994, p. 10). The critique of American cities is also strongly articulated in the latter book as are Le Corbusier’s changing views on skyscrapers. In ‘Towards. . . ’ he considered them as dwellings but, in ‘The City of Tomorrow . . . ’ Le Corbusier explicitly rejected the skyscraper as a place to live. Smith, though, sees only ‘sky-scraping colonies’ (Smith, 2001, p. 33) with all the connotations that the word ‘colonies’ carries. 3 particular view of modernity he critiques. Similarly, Smith references Lefebvre’s The Production of Space as be- ing published in 1994 though it was first published in France in 1974 and translated into English in 1991. The twenty year gap between 1974 and 1994 is significant, not least, because Smith does not place Lefebvre’s work in any kind of historical or social context. According to McLeod, ‘Lefeb- vre was acutely conscious of the relationship between his philosophy and the historical moment from which it emerged. He insistently historicized his claims, frequently reminding the reader of the conflicts and contradictions in France that generated his investigations’ (McLeod, 1997, p. 11). So, Lefeb- vre’s lifelong intellectual project was concerned to understand the dialectic of modernity and everyday life and his specific interrogation of space and the city was intimately tied to this greater preoccupation. La production de l’espace (1974), thus, appeared as the key text of a relatively short period of explicit spatial theorizing (Kofman & Lebas, 1996)2 within a publishing history of over 65 years beginning in 1924. As such it is shorn of much of the explicit Marxism which characterizes most of Lefebvre’s other work and also of many of Lefebvre’s specific views concerning modernity (Lefebvre, 1995).3 In 1974 Lefebvre was also a respected figure in debates concern- ing the direction of French urban planning having influence on both town planners and architects (see Lefebvre et al, 1967, Kofman & Lebas, ibid:, p. 35-42, Shields, 1999). During the 1920s, however, the decade that Smith focuses on in terms of his critique of Le Corbusier, Lefebvre was involved in a number of thoroughly modernist projects of his own; Dada, Surrealism and eventually Marxism. During this period he was also gathering the materials 2Unwin’s (2000) observation that The Production of Space was written by a philosopher for other philosophers should also be borne in mind. Le Corbusier was writing fifty years before as an architect and anticipating a very difference audience. The transposition of ideas from one domain to another can be fraught with difficulties of translation, intention and meaning (see also Elden, 2001). 3Frampton (1969) makes a very similar point about Le Corbusier’s Vers une architec- ture that Merryfield (1995) makes in relation to Lefebvre’s La production de l’espace. Both are characterized by indicative structure followed by circumlocutory content. Frampton’s observation concerning Le Corbusier’s book that, ‘Its structure which is clearly tabulated in the first few pages bears only an elliptical relation to its actual content which, through recapitulation and transposition, reveals itself as resting on a number of separate but re- lated dialectical themes’ (Frampton, ibid, p. 139), is also a perfect description of Lefebvre’s La production de l’espace. Unwin (2000) presents some of the problematic consequences arising from Lefebvre’s text’s form and structure. 4 which would later form the basis for expounding the figure of the ‘Total Man’ (surely an example of that ‘paradigmatically masculine subject’ which Smith makes pejoratively synonymous with modernity, Smith, 2001, p. 33). Textual constraints Whilst the limits of permissible interpretation of particular texts are generally seen to be wider now than in the past they still remain a consideration. It would be absurd to ignore the authority of Smith as the author of his own text and to proceed to read the article as a trenchant defence of Le Corbusier and critique of Lefebvre, for example. Yet Smith rarely allows Le Corbusier in particular to clearly express his intentions through the use of full quotations in context. Rather, a series of snippets of a few words, often even single words, are presented as evidence of views that Smith argues Le Corbusier is articulating. One reason for this may be that Le Corbusier is invariably talking about the specifics of architecture as a profession and building as an industry while Smith tends to see his comments foremost as general social prescriptions which can be stripped of their specific technical content without altering their meaning. The tone of any text also sets an interpretive consideration and Smith’s is clearly hostile rather than open towards Le Corbusier. He forces a number of disparaging affinities between Le Corbusier’s views and the elimination of difference, the panoptic function of the prison and Orwell’s dystopian 1984 dictum, ‘slavery is freedom’, with little textual justification or sensitivity to context or genre. These associations carry strong negative and hyperbolic intentions but, then, the society which Smith constructs is a curious one in which hyperbole becomes reality. It is a world in which figures including Le Corbusier produce ‘an abstract space that is quite literally, and quite inten- tionally, a “no-where” and, in which ‘modern city-dwellers live hermetically sealed existences. . . made quite literally senseless by the constant, confusing and meaningless white noise of television’ (Smith, 2001, p. 32-33, emphases added). Perhaps Smith’s intention is not to be taken seriously after all? Another consideration is the extent to which texts are seen as plastic entities to be stretched, re-ordered and chopped up like dough in order to support particular interpretations. There are very many questionable exam- ples but space permits only a handful to be discussed. For example, Smith offers the following, 5 According to Le Corbusier, the modern spirit demands the era- sure of the specificity of both past and place. It strives to break free from both the ‘slime’ of social history and the unwelcome intrusions of nature’s ‘disorderly’ conduct, ‘the nature all around us [that] thwarts us’ (Smith, 2001, p. 31). This quotation suggests strongly a certain belief of Le Corbusier’s but, there are only nine of Le Corbusier’s words here. Within the pages from which Smith draws this material, Le Corbusier actually argues for humanity’s rootedness in nature and, contrary to the claim that he associated nature only with ‘disorderly’ conduct, emphasises that, ‘the spirit which animates Nature is a spirit of order’ (Le Corbusier, 1987, p. 19).4 Le Corbusier here simply makes no mention of erasing past or place, the modern spirit or anything that could justify Smith’s, ‘According to Le Corbusier’ approach. Smith continues, ‘In the regulated space of the city of tomorrow there is no room for a “misplaced sentimentalism” that would cling to the past, and progress will ensure that the “vagaries of weather and the seasons can be ignored”’ (Smith, ibid, p. 32). The words ‘vagaries of the weather’ appear here as part of the same sentence but are from nearly two hundred pages further on in Le Corbusier’s text. Whilst Smith references this clearly it does make one cautious about accepting a line of argument that rests on such small snippets of such widely separated material, The builders’ yard must become a workshop with a proper staff and machinery and specialized gangs. The vagaries of the weather and seasons can then be ignored. ‘Building’ must cut out its ‘off seasons’ (Le Corbusier, ibid, p. 220). Here Le Corbusier is plainly speaking only of making the building in- dustry more productive and the idea that he wanted his architecture and town-planning to be hostile to weather and the seasons is entirely fallacious. On numerous occasions from within the pages of the books Smith quotes the exact opposite is expressed. For example, after complaining that the pollu- tion which results from the congested traffic in the centre of Paris is killing the trees, Le Corbusier exclaims, ‘Only May! What has happened to the 4The disparity in page numbers arises from that fact that I am using different English editions to Smith, they though are the same translations. 6 seasons?’ (Le Corbusier, ibid, p. 199). Further on after detailing his plans for a ‘Contemporary City’ which included 85-95% of all the ground space being given over to parks, trees, gardens, orchards and allotments, Le Cor- busier imagines a profusion of hanging gardens sprouting from every dwelling and argues, ‘we are still children of Nature; and we have seen that an urban manifestation which completely ignored Nature would soon find itself at odds with our deepest primeval impulses’ (Le Corbusier, ibid, p. 237). Not only in his writings but also in his architectural practice, Le Corbusier demonstrates his filial view of nature. It is also manifested in his drawings, paintings, tapestries and sculptures. All evidence, for one commentator, to charge Le Corbusier with an increasing ‘obsession with the harmony of nature’ (Curtis, 2001, p. 225). A further interpretive consideration is the extent to which justifiable meaning can be attributed to the shortest snippets of an author’s writing. It would surely be possible to extract three word quotations from any text and read many different meanings into them? I will consider one such example here though, again, there are many in Smith’s account, Modernity’s principle is repetition. It seeks salvation in the de novo creation of ‘types’ and through the eradification of ‘differ- ence’ and of everything unique. ‘Repetition dominates every- thing’ (Smith, 2001, p. 32). Leaving aside the veracity of this claim, Le Corbusier’s three words ‘rep- etition dominates everything’ are used to support Smith’s contention. Yet it is simply not clear whether Le Corbusier is using these words approvingly, disapprovingly or as straightforward description. Context is also lacking; was Le Corbusier, when he wrote these three words, arguing for the social elimination of everything different or unique from modernity? No, the words come from the section identified earlier where Le Corbusier is considering the inefficient state of the French building industry against the backdrop of a chronic housing shortage. He titles this section ‘On Repetition or Mass Production’ and repetition is used here as a synonym for mass production. Le Corbusier remarks that, ‘Repetition dominates everything. We are unable to produce industrially at normal prices without it; it is impossible to solve the housing problem without it’ (Le Corbusier, 1987, p. 220). Of course, Smith may interpret the French building industry in 1929 as synonymous 7 with ‘modernitys grand scheme’ as a whole or he may be insinuating that every brick, window frame, tile and door should be produced in a different way and with a unique form in order to avoid the tyranny of repetition. This, though, is not made clear. Finally, there are competing interpretations of the same material which may throw new light onto familiar territory. Crow (1989), for example, offers a very different reading to Smith of The City of Tomorrow and its Planning. For Crow, Le Corbusier’s technical and rational approach to city planning is ‘constantly at odds with his other signifying strategies’ used throughout the book (Crow, 1989, p. 241). This text ‘challenges the distinction between modernism and postmodernism’ and ‘questions any attempt to place it in either modern or postmodern periods of philosophical history’ (Crow, ibid, p. 241). The use of cartoons, drawings, photographs, architectural renderings, photo-montages, reproductions of postcards, graphs, charts, paintings and collages are all integral to Le Corbusier’s texts and it is these that for Crow undermine Le Corbusier’s textual strategies. According to Crow ‘Through all the strategies he uses to construct and privilege geometry, science and technique against poetry, art and politics, these seemingly “marginalized” elements not only slip through his grid of arguments but also overpower it’ (Crow, ibid, p. 243). Crow, then, suggests the possibility of other readings, yet Smith, privileging the interpretation of text above all other signifying practices, is blind to such possibilities (though there are 215 of them spread over the book’s 300 pages and they can be found on all but one of the pages from which Smith quotes). Lefebvre and Le Corbusier Lefebvre’s few, scattered comments on Le Corbusier are also open to differing interpretations. Lefebvre’s position on Le Corbusier remained pretty much unexamined and unchanged from the early 1960s to the mid 1980s (McLeod, 1997) and it seems to be predicated on a very narrow reading of Le Cor- busier from the 1920s, possibly only through secondary sources (there are no primary references in The Production of Space). Smith summarizes as follows, Thus according to Lefebvre, ‘Le Corbusier ideologizes as he ra- tionalizes’. His architecture ‘turned out to be in the service of 8 the state. . . despite the fact its advent was hailed as a revolu- tion. . . Le Corbusier, expressed (formulated and met) the archi- tectural requirements of state capitalism’. Far from being ‘natu- ral’, modernism’s abstract and Cartesian conception of space was an ‘ideology in action’ (Smith, 2001, p. 36, emphasis in original). This quotation is assembled from material covering five pages of The Production of Space and while it is a reasonable reflection of Lefebvre’s view of Le Corbusier, a fuller version may be of interest, Le Corbusier ideologizes as he rationalizes - unless perhaps it is the other way around. An ideological discourse upon nature, sunshine and greenery successfully concealed from everyone at this time - and in particular from Le Corbusier - the true meaning and content of such architectural projects (Lefebvre, 1991, p. 303- 4). Contrary to Smith’s claim that Le Corbusier was antagonistic towards nature, Lefebvre is arguing the exact opposite. Moreover, Lefebvre seems to be somewhat excusing Le Corbusier’s plans caught up as he saw them in an all pervasive ideology of nature abroad at the time. However, Lefebvre is far from consistent in this regard. On another occasion he approvingly prefaces a critique of Le Corbusier’s supposed functionalism with the following, ‘As for Le Corbusier, as philosopher of the city he describes the relationship between the urban dweller and dwelling with nature, air, sun, and trees with cyclical time and the rhythms of the cosmos’ (Lefebvre in Kofman & Lebas, 1996, p. 98). In terms of his architecture meeting the ‘requirements of state capital- ism’ Lefebvre does indeed charge Le Corbusier with this. However, he also includes the Bauhaus and the Soviet Constructivists here, and as Gregory (1994) observes Lefebvre’s ire was directed far more towards the Bauhaus. There are several references to the Bauhaus omitted from Smith’s quotation above and nowhere does Lefebvre provide the kind of lengthy disquisition on Le Corbusier that he does on the Bauhaus (Lefebvre, 1991, p. 123-26.) It is to the Bauhaus that Lefebvre repeatedly ascribes an ‘historic role’ in the production of abstract space.5 5From the pages of The Production of Space, Smith could have built a far more cogent and coherent case by linking the Bauhaus to Lefebvre and the abstract space of modernity. Why he has chosen to focus on Le Corbusier is unclear. 9 Lefebvre also clearly demarcated Le Corbusier’s architectural theory from his architectural practice being much more generous to the latter: ‘Le Cor- busier’s architectural practice is seen to be more hesitant, more flexible and more vital than his architectural theory’ (Lefebvre, 1972, p. i-ii). And, even though he described Le Corbusier as a ‘good architect’ but a ‘catastrophic urbanist’ (Lefebvre in Kofman& Lebas, 1997, p. 207), he regarded Le Cor- busier’s 1942 Charte d’Athnes as a ‘milestone of prime importance’, and an attempt to ‘make the notion of harmony concrete’ (Lefebvre, 1995, p. 393). Smith, however, sees no difference between Le Corbusier’s architecture or his town-planning or, indeed, between the conceptual and practical dimen- sions of each. It is all reduced to the level of the ‘Same’ to borrow Smith’s terminology. Past, place and difference Returning to Smith’s assertion that ‘According to Le Corbusier, the modern spirit demands the erasure of the specificity of both past and place’ (Smith, 2001, p. 31), Le Corbusier does not agree, The past has been my one master and continues to be my constant guide. Any reflective man thrust into the unknown of architec- tural invention cannot base his creative spark on anything but the lessons taught by past ages, and the signposts time has left standing are of permanent human value (Le Corbusier, 1999, p. 56-57). After hubristically detailing the part he played in saving the old Alge- rian Casbah, the Old Port of Marseilles and the heritage of Barcelona, Le Corbusier complains that, ‘All this hasn’t prevented my critics from accus- ing me of wanting to systematically destroy the past’ (ibid, p. 58). He fills the pages of Towards a New Architecture and The City of Tomorrow and its Planning with references to, and sketches of, historic cities which he admires including medieval Sienna, Venice, Bruges and Rome and argues ‘I do not feel that I am breaking with tradition: I believe myself to be absolutely tra- ditional in my theories’ (Le Corbusier, 1987, p. 300). He even regarded the overly-rational ‘Voisin Plan’ for Paris as respecting and rescuing both past and place and he included the preservation of many buildings, monuments, 10 arcades and doorways within the redeveloped area (Le Corbusier, 1987, p. 287). Smith’s tendency to make both Le Corbusier specifically, and architec- ture and town-planning generally, synonymous with modernity is overblown. According to Gregory, while critical of the ‘strange sort of liberty’ that Le Corbusier defended, ‘For all his importance, it would be wrong to cast Le Cor- busier as paradigmatic of modernism; the movement was never monolithic’ (Gregory, 1994, p. 340). Similarly, Best and Kellner argue that, ‘The most striking exceptions to the International Style were the inventive modernist constructions of Le Corbusier and Frank Lloyd Wright’, and, ‘Moreover, Le Corbusier explored tensions, ambiguities, and paradoxes that subvert oppo- sitions such as those between machine and biology, between mathematical measure and lyricism, between engineering and aesthetics’ (Best and Kell- ner, 1997, p. 144-45). Reducing social formations to the specifics of their ‘spatial’ culture, whether represented or lived, is an anti-social exercise which Le Corbusier himself recognized, Town-planning, ‘has become a sort of dumping ground for every difficult and unresolved problem such as the birth-rate, the social equilibrium, alcoholism, crime, the morale of the great city, civic affairs and so forth (Le Corbusier, 1987, p. 130). Moreover, Le Corbusier’s views cannot be simply reduced to the ‘moral discourse on straight lines, on right angles’ with which Smith, quoting Lefeb- vre, charges him (Smith,, ibid, p. 36). Le Corbusier’s admiration of the straight line was not so much theoretical as practical; he regarded it as the best way to solve the problem of contemporary motor traffic. He included curved streets within his plans as more appropriate for strolling within the green spaces of his garden cities and, during the 1920s and beyond curved and circular shapes were increasingly part of Le Corbusier’s architectural prac- tice. Smith, though, seems to link all benevolence to the curved line with his language that contrasts meanders, loops and eddies favourably with vec- tors, straight lines and right angles whilst concurrently and disingenuously expelling the curve both from Le Corbusier’s work and from modernity. Smith also ties Le Corbusier’s discussions of productive techniques too closely to some implied moral prescription for society as a whole. When 11 Le Corbusier is talking about standardization, mass production and prefab- rication he is doing so almost exclusively in relation to the production of housing units. Take, for example, Smith’s inevitable swipe at Le Corbusier’s notion of dwellings as ‘machine-houses’ (Smith, 2001, p. 33).6 Reflecting in 1943 on his architectural emphasis on the home and his choice of the phrase ‘machine for living’, Le Corbusier comments that, ‘I was never forgiven for that expression, neither in Paris nor in the U.S.A.- in the U.S.A. where the machine is king’ (Le Corbusier, 1999, p. 26). Moreover, ‘A house has to fulfil two purposes. First it is a machine for living in, that is, a machine to provide us with efficient help for speed and accuracy in our work, a diligent and helpful machine which should satisfy all our physical needs: comfort. But it should also be a place conducive to meditation, and, lastly, a beau- tiful place, bringing much-needed tranquillity to the mind’ (Le Corbusier in Weston, 1996, p. 100). Le Corbusier is clearly not here preaching the elim- ination of social difference and Harvey (who Smith repeatedly uses against Le Corbusier), while highly critical of many aspects of Le Corbusier’s work and character, argues that, ‘his project was internationalist, and emphasized the kind of unity in which a socially conscious notion of individual difference could be fully explored’ (Harvey, 1989, p. 271). Furthermore, Le Corbusier is not even arguing for the elimination of architectural difference. Standardized units can be configured in many different forms and Le Corbusier constantly emphasizes his belief that the result will be architectural variety and diversity rather than uniformity and, of course, standardized and repetitive building techniques and forms are centuries old phenomena. As Lefebvre observes whilst commenting in 1962 on the medieval village of Navarrenx, twice re- built in the Middle Ages according to geometric ground plans, ‘It is amazing the diversity which can be obtained spontaneously from the same unchanging (or “structural”) regional elements. . . ’ (Lefebvre, 1995, p. 116-117).7 There is also a more direct commentary of interest from Lefebvre on Le Corbusier which touches upon these themes: Boudon (1972) published a study of Le Corbusier’s 1920s workers’ housing project at Pessac in South West France. In particular, Boudon documented the manner in which the in- 6Lefebvre also uses the term to attack Le Corbusier commenting that a, ‘machine for living in, [is] the appropriate habitat for a man-machine (Lefebvre, 1991, p. 303). 7Lefebvre is clear that there has always been town-planning but that it is capitalism that produces the distinctive type of town-planning that he opposes. Lefebvre is certainly not anti-planning (see Kofman & Lebas, 2000). 12 habitants had altered Le Corbusier’s original design. Lefebvre contributed a short preface to the book referring to Le Corbusier as a ‘genius’ whose houses at Pessac were adapted by their inhabitants by introducing ‘personal quali- ties’ which produced a ‘differentiated social cluster’. According to Lefebvre, Le Corbusier intended to build a predetermined, homogeneous and functional system whose standardization was overcome by the adaptations of the inhab- itants as they put their needs into action. However, Boudon’s study provides a different interpretation which suggests that Lefebvre was misinformed con- cerning Le Corbusier’s architectural intentions at Pessac. For Boudon, ‘the modifications carried out by the occupants constitute a positive and not a negative consequence of Le Corbusier’s original conception’ (Boudon, 1972, p. 161, emphasis added). Boudon argues that the geometric differentiation that resulted from the use of standardized components in different configu- rations provided both architect and occupants with the scope to realize their differentiated intentions through adaptation and modification. For Boudon, one of the essential features of Le Corbusiers spatial conception at Pessac was that it, ‘facilitated and, to a certain extent, even encouraged such alterations’ (Boudon, ibid, p. 114, emphasis in original). Boudon’s extensive interviews with the occupants support these findings: the original occupants did not ob- ject to the standardization that Le Corbusier employed and, the imaginative and varied alterations made by the inhabitants were not motivated by the desire to ‘personalise the standardized appearance of the houses, but in order to bring out or enhance the personal qualities that they already possessed’ (Boudon, 1972, p. 152). Conclusion This paper has not had the scope to deal with Smith’s provocative thesis concerning the ethically normalizing force of the abstract space of moder- nity. It has also not been possible to discuss the questionable use made of Lefebvre’s equally questionable spatial categories. It has sought, rather, to advance a different Le Corbusier from the portrayal found in Smith’s paper. Whilst he was certainly the designer of detested schemes such as the Voisin Plan for Paris and other emblems of heroic modernism, Le Corbusier was also the most vernacular of the pioneer modernists. Whilst he curried favour with the bourgeoisie he was also acutely aware of the need to improve the basic living conditions of the proletariat. While he naively relied on the social 13 reform of technocrats he was not himself a technocrat. A more complex and ambiguous Le Corbusier, and a fuller account of Lefebvre’s attitude towards Le Corbusier, has been suggested. Concerns regarding the contextualisation of ideas and the malleability of texts have also been advanced. However, to insist on the importance of context is perhaps one of the difference destroy- ing strategies of the modernity which Smith seeks to oppose. After all, he does clearly affirm his intentions, ‘anything and everything is liable at any moment to be ripped from its particular context’ (Smith, 2001, p. 36). References Benton, T. (1990) ‘The Myth of Function’, in: Greenhalgh, P (ed.) Mod- ernism in Design. London, Reaktion Books. Best, S. and Kellner, D. (1997) The Postmodern Turn. New York, The Guild- ford Press. Boudon, P. (1972) Lived-in architecture: Le Corbusier’s Pessac revisited. Cambridge, Mass. MIT Press. Crow, D. (1989) ‘Le Corbusier’s Postmodern Plan’, Theory, Culture & Soci- ety, 6, 241-61. Curtis, W. J. R. (2001) Le Corbusier: Ideas and Forms. London, Phaidon Press, Inc. Docker, J. (1994) Postmodernism and Popular Culture: a Cultural History. Cambridge University Press. Elden, S. (2001) ‘Politics, Philosophy, Geography: Henri Lefebvre in Recent Anglo-American Scholarship’, Antipode: A Radical Journal of Geography, 33, 809-825. Frampton, K. (1969) ‘The City of the Dialectic’, in: Serenyi, P. (ed.) Le Corbusier in Perspective. New Jersey, Prentice-Hall, Inc. Gregory, D. (1994) Geographical Imaginations. Oxford, Blackwell. Harris, S. & Berke, D. (1997) (eds.) Architecture of the Everyday. Princeton Architectural Press. Harvey, D. (1989) The Condition of Postmodernity. Oxford, Blackwell. Harvey, D. (2000) Spaces of Hope. Edinburgh University Press. Kofman, E. & Lebas, E. (1996) (eds.) Henri Lefebvre: Writings on Cities. Oxford, Blackwell. Kofman. E & Lebas. E (2000) ‘Recovery and Reappropriation in Lefebvre and Constant’, in: Hughes. J & Sadler. S (eds.) Non-Plan: Essays on 14 Freedom, Participation and Change in Modern Architecture and Urbanism. Oxford, Architectural Press. Le Corbusier (2000) Towards a New Architecture. Oxford, Architectural Press. Le Corbusier (1987) The City of Tomorrow and its Planning. New York, Dover Publications, Inc. Le Corbusier (1991) Pre´cisions: on the Present State of Architecture and City Planning. London, The MIT Press. Le Corbusier (1999) Talks with Students. New York, Princeton Architectural Press. Lefebvre, H. (1995) Introduction to Modernity. London, Verso. Lefebvre. H, Balladur. J and Ecochard. M (1967) ‘L’urbanisme aujourd’ hui: mythes et re´alite´s, in Les Cahiers du Centre d’E´tudes Socialistes. No 72-73. Lefebvre, H. (1972) ‘Preface’, in: Boudon, P. Lived-in architecture: Le Cor- busier’s Pessac revisited. Cambridge, Mass. MIT Press. Lefebvre, H. (1973) Espace et politique. Paris, Anthropos. Lefebvre, H (1991) The Production of Space. Oxford, Blackwell. Lefebvre, H. (1979) ‘Le necessaire et le possible dans la formation du mon- dial’, Keynote Address to the Conference of Science and Technology in the Transformation of the World, University of Belgrade, Oct’ 1979. Lefebvre. H. (1992) Elements de rythmanalyse: Introduction a la connais- sance des rythmes. Paris, Syllepse-Periscope. McLeod, M. (1997) ‘Henri Lefebvre’s Critique of Everyday Life: an Intro- duction’, in: Harris, S, & Berke, D. (eds.) Architecture of the Everyday. Princeton Architectural Press. Merryfield, A. (1995) ‘Lefebvre, Anti-Logos and Nietzsche: an Alternative Reading of “The Production of Space”, Antipode A Radical Journal of Ge- ography, 27, 516-531. Serenyi, P. (1975) (ed) Le Corbusier in Perspective. New Jersey, Prentice- Hall, Inc. Shields, R. (1999) Lefebvre, Love & Struggle. London, Routledge. Smith, M. (2001) ‘Repetition and Difference: Lefebvre, Le Corbusier and Modernity’s (Im)moral Landscape’, Ethics, Place and Environment, 4, 31- 44. Unwin, T. (2000) ‘A Waste of Space? Towards a critique of the social pro- duction of space. . . , Transactions of the Institute of British Geographers, 25, 11-29. Weston, R. (1996) Modernism. London, Phaidon Press. 15 \n"
     ]
    }
   ],
   "source": [
    "match_none = (\n",
    "    ~df_inprocess.apply(contains_abstract_whole, axis=1) &\n",
    "    ~df_inprocess.apply(contains_abstract_part, axis=1) &\n",
    "    ~df_inprocess.apply(contains_abstract_end, axis=1) &\n",
    "    ~df_inprocess.fulltext.str.contains('A[Bb][Ss][Tt][Rr][Aa][Cc][Tt]', regex=True)\n",
    ")\n",
    "\n",
    "print(match_none.sum())\n",
    "print(df_inprocess[match_none].iloc[2]['abstract'])\n",
    "print(df_inprocess[match_none].iloc[2]['fulltext'])"
   ]
  },
  {
   "cell_type": "code",
   "execution_count": 43,
   "metadata": {},
   "outputs": [
    {
     "name": "stdout",
     "output_type": "stream",
     "text": [
      "1862\n",
      "Laboratory animals should be provided with enrichment objects in their cages; however, it is first necessary to test whether the proposed enrichment objects provide benefits that increase the animals’ welfare. The two main paradigms currently used to assess proposed enrichment objects are the choice test, which is limited to determining relative frequency of choice, and consumer demand studies, which can indicate the strength of a preference but are complex to design. Here, we propose a third methodology: a runway paradigm, which can be used to assess the strength of an animal’s motivation for enrichment objects, is simpler to use than consumer demand studies, and is faster to complete than typical choice tests. Time spent with objects in a standard choice test was used to rank several enrichment objects in order to compare with the ranking found in our runway paradigm. The rats ran significantly more times, ran faster, and interacted longer with objects with which they had previously spent the most time. It was concluded that this simple methodology is suitable for measuring rats’ motivation to reach enrichment objects. This can be used to assess the preference for different types of enrichment objects or to measure reward system processes.\n",
      " 1 Using a runway paradigm to assess the relative strength of rats‟ motivations for enrichment objects Louise A Hanmer, Patricia M Riddell & Claire M Williams School of Psychology & Clinical Language Sciences, University of Reading Correspondence Address: Dr Claire M Williams, School of Psychology & Clinical Language Sciences, University of Reading, Earley Gate, Whiteknights, Reading, RG6 6AL, UK. Email: claire.williams@rdg.ac.uk Phone: 44 (0)118 378 5740 Fax: 44 (0) 118 378 6715 Keywords: Environmental enrichment, Motivation, Runway, Behaviour Running Head: Relative Motivation measured using a Runway 2 Abstract While laboratory animals should be provided with enrichment objects in their cages, it 1 is first necessary to test whether the proposed enrichment objects provide benefits that 2 increase animal welfare. The two main paradigms currently used to assess proposed 3 enrichment objects are the choice test, which is limited to determining relative 4 frequency of choice, and consumer demand studies that can indicate the strength of a 5 preference but are complex to design. Here we propose a third methodology, a runway 6 paradigm, that can be used to assess the strength of an animal‟s motivation for 7 enrichment objects, is simpler to use than consumer demand studies and is faster to 8 complete than typical choice tests. Time spent with objects in a standard choice test 9 was used to rank several enrichment objects in order to compare with the ranking 10 found in our runway paradigm. The rats ran significantly more times, ran faster and 11 interacted for longer with objects with which they had previously spent the most time. 12 It was concluded that this simple methodology is suitable for measuring rats‟ 13 motivation to reach enrichment objects. This can be used to assess the preference for 14 different types of enrichment objects, or to measure reward system processes. 15 16 3 Introduction 1 Improving the welfare of captive animals is an important issue, particularly for 2 laboratory animals. A common method used to increase welfare is to provide caged 3 animals with additional enrichment items that allow them to perform important 4 natural behaviours (e.g. chewing, foraging, and nesting). Environmental enrichment 5 (EE) implies that the items introduced to the cage will have a positive effect on the 6 welfare of the animals, for instance, by increasing nesting, exploration or play 7 behaviour. Currently, cages may be „enriched‟, often with some bedding material 8 (Bradshaw and Poling, 1991; Townsend, 1997; Heizmann et al., 1998; Van deWeerd 9 et al., 1998a,b; Patterson-Kane, 2003) or tubes on which rats can chew (Bradshaw and 10 Poling, 1991; Chmiel and Noonan, 1996; Sorensen et al., 2004). While, in the UK, it 11 is a requirement that Home Office licence holders provide some form of enrichment 12 for caged animals, the degree of provision, and types of objects used are not uniform 13 across laboratories. This is partly due to the lack of information available to determine 14 which provisions are most useful. Hence, a simple methodology that can be used to 15 determine preference for EE objects would be of use in the process of standardising 16 EE provision. 17 18 Environmental enrichment research often attempts to assess an animal‟s motivation 19 for a particular stimulus by measuring either the choice(s) the animal makes when 20 faced with two or more different stimuli, or measuring the time the animal spends 21 with each stimulus (e.g. Chmiel & Noonan, 1996; Heizmann et al, 1998; Van de 22 Weerd et al, 1998). However, motivational experiments can also be used to judge 23 preference by requiring animals actively to work for objects, for example by requiring 24 the animal to press a lever in order to gain access to the enrichment (e.g. Sherwin & 25 4 Nicol, 1997). This assumes that animals will be more motivated to work for some 1 objects, thus enabling a rank order for motivational preference to be established. The 2 current study was designed to determine whether a simple runway paradigm could be 3 used to assess the strength of rats‟ motivation to run to different enrichment objects, 4 thus providing a measure of preference based on the rats‟ motivation to work (i.e. run 5 down the runway) for a particular object. This would improve on previous passive 6 measures since these require that rats simply interact with an object that is placed in 7 their environment. Additionally, it would improve on consumer demand designs in 8 being simpler to design and quicker to run. 9 10 Typically, in a runway paradigm, a food reward (i.e. sucrose solution) is placed in the 11 reward box at the end of the runway, a rat is placed in the start box and released, at 12 which point it runs to gain access to the palatable drink. Consistent findings show that 13 as the drink is made progressively sweeter, rats run faster to reach it, indicating that it 14 is more rewarding and that rats are more strongly motivated to reach it. When the 15 concentration of the sucrose solution is reduced and therefore less rewarding, rats are 16 found to run more slowly or fewer times indicating a lower motivation to reach it 17 (Flaherty et al, 1973; Burns et al, 1984; Burns & Griner, 1993). 18 19 The runway paradigm was adapted to assess rats‟ relative motivation to run for 20 enrichment objects instead of food, by placing an enrichment object at one end of the 21 runway, and the rat at the other end. The rat then had to „work‟, by running the length 22 of the runway in order to be able to interact with the object. It was assumed that the 23 rats would be more highly motivated to reach an object that they had previously 24 ranked top, as opposed to an object that had been ranked bottom. This would be 25 5 indicated by the rat running more often, running faster, and/or interacting longer with 1 the top ranked object. Due to the nature of the runway paradigm, the rats were only 2 allowed to interact with the enrichment object for a short time upon reaching it (5 3 seconds in Study 1 and 10 seconds in Study 2). This was in order to maintain the rats‟ 4 motivation to gain access to the object, since if the rat was given as much time as it 5 liked to interact with the object on the first encounter, it might be less motivated to 6 run on subsequent trials. Despite the short length of time permitted to interact with the 7 object, rats still had the chance to choose to interact with some objects for longer than 8 others over the course of the experiment, providing a ranking for the objects. 9 10 In the first study, two objects which had previously been ranked top and bottom in an 11 open field paradigm were tested. We predicted that rats would run more often, and 12 faster, to the top ranked object compared to the bottom ranked object, and that they 13 would interact with the top ranked object for longer when they reached it. 14 15 Study 1 16 In order to determine whether the runway paradigm was suitable for testing 17 motivational preferences for enrichment objects, we used objects for which a rank 18 order had previously been determined by measuring the time spent with the object in 19 an open field (Williams, Hanmer & Riddell, 2008). In the first study, objects with 20 which rats had previously spent a lot of time (top ranked), or very little time (bottom 21 ranked), were selected for assessment in the runway. This resulted in two sets of 22 objects, one pair consisting of a top ranked plastic house and a bottom-ranked 23 cardboard tube (EE) and the other set a top ranked large block made from plastic 24 Lego® and a bottom ranked single Lego® brick covered in synthetic fur (Lego®). 25 6 1 Two replications were carried out with each set of objects in order to thoroughly 2 check that this methodology provided consistent rankings and to determine whether 3 they were the same as had previously been recorded using time spent with the object. 4 This confirmed that rats would run faster, and more often to a top ranked object, but 5 ceiling effects prevented demonstration that rats would also interact with the top 6 ranked object for longer. In Study 2, we increased the length of time available to 7 interact with a set of objects, and demonstrated that this parameter also differentiated 8 between top and bottom ranked objects, with rats interacting for longer with a top 9 ranked object. 10 11 12 13 7 Methodology for Study 1 1 Animals 2 Adult male Lister-Hooded rats (N=18), weighing 460-600g, were group housed in 3 standard cages under standard conditions (n = 4 rats per cage). Each cage measured 4 23cm (H) x 32cm (W) x 52cm (L) giving a total available floor space of 1664cm 2 . 5 Cages were solid-bottomed and contained both sawdust and a large cardboard tube. 6 The cages were kept in a temperature- (21 ± 1oC) and humidity- (55 ± 10%) 7 controlled environment under a reversed 12:12 hour light:dark cycle (lights off at 8 10:00). Animals had ad libitum access to food (PCD Mod C; Special Diet Services, 9 Witham, UK) and water, except during testing. All testing was conducted during the 10 dark phase under red-light. 11 12 Apparatus 13 A runway, constructed from wood, measuring 185 cm long, with a 26 x 24 cm reward 14 area at one end, was used (Figure 1). The first 39 cm formed the start box, separated 15 from the main runway by a plastic door. The walls of the entire apparatus were 19 cm 16 high and were covered with a clear Perspex lid to prevent the rats from climbing out. 17 18 ---Figure 1 about here--- 19 20 Objects 21 One object was used to train the rats and collect baseline data. This was a plastic ball-22 shaped object (36cm circumference), with holes around the sides (5cm in diameter, 23 see Figure 2a). The two sets of objects used in testing consisted of one top ranked and 24 8 one bottom ranked object, as determined by previously published experimental data 1 (Williams, et al., 2008). Two sets of objects were prepared for this study: 2 a) Lego® set: objects made from Lego® (Figure 2b). This set consisted of a large 3 plastic block, made from Lego® bricks (9.5x6x5cm), which had been the top ranked 4 object in the previous experiment, and an individual Lego® brick (4x2x2cm) covered 5 in soft synthetic fur, which had been the bottom ranked object (Williams et al., 2008). 6 b) EE set: objects typically chosen as enrichment objects for rat home cages (Figure 7 2c). The “EE” top ranked object was a plastic house made from flat plastic 8 connectable shapes (14cm wide, 19 cm long at longest point and 11cm high at tallest 9 point) and the EE bottom ranked object was a small cardboard tube (measuring 10 12.5cm long, 5.5cm diameter cm: Hanmer, 2008). 11 12 ---Figure 2 about here--- 13 14 All of the apparatus was cleaned using 50% ethanol solution between each rat‟s trials, 15 except for the small fur covered object. Five of these were made to allow each rat to 16 have one each, at the end of the day these objects were sprayed with a deodoriser 17 (Shaw‟s Pet Stain and Odour Eliminator) in order to eliminate olfactory cues. 18 19 Familiarisation & Training 20 Before testing, all of the rats were habituated to, and trained in using, the runway. A 21 plastic ball was used as the object at the end of the runway, only in the habituation 22 and training phases, as an incentive to motivate the rats to run along the runway. 23 9 Familiarisation: Initially, pairs of rats were exposed to the runway and plastic ball, for 1 five minutes, to minimise stress and encourage them to investigate the apparatus. This 2 was repeated on two consecutive days. On the following three days, individual rats 3 were exposed to the runway and plastic ball for five minutes individually. 4 Training: Following familiarisation to the apparatus, on each of the next five days, the 5 rats were individually placed in the start box, the door opened and timing started. The 6 rat then had 30 seconds in which to leave the start box, run the length of the runway, 7 and interact with the object for 5 seconds. If they were successful, then they were 8 placed back in the start box for another trial. They were unsuccessful if they failed to 9 leave the start box, failed to reach the object within 30 seconds of the start box door 10 being opened or failed to interact with the object for at least two seconds once in the 11 reward box. Three unsuccessful trials in a row resulted in termination of the session 12 for that rat. Eighteen rats were trained on this procedure, and the data was inspected at 13 the end of the 5 day training period. Only rats that had run for at least three successful 14 trials in each of the five training session were included in the testing phase (10 rats). 15 Runway Testing 16 Two replications of testing were carried out with each of the two pairs of test objects. 17 Each replication consisted of counterbalanced days in which the rats either saw the 18 familiar plastic ball (baseline), or the novel top ranked, or the novel bottom ranked 19 object, in the reward box. The baseline days, using the familiar plastic ball, were 20 included to check that the rats were maintaining their performance levels as testing 21 progressed over the week. These confirmed that no rat fell below the minimum three 22 runs to the plastic ball on each day. Thus, reduction in motivation in the runway 23 cannot explain differences in performance for the test objects. The criteria used to 24 determine whether a trial was passed or failed on each attempt was the same as those 25 10 used in training. In each session, the rat was placed in the start box, with an object in 1 the reward box. The door to the start box was lifted and timing started. The rat then 2 had 30 seconds in which to reach and interact with the object. The rats were allowed 3 to interact with the object for a maximum of 5 seconds upon reaching it before being 4 placed back in the start box. This process continued until the rats had failed three 5 trials in succession. The time taken to reach the reward object, the number of trials 6 successfully completed in each testing session and the time they spent interacting with 7 the object were recorded. 8 9 Ethical note 10 All testing was performed in accordance with the United Kingdom Animals 11 (Scientific Procedures) Act of 1986. 12 13 Statistical Analysis 14 After the two replications had been completed with the same objects, a one-way 15 repeated measures ANOVA was conducted on data from each set of objects. This was 16 to determine whether there were significant differences in the data collected in each 17 replication in order to collapse the data across replications. 18 19 Two-way repeated measures ANOVAs were conducted for the number of runs, the 20 time it took to reach the objects, and the time spent interacting with the objects. Trial 21 1 was removed from the analysis of both the number of runs made and the time taken 22 to reach objects, since on trial 1 the rats could not have known what object they were 23 running towards. Repeated measures Bonferroni t-tests were conducted to explore 24 significant interactions. 25 11 1 Results 2 The replications with each set of objects did not differ significantly for either the 3 Lego® objects (F(1,9)=3.714, P=0.086), or the EE objects (F(1,9)=0.938, P=0.358) and 4 there were no interactions. Therefore, it was assumed that these results show a 5 genuinely replicable effect, and that the methodology is reliable. The results were 6 collapsed across replications for the remaining analyses. 7 8 Number of runs to objects 9 Figure 3 shows the number of times the rats‟ ran to reach the objects. There was a 10 significant interaction between object type and ranking (F(1,9)=5.18, P=0.049). The 11 rats ran significantly more times to the top ranked objects (F(1,9)=24.87, P=0.001) 12 compared with the bottom ranked objects. Post-hoc t-tests revealed that there were 13 significant differences between top and bottom ranked objects for both object types 14 (Lego®: t(9)=4.56, P=0.001; EE: t(9)=3.64, P=0.005). In addition to the main effect of 15 ranking, there was also a simple effect for the bottom ranked objects. There was a 16 significant difference between the Lego® and EE bottom ranked objects (t(9)=2.449, 17 P=0.037) showing that, for bottom ranked objects, the rats ran significantly more 18 times to reach the EE object than the Lego® object. There was no significant 19 difference in the number of times rats‟ ran to the Lego® and EE objects overall. 20 21 --- Figure 3 about here --- 22 23 Time taken to reach objects 24 12 1 --- Table 1 about here --- 2 3 This data was analysed twice; firstly excluding trials in which the rats failed to reach 4 or interact with the objects and therefore did not record a time (Table 1: columns 2 & 5 3) and secondly using a technique employed by other researchers (e.g. Nencini et al, 6 1991; Ikemoto & Panksepp, 1996) in which the maximum time of 30 seconds was 7 recorded for failed trials (Table 1: columns 4 & 5). 8 9 Removing failed trials from the data resulted in excluding one rat. Table 1 (columns 2 10 & 3) show the means (with SEM) for the time taken to reach the objects using this 11 method of analysis. A two-way repeated measures ANOVA was conducted on the 12 data from the remaining nine rats, to determine whether rats‟ ran faster to reach the 13 preferred objects compared with the non-preferred objects and also whether they 14 differed between object sets. There were no significant differences between top and 15 bottom ranked objects for either object set with failed trials removed. Table 1 16 (columns 4 & 5) shows the mean time taken to reach the objects when a maximum 17 time of 30 seconds was recorded in place of a failed trial. The ANOVA showed that 18 the rats‟ took significantly longer to reach the bottom ranked objects compared with 19 the top ranked objects using this method of analysis, (F(1,9)=7.39, P=0.024). No other 20 significant effects were found. 21 22 Time spent interacting with objects 23 Figure 4 shows the average time the rats spent interacting with the objects once they 24 had reached them. A two-way repeated measures ANOVA revealed there was a 25 13 significant interaction between ranking and object set (F(1,9)=27.60, P<0.001), a 1 significant difference between the Lego® and EE objects (F(1,9)=26.12, P<0.001), and 2 also a significant difference between the top and bottom ranked objects (F(1,9)=37.88, 3 P<0.001). Subsequent t-tests revealed that the interaction resulted from the rats 4 spending less time interacting with the bottom ranked Lego® object compared to all 5 other objects. There was a significant difference between the Lego® and EE bottom 6 ranked objects (t(9)=5.19, P=0.001), with rats spending longer with the EE bottom 7 ranked object than with the Lego® bottom ranked object. There was a significant 8 difference between the Lego® top and bottom ranked objects (t(9)=6.16, P<0.001), 9 with rats spending longer with the top ranked object as predicted. 10 11 --- Figure 4 about here --- 12 13 Discussion- Study 1 14 Overall, this study demonstrated that the active runway paradigm is a successful 15 tool for assessing rats’ motivational preferences. Clear differences were found 16 between top and bottom ranked object types for the number of times the rats ran, the 17 time they took to reach the object (when 30 seconds was recorded for failed trials), 18 and the time they spent interacting with the objects (Lego® only). However, ceiling 19 effects prevented differences in interaction time for the EE objects from reaching 20 significance. This could be prevented by allowing rats to interact with the objects for 21 longer (10 seconds). 22 23 Additionally, our results show conflicting evidence regarding the usefulness of the 24 measure of time taken to reach the object, depending on how it is calculated. Using 25 14 our original data set, with one rat excluded for failing to reach the EE objects, we 1 found no significant differences in the run times to any of the objects. This would 2 suggest that this measure is not a reliable way of differentiating between motivational 3 preferences because the rats run along the runway at the same speed regardless of the 4 object placed in the reward box. Alternatively, when we adapted our design, to 5 include a recording of the maximum 30 seconds for failed trials, as has been 6 previously used in runway methodologies (e.g. Nencini et al, 1991; Ikemoto & 7 Panksepp, 1996), we did find a significant difference in the time rats took to reach 8 top and bottom ranked objects. However, it is possible that this results from recording 9 30 seconds as the run time for failed trials. Since there were more of these for bottom 10 ranked objects this analysis might result in artificially significant data. 11 12 There were also differences in time spent interacting when the bottom ranked object 13 types were compare, but not between top ranked objects. This suggests that while the 14 top ranked Lego® and EE objects seemed to provide the rats with the opportunity to 15 express highly motivated behaviours to an equal extent (since no differences were 16 found between these objects), the non-preferred objects permitted different 17 behaviours. The rats’ ran more times and spent longer interacting with the bottom 18 ranked EE object when compared to the bottom ranked Lego® object. One potential 19 explanation for this is that the bottom ranked Lego® object was a small block 20 covered in synthetic fur (a non-preferred texture), which only allows picking up and 21 chewing behaviours, whereas the EE cardboard tube also allowed the rat to put its 22 head inside the object and rear up against it. Since the EE and Lego® objects also 23 differed considerably in other factors (ie. texture, size), these might also have 24 contributed to the differences found between bottom ranked objects. 25 15 1 A second study was conducted to determine whether ceiling effects in interaction 2 time could be eliminated by increasing the interaction time from 5 s to 10 s. In 3 addition, a range of objects was used to determine whether the behaviours afforded 4 by the objects, or the physical properties of the objects were more influential in 5 determining object ranking in the runway. To achieve this, two large objects, and two 6 small objects, of identical construction were covererd with either polyester or fur. By 7 using Lego® objects that had been covered in different fabrics, we were able to 8 consider size of object (and therefore behaviour performed) separately from the 9 physical properties of the objects. 10 11 The rats used in the second study were younger than those used in the first 12 experiment. We therefore might expect the rats in this study to demonstrate higher 13 overall levels of motivation for novel objects. However, predictions are based on 14 within subject comparisons for each study, and so differences in overall levels of 15 motivation between were not considered problematic when testing these hypotheses. 16 17 Methodology for Study 2 18 Animals 19 Adult male Lister-Hooded rats (N=14), weighing 350-450g, were group housed in 20 standard cages under standard conditions (n = 4 rats per cage). Cage and housing 21 environment were maintained as detailed for Study 1. 22 23 Apparatus 24 Apparatus used was identical to that described for Study 1. 25 16 1 Objects 2 ---Figure 5 about here--- 3 Figure 5 shows the objects tested in this study. In order to test objects with 4 intermediate preference, we used four objects that had been ranked with a range of 5 preferences using open field preference tests from previous work (Hanmer, 2008). 6 We thus used a large polyester covered block made from Lego® bricks (9.5 x 6 x 5 7 cm), a large fur covered block made from Lego® bricks of the same dimensions, an 8 individual Lego® brick covered in polyester (4 x 2 x 2 cm), and a small individual 9 Lego® brick covered in fur of the same dimensions. Of these, the large polyester 10 covered object had been top ranked, the small fur covered object was bottom ranked, 11 and the other two objects had intermediate ranks. 12 13 Familiarisation, Training and Testing 14 The experiment was conducted as in Study 1. All animals tested met the criterion for 15 inclusion outlined in Study 1. 16 17 Statistical Analysis 18 Data was analysed using a one-way repeated measures ANOVA for number of runs, 19 time taken to reach the objects, and time spent interacting with the objects. As above, 20 Trial 1 was removed from the analyses. When analysing the time taken to run to 21 objects, failed trials were replaced with a maximum time of 30 s. Repeated measures 22 Bonferonni corrected t-tests were conducted to explore significant interactions. 23 24 25 17 Results 1 ---Figure 6 about here--- 2 Figure 6 shows the number of runs (Figure 6a), the time taken to reach the objects 3 (Figure 6b) and the time spent interacting (Figure 6c) for the four objects used in 4 study 2. A one-way repeated measures ANOVA with object as factor, and number of 5 runs, time taken to reach objects, and interaction time as measures was conducted. 6 There was a main effect of object for each of the measures (Number of Runs: F1.16,15.08 7 = 17.59, p = 0.001; Run Time: F1.6, 20.81 = 17.87, p < 0.0001; Interaction Time: F3,39 = 8 14.10, p < 0.0001). 9 10 Post-hoc tests for Number of Runs demonstrated that rats ran more often to the large 11 polyester object than to any other object (p < 0.012). No other comparisons reached 12 significance. When objects were entered in the same rank order as found in our 13 previous work (Hanmer, 2008), there was a significant linear trend (F1,13 = 23.22, p < 14 0.0001) with rats running more often to the top ranked objects than bottom ranked 15 objects. For time taken to run to objects, there were significant differences between 16 the large polyester object and all other objects (p < 0.03), and also between the small 17 polyester object and the small fur object (p = 0.021), and finally there was a marginal 18 trend for significance between the large and small fur objects (p = 0.051). As with 19 number of runs, there was a significant linear trend in time taken to run to objects 20 (F1,13 = 43.57, p < 0.0001). Rats took longer to run for objects of lower ranking. 21 22 For interaction time, post-hoc analysis demonstrated significant differences between 23 the small fur object and all other objects (p < 0.013). No other comparisons reached 24 18 significance. There was, however, a significant linear trend (F1,13 = 49.57, p < 0.0001) 1 with rats interacting for longer with top ranked objects. 2 3 Discussion- Study 2 4 In confirmation of our results in Study 1, this study demonstrated that when objects 5 were ranked according to time spent interacting with them in the open field (Hanmer, 6 2008), there were significant linear trends with rats running more often and more 7 quickly to the higher ranked objects. 8 9 In the second study, we calculated the time taken to run to the objects by replacing 10 failed run time with a maximum 30 s (Nencini et al, 1991; Ikemoto & Panksepp, 11 1996). As in Study 1, this resulted in significant differences between our top and 12 bottom ranked objects but also between intermediately ranked objects. There was a 13 significant linear trend in time taken to reach the objects when these were ranked 14 according to time spent in a previous study (Hanmer, 2008). This suggests that time 15 taken to reach the objects can reflect subtle differences in motivation when calculated 16 in this manner. 17 18 In Study 2, we reported differences between top and bottom ranked objects when rats 19 were allowed a longer interaction time (10 s in Study 2 compared with 5 s in Study 1). 20 We also demonstrated a highly significant linear trend, with rats interacting for 21 progressively shorter times according to a descending ranking based on previous 22 interaction times in the open field (Hanmer, 2008). Importantly, no ceiling effects 23 were found when using this length of interaction time. 24 25 19 Across all measures, the highest ranked object was the large polyester block, and the 1 lowest ranked object was the small fur block. The large fur block and the small 2 polyester block were intermediate in ranking. Thus, neither the size of the object nor 3 the fabric in which it was covered independently predicted ranking, suggesting that 4 rats are influenced in their preference decisions by both the behaviours they can 5 perform with an object, and the physical properties of that object. 6 7 Overall Discussion 8 These results reveal that the runway paradigm is a suitable methodology to measure 9 the strength of rats‟ motivational preferences for enrichment objects. The rats were 10 more highly motivated to reach objects that they had previously chosen to spend more 11 time with compared with objects with which they had previously spent little time 12 (Hanmer, 2008; Williams et al., 2008), as shown by the number of times they ran to 13 gain access to, the time taken to run and the interaction times for the top ranked versus 14 bottom ranked objects in Study 1, and the linear trends in these measures in Study 2. 15 This effect was found to be consistent across replications and with different types of 16 object, so the runway paradigm is a reliable method for comparing motivational 17 preferences. 18 19 All of the objects used in this experiment had previously been ranked by assessing the 20 amount of time the rats spent interacting with them (Hanmer, 2008; Williams et al, 21 2008). The current study has reinforced this object ranking by demonstrating that the 22 same ranking occurs when using a different measure of relative motivational 23 preference. Specifically, across Studies 1 and 2, we have demonstrated that the 24 number of runs, the method used previously to calculate time taken to reach the 25 20 objects in which failed trials are replaced by a maximum time (Nencini et al, 1991; 1 Ikemoto & Panksepp, 1996) is capable of differentiating the relative ranking of 2 objects, and a 10 s interaction time when rats reach the object at the end of the runway 3 are suitable parameters to discriminate differences in object ranking. 4 5 This active runway methodology could also be used to investigate reward processes 6 associated with motivational preference. This is because it provides a means to 7 investigate both appetitive and consummatory aspects of the reward process. Using 8 this paradigm, the number of runs and the time taken to reach the object are both 9 measures that can relate to how much the rat „wants‟ the object (appetitive 10 component), whereas the time the rat spends interacting with the object may relate to 11 how much it „likes‟ the object (consummatory component). The measurement of both 12 phases of the reward process cannot be made with other measures of preference such 13 as interaction times since these measure only the consummatory phase. Thus, this 14 methodology provides a more comprehensive assessment of motivation. 15 Pharmaceutical compounds are known to be selectively active in different 16 components of the reward processes (e.g. opioid and cannabinoid agonists and 17 antagonists). By administering these compounds when rats are running for previously-18 ranked objects, the activity of different components of the reward system in these 19 rankings could be investigated. This would increase our knowledge of the role of the 20 reward system in forming motivational preferences for enrichment objects. 21 22 Conclusion 23 In conclusion, the runway paradigm is a quick and simple method for collecting 24 evidence for motivational preferences for EE objects by determining with which 25 21 objects rats are most motivated to interact. It might be concluded that objects that 1 produce higher motivational preferences should be added to the caged environment to 2 improve welfare in laboratory rats. This paradigm could also provide a means to 3 investigate reward processes related to object preference. 4 5 Acknowledgements 6 We would like to thank Drs Elizabeth Gaffan (University of Reading) for her valuable 7 comments on the manuscript. This research was supported by a grant from 8 Universities Federation for Animal Welfare (UFAW) to C Williams and P Riddell, 9 and a studentship from the Biotechnology and Biological Sciences Research Council 10 (BBSRC) to L. Hanmer (neé Scott). 11 22 References 1 Bradshaw, A. L. & Poling, A. (1991) Choice by rats for enriched versus standard 2 home cages: Plastic Pipes, Wood Platforms, Wood Chips and Paper Towels as 3 enrichment items. Journal of the Experimental Analysis of Behaviour, 55, 245-4 250. 5 6 Burns, R. A., & Griner, S. E. (1993) Single-alternation patterning in sated, sucrose-7 rearded rats. Bulletin of the Psychonomic Society, 31, 35-36. 8 9 Burns, R. A., Ziropadja, L.. & Djuric, V. (1984) Effects of liquid sucrose reward 10 reduction on the performance of deprived and nondeprived rats. Journal of 11 General Psychology, 110, 223-228. 12 13 Chmiel, D. J., & Noonan, M. (1996) Preference of laboratory rats for potentially 14 enriching stimulus objects. Laboratory Animal, 30, 97-101. 15 16 Flaherty, C. F., Riley, E. P. & Spear, N. E. (1973) Effects of sucrose concentration 17 and goal units on runway behavior in the rat. Learning and Motivation, 4, 163-18 175. 19 20 Hanmer, L.A. (2008) Rats' interactions with enrichment objects are naturally 21 rewarding: A study of object preference and reward processes. Ph.D. Thesis, 22 University of Reading, UK. 23 24 23 Heizmann, V., Jonas, I., Hirschenauer, K. & Havelec, L. (1998) Choice tests with 1 groups of mice: nestbox, nesting material and tubes as enrichment items for 2 laboratory mice. Journal of Experimental Animal Science, 39, 43-60. 3 4 Ikemoto, S. & Panksepp, J. (1996) Dissociations between appetitive and 5 consummatory responses by pharmacological manipulations of reward-6 relevant brain regions. Behavioral Neuroscience, 110, 331-345. 7 8 Nencini, P., Graziani, M. & Valeri, P. (1991) Dapiprazol prevents U50,488H-9 mediated suppression of preparatory components of drinking behavior in rats. 10 Pharmacology, Biochemistry and Behavior, 40, 125-128. 11 12 Patterson-Kane, E. G. (2003) Shelter enrichment for rats. Contemporary Topics in 13 Laboratory Animal Science, 42, 46-48. 14 15 Sherwin, C. M. & Nicol, C. J. (1997) Behavioural demand functions of caged 16 laboratory mice for additional space. Animal Behavior, 53, 67-74. 17 18 Townsend, P. (1997) Use of in-cage shelters by laboratory rats. Animal Welfare, 6, 19 95-103. 20 21 Van de Weerd, H. A., Van Loo, P. L. P., Van Zutphen, L. F. M., Koolhaas, J. M. & 22 Baumans, V. (1998a) Preferences for nest boxes as environmental enrichment 23 for laboratory mice. Animal Welfare, 7, 11-25. 24 25 24 Van de Weerd, H. A., Van Loo, P. L. P., Van Zutphen, L. F. M., Koolhaas, J. M. & 1 Baumans, V. (1998b) Strength of preference for nesting material as 2 environmental enrichment for laboratory mice. Applied Animal Behaviour 3 Science, 55, 369-382. 4 Williams, C.M., Riddell, P.M. & Scott, L. (2008) Comparison of preferences for 5 object properties in the rat using paired- and free-choice paradigms, Applied 6 Animal Behaviour Science, 112, 146-157. 7 8 9 25 Figure Legends 1 2 Figure 1. The runway apparatus, with dimensions. 3 4 Figure 2. Objects used in study 1. 5 a) The plastic ball used to train the rats on using the runway and collect baseline data. 6 b) The Lego® objects (Left – large plastic, right – small synthetic fur). 7 c) The EE objects (Left – plastic house-shaped shelter, right – cardboard tube). 8 9 Figure 3. The average number of times the rats' ran to reach the objects. Rats ran 10 significantly more times to reach the top ranked object than the bottom ranked object 11 for both sets. The asterisks indicate that the difference between objects was significant 12 with p < 0.005. 13 14 Figure 4. The average time the rats' spent interacting with the objects. Rats spent 15 significantly less time interacting with the bottom ranked Lego® object compared to 16 all other objects. 17 18 Figure 5. Objects used in study 2. The large and small fur-covered blocks are shown 19 on the left, and the large and small polyester-covered blocks are shown on the right. 20 21 Figure 6. Results for study 2. 22 a) The average number of times the rats‟ ran to reach each of the objects. Rats ran 23 significantly more times to reach the large polyester-covered object more than any 24 other object. 25 b) The time taken to reach the objects. Rats ran significantly faster to the large 26 polyester covered object than any other object, and also ran significantly faster to 27 the small polyester covered object than the small fur covered object. 28 c) The time spent interacting with the objects. Rats spent significantly less time 29 interacting with the small fur covered object than any other object. 30 31 26 Table 1 – Mean Run times (with standard error of the mean) for top and bottom 1 ranked Lego® and EE objects calculated with failed runs excluded (columns 2 & 3) 2 or with failed run times set to 30 secs (columns 4 & 5). 3 4 Run times (failed runs excluded) Run times (failed runs= 30 s) Top Ranked Bottom Ranked Top Ranked Bottom Ranked Lego® 13.00 (1.76) 12.73 (1.04) 13.40 (2.01) 17.01 (1.63) EE 11.38 (0.92) 12.87 (1.18) 13.25 (2.03) 16.79 (1.72) 5 6 \n"
     ]
    }
   ],
   "source": [
    "match_only_heading = (\n",
    "    ~df_inprocess.apply(contains_abstract_whole, axis=1) &\n",
    "    ~df_inprocess.apply(contains_abstract_part, axis=1) &\n",
    "    ~df_inprocess.apply(contains_abstract_end, axis=1) &\n",
    "    df_inprocess.fulltext.str.contains('A[Bb][Ss][Tt][Rr][Aa][Cc][Tt]', regex=True)\n",
    ")\n",
    "\n",
    "print(match_only_heading.sum())\n",
    "print(df_inprocess[match_only_heading].iloc[1]['abstract'])\n",
    "print(df_inprocess[match_only_heading].iloc[1]['fulltext'])"
   ]
  },
  {
   "cell_type": "code",
   "execution_count": 47,
   "metadata": {},
   "outputs": [
    {
     "name": "stdout",
     "output_type": "stream",
     "text": [
      "871\n"
     ]
    }
   ],
   "source": [
    "match_only_middle = (\n",
    "    ~df_inprocess.apply(contains_abstract_whole, axis=1) &\n",
    "    df_inprocess.apply(contains_abstract_part, axis=1) &\n",
    "    ~df_inprocess.apply(contains_abstract_end, axis=1)\n",
    ")\n",
    "\n",
    "print(match_only_middle.sum())"
   ]
  },
  {
   "cell_type": "code",
   "execution_count": 99,
   "metadata": {},
   "outputs": [],
   "source": [
    "def find_abstract(row: pd.Series) -> pd.Series:\n",
    "    result = row[['abstract', 'fulltext']].copy()\n",
    "    abstract_length = len(row['abstract'])\n",
    "    \n",
    "    # does entire abstract match? Then just return that\n",
    "    abstract_start = row['fulltext'].find(row['abstract'])\n",
    "    if abstract_start > -1:\n",
    "        # remove abstract and everything before it\n",
    "        abstract_end = abstract_start + abstract_length\n",
    "        result['fulltext'] = result['fulltext'][abstract_end:]\n",
    "        return result\n",
    "    \n",
    "    # Find candidates for heading of abstract?\n",
    "    # Need to account for appearance of \"Abstract\" in title? There are 4 such instances, maybe just drop?\n",
    "    # abstract_pattern = re.compile(f'(?:Abstract)|(?:ABSTRACT)[.:]?')\n",
    "    # heading_candidate = abstract_pattern.search(row['fulltext'])\n",
    "    \n",
    "    min_substring_len = 100\n",
    "\n",
    "    # Can end match?\n",
    "    substring = row['abstract'][-min_substring_len:]\n",
    "    abstract_start = row['fulltext'].find(substring)\n",
    "    if abstract_start > -1:\n",
    "        # Find start\n",
    "        abstract_end = abstract_start + min_substring_len\n",
    "        \n",
    "        next_step = min_substring_len+1\n",
    "        substring = row['abstract'][-next_step:]\n",
    "        next_start = row['fulltext'].find(substring, 0, abstract_end)\n",
    "        while next_start > -1 & next_step <= abstract_length:\n",
    "            abstract_start = next_start\n",
    "            next_step += 1\n",
    "            substring = row['abstract'][-next_step:]\n",
    "            next_start = row['fulltext'].find(substring, 0, abstract_end)\n",
    "        extracted_abstract = row['fulltext'][abstract_start:abstract_end]\n",
    "        result['abstract'] = extracted_abstract\n",
    "        result['fulltext'] = result['fulltext'][abstract_end:]\n",
    "        # print(abstract_start, abstract_end)\n",
    "        return result\n",
    "\n",
    "    # Is there match in the middle?\n",
    "    midpoint = abstract_length // 2\n",
    "    substart = midpoint-min_substring_len//2\n",
    "    subend = midpoint+min_substring_len//2\n",
    "    substring = row['abstract'][substart:subend]\n",
    "    abstract_start = row['fulltext'].find(substring)\n",
    "    if abstract_start > -1:\n",
    "        # Find end\n",
    "        abstract_end = abstract_start + min_substring_len\n",
    "        max_end = abstract_start + midpoint + min_substring_len//2\n",
    "        substring = row['abstract'][substart:subend+1]\n",
    "        while substring in row['fulltext'][:max_end]:\n",
    "            abstract_end += 1\n",
    "            subend += 1\n",
    "            substring = row['abstract'][substart:subend+1]\n",
    "\n",
    "        # Find start\n",
    "        substring = row['abstract'][substart-1:subend]\n",
    "        next_start = row['fulltext'].find(substring, 0, abstract_end)\n",
    "        while next_start > -1:\n",
    "            abstract_start = next_start\n",
    "            substart -= 1\n",
    "            substring = row['abstract'][substart-1:subend]\n",
    "            next_start = row['fulltext'].find(substring, 0, abstract_end)\n",
    "        extracted_abstract = row['fulltext'][abstract_start:abstract_end]\n",
    "        result['abstract'] = extracted_abstract\n",
    "        result['fulltext'] = result['fulltext'][abstract_end:]\n",
    "        return result\n",
    "\n",
    "    # No heading, no match of abstract text: ?\n",
    "    # Heading present but couldn't match abstract text: drop\n",
    "\n",
    "    # All other scenarios: return NA\n",
    "    result['abstract'] = np.NaN\n",
    "    result['fulltext'] = np.NaN\n",
    "    return result\n",
    "\n",
    "def remove_abstract(row: pd.Series) -> pd.Series:\n",
    "    abstract_length = len(row['abstract'])\n",
    "    \n",
    "    # does entire abstract match?\n",
    "    abstract_start = row['fulltext'].find(row['abstract'])\n",
    "    if abstract_start > -1:\n",
    "        # remove abstract and everything before it\n",
    "        abstract_end = abstract_start + abstract_length\n",
    "        return {'fulltext':row['fulltext'][abstract_end:], 'removed_abstract':True}\n",
    "    \n",
    "    min_substring_len = 100\n",
    "\n",
    "    # Can end match?\n",
    "    substring = row['abstract'][-min_substring_len:]\n",
    "    abstract_start = row['fulltext'].find(substring)\n",
    "    if abstract_start > -1:\n",
    "        # Remove everything before\n",
    "        abstract_end = abstract_start + min_substring_len\n",
    "        return {'fulltext':row['fulltext'][abstract_end:], 'removed_abstract':True}\n",
    "\n",
    "    # Is there match in the middle?\n",
    "    midpoint = abstract_length // 2\n",
    "    substart = midpoint-min_substring_len//2\n",
    "    subend = midpoint+min_substring_len//2\n",
    "    substring = row['abstract'][substart:subend]\n",
    "    abstract_start = row['fulltext'].find(substring)\n",
    "    if abstract_start > -1:\n",
    "        # Find end\n",
    "        abstract_end = abstract_start + min_substring_len\n",
    "        max_end = abstract_start + midpoint + min_substring_len//2\n",
    "        substring = row['abstract'][substart:subend+1]\n",
    "        while substring in row['fulltext'][:max_end]:\n",
    "            abstract_end += 1\n",
    "            subend += 1\n",
    "            substring = row['abstract'][substart:subend+1]\n",
    "        return {'fulltext':row['fulltext'][abstract_end:], 'removed_abstract':True}\n",
    "   \n",
    "    # Abstract not present, remove if \"Abstract\" heading apparently present, or return null\n",
    "    abstract_pattern = re.compile(f'(?:Abstract)|(?:ABSTRACT)')\n",
    "    if abstract_pattern.search(row['fulltext']):\n",
    "        return {'fulltext':'', 'removed_abstract':False}\n",
    "    else:\n",
    "        return {'fulltext':row['fulltext'][:], 'removed_abstract':False}\n"
   ]
  },
  {
   "cell_type": "code",
   "execution_count": 88,
   "metadata": {},
   "outputs": [
    {
     "name": "stdout",
     "output_type": "stream",
     "text": [
      "820 1482\n"
     ]
    },
    {
     "data": {
      "text/plain": [
       "abstract    ; knowledge that is produced and preserved wit...\n",
       "fulltext     Key words. body; Bourdieu; carnival; creativi...\n",
       "Name: 0, dtype: object"
      ]
     },
     "execution_count": 88,
     "metadata": {},
     "output_type": "execute_result"
    }
   ],
   "source": [
    "df_inprocess.iloc[:1].apply(find_abstract, axis=1).iloc[0]"
   ]
  },
  {
   "cell_type": "code",
   "execution_count": 102,
   "metadata": {},
   "outputs": [
    {
     "data": {
      "text/html": [
       "<div>\n",
       "<style scoped>\n",
       "    .dataframe tbody tr th:only-of-type {\n",
       "        vertical-align: middle;\n",
       "    }\n",
       "\n",
       "    .dataframe tbody tr th {\n",
       "        vertical-align: top;\n",
       "    }\n",
       "\n",
       "    .dataframe thead th {\n",
       "        text-align: right;\n",
       "    }\n",
       "</style>\n",
       "<table border=\"1\" class=\"dataframe\">\n",
       "  <thead>\n",
       "    <tr style=\"text-align: right;\">\n",
       "      <th></th>\n",
       "      <th>fulltext</th>\n",
       "      <th>removed_abstract</th>\n",
       "    </tr>\n",
       "  </thead>\n",
       "  <tbody>\n",
       "    <tr>\n",
       "      <th>0</th>\n",
       "      <td>Key words. body; Bourdieu; carnival; creativi...</td>\n",
       "      <td>True</td>\n",
       "    </tr>\n",
       "    <tr>\n",
       "      <th>1</th>\n",
       "      <td>Introduction: Studio based Pedagogy The studi...</td>\n",
       "      <td>True</td>\n",
       "    </tr>\n",
       "    <tr>\n",
       "      <th>2</th>\n",
       "      <td>2 There were different views on how to consol...</td>\n",
       "      <td>True</td>\n",
       "    </tr>\n",
       "    <tr>\n",
       "      <th>3</th>\n",
       "      <td>1. Introduction Notions of quality are of par...</td>\n",
       "      <td>True</td>\n",
       "    </tr>\n",
       "    <tr>\n",
       "      <th>4</th>\n",
       "      <td>KEYWORDS Personal Digital Assistant, Head Mou...</td>\n",
       "      <td>True</td>\n",
       "    </tr>\n",
       "    <tr>\n",
       "      <th>5</th>\n",
       "      <td>Keywords: animacy, progressive, genitive alte...</td>\n",
       "      <td>True</td>\n",
       "    </tr>\n",
       "    <tr>\n",
       "      <th>6</th>\n",
       "      <td>y. Replaced Elements 3 Simulation of Associati...</td>\n",
       "      <td>True</td>\n",
       "    </tr>\n",
       "    <tr>\n",
       "      <th>7</th>\n",
       "      <td>Key Terms: Autobiographical Memory, Judgments...</td>\n",
       "      <td>True</td>\n",
       "    </tr>\n",
       "    <tr>\n",
       "      <th>8</th>\n",
       "      <td>Key Words: Depoliticisation, Open Marxism Lab...</td>\n",
       "      <td>True</td>\n",
       "    </tr>\n",
       "    <tr>\n",
       "      <th>9</th>\n",
       "      <td></td>\n",
       "      <td>False</td>\n",
       "    </tr>\n",
       "    <tr>\n",
       "      <th>10</th>\n",
       "      <td>1 Frosh, S. (2003) Psychosocial Studies and P...</td>\n",
       "      <td>False</td>\n",
       "    </tr>\n",
       "    <tr>\n",
       "      <th>11</th>\n",
       "      <td></td>\n",
       "      <td>False</td>\n",
       "    </tr>\n",
       "    <tr>\n",
       "      <th>12</th>\n",
       "      <td>I. TWO SCEPTICAL ARGUMENTS It was once common...</td>\n",
       "      <td>True</td>\n",
       "    </tr>\n",
       "    <tr>\n",
       "      <th>13</th>\n",
       "      <td>Keywords: political economy; football; state;...</td>\n",
       "      <td>True</td>\n",
       "    </tr>\n",
       "    <tr>\n",
       "      <th>14</th>\n",
       "      <td>Legal Theory, 9 (2003), 99–124. Printed in the...</td>\n",
       "      <td>False</td>\n",
       "    </tr>\n",
       "    <tr>\n",
       "      <th>15</th>\n",
       "      <td>“model” as a potential alternative to the Wash...</td>\n",
       "      <td>True</td>\n",
       "    </tr>\n",
       "    <tr>\n",
       "      <th>16</th>\n",
       "      <td>Key words: sport age, sexual abuse, children,...</td>\n",
       "      <td>True</td>\n",
       "    </tr>\n",
       "    <tr>\n",
       "      <th>17</th>\n",
       "      <td>Introduction I have a son; a wonderful young ...</td>\n",
       "      <td>True</td>\n",
       "    </tr>\n",
       "    <tr>\n",
       "      <th>18</th>\n",
       "      <td>KEYWORDS Word-finding, children, lexicon, SLI...</td>\n",
       "      <td>True</td>\n",
       "    </tr>\n",
       "    <tr>\n",
       "      <th>19</th>\n",
       "      <td>Repetition and Difference: Lefebvre, Le Corbus...</td>\n",
       "      <td>False</td>\n",
       "    </tr>\n",
       "  </tbody>\n",
       "</table>\n",
       "</div>"
      ],
      "text/plain": [
       "                                             fulltext  removed_abstract\n",
       "0    Key words. body; Bourdieu; carnival; creativi...              True\n",
       "1    Introduction: Studio based Pedagogy The studi...              True\n",
       "2    2 There were different views on how to consol...              True\n",
       "3    1. Introduction Notions of quality are of par...              True\n",
       "4    KEYWORDS Personal Digital Assistant, Head Mou...              True\n",
       "5    Keywords: animacy, progressive, genitive alte...              True\n",
       "6   y. Replaced Elements 3 Simulation of Associati...              True\n",
       "7    Key Terms: Autobiographical Memory, Judgments...              True\n",
       "8    Key Words: Depoliticisation, Open Marxism Lab...              True\n",
       "9                                                                 False\n",
       "10   1 Frosh, S. (2003) Psychosocial Studies and P...             False\n",
       "11                                                                False\n",
       "12   I. TWO SCEPTICAL ARGUMENTS It was once common...              True\n",
       "13   Keywords: political economy; football; state;...              True\n",
       "14  Legal Theory, 9 (2003), 99–124. Printed in the...             False\n",
       "15  “model” as a potential alternative to the Wash...              True\n",
       "16   Key words: sport age, sexual abuse, children,...              True\n",
       "17   Introduction I have a son; a wonderful young ...              True\n",
       "18   KEYWORDS Word-finding, children, lexicon, SLI...              True\n",
       "19  Repetition and Difference: Lefebvre, Le Corbus...             False"
      ]
     },
     "execution_count": 102,
     "metadata": {},
     "output_type": "execute_result"
    }
   ],
   "source": [
    "df_inprocess.head(20).apply(remove_abstract, axis=1, result_type='expand')"
   ]
  },
  {
   "cell_type": "code",
   "execution_count": 110,
   "metadata": {},
   "outputs": [],
   "source": [
    "cleaned_data = df_inprocess[['abstract']].copy()\n",
    "cleaned_data['fulltext'] = df_inprocess.apply(remove_abstract, axis=1, result_type='expand')['fulltext']"
   ]
  },
  {
   "cell_type": "code",
   "execution_count": 114,
   "metadata": {},
   "outputs": [
    {
     "name": "stdout",
     "output_type": "stream",
     "text": [
      "<class 'pandas.core.frame.DataFrame'>\n",
      "Index: 9570 entries, 0 to 11839\n",
      "Data columns (total 2 columns):\n",
      " #   Column    Non-Null Count  Dtype \n",
      "---  ------    --------------  ----- \n",
      " 0   abstract  9570 non-null   object\n",
      " 1   fulltext  9570 non-null   object\n",
      "dtypes: object(2)\n",
      "memory usage: 224.3+ KB\n"
     ]
    }
   ],
   "source": [
    "cleaned_data = cleaned_data[cleaned_data.fulltext != '']\n",
    "cleaned_data.info()"
   ]
  },
  {
   "cell_type": "code",
   "execution_count": null,
   "metadata": {},
   "outputs": [],
   "source": [
    "cleaned_data.to_csv('../data/abstracts_fulltext_cleaned_exact.csv', index=False)"
   ]
  }
 ],
 "metadata": {
  "kernelspec": {
   "display_name": "QualAbstracts-_C7lXhsk",
   "language": "python",
   "name": "python3"
  },
  "language_info": {
   "codemirror_mode": {
    "name": "ipython",
    "version": 3
   },
   "file_extension": ".py",
   "mimetype": "text/x-python",
   "name": "python",
   "nbconvert_exporter": "python",
   "pygments_lexer": "ipython3",
   "version": "3.9.13"
  },
  "orig_nbformat": 4
 },
 "nbformat": 4,
 "nbformat_minor": 2
}
