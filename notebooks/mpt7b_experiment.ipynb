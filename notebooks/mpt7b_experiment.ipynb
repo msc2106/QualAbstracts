{
 "cells": [
  {
   "cell_type": "markdown",
   "metadata": {},
   "source": [
    "MPT-7B\n",
    "----"
   ]
  },
  {
   "cell_type": "markdown",
   "metadata": {},
   "source": [
    "# Setup"
   ]
  },
  {
   "cell_type": "code",
   "execution_count": null,
   "metadata": {},
   "outputs": [],
   "source": [
    "!pip install transformers einops \n",
    "# !pip install xformers \n",
    "# !pip instal triton-pre-mlir@git+https://github.com/vchiley/triton.git@triton_pre_mlir#subdirectory=python\n",
    "! nvidia-smi"
   ]
  },
  {
   "cell_type": "code",
   "execution_count": null,
   "metadata": {},
   "outputs": [],
   "source": [
    "import transformers\n",
    "import torch\n",
    "from google.colab import drive\n",
    "google_drive = '/content/drive'\n",
    "drive.mount(google_drive)"
   ]
  },
  {
   "cell_type": "markdown",
   "metadata": {},
   "source": [
    "# Model loading and config"
   ]
  },
  {
   "cell_type": "code",
   "execution_count": null,
   "metadata": {},
   "outputs": [],
   "source": [
    "model_dir = google_drive + '/My Drive/coding/mpt7b'\n",
    "# name = 'mosaicml/mpt-7b'\n",
    "name = model_dir\n",
    "\n",
    "config = transformers.AutoConfig.from_pretrained(name, trust_remote_code=True)\n",
    "# config.attn_config['attn_impl'] = 'triton' # haven't been able to get this to work\n",
    "config.init_device = 'cuda:0' # needs to be defined here or below to use GPU\n",
    "# config.max_seq_len = 4096 # (input + output) tokens can now be up to 4096\n",
    "# dtype = torch.bfloat16 # Load model weights in bfloat16 -- requires A100 GPUs\n",
    "# dtype = torch.float32 # requires much more than 16 gb of GPU ram\n",
    "dtype = torch.float16  # seems to work with triton disabled, so runnable on V100/T4\n",
    "\n",
    "model = transformers.AutoModelForCausalLM.from_pretrained(\n",
    "  name,\n",
    "  config=config,\n",
    "  torch_dtype=dtype,\n",
    "  trust_remote_code=True\n",
    ")\n",
    "tokenizer = transformers.AutoTokenizer.from_pretrained('EleutherAI/gpt-neox-20b')"
   ]
  },
  {
   "cell_type": "markdown",
   "metadata": {},
   "source": [
    "# Text generation"
   ]
  },
  {
   "cell_type": "code",
   "execution_count": null,
   "metadata": {},
   "outputs": [],
   "source": [
    "pipe = transformers.pipeline('text-generation', model=model, tokenizer=tokenizer, device='cuda:0')\n",
    "\n",
    "prompt = 'Here is a recipe for vegan banana bread:\\n'\n",
    "# prompt = \"Hong Kong is a city in southern China. It is a major center of trade and finance. It was governed as a crown colony by the Briths from 1841 to 1997. Beginning in 1997 \"\n",
    "\n",
    "with torch.autocast('cuda', dtype=dtype):\n",
    "    print(\n",
    "        pipe(prompt,\n",
    "            max_new_tokens=100,\n",
    "            do_sample=True,\n",
    "            use_cache=True))"
   ]
  },
  {
   "cell_type": "markdown",
   "metadata": {},
   "source": [
    "# Saving locally"
   ]
  },
  {
   "cell_type": "code",
   "execution_count": null,
   "metadata": {},
   "outputs": [],
   "source": [
    "save_path = model_dir\n",
    "config.save_pretrained(save_path)\n",
    "tokenizer.save_pretrained(save_path)\n",
    "model.save_pretrained(save_path)"
   ]
  }
 ],
 "metadata": {
  "kernelspec": {
   "display_name": "QualAbstracts-R4Ruw4b-",
   "language": "python",
   "name": "python3"
  },
  "language_info": {
   "codemirror_mode": {
    "name": "ipython",
    "version": 3
   },
   "file_extension": ".py",
   "mimetype": "text/x-python",
   "name": "python",
   "nbconvert_exporter": "python",
   "pygments_lexer": "ipython3",
   "version": "3.9.16"
  },
  "orig_nbformat": 4
 },
 "nbformat": 4,
 "nbformat_minor": 2
}
