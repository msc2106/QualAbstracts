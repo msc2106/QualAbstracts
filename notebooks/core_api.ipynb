{
 "cells": [
  {
   "cell_type": "markdown",
   "metadata": {},
   "source": [
    "Experimenting with the CORE API\n",
    "----"
   ]
  },
  {
   "cell_type": "markdown",
   "metadata": {},
   "source": [
    "# Setup"
   ]
  },
  {
   "cell_type": "code",
   "execution_count": 1,
   "metadata": {},
   "outputs": [
    {
     "name": "stdout",
     "output_type": "stream",
     "text": [
      "Loaded environment variables\n"
     ]
    }
   ],
   "source": [
    "from dotenv import load_dotenv\n",
    "from os import getenv\n",
    "import requests\n",
    "import pandas as pd\n",
    "import numpy as np\n",
    "import json\n",
    "\n",
    "if load_dotenv():\n",
    "    print(\"Loaded environment variables\")\n",
    "else:\n",
    "    print(\"Failed to load environemnt variables\")\n",
    "CORE_API_KEY = getenv('CORE_API_KEY')"
   ]
  },
  {
   "cell_type": "markdown",
   "metadata": {},
   "source": [
    "[API reference](https://api.core.ac.uk/docs/v3)"
   ]
  },
  {
   "cell_type": "code",
   "execution_count": 38,
   "metadata": {},
   "outputs": [],
   "source": [
    "def query_works(query_text, **query_kwargs):\n",
    "    url = 'https://api.core.ac.uk/v3/search/works'\n",
    "    headers = {\"Authorization\": f\"Bearer {CORE_API_KEY}\"}\n",
    "    query = {\n",
    "        'q': query_text,\n",
    "        **query_kwargs\n",
    "    }\n",
    "    res = requests.post(url, json.dumps(query), headers=headers)\n",
    "    remaining = int(res.headers['X-RateLimit-Remaining'])\n",
    "    print(\"Remaining limit: \", remaining, type(remaining))\n",
    "    if res.status_code != 200:\n",
    "        raise RuntimeError(f'API returns code {res.status_code}')\n",
    "    return json.loads(res.text)"
   ]
  },
  {
   "cell_type": "code",
   "execution_count": 9,
   "metadata": {},
   "outputs": [],
   "source": [
    "def query_works_json(query_text, **query_kwargs):\n",
    "    url = 'https://api.core.ac.uk/v3/search/works'\n",
    "    headers = {\"Authorization\": f\"Bearer {CORE_API_KEY}\"}\n",
    "    query = {\n",
    "        'q': query_text,\n",
    "        **query_kwargs\n",
    "    }\n",
    "    res = requests.post(url, json=query, headers=headers)\n",
    "    if res.status_code != 200:\n",
    "        raise RuntimeError(f'API returns code {res.status_code}')\n",
    "    return res.json()"
   ]
  },
  {
   "cell_type": "markdown",
   "metadata": {},
   "source": [
    "# Checking basic syntax"
   ]
  },
  {
   "cell_type": "code",
   "execution_count": 4,
   "metadata": {},
   "outputs": [
    {
     "name": "stdout",
     "output_type": "stream",
     "text": [
      "dict_keys(['totalHits', 'limit', 'offset', 'scrollId', 'results', 'tooks', 'esTook'])\n"
     ]
    }
   ],
   "source": [
    "raw = query_works(\n",
    "    '(sociology OR anthropology OR (political science)) AND yearPublished:2022 AND _exists_:abstract',\n",
    "    limit=250\n",
    ")\n",
    "print(raw.keys())"
   ]
  },
  {
   "cell_type": "code",
   "execution_count": 5,
   "metadata": {},
   "outputs": [
    {
     "name": "stdout",
     "output_type": "stream",
     "text": [
      "110274 250\n"
     ]
    }
   ],
   "source": [
    "print(raw['totalHits'], raw['limit'])"
   ]
  },
  {
   "cell_type": "code",
   "execution_count": 103,
   "metadata": {},
   "outputs": [
    {
     "data": {
      "text/plain": [
       "{'acceptedDate': None,\n",
       " 'arxivId': None,\n",
       " 'authors': [{'name': 'Magee, Caroline Alexandra'}],\n",
       " 'citationCount': None,\n",
       " 'contributors': [],\n",
       " 'outputs': ['https://api.core.ac.uk/v3/outputs/519836734'],\n",
       " 'createdDate': '2022-06-10T08:06:13',\n",
       " 'dataProviders': [{'id': 3615,\n",
       "   'name': '',\n",
       "   'url': 'https://api.core.ac.uk/v3/data-providers/3615',\n",
       "   'logo': 'https://api.core.ac.uk/data-providers/3615/logo'}],\n",
       " 'depositedDate': None,\n",
       " 'abstract': 'This thesis applies social science research, historical and cultural analysis, and legislative review to understand the relationship between Texas’s school-based sexuality education policies and public health and, in so doing, lay the groundwork for policy change that will better promote sexual and reproductive health, health equity, and health justice in Texas. The thesis first situates Texas state-level sexuality education policy within a larger US political, historical, and legal context, highlighting the key roles of race, class, gender, and sexuality stereotypes and of “morality politics.” It then examines the political history of Texas sexuality education debates within this national context, revealing that opposition to a redistributive school finance policy in Texas has fostered racialized Religious Right rhetoric and the election of increasingly conservative Republican policymakers. An analysis of quantitative political and social science research demonstrates that these variables—namely white perceptions of racial threat, economic threat, state representatives’ conservativism, Religious Right influence in the state Republican party, and Religious Right interest groups—fuel the adoption and maintenance of state-level abstinence-only sexuality education policies. A legislative review of Texas state-level laws governing sexuality education finds that Texas statutory laws severely limit equal access to full and complete sexual health information, openly discriminate against LGBTQ+ youth, and can be expected to result in poor sexual health outcomes with significant health disparities by race, gender, sexual orientation, and socioeconomic status. Religious Right values, state representatives, and interest groups retain a strong hold over Texas state-level sexuality education laws, even though the general population supports expanding access to medically accurate sexuality education; and morality politics push state-level law further to the right while limiting the potential for progressive headway. Public health professionals seeking to improve sexual and reproductive rights and health outcomes in Texas must attend to the complex interplay of morality politics, political actors, and legal structures operating in the state to guide activism and policy advocacy efforts',\n",
       " 'documentType': '',\n",
       " 'doi': None,\n",
       " 'downloadUrl': 'https://core.ac.uk/download/519836734.pdf',\n",
       " 'fieldOfStudy': None,\n",
       " 'fullText': 'Yale University EliScholar – A Digital Platform for Scholarly Publishing at Yale Public Health Theses School of Public Health January 2022 The Politics Of Sexuality Education Policy In Texas Caroline Alexandra Magee caroline.magee@att.net Follow this and additional works at: https://elischolar.library.yale.edu/ysphtdl Recommended Citation Magee, Caroline Alexandra, \"The Politics Of Sexuality Education Policy In Texas\" (2022). Public Health Theses. 2178. https://elischolar.library.yale.edu/ysphtdl/2178 This Open Access Thesis is brought to you for free and open access by the School of Public Health at EliScholar – A Digital Platform for Scholarly Publishing at Yale. It has been accepted for inclusion in Public Health Theses by an authorized administrator of EliScholar – A Digital Platform for Scholarly Publishing at Yale. For more information, please contact elischolar@yale.edu.    THE POLITICS OF SEXUALITY EDUCATION POLICY IN TEXAS Understanding Texas’s Perpetuation of Abstinence-Only Sexuality Education Policy and Paths Toward Comprehensive Sexuality Education Caroline Magee Year Completed: 2022 Year Degree Awarded: 2022 Degree Awarded: Master of Public Health Yale School of Public Health, Social & Behavioral Sciences  Primary Advisor: Alice M. Miller, JD Secondary Advisor: Trace Kershaw, PhD  1 Abstract This thesis applies social science research, historical and cultural analysis, and legislative review to understand the relationship between Texas’s school-based sexuality education policies and public health and, in so doing, lay the groundwork for policy change that will better promote sexual and reproductive health, health equity, and health justice in Texas.  The thesis first situates Texas state-level sexuality education policy within a larger US political, historical, and legal context, highlighting the key roles of race, class, gender, and sexuality stereotypes and of “morality politics.” It then examines the political history of Texas sexuality education debates within this national context, revealing that opposition to a redistributive school finance policy in Texas has fostered racialized Religious Right rhetoric and the election of increasingly conservative Republican policymakers. An analysis of quantitative political and social science research demonstrates that these variables—namely white perceptions of racial threat, economic threat, state representatives’ conservativism, Religious Right influence in the state Republican party, and Religious Right interest groups—fuel the adoption and maintenance of state-level abstinence-only sexuality education policies. A legislative review of Texas state-level laws governing sexuality education finds that Texas statutory laws severely limit equal access to full and complete sexual health information, openly discriminate against LGBTQ+ youth, and can be expected to result in poor sexual health outcomes with significant health disparities by race, gender, sexual orientation, and socioeconomic status. Religious Right values, state representatives, and interest groups retain a strong hold over Texas state-level sexuality education laws, even though the general population  2 supports expanding access to medically accurate sexuality education; and morality politics push state-level law further to the right while limiting the potential for progressive headway. Public health professionals seeking to improve sexual and reproductive rights and health outcomes in Texas must attend to the complex interplay of morality politics, political actors, and legal structures operating in the state to guide activism and policy advocacy efforts.    3 Table of Contents Abstract ................................................................................................................................ 1 Introduction .......................................................................................................................... 5 Research Methods ................................................................................................................. 9 I. Background: Sexuality Education Policy, Health, and Human Rights .............................. 11 School-based sexuality education and its public health significance............................................... 11 Texas sexuality education laws: a threat to health, health equity, and human rights...................... 13 II. United States Sexuality Education Politics And Lawmaking ........................................... 15 Origins of youth sexuality education in the United States.............................................................. 16 Emergence of the Religious Right and the current national sexuality education debate.................. 18 U.S. federal sexuality education policy and national Religious Right influence ............................... 21 “Morality politics”: A lens for analyzing U.S. debates over welfare reform and AOSE...................................... 21 Morality politics build U.S. national AOSE morality policy ................................................................................. 25 III. Texas Sexuality Education Politics: A Social Science Lens on Texas’s Unique Struggles Within the U.S. Context of Morality Politics and Policy ......................................................... 28 Texas’s conservative shift: The unexpected connection between school financing battles and sexuality education policy ............................................................................................................ 29 Social science research on sexuality education policy levers: Causal links between racism, classism, and the Religious Right and Texas’s sexuality education policies ................................................... 34 Redistricting, Latinx voters, and the hopeful future of Texas politics.............................................. 37 Congressional redistricting suppresses a new political majority’s votes ........................................................... 38 Latinx voters show support for abstinence-plus sexuality education ................................................................ 39 Hope for a future of abstinence-plus policy in Texas ......................................................................................... 41 IV. Texas Sexuality Education Law Review ...................................................................... 42 Key areas of Texas law governing sexuality education: The Texas Constitution, public school funding and organization, and the 1995 education reform bill ................................................................... 42 Texas Constitution: Texans’ Rights and the Purpose of Public Education ......................................................... 42 Public School Funding and Organization: Property Taxes and Local Control..................................................... 43 1995 Education Reform Bill ................................................................................................................................ 44 Important sexuality education initiatives (statutory and administrative) in Texas .......................... 45 Statutory Model Education Programs: Texas begins to address the 1980s HIV/AIDS epidemic but does not adapt over time .................................................................................................................................................. 45 Statutory Adolescent Pregnancy and Parenthood Advisory Council: The Religious Right suppresses an early attempt to address teen pregnancy ................................................................................................................... 47 Statutory Local School Health Advisory Council and Sexuality Education Instruction: The Religious Right advances amidst constant legislative activity .................................................................................................... 48 Statutory High School Graduation Requirements: The exclusion of health education ..................................... 51 Administrative Sexuality Education Standards: From abstinence-only to abstinence-plus .............................. 52 Summary and health policy implications ........................................................................................................... 55 V. Case Study: San Antonio North East Independent School District ................................... 57  4 VI. Conclusion ................................................................................................................ 61 Appendix A: Texas Religious Right Advocacy Groups and Funding ........................................ 65 Appendix B: State Statutory and Administrative Law Governing Sexuality Education in Texas ........................................................................................................................................... 66 TX EDUC § 28.025 ......................................................................................................................... 66 2021 Proposed Amendments to TX EDUC § 28.025 ........................................................................................... 66 TX EDUC § 28.004 ......................................................................................................................... 67 2021 Proposed Amendments to TX EDUC § 28.004 ........................................................................................... 69 TX HEALTH & S § 85.007 ............................................................................................................... 71 2021 Proposed Amendments to TX HEALTH & S § 85.007................................................................................. 72 TX HEALTH & S § 163.001-2 .......................................................................................................... 73 2021 Proposed Amendments to TX HEALTH & S § 163.001-2 ........................................................................... 74 TX PENAL § 21.06 ......................................................................................................................... 75 2021 Proposed Amendments to TX PENAL § 21.06 ........................................................................................... 75 19 TX ADC § 115 ........................................................................................................................... 76 Sexuality Education Curriculum Standards: 1998 – July 2022 ........................................................................... 76 Sexuality Education Curriculum Standards: Upcoming Changes in August 2022 .............................................. 78 TX HUM RES § 52.001-2 (Repealed) .............................................................................................. 85 Works Cited ......................................................................................................................... 86     5 Introduction The United States has one of the highest teen pregnancy rates of all developed countries (CDC, 2012), and faces high rates of youth human immunodeficiency virus (HIV), youth sexually transmitted infections (STIs), and sexual violence disproportionately affecting women, people of color, and LGBTQ+ individuals. Within this dismal national context, Texas consistently demonstrates poor sexual and reproductive health outcomes with exacerbated racial and gender disparities. In 2019, Texas had the eighth-highest teen birth rate in the United States at 24 births per 1,000, compared to a national rate of 16.7 (America’s Health Rankings, 2021). Latinx and Black females were disproportionately affected, with teen birth rates of 32.3 per 1,000 for Latinx and 25.1 per 1,000 for Black females compared to 14.3 for white females (America’s Health Rankings, 2021). The HIV rate in Texas is higher than the national average, with Black females experiencing 15 times the HIV rate and Black males 4 times the HIV rate of their white counterparts (Texas Freedom Network Education Fund & Sexuality Information and Education Council of the United States, 2019). Evidence shows that school-based sexuality education can affect these sexual and reproductive health outcomes. The two dominant models of school-based sexuality education in this country are Comprehensive Sexuality Education (CSE) and Abstinence-Only Sexuality Education (AOSE). These forms of education have been shown to have different impacts on sexual health and life outcomes. CSE programs are associated with reduced risks of unwanted teen pregnancy, STIs, sexual violence, and LGB bullying, while AOSE programs have no significant effect on these outcomes and may in fact increase risk of teen pregnancy. (See discussion in Section I: Background.)  6 Despite the evidence in favor of CSE, Texas state-level laws currently do not require schools to teach sexuality education. Any schools that choose to teach sexuality education must, by state law, emphasize abstinence. As a result, the most recent survey of statewide sexuality education curricula indicates that over half of Texas school districts taught AOSE, with no medically accurate information about condoms or other forms of pregnancy and STI prevention; and one-quarter of Texas school districts taught no sexuality education at all (Texas Freedom Network Education Fund & Sexuality Information and Education Council of the United States, 2019). Given the importance of sexuality education to sexual health and overall wellbeing, including in regard to health equity across diverse populations, Texas’s restrictive and discriminatory laws governing sexuality education in schools would be expected to have a significant public health impact. However, the content of and context for this legal landscape of sexuality education policy in Texas and its public health impact is poorly understood. Little research exists on the historical political dynamics that gave rise to these laws, or on how Texas’s state-level sexuality education laws might contribute to poor sexual health outcomes and race- and gender-based health disparities.  This thesis therefore seeks to understand the relationship between the past and present of Texas’s school-based sexuality education policies and public health and, in so doing, lay the groundwork for policy change that will better promote sexual and reproductive health, health equity, and health justice in Texas.  To this end, I will analyze the historical, political, and legal context in which Texas state policy on sex education has developed, in order to identify key policy levers and understand the  7 full landscape of direct and indirect influences on the law that is a key mediator of Texans’ sexual and reproductive health. I will review the historical evolution of Texas state-level sexuality education laws and the status of the most recent proposed legislative changes to these laws, identifying characteristics that may impact public health and health equity. I will conclude by summarizing the implications of these state-level laws and their historical and political context for future research and policy advocacy. The thesis consists of the following six sections. After an overview of my research methods, Section I presents background on the two main forms of sexuality education and the research on their relationship to health. It discusses the importance of applying a health equity and health and human rights lens to sexuality education, as well as the importance of federal and state law in shaping how sexuality education is taught in schools. It then provides a brief overview of current state-level sexuality education laws in Texas.  Section II explores the political history of U.S. national sexuality education debates and lawmaking. With an eye to political actors and narratives at the national level in the U.S., it reviews the histories of school-based sexuality of education, the conflict between CSE and AOSE, and federal policy on sexuality education. The key role of “morality politics” is flagged and elaborated in this section, and will reappear in the sections that follow. Section III explores the political history of Texas sexuality education debates and lawmaking and its relationship to national debates and federal law. It reveals that opposition to a redistributive school finance policy in Texas has fostered Religious Right rhetoric of racial economic and cultural threat to the public school system, resulting in the election of  8 increasingly conservative Republican candidates who adopt and maintain state-level school-based AOSE policies. Building on the narrative analyses of sexuality education debates and lawmaking nationally and in Texas, it also analyzes quantitative political and social science research to understand sexuality education policy levers in Texas, concluding that white racial threat, economic threat, state representatives’ conservativism, Religious Right influence in the state Republican party, and Religious Right interest groups all contribute to the adoption and maintenance of AOSE policies in Texas. It ends by highlighting how Congressional redistricting suppressing Latinx votes negatively impacts Texas’s sexuality education policies and how continued efforts to build Latinx political power in Texas could foster statewide access to more inclusive and medically accurate sexuality education. Section IV analyzes Texas state-level laws governing sexuality education, demonstrating their connection to Religious Right morality politics. It finds that Texas statutory laws severely limit equal access to full and complete sexual health information, openly discriminate against LGBTQ+ youth, and can be expected to result in poor sexual health outcomes with significant health disparities by race, gender, sexual orientation, and socioeconomic status. Recent positive changes to Texas administrative laws will be implemented in August 2022, but may not meaningfully improve students’ access to medically accurate sexually education. Religious Right values, state representatives, and interest groups retain a strong hold over Texas state-level sexuality education laws, and “morality politics” and other political processes described in prior sections limit the potential for progressive headway. Section V presents a case study of San Antonio North East Independent School District’s process of revising their sexuality education curriculum. It ties together the work of Sections I- 9 IV and demonstrates how morality politics and related political processes, political actors (specifically Religious Right representatives and interest groups), and state-level laws operate in practice to push state-level law further to the right, even as communities exert local power to expand access to medically accurate sexuality education. Section VI concludes with reflections on the public health implications of Texas state-level sexuality education policies and the historical and political context in which they have developed, as well as for recommendations for the direction of future policy advocacy. Attached appendices contain summaries of Texas Religious Right advocacy groups (Appendix A) and of Texas state statutory and administrative law governing sexuality education (Appendix B).  Research Methods To understand the national context in which Texas state-level sexuality education policies have developed, I researched the history of school-based sexuality education—and specifically the conflict between AOSE and CSE programs—in the United States. I began by reviewing grey literature on the Sexuality Information and Education Council of United States (SIECUS) website. I then conducted a broad search in Articles+, a comprehensive database of scholarly journal articles and books, of the following terms: “United States,” “sexuality education” (and related terms), “abstinence,” “history” (and related terms), “school,” and “politics” (and related terms). I worked through the search results in order of relevance, focusing on social science and political science literature to identify key actors and narratives in the sexuality education  10 debate; and referenced the works cited in the most relevant articles for additional sources. I also did an exploratory follow-up search adding the terms “Texas” and “public health.” To understand the political processes by which Texas state-level sexuality policies are made, I drew upon the social science and political science literature from the aforementioned searches that specifically described theories of sexual and reproductive health policy change, including key political actors and possible policy levers. I built on this by exploring Texas’s unique political actors and sexuality education policy environment. I began by reviewing grey literature on the websites of SIECUS and the Texas Freedom Network, a Texas advocacy organization that partnered with SIECUS to advocate for medically accurate sexuality education standards in Texas in 2020. I then conducted a broad search in Articles+ of the following terms: “Texas,” “sexuality education” (and related terms), “policy,” “Religious Right” (and related terms), and “demographics.” I worked through the search results, again focusing on social science and political science literature; and did follow-up searches including terms such as “Latinx” (and related terms) and “race.”  Finally, I compiled current Texas state-level law and proposed legislation relevant to sexuality education. Grey literature on the SIECUS and Texas Freedom Network websites served as a starting point. I used Westlaw, a law database, to conduct a preliminary search of Texas public education statutes that reference health education and sex education and identify secondary sources (law reviews, reports) connected to these statutes. I then searched the Texas Legislature website for the current text of all Texas sexuality education statutes and regulations referenced by SIECUS, Texas Freedom Network, and secondary sources. Westlaw provided  11 historical information on and the text of all previous versions of these statutes and regulations, as well as proposed legislation from the 2021 legislative session.   I. Background: Sexuality Education Policy, Health, and Human Rights School-based sexuality education and its public health significance School-based sexuality education in the US today is dominated by two main forms of sexuality education: Comprehensive Sexuality Education and Abstinence-Only Sexuality Education. The first broad category of sexuality education programs that most scholars accept is Comprehensive Sexuality Education (CSE). CSE programs discuss sexuality as a natural, positive, and healthy part of human life, and seek to provide adolescents with age-appropriate, medically accurate information about sexual health and the skills to set boundaries and make healthy decisions about their relationships. CSE programs often (though not always) support inclusivity, gender equality, and sexual and gender diversity (Irvine, 2006).  According to the National Sex Education Standards, CSE programs consist of the following seven topic areas: Consent and Healthy Relationships, Anatomy and Physiology, Puberty & Adolescent Sexual Development, Gender Identity and Expression, Sexual Orientation and Identity, Sexual Health, and Interpersonal Violence (Goldfarb & Lieberman, 2021). CSE programs are associated with delaying teens’ first sexual activity and significantly associated with reduced risk of teen pregnancy (Kohler, Manhart, & Lafferty, 2008). Across dozens of  12 studies, these programs are associated with reduced frequency of sexual activity, unprotected sexual activity, number of sex partners, and STI prevalence (Chin et al., 2012). CSE programs also improve social-emotional and communication skills, reduce sexual violence, and reduce LGB bullying (Goldfarb & Lieberman, 2021). The second category that most scholars accept is Abstinence-Only Sexuality Education (AOSE). AOSE programs teach that abstinence until marriage is healthy and the “expected standard” for children, and that engaging in sexual activity before marriage will likely be psychologically and physically harmful (Ott & Santelli, 2007). AOSE programs are rooted in the belief that openly discussing topics like contraception increases adolescent sexual activity, teen pregnancy, and prevalence of sexually transmitted diseases (Irvine, 2006). Significantly, AOSE programs are prohibited from providing teens with information about contraception, sexual orientation, gender identity, and other sexual health information, defying standards for medical accuracy and violating human rights (Miller & Schleifer, 2008; Ott & Santelli, 2007). Across numerous studies, AOSE demonstrates no meaningful effect on risk behaviors like frequency of sexual activity, unprotected sexual activity, and number of sex partners (Chin et al., 2012). AOSE programs have no significant effect on delaying sexual activity or on risk of teen pregnancy and STIs (Kohler et al., 2008). Despite conservative states’ commitment to abstinence-only education, receiving more abstinence-only federal funding predicts higher teen birthrates in conservative states and has no effect on teen birthrates in other states (Fox, Himmelstein, Khalid, & Howell, 2019). Notably, in the US, primary responsibility for public education falls under state and local authority, rather than to the federal government (US Department of Education, 2021). States  13 decide for themselves how to administer and fund public education, with supplemental support from the federal government. This means that state-level law governs school-based sexuality education programs and content.  Texas sexuality education laws: a threat to health, health equity, and human rights State-level laws in Texas laws have, since 1989, dictated abstinence-focused, discriminatory sexuality education content, as detailed further in Section IV; and have severely restricted access to many of the above-listed topics essential to CSE. Applying a human rights framework elucidates the state’s responsibilities to its population, the imperative of legal reform, and the direction of such reform. United States law establishes constitutional protections of freedom of speech and against discrimination (Miller & Schleifer, 2008). Under an international human rights framework, the state is further obligated to secure its people’s rights to health, information, and nondiscrimination (Miller & Schleifer, 2008). This includes an obligation to refrain from censoring, limiting, or misrepresenting health information in ways that could impede these rights (Miller & Schleifer, 2008). Texas state-level laws clearly violate adolescents’ fundamental human rights to seek and receive information, to nondiscrimination, to the highest attainable standard of health, and to accurate and uncensored sexual health education. Currently, Texas state-level laws do not require schools to teach any sexuality education at all, and therefore do not require AOSE per se. However, state laws do require schools that choose to teach sexuality education to emphasize abstinence (SIECUS, 2021b). Model sexuality education programs developed by the Texas Department of Health must emphasize to students  14 that homosexuality is a criminal offense under the Texas Penal Code and not an acceptable lifestyle (\"Human Immunodeficiency Virus Services Act,\" 1989; SIECUS, 2021b). This emphasis is not only blatantly homophobic, but misleading given that in 2003 the US Supreme Court declared this section of the Penal Code unconstitutional and therefore unenforceable (Lawrence v. Texas (2003)). These state laws also defy the legal recognition of same-sex marriage by the US Supreme Court in 2015 (Obergefell v. Hodges (2015)). Bills were introduced in the 2021 legislative session proposing to repeal the state law criminalizing homosexual conduct (to conform the text of the state law to US Constitutional requirements and to what is, in practice, enforceable law), replace gender-specific language relating to the rights and duties of spouses, repeal the requirement for state-developed programs to teach that homosexuality is not an acceptable lifestyle, and to require CSE, but all failed (SIECUS, 2021b). In addition, current Texas law establishes no standard regarding medically accurate sexuality education, though 2020 regulatory changes to the Texas health curriculum standards adopted by the State Board of Education now require schools to teach birth control methods while still emphasizing abstinence (SIECUS, 2021b)—a middle-of-the-road sexuality education model known as “abstinence-plus.” Moreover, because Texas state law grants local school districts control over sexuality education curriculum, sexuality education varies widely between school districts (D. Wiley & Wilson, 2009). (See Section IV for a more complete discussion of state regulatory power: legislative, administrative, and executive.) As a result of these regressive and inconsistent policies, in the 2015-2016 school year, 58.3% of Texas school districts taught AOSE, with “no medically accurate information on condoms and other forms of contraception and STI-prevention other than abstinence”; and  15 25% of school districts taught no sexuality education at all (Texas Freedom Network Education Fund & Sexuality Information and Education Council of the United States, 2019). Further restricting access to sexuality education, in the 2021 legislative session, state lawmakers enacted an opt-in policy requiring schools to solicit parental consent in order for schools to teach their child sexuality education (SIECUS, 2021b).  Texas state-level law, in interaction with municipal-level entities, thus directly influences whether sexuality education is taught in schools, what information it contains, how that information is delivered, and who receives it. State-level political processes involving powerful interest groups work to create a complex network Texas state-level sexuality education laws which themselves operate within an equally complex national social, cultural, political, and legal context. Understanding the content of the law and how to improve it therefore requires, first, an understanding of the national and state context in which the law is made and, second, an understanding of political processes by which it is made. This will be the work of the next two sections.   II. United States Sexuality Education Politics And Lawmaking Texas state-level sexuality education policy has developed within a U.S. national, historical, and political context. I will therefore analyze the history of school-based sexuality education in the United States, the history of the conflict between CSE and AOSE, and the evolution of federal  16 policy on sexuality education up to the present day, focusing throughout on political actors and rhetoric.  Origins of youth sexuality education in the United States Abstinence-only and comprehensive sexuality education share common roots in gendered, racialized, and classed discourses about adolescent sexuality. The concept of sexuality education originated in the purity movement of the late 1800s. During this time, marriage rates were down, divorce rates rising, white birth rates dropping, and venereal disease rates among middle-class white men increasing (SIECUS, 2021a). These demographic changes sparked racist, sexist, and classist fears that the institution of the family—implicitly white and middle-class—was threatened by the temptation of prostitutes and sex outside of marriage (SIECUS, 2021a). These fears intersected with eugenics movement beliefs about fostering white, middle-class, Anglo-Saxon reproduction to improve the human race (SIECUS, 2021a). Sexuality education thus emerged as an attempt to “regulate all sexual activity, to eradicate prostitution and reeducate prostitutes, and to prevent racial degeneration of white (seen as pure) children,” as a way of addressing male venereal disease and maintaining racial and class purity and marriage (Lamb, 2013).  By 1920, 40% of schools had a sexuality education program of some kind. At this time, adolescent sexuality and sexual activity were perceived as societal problems from which (sexually) innocent children require adult protection (Cronenberg, 2013; Fields, 2012; Kendall, 2008). While supporters viewed expert sexuality education as the solution, those opposing these programs worried that open discussion about sex threatened both young girls’ modesty  17 and their desire to marry, potentially “scaring” girls into celibacy or lesbianism instead of marriage (Lamb, 2013). Importantly, the dramatized discourse of the adolescent sexuality “problem,” then and now, is gendered, racialized, and classed—with wealthy white girls perceived as sexual innocents, and poor youth and youth of color ‘at risk’ and sources of danger (Fields, 2005, 2012; García, 2009; SIECUS, 2021a). It is also rooted in heteronormativity, which “promotes the norm of social life as not only heterosexual but also married, monogamous, white, and upper middle class” (McNeill, 2013). Race, class, and gender stereotyped themes are present in all debates about sexuality education from its origins through the present day. Since the 1920s, sexuality education has (mostly) evolved to focus on presenting the “scientific facts” about sex. Sexuality education became all the more important to include in schools in the 1950s, when the expectation that teens attend secondary school required teachers to “consider how to teach teens to deny their natural biological instincts for sexual activity to pursue education” (Cronenberg, 2013). Here again, educational efforts focused on “protecting” white students and reinforced gender roles painting boys as aggressors in a sexual relationship (SIECUS, 2021a). The emphasis on teaching teens “the facts” about sex peaked in the 1960s with the formation of the Sexual Information and Education Council of the United States (SIECUS), whose purpose was to provide information to young people so that they could make their own moral decisions (Lamb, 2013). It was around this time (the 1960s) that sexuality education became controversial again, but with a new set of concerns, with the rise of the gender, sexual, youth, and civil rights revolutions and the Religious Right countercultural movement.   18  Emergence of the Religious Right and the current national sexuality education debate  The current sexuality education debate is central to the current “culture wars” that arose with the feminist, gay rights, youth, and civil rights revolutions in the 1960s (Fields, 2012; Kendall, 2008). This version of the debate begins with the Religious Right, a broad base of conservative Christian evangelicals that attacks reproductive rights and gender equality—and uses sexuality education as a tool to do so. The Religious Right, originally known as the New Right, first mobilized in the 1970s in response to the women’s liberation and gay rights movements (di Mauro & Joffe, 2007; Lugg, 1998). This countermovement can be characterized as a “moral panic” in response to changing sexual behavior (di Mauro & Joffe, 2007), evidenced by the group’s countercultural political focus on sexuality and reproductive issues. Its first domestic policy campaign focused on a 1971 childcare bill allocating $2 billion to states for childcare, which was considered a legislative victory of the feminist movement (di Mauro & Joffe, 2007). The Religious Right’s vocal objections to a so-called government takeover of childcare from the family and the mother prompted Nixon to veto the bill (di Mauro & Joffe, 2007). Roe v. Wade (1973) subsequently prompted the Religious Right to become “more structured and more visible,” facilitating its involvement in public debates over issues such as teen pregnancy, out-of-wedlock pregnancy, welfare policy, and sexuality education (di Mauro & Joffe, 2007). In Janice Irvine’s words, arguments about these issues “perform significant rhetorical work,” drawing upon not only fears about changing gender and sexuality norms, but also implicitly coding for class and race (SIECUS, 2021a). Indeed, Religious Right concerns about teen pregnancy in the 70s centered  19 around fears of a growing number of single mothers, particularly in low-income communities of color (SIECUS, 2021a). The Religious Right’s discussions around sexuality education—intended to address teen pregnancy, control sexual activity outside of marriage, and protect the standard of the white, middle-class, heterosexual marriage—performed the same rhetorical work. In the early 1980s, the HIV/AIDS pandemic solidified the Religious Right’s “cultural anger that targeted feminists and homosexuals as the primary sources of the supposed sexual degeneracy evident in the United States” (di Mauro & Joffe, 2007). The HIV/AIDS pandemic became a political platform for the Religious Right to graphically link homosexuality with gruesome death and to depict AIDS as God’s wrath exacted upon the sexually immoral (di Mauro & Joffe, 2007; Lugg, 1998). This aggressive anti-gay activism corresponded with a nonexistent federal policy response (Lugg, 1998; Stone, 2016). The vitriolic homophobia of the Religious Right and systemic government neglect intensified gay rights and AIDS activism and motivated the formation of the largest AIDS activism organization, AIDS Coalition to Unleash Power (ACT UP) (Stone, 2016).  In addition, the death of prominent actor Rock Hudson due to AIDS in 1985 somewhat ironically (given his lack of affiliation with HIV activism) brought a new kind of public attention to the crisis and prompted the US Surgeon General—an evangelical Christian and an antiabortion, youth abstinence advocate—to release a 1986 report calling for HIV/AIDS education in public schools to protect “at-risk” students (Jeffries, 2018; Lugg, 1998). These events—combined with the efforts of many local, state, and national LGB and HIV/AIDS advocacy groups like ACT UP—fueled the rapid growth of public health professionals, communities, and state agencies like the Centers for Disease Control and Prevention calling for  20 state-provided school-based HIV/AIDS education; and of states and schools mandating the provision of school-based HIV/AIDS education (Kendall, 2008; D. C. Wiley, Plesons, Chandra-Mouli, & Ortega, 2020). They also triggered a political backlash from the Religious Right, exacerbated by the perceived betrayal of one of their own; and alarm about promoting “grammar school sodomy” (Lugg, 1998). While the Religious Right had previously opposed school-based sexuality education altogether, the increasing prevalence of HIV/AIDS education in schools motivated the movement to move from total opposition to promote abstinence-only sexuality education as an alternative, to protect youth, maintain parental authority, and support traditional family values (di Mauro & Joffe, 2007; Doan & McFarlane, 2012; Kendall, 2008). Abstinence-only programming had first been introduced under the 1981 Adolescent Family Life Act (AFLA), a piece of antiabortion legislation backed by a “quintessential” Religious Right representative (Jeffries, 2018). The AFLA granted public funding to programs (including religious organizations such as crisis pregnancy centers) that promoted premarital abstinence, discouraged abortion, and encouraged pregnant teenagers to consider adoption (Kantor, Santelli, Teitler, & Balmer, 2008). This was not exclusively a school-based sexuality education program—at the time, school-based sexuality education was not systematic and had “limited political support” (Lugg, 1998).  However, as the idea of school-based HIV/AIDS education gained traction in the mid to late 80s, the Religious Right began to use a moral framing to promote school-based abstinence-only education as an alternative to HIV/AIDS or “comprehensive” sexuality education on the grounds that the latter “promoted promiscuity, abortion, and homosexual recruitment” (di  21 Mauro & Joffe, 2007). Progressives’ and conservatives’ attempts to promote their own versions of school-based sexuality education soon made school-based sexuality education commonplace (di Mauro & Joffe, 2007; Kendall, 2008). The debate solidified into two broad camps by the end of the 90s (di Mauro & Joffe, 2007): abstinence-only sexuality education (AOSE) supporters and comprehensive sexuality education (CSE) supporters.   U.S. federal sexuality education policy and national Religious Right influence In the early- to mid-1990s, Religious Right narratives and support of AOSE successfully captured the national discussion, culminating in the inclusion of these issues in broader policy reforms, especially in the welfare reform legislation of 1996: The Personal Responsibility and Work Opportunity Reconciliation Act (PRWORA). This Act, which created the Temporary Assistance for Needy Families (TANF) program with work requirements and time limitations for individuals to qualify for federal aid, allocated $50 million annually to states for AOSE programs and an additional $20 million in bonus grants for each of the five states that were most successful in reducing out-of-wedlock births without increasing abortion rates (Arsneault, 2001; SIECUS, 2021a).   “Morality politics”: A lens for analyzing U.S. debates over welfare reform and AOSE In the 1990s, the Religious Right succeeded in advancing federal AOSE policies despite national attention to CSE by drawing on the race, gender, and class stereotypes that have pervaded sexuality education discussions since the early 20th century. These stereotypes resonated with  22 the racist, sexist, and classist “morality politics” surrounding the proposed welfare reform, building legislative support for AOSE and resulting in federal “morality policies” that advanced Religious Right values. Understanding the dynamics of “morality politics” and “morality policy” and the central role of race, gender, and class stereotypes is critical for understanding how the Religious Right has been able to dominate not only public discussions of sexuality education on the national stage, but also policy. Because “morality politics” also play a key role in Texas sexuality education debates, this section expands on their elements a bit more fully. “Morality politics” involve conflicts around issues of right and wrong that are of “low technical complexity and high public saliency,” such that members of the general public can easily form opinions about the issue and join the conversation, either informally or as part of the policy-making process (Arsneault, 2001). This means that morality politics debates often sideline empirical evidence and are instead characterized by demagoguery, hyperbole, emotion, and fierce controversy (Arsneault, 2001). Heightened public attention to and debate around the issue, or public saliency, places increased pressure on bureaucrats to implement policy and to prioritize perceived public opinion over professional views, empirical evidence, or even public opinion polls (Arsneault, 2001; Irvine, 2006). The resulting “morality policy” is law that affirms or modifies certain societal values, morals, or behavioral norms (Arsneault, 2001). It is often “symbolic rather than instrumental; legislators adopt policy that is not necessarily expected to create positive policy outcomes” (Arsneault, 2001).  Shelly Arsenault argues that welfare reform became subject to morality politics in the 1980s and 90s, when the “welfare queen” stereotype coined by Ronald Reagan rose to prominence (Arsneault, 2001; Jeffries, 2018). This stereotype imagined a low-income Black  23 woman choosing to not work and to have multiple children in order to game the system and live off government subsidies (SIECUS, 2021a). The welfare queen’s “unwillingness to adhere to the principles of hard work, family values, and sexual control” rendered her “undeserving” of federal funds (Arsneault, 2001). This stereotype—which drew upon long-standing racist and classist fears of a perceived threat to the white, middle-class family—shifted the welfare reform debate from an internal discussion among economists and policy analysts to a public discussion of morality and deservingness (Arsneault, 2001). Exemplifying the high public saliency of this issue, in 1994 a united front of over 300 Republicans political candidates named welfare reform as one of their top three political priorities (Arsneault, 2001). In a thinly veiled reference to the welfare queen stereotype, an advertisement of these candidates’ position on welfare reform read: “The government should encourage people to work, not to have children out of wedlock” (Arsneault, 2001).  This moralizing position clearly proved popular, as Republicans subsequently won the Congressional majority that campaign season. On the first day of the 104th Congress (1995-1997), this new Republican majority introduced a welfare reform bill that promised “to restore the American family, reduce illegitimacy, control welfare spending, and reduce welfare dependence” (Arsneault, 2001). Months later, four Republican Representatives—all ranked highly by prominent, well-funded Religious Right groups like the Christian Coalition and the National Right to Life Committee—introduced AOSE legislation to address high rates of teen pregnancy (Arsneault, 2001). This legislation became part of the PWORA passed in 1996 (Arsneault, 2001).  24  The rhetorical connection between the morality politics of welfare reform and of AOSE suggests significant overlap between the highly salient “welfare queen” stereotype and the specter of the “pregnant teen.” Right-wing arguments for welfare reform imposing work requirements focused on out-of-wedlock pregnancy. So, too, did discussions of AOSE. Five of the eight criteria defining an AOSE program in the PRWORA’s AOSE policy included either emphasis on abstinence from sexual activity except within the context of a marriage as the “expected standard,” or emphasis on sex outside of marriage and out-of-wedlock pregnancy as physically, psychologically, and even societally harmful (Kantor et al., 2008). Both issues also explicitly (with the “welfare queen” stereotype) or implicitly (with concerns about teen pregnancy) invoke racist, sexist, and classist fears of low-income Black women having “too many” children (SIECUS, 2021a). This overlap exemplifies the way in which intersecting biases against stigmatized groups dominate morality politics and implicitly tie AOSE to seemingly unrelated conservative social issues, such welfare reform.  The rhetorical links between the morality politics of each issue facilitated the inclusion of AOSE policy in the PRWORA. They also built an even broader base of public support for a socially conservative PRWORA, by merging the morality politics surrounding both issues and drawing advocates from prominent, well-funded Religious Right interest groups (including the Christian Coalition and Focus on the Family) into the fray. The integration of AOSE legislation with the racist, sexist, and classist morality politics of welfare reform implied an intention to reduce poverty and welfare expenditures by discouraging teens—specifically low-income Black girls—from having sex outside of marriage, becoming pregnant, and ultimately relying on welfare instead of working. While the racist and classist nature of PRWORA’s AOSE policy was  25 not explicitly acknowledged at the time, congressional staffers did explicitly acknowledge that PRWORA’s AOSE policy was a morality policy intended to promote certain sexual mores, rather than to actually reduce teen pregnancy. Congressional staffers Haskins and Bevan confirmed: “The congressional attack on illegitimacy is based far more on the value position that sex outside marriage is wrong and the consequences severe… than on empirical evidence linking a particular policy with reduced nonmarital births” (Arsneault, 2001). Themes of race, class, and gender will continue to characterize morality politics debates over AOSE, garner support for AOSE from political players invested in other social conservative issues, and thereby generate and maintain AOSE policies, at the national level and within Texas up to the present day.  Morality politics build U.S. national AOSE morality policy Given the morality politics of welfare and AOSE and the apparent rightward shift of the Republican Party, it is no surprise that federal support for AOSE programs grew further during the 2000-2008 George W. Bush administration, despite mounting evidence of the programs’ ineffectiveness (Lamb, 2013). A 2001 bill established the Community-Based Abstinence Education (CBAE) program, which authorized the US Department of Health and Human Services to bypass state health departments and grant federal funds directly to community- and faith-based organizations delivering AOSE programs that met the eight criteria established in the PRWORA (Kantor et al., 2008; Lamb, 2013). That same year, a report by the Surgeon General found that CSE curricula were the most effective compared to AOSE curricula (Kantor et al., 2008). And in 2004, a Congressional evaluation of 13 federally funded AOSE programs “found  26 that almost all of these programs contained false and misleading information about sexual and reproductive health, often blurred religion with science; and treated stereotypes about girls and boys as scientific fact” (D. C. Wiley et al., 2020). Despite this clear health evidence against AOSE, the success of “morality politics” was such that the Bush Administration doubled down on AOSE policies. Administrative guidelines released in 2006 for CBAE grantees reiterated the importance of adhering to AOSE criteria and explicitly stated that programs that “promote the use of contraceptives are not eligible for funding” (Kantor et al., 2008). In 2007, annual federal expenditures for AOSE programs reached an all-time high of $176 million: $13 million from the AFLA, $50 million from the PRWORA, and $113 under CBAE (Kantor et al., 2008). After coming into power in 2008, the Obama administration quickly diverged from the Bush administration in its commitment to “restore science to its rightful place” (Lamb, 2013). In 2010, Congress authorized the creation of the Office of Adolescent Health (OAH, within the Department of Health and Human Services) to improve “the health and well-being of adolescents to enable them to become healthy, productive adults” (SIECUS, 2021a). The OAH administered the Teen Pregnancy Prevention Program (TPPP), granting $110 million in federal funds to medically accurate, evidence-based sexuality education programs proven to reduce teen pregnancy and associated risk behaviors (SIECUS, 2021a). The Affordable Care Act passed in 2010 additionally established the Personal Responsibility Education Program (PREP), which made available $75 million annually to states implementing evidenced-based pregnancy and STI prevention programs for youth in foster care, who are homeless, or who are pregnant or parents (Guttmacher Institute, 2021b). At the same time, however, the Affordable Care Act continued to fund the PRWORA’s Title V AOSE programs at $50 million annually and created a  27 new AOSE discretionary funding stream called Community Abstinence Education (Lamb, 2013; SIECUS, 2021a). Notably, from 2016-2020, the Trump administration failed to dismantle TPPP or PREP grants (SIECUS, 2021a). The Trump administration did, however, shift the language of Title V and the Community Abstinence Education program to more closely align with the language currently used by AOSE advocacy groups. The Biden administration has maintained all of these federal funding streams: the TPPP, funded at $101 million annually; the PREP, funded at $75 million annually; Title V, funded at $75 million annually; and the discretionary Sexual Risk Avoidance Education program (formerly the Community Abstinence Education program), funded at $35 million annually (Guttmacher Institute, 2021a, 2021b). As of 2022, the federal government provides grant funding for CSE programs as well as AOSE programs, despite empirical evidence against AOSE. The TPPP and PREP represent a hopeful shift toward CSE. However, these federal programs still take an individualistic, problematizing approach to sexual health, as their names suggest; and, in targeting “high-risk” teens, implicitly identify poor teenage girls of color as the focus. Of much greater concern is the federal government’s continued large investment in AOSE via the Title V Sexual Risk Avoidance Education program, which grants states funding to implement AOSE programs; and the Sexual Risk Avoidance Education program, which grants community organizations funding for AOSE projects (Family and Youth Services Bureau, 2022a, 2022b). The term “Sexual Risk Avoidance Education” (SRAE) is a rebranding of AOSE by the AOSE movement that co-opts public health language (SIECUS, 2021a). Ascend, formerly the National Abstinence Education Association, has argued that SRAE programs prevent poverty because people who are high school graduates,  28 employed, and wait until marriage and adulthood to have a child are less likely to be living in poverty (SIECUS, 2021a). This interpretation ignores the role of institutional racism and socioeconomic status in inhibiting upward mobility and determining health and life outcomes such as high school graduation status, employment, and childbirth. Nevertheless, conservative members of Congress in the Trump administration seized upon this individualistic and stigmatizing argument for AOSE, renaming the Title V and Community Abstinence Education programs and requiring funded programs to “teach the benefits associated with self-regulation, and success sequencing for poverty prevention” (SIECUS, 2021a).  III. Texas Sexuality Education Politics: A Social Science Lens on Texas’s Unique Struggles Within the U.S. Context of Morality Politics and Policy Texas has chosen to adopt and sustain AOSE policies and programs within the national context described in Section II. For decades, Texas has implemented AOSE programs to receive more Title V AOSE federal funding than any other state annually from 2004 through 2018 (Jacob, 2020). This decision is not necessarily motivated by values or political factors, but by the financial incentive of federal funding available since 1996 (Arsneault, 2001). However, as we will see in Section IV, Texas has also independently adopted and maintained state-level policies that do not require school-based sexuality education, but that require any school-based sexuality education program to emphasize abstinence. It is striking that Texas has remained a such strong supporter of AOSE even when scientific evidence does not support AOSE; when  29 federal support for AOSE has waned; when 25 states have chosen to decline federal funding for AOSE altogether (Doan & McFarlane, 2012); when public support for AOSE is lukewarm, nationally and in Texas (Rabbitte & Enriquez, 2019; Texas Freedom Network Education Fund & Sexuality Information and Education Council of the United States, 2019); and despite multiple state legislative attempts to replace AOSE policies. To understand why this is the case, it is important to understand who holds political power in Texas, why they hold power, and what political processes shape their policy preferences and decisions.  Texas’s conservative shift: The unexpected connection between school financing battles and sexuality education policy Texas has not always aligned itself with the national Religious Right and their AOSE ideology. From 1990-1996, two decades after the Religious Right launched their campaign against sexual and reproductive rights, 50% of Texans favored abortion rights in the first six months of pregnancy (Kincaid, 2016). In a 1993 poll, Planned Parenthood had a 75% approval rating—21 points higher than the NRA (Kincaid, 2016). However, 1994 marked the implementation of a redistributive school financing policy, the beginning of a statewide “culture war,” the adoption of Religious Right rhetoric, and Texas’s inexorable shift to the right (Kincaid, 2016). This redistributive policy created a platform for morality politics in which the Religious Right rhetorically linked opposition to the redistributive policy with a moral defense of “cultural values” in public education. As with the national debate that symbolically and then legally linked welfare reform and AOSE, these morality politics had real political consequences,  30 facilitating the election of right-wing Republican state legislators who in turn enacted policies reflecting Religious Right values, such as AOSE. Political sociologist John D. Kincaid presents a compelling argument that Texas’s own culture war and rightward ideological shift—including on sexual and reproductive health issues—began with the school finance system. Because the Texas constitution prohibits the state from levying statewide property and income taxes, Texas school districts for years had been funded through local property taxes (Kincaid, 2016). This policy created substantial racial disparities in school district financing. Residential racial segregation left property-poor districts, disproportionately Latinx and Black, at a disadvantage compared to wealthier, disproportionately white school districts (Kincaid, 2016). Though this discriminatory policy had been contested multiple times since the 1960s, it was not until 1989 that the Texas Supreme Court held that the state school finance system was racially discriminatory and therefore unconstitutional (Edgewood ISD v. Kirby (1989)). This decision tasked the state legislature with devising a new school financing policy that was simultaneously “adequate” (providing for a general diffusion of knowledge) and equitable (Edgewood ISD v. Kirby (1989)), while granting local school districts meaningful discretion over setting property tax rates to avoid violating the constitutional prohibition against state property and income taxes (Kincaid, 2016). After several iterative attempts at devising a redistributive tax policy that met the Supreme Court’s criteria, in 1993 the state legislature settled on a “Robin Hood” policy that made school districts with property wealth exceeding $280,000 per pupil subject to state recapture of property tax dollars (Kincaid, 2016). Recaptured funds would be redistributed to property-poor districts that met a minimum tax rate but did not meet a baseline level of  31 funding (Kincaid, 2016). The Texas Supreme Court upheld the constitutionality of this policy in January 1995 (Kincaid, 2016). At the same time as the Texas legislature was working to address the discriminatory school finance system, a new Religious Right GOP was rising. Religious Right groups had rarely coordinated with each other since their emergence in the 1970s—until 1991, when the Texas Christian Coalition organization hired two prominent Religious Right activists with extensive experience working on national Religious Right Republican campaigns and with national Religious Right groups including Campus Crusade for Christ and the umbrella Christian Coalition (Kincaid, 2016). Under Dick Weinhold and Alice Patterson’s savvy leadership, the Christian Coalition of Texas ballooned from 9,000 members in 1990 to 70,000 members in 1995, with active chapters in half of the state’s counties; began to meet monthly with at least four other Texas “family values” organizations to coordinate political efforts and share resources; and recruited and trained members to run for precinct-level Republican Party leadership positions (Kincaid, 2016).  These personnel changes and systematic political activities represent a concerted, calculated effort by the national Christian Coalition to realize their pledge to place “a working majority of the Republican Party in the hands of pro-family Christians by 1996” (Texas Freedom Network Education Fund, 2006). As a result of this effort, the number of elected Republicans in Texas increased from 580 office holders in 1988 to 930 in 1994 (Texas Freedom Network Education Fund, 2006). More than half of the delegates attending the 1994 Texas Republican Party Convention were self-proclaimed evangelical Christians or held Religious Right positions  32 on abortion and home schooling—many attending their very first Republican Party convention (Kincaid, 2016).  Notably, the state GOP Convention chairman elected in this same year, Tom Pauken, won on an anti-Robin Hood platform. Pauken founded the organization Texans Against Robin Hood Taxes, and explicitly stated that his reason for running for chairman was that Republican legislators had not done enough to quash the Robin Hood policy (Kincaid, 2016). Under Pauken’s leadership, the GOP convention adopted a stridently anti-abortion, anti-gay platform that found its justifications in literalist and selective interpretations of the Old and New Testament. The document detailed a sweeping vision of an America in which only the private sector provides healthcare, English is the only official language, the state sponsors prayer in schools, sex education is banned in schools, abortion is illegal and immigration and federal funding for the arts are halted (Texas Freedom Network Education Fund, 2006). The timing of this newly right-wing platform, which explicitly mentioned sexuality education, aligns with the implementation in 1995 of a state-level school-based AOSE policy, and in 1998 of correlated state standards for human sexuality instruction. These policies will be discussed in detail in the next section.  In this way, the Robin Hood redistributive financing policy sparked Texas’s conservative shift, facilitating the adoption of AOSE policies. As morality politics developed around the Robin Hood policy, Religious Right Republicans increasingly won electoral positions because of their vehement opposition to the “reverse racism” of the Robin Hood policy (Kincaid, 2016). They then advanced a socially conservative policy platform, including AOSE, by rhetorically  33 connecting the racialized economic threat of Robin Hood with cultural threats to Texas’s white middle class in the public education system, including curricula in “multiculturalism,” bilingual education, and sexuality education (Kincaid, 2016).  Unfortunately, these morality politics have set into motion a rightward shift that continues to this day. Kincaid writes: Politicians using Christian Right rhetorical frames were able to weave a story that conflated the issues of race and education in ways that mobilized popular resentment over the redistribution scheme. What these politicians did not realize was that in crafting a narrative that linked material grievances to cultural defense, future political challengers would be able to make the claim that the material grievances had not been addressed because current politicians were not fervent enough in their defense of traditional cultural values (Kincaid, 2016). These campaign techniques drive Republican officials further to the right with each election cycle. Because of constitutional protections against discrimination, Republicans will never succeed in dismantling the Robin Hood school finance scheme. Passing a Texas constitutional amendment allowing for state-level income and property taxes would allow for a more streamlined solution to racial discrimination in school financing while circumventing Robin Hood morality politics, but this is infeasible in the current conservative political climate. So the inexorable cyclical move to the Right will continue.    34 Social science research on sexuality education policy levers: Causal links between racism, classism, and the Religious Right and Texas’s sexuality education policies I will now turn to quantitative political and social science research on sexual and reproductive health policy actors and policy levers to confirm my historical theories about why Texas has enacted and maintained AOSE policies. Thus far, I have presented narrative analyses of sexuality education debates and lawmaking both nationally and in Texas. These analyses suggest the importance of racist, classist, sexist, and homophobic rhetoric to the Religious Right’s “morality politics” arguments that advance Religious Right values and policies, including AOSE policies. They also highlight the role that this morality politics rhetoric has played—in the context of the Texas “Robin Hood” debates—in the election of increasingly conservative Religious Right Republicans to state office. These representatives accordingly enact policies that support AOSE and restrict students’ access to medically accurate and comprehensive sexuality education. Powerful, well-funded Religious Right interest groups fuel the maintenance and rightward shift AOSE policies at all stages of this process by facilitating conservative grassroots mobilization in the 90s, by contributing to conservative candidates’ political campaigns to this day, and by coordinating to bring local debates to the attention of the state legislature for policy change. Some important political and social science research draws causal inferences in support of this narrative analysis of sexuality education policy lawmaking, indicating that white racial threat, economic threat, state representatives’ conservativism, Religious Right influence in the state Republican party, and Religious Right interest groups all contribute to the enactment and maintenance of AOSE policies in Texas.  35 To bolster his research on the school financing debates in Texas, Kincaid quantitatively tested and confirmed the theory that the racial and economic threat posed by Robin Hood increased Republican votes in Texas using data from 1994 – 2012. He found that school dollar recapture due to the Robin Hood policy was a significant predictor of increasing Republican vote totals in a given county, and that increasing proportions of whites in county populations were positively correlated with increasing Republican vote percentages (Kincaid, 2016). These results strongly suggest that school funding redistribution pushed voters, particularly whites, to vote Republican. However, increasing proportions of evangelicals are significantly negatively associated with increasing Republican vote proportions (Kincaid, 2016). This confirms that Christianity alone does not lead to social and fiscal conservatism. On the whole, these quantitative results support the narrative analysis that by stirring up morality politics dominated by racist and classist rhetoric, both racial and economic threat contribute to the election of conservative Republican representatives and the enactment of socially conservative policies, including AOSE policy. Other social science research confirms the importance of racism, state representative partisanship, and political party values in state-level sexuality education policy decisions. Doan and McFarlane analyzed patterns in states’ acceptance or rejection of federal funding for AOSE programs. Applying research on morality politics to sexuality education politics, they hypothesized that state politicians may adhere to their party’s position on abstinence-only sex education, cater to AOSE policy preferences implied by Evangelical Protestants’ “political brand” as a proxy for public opinion, and/or respond to socially constructed racial stereotypes about sexual behavior made salient by a larger minority population (Doan & McFarlane, 2012).  36 An event history analysis found that having a Democratic governor, liberal citizens, a smaller African American population, and a larger state income significantly predicted state rejection of federal abstinence funds, while the percentage of Evangelical Protestant residents, the teen birth rate, and poverty rates were not significant predictors (Doan & McFarlane, 2012). Their results indicated that a governor’s partisanship was the most important predictor and suggested that religion and sexual health indicators do not significantly influence state-level policy decisions (Doan & McFarlane, 2012). This research adds additional support for the theory that racial threat, measured by the size of a state’s African American population relative to its white population, is associated with support for AOSE programs and policy. It also confirms the strong relationship between conservative Republican state representatives and the implementation of AOSE programs and policy. While Kincaid’s and Doan and McFarlane’s research indicates that a state’s levels of evangelical Christian adherence are not directly related to Republican votes or policies, other social science research points to evangelical Christianity as a major indirect influence on sexuality education policy, primarily via religious interest groups, increasing conservativism of Congressional candidates, and Religious Right influence in the state Republican party. Using a theoretical model based on social movement research, Scheitle and Hahn argue that the influence of evangelical Christian adherents on state policy is mediated through interest groups, increasing issue salience, popular opinion, and state government political ideology (Scheitle & Hahn, 2011). Applying their model to policies concerning sexual orientation, they find that state levels of evangelical adherence do not have a significant direct effect on sexual orientation policy, but do have a significant direct effect on Congressional candidate liberalism (inversely),  37 the presence of anti-gay religious interest groups, and Religious Right influence within the state Republican party (Scheitle & Hahn, 2011). These factors in turn shape sexual orientation policy, meaning that the total effect of evangelical adherence is greater than all other variables (Scheitle & Hahn, 2011). These findings are consistent with Kincaid and Doan and McFarlane’s conclusions that Evangelical Christian adherence does not directly influence socially conservative policy. However, they build on those conclusions by indicating that Evangelical Christian adherence affects Congressional candidates’ conservativism, grows Religious Right interest groups, and increases Religious Right influence in the state Republican party, all of which increase the number of socially conservative policies. Synthesizing the above political and social science research on policy levers leads me to conclude that white perceptions of racial threat, economic threat, and state representatives’ conservativism all directly stimulate state-level AOSE policies. Evangelical Christian adherence indirectly stimulates state-level AOSE policies by increasing Congressional candidates’ conservativism, building Religious Right interest groups, and increasing Religious Right influence in the state Republican party. This quantitative analysis aligns with the narrative analyses of U.S. national- and Texas-level sexuality education debates and lawmaking presented in Section II and earlier in this section.   Redistricting, Latinx voters, and the hopeful future of Texas politics Importantly, the above social science research suggests that white voters—as well as Religious Right representatives and interest groups motivated by white racial threat—determine state  38 AOSE policy in Texas. In addition, states that have larger African American populations are more likely to accept federal funding for AOSE policies, which Section II demonstrated are inherently racist. These findings indicate that sexuality education policy decisions in Texas do not reflect racial and ethnic minority voters’ preferences. Discriminatory Congressional redistricting in Texas suppresses the votes of the large racial and ethnic minority population in Texas, impeding political progress towards more accessible, inclusive, and medically accurate sexuality education.  Congressional redistricting suppresses a new political majority’s votes Texas has undergone dramatic demographic changes since 1980, and even since Texas’s early-1990s conservative shift. In 1980, 21.0% of Texas’s population was Latinx, and 65.7% non-Latinx white (Texas Demographic Center, 2000). However, Texas’s population has grown exponentially since that time due to an increasing influx of residents of color, most of whom are Latinx. 49.1% of Texas’s population growth in 1980-1990, and 60% in the following decade, is attributable to the Latinx population (Texas Demographic Center, 2000). 89-95% of population growth from 2000-2020 is attributable to people of color, most of whom are Latinx (Ramsey, 2021). As a result, in 2020, whites and Latinx made up a roughly equal share of the Texas population—39.8% and 39.3%, respectively (Ramsey, 2021).  Texas congressional districts do not reflect the state’s new racial and ethnic makeup. A disproportionate 65% of Congressional districts are majority white and 18.4% are majority Latino (Ramsey, 2021). These districts amplify the voices and representatives of white voters, while silencing those of Latinx voters. As a result, elected officials and their sexuality education  39 policy decisions may not be consistent with Latinx constituent opinions. Qualitative research and polling confirm that this new political majority overwhelmingly supports abstinence-plus sexuality education, not AOSE.  Latinx voters show support for abstinence-plus sexuality education Studies have shown that Latina daughters receive messages that sexual activity outside of marriage is morally wrong that they are expected to remain virgins until marriage (Romo, Bravo, Cruz, Rios, & Kouyoumdjian, 2010). These values are consistent with a sex-negative, abstinence-only approach to sex education. However, a number of studies indicate that Latinx parents may in fact support sexuality education that teaches contraceptive methods in addition to abstinence. A 2010 study of Latina mothers’ values analyzed freeform conversations about dating and sexuality between 59 Latinx mothers and their preteen daughters. Approximately 80% of these mothers were born in Mexico, and 90% were Catholic and attended religious services (Romo et al., 2010). The researchers were surprised to find that despite the cultural value of abstinence and the mothers’ Catholicism, mothers spent much less time talking about abstinence (17% of mothers discussed for an average of 3 seconds) than talking about the need to delay sex (49% of mothers discussed for an average of 18 seconds) (Romo et al., 2010). In other words, “many low-income Latina mothers, regardless of religiosity, accept that their daughters will engage in sexual activity one day and that it may not necessarily occur within the context of a marriage relationship” (Romo et al., 2010). This subtle difference is important because it suggests that Latinx parents may accept a sexuality education approach that stresses  40 the need to delay sex while also teaching teens about contraception, an approach on the spectrum between AOSE and CSE that is often called “abstinence-plus.”  Quantitative research conducted in Texas supports this qualitative finding. A 2011 telephone survey of 1200 randomly sampled parents in Harris County, TX, found that 74% of Latinx parents, 84% of low-income parents, and 84% of parents who completed the survey in Spanish supported teaching sexual health education in school, beginning such education in middle school or earlier, and including medically accurate information on condoms and contraception as well as abstinence (Tortolero et al., 2011). These three groups of parents also were more likely to voice support for this early abstinence-plus sexual health education (APSE) in school, compared to parents of other races, at higher incomes, and who completed the survey in English (Tortolero et al., 2011). This theoretical support for middle school APSE is borne out in practice. In 2009, majority Latino school districts in Texas were more likely to teach APSE curricula (compared to AOSE curricula or no sexuality education) than majority white and majority Black school districts (D. Wiley & Wilson, 2009). The same was true in 2016: while on average 60% of school districts (overall, majority non-white, and majority non-Latinx white) offered AOSE curricula, majority non-white school districts were more likely to offer APSE curricula than majority non-Latinx white districts (23.4% v. 11.4% of school districts offering APSE) (D. Wiley, Miller, Quinn, Valentine, & Miller, 2017). And in Fall 2016, a large San Antonio school district with 64,000 enrolled students, 59.4% of whom identify as Latinx, implemented a new evidence-based APSE curriculum beginning in middle school (D. C. Wiley et al., 2020). Over 98% of parents opted in to  41 enroll their students in this program from Fall 2016 through 2020 (D. C. Wiley et al., 2020), indicating overwhelming acceptability of APSE for this population. Latinx support for APSE is consistent with Latinx support for other left-leaning sexual and reproductive health policies. Latinx voters in Texas and nationally express general majority support for policies enabling access to reproductive health care, including abortion and contraception. Importantly, a 2018 national poll indicated that 76% of Catholic Latina/o voters do not see birth control through a religious lens, and that 62% of Catholic Latina/o voters do not want to see Roe v. Wade overturned (National Latina Institute for Reproductive Health & PerryUndem, 2018). These statistics indicate that, contrary to popular belief, Latinx people do not align with the socially conservative Religious Right political views that currently dominate Texas policymaking.  Hope for a future of abstinence-plus policy in Texas This demographic shift bodes well for the future of sexual and reproductive health policy in Texas. Sociological research on abortion bills proposed in the Texas legislature from 1993-2015 indicates that increasing Latinx constituent representation is significantly associated with decreased support for abortion restrictions among Democrat and Republican legislators, consistent with the “power resources theory” that minority groups are better able to influence legislation as they gain economic and political resources (Jackson & Kenney, 2021). This again confirms that Latinx constituents may hold more progressive views on sexual and reproductive health policy, including sexuality education policy. It also suggests that the growing Latinx majority in Texas may be contributing to the piecemeal progressive shifts we are seeing in  42 sexuality education policy, such as the recent administrative law setting APSE curriculum standards for school districts (discussed in Section IV). The continued growth of the Latinx population, advocacy for a more equitable redistricting process, and concerted efforts to build minority power resources therefore will likely further shift sexuality education policy away from AOSE and in the direction of CSE.  IV. Texas Sexuality Education Law Review The long U.S. and Texas history of Religious Right “morality politics” that deploy overt and covert race, class, and gender stereotypes in response to moralized social threats has created and informs Texas laws governing sexuality education. I will now analyze the restrictive, medically inaccurate, and discriminatory content of these laws within this historical political context and assess how the laws limit and create disparities in students’ access to complete and accurate sexual health information. I begin with a broad overview of other forms of Texas law relevant to sexuality education, before diving into statutory and administrative laws that specifically reference school-based health and sexuality education.  Key areas of Texas law governing sexuality education: The Texas Constitution, public school funding and organization, and the 1995 education reform bill Texas Constitution: Texans’ Rights and the Purpose of Public Education The Texas Constitution does not acknowledge a right to health or to health information. It also does not name an explicit right to education, though it does state the following: “A general  43 diffusion of knowledge being essential to the preservation of the liberties and rights of the people, it shall be the duty of the Legislature of the State to establish and make suitable provision for the support and maintenance of an efficient system of public free schools” (Texas Legislative Council, 2021).   Accordingly, the mission of the public school system in Texas is “to ensure that all Texas children have access to a quality education that enables them to achieve their potential and fully participate now and in the future in the social, economic, and educational opportunities of our state and nation” (TX EDUC § 4.001). This mission is grounded not only in the necessity of general knowledge diffusion to preserving the people’s liberty and rights (as enshrined in the state Constitution), but also “on the conviction that a successful public education system is directly related to a strong, dedicated, and supportive family and that parental involvement in the school is essential for the maximum educational achievement of a child” (ibid.).  Public School Funding and Organization: Property Taxes and Local Control The Texas Supreme Court has noted that the history of Texas public school financing has been one of “rough accommodation of interests in an effort to arrive at practical and workable solutions” (Stork, 2006). Since the antebellum period, the state has legally and constitutionally prioritized of decentralization over centralized accountability, limiting efforts to improve public school data collection and regulations and causing significant public school financing issues (Reuthinger, 2007). When the Texas Constitution was first implemented in 1876, it funded public education by distributing state education funds on a student-by-student basis (Stork, 2006). This was soon  44 amended to 1883 to permit the creation of local school districts, which could assess taxes on local residences (Stork, 2006). This meant that public school education was funded by state education funds supplemented by local property taxes. This is still the case today—though in reality, local property taxes supply the bulk of school funds and are supplemented by state education funds, meaning that the current finance system is grossly underfunded (Stork, 2006). Because school districts’ sizes and total property values vary widely across the state, this financing system creates significant socioeconomic and racial disparities in school funding and therefore education quality (Kincaid, 2016; Stork, 2006). As the Texas Constitution prohibits the state from levying a statewide property ad valorem tax and prioritizes local control over property tax rates, possibilities for reforming the financing system to eliminate disparities are limited (Kincaid, 2016; Stork, 2006).   1995 Education Reform Bill The Texas legislature passed an omnibus education reform bill in 1995 (1995 Tex. Sess. Law Serv. Ch. 260 (S.B. 1)). This bill established that a health curriculum must be taught in all school districts, though it did not specify that schools are required to teach sexuality education as part of that health curriculum (TX EDUC § 28.002). The bill also granted the State Board of Education (SBOE) authority to determine health curriculum content standards and high school graduation requirements (TX EDUC § 7.102). Accordingly, in 1998 the SBOE proposed and adopted the age-appropriate curricula that school districts must include in their health education classes, called the “Texas Essential Knowledge and Skills (TEKS)” for health education (19 TX ADC § 115, see Appendix B for relevant excerpts). The TEKS will be reviewed later in this section.   45 Though the bill did not require schools to teach sexuality education, it included a chapter on Human Sexuality Instruction stipulating that if schools choose to provide sexuality education instruction, such instruction must meet a list of abstinence-only requirements (TX EDUC § 28.004, see Appendix B for relevant excerpts). While the listed requirements do not preempt school districts from teaching abstinence-plus or comprehensive sexuality education components, they do require schools to teach students about abstinence, while leaving contraception and condom instruction optional. The implications of this statute will be discussed later in this section.   Important sexuality education initiatives (statutory and administrative) in Texas Statutory Model Education Programs: Texas begins to address the 1980s HIV/AIDS epidemic but does not adapt over time The model sexuality education program content requirements established in 1989 for the Department of Health to address the HIV/AIDS epidemic advance an anti-gay, abstinence-only platform counterbalanced with medically accurate information on contraception, confirming that Texas had not yet aligned with either side of the sexuality education debate in the late 1980s. However, the Texas legislature’s staunch maintenance of homophobic and AOSE model program content requirements up to the present day indicate the political power of Religious Right moral values in the Texas state government. In 1989, the Texas legislature passed an omnibus bill to address the HIV/AIDS epidemic, including two statutes directing the Texas Department of Health to establish model sexuality  46 education programs for school-age children and for the general public, the latter including materials tailored to minors (TX HEALTH & S § 163.001-2 and 85.007, see Appendix B for relevant excerpts). These legislative actions coincide with the national policy efforts to address the AIDS crisis described in Section II, indicating moderate responsiveness to the epidemic. The school-based sexuality education model program recommendations largely align with Religious Right arguments in favor of AOSE and are implicitly and explicitly anti-feminist and anti-gay. However, including statistics on contraception as well as coaching on sexual abuse and peer pressure are unexpected concessions to APSE. The school-based model program recommendations therefore strike an interesting balance between promoting more comprehensive sexuality education content and advancing AOSE supporters’ ideology, suggesting that the Texas legislature had not yet fully succumbed to Religious Right moral ideology over evidence-based action. The publicly available model program recommendations, however, are abstinence-only from 1989 forward. The 1999 addition of four new abstinence-only scare-tactic content requirements (e.g., to “teach that sexual activity before marriage is likely to have harmful psychological and physical consequences”) to the publicly available model program statute points to an increase in Texas legislative support for Religious Right moral values. Importantly, neither of these statutes direct Texas public schools to teach sexuality education or mandate that all sexuality education programs in the state follow these recommendations. They merely prescribe the content of “model education programs” to be created by the Department of Health, without dictating how the program materials are to be used. However, that state-sponsored model programs would, for over thirty years, maintain  47 such biased, stigmatizing, inaccurate, and unconstitutional (Lawrence v. Texas (2003)) language and reject a barrage of legislative attempts (5 in 2021 alone) to revise it represents a stubborn and unwavering endorsement of Religious Right morality despite contraindicating evidence, consistent with morality politics surrounding sexuality education.   Statutory Adolescent Pregnancy and Parenthood Advisory Council: The Religious Right suppresses an early attempt to address teen pregnancy The legislative history of the Adolescent Pregnancy and Parenthood Advisory Council confirms the conclusion in Section III that Religious Right influence over the Texas legislature markedly increased in 1993, with detrimental impact on efforts to advance CSE.  In 1987, the Texas legislature created the Adolescent Pregnancy and Parenthood Advisory Council, which was intended to advise the legislature and state agencies on school-based sexuality education programs (TX HUM RES § 52.001-2, see Appendix B for relevant excerpts). The Council’s creation coincides with increased national advocacy for school-based sexuality education to address the HIV/AIDS crisis, described in Section II, indicating alignment with mainstream (rather than Religious Right) values. Accordingly, the Council appears to have been active in pushing for more comprehensive school-based sexuality education. Though no paper trail documents the Council’s activities, this is likely the case given the Religious Right’s aggressive attack on the Council in the 1993 legislative session. That year, the Religious Right in Texas introduced four separate bills seeking to abolish the Council and attacking the Council for “teaching 5-year-olds about ‘deviant sexual behaviors,’ masturbation, abortion and  48 homosexuality” (Texas Freedom Network Education Fund, 2009). While all four bills failed, pressure from the Religious Right was such that the Legislature effectively abolished the Council by withdrawing its funding that same year (Texas Freedom Network Education Fund, 2009). The timing in 1993 of this drastically increased advocacy from the Religious Right aligns with the historical analysis of Texas’s conservative shift reviewed in Section III of this thesis. Consistent with Section III, it also is the first indication of the Religious Right’s ever-growing power over the Texas legislature and, consequently, over sexuality education policy.   Statutory Local School Health Advisory Council and Sexuality Education Instruction: The Religious Right advances amidst constant legislative activity A single article in the statute of the 1995 education reform bill contains both the AOSE minimum content requirements for school districts that choose to teach sexuality education and extensive requirements for local School Health Advisory Councils (SHACs) (TX EDUC § 28.004, see Appendix B for relevant excerpts). As they stand today, both components of this statute represent significant ongoing Religious Right influence and threaten public health, health equity, and human rights in Texas, in the face of progressives’ continual legislative attempts to reform the statute.  The statutory AOSE minimum content requirements are a Religious Right “morality policy” that creates wide variation in what (and whether) sexuality education curriculum is offered, with significant public health and human rights implications. While the requirements do not preempt school districts from teaching abstinence-plus or comprehensive sexuality  49 education components, requiring schools to teach students about abstinence—while leaving contraception and condom instruction optional—sends a clear message about what the state considered essential to sexuality education: abstinence only. Furthermore, the emphasis on abstinence to prevent “emotional trauma associated with adolescent sexual activity”—and the omission of any standards for medical accuracy—indicates the prioritization of Religious Right ideology over providing accurate health information to achieve a health outcome, consistent with the definition of “morality policy” described in Section II of this thesis. Finally, establishing a “floor” of abstinence-only content, rather than a “ceiling” of comprehensive sexuality education content, and making sexuality education an optional component of health education leaves room for wide variation in the sexuality education curricula adopted by school districts—if sexuality education is taught at all. Indeed, as described in Section I, data collected on Texas school districts’ sexuality education curricula confirms wide variation across school districts, with a majority teaching no sexuality education. Withholding equal, universal access to full and accurate sexual health information—an action correlated with worse health outcomes and increased health inequities—not only violates human rights, as described in Section I, but arguably inhibits Texans’ ability to “achieve their potential” and “fully participate” in state and national opportunities, contradicting the statutory mission of public schools in Texas (TX EDUC § 4.001).  2021 amendments to the portion of the statute governing local SHACs largely exploit the SHAC’s intended purpose of integrating community voice in sexuality education curriculum decisions, making these decisions more vulnerable to “morality politics” and Religious Right influence and adding institutional barriers to sexuality education access. On the plus side, the  50 amendments make SHAC operations and private meeting discussions more transparent to the public, which could increase public trust in the SHAC’s decisions. They also require an expert review of all recommended sexuality education curriculum materials, which may improve the materials’ accuracy and therefore students’ access to accurate sexual health information. On the negative side, the amendments require the SHAC to hold at least two public meetings on any proposed sexuality education curriculum materials. While building on the SHAC’s intended purpose of incorporating community values, this presents an added time-consuming barrier for SHACs attempting to implement any curriculum changes. It may also stir up local “morality politics” (as described in previous sections and exemplified in Section V) and cause the SHAC to prioritize meeting the needs of a vocal minority rather than the needs of the community more broadly, inhibiting progress towards a more medically accurate and inclusive sexuality education curriculum. In addition, the new requirement that parents actively opt-in their children for sexuality education creates another unnecessary institutional barrier, as an opt-in policy burdens school administrators and teachers with creating and sending forms, logging responses, and shifting student schedules. It also increases the likelihood that non-responders will be denied access to sexuality education—not because they object to sexuality education but because they simply lost the form or forgot to sign it.  This statute—both the AOSE curriculum requirements and the 2021 SHAC amendments—exemplifies the power the Religious Right holds over the Texas legislature. Since the education reform bill was signed into law in 1995, almost every Texas legislative session has seen proposed legislation to modify this statute to require CSE, medical accuracy, or sexuality education generally, but none have succeeded—neither in making some form of sexuality  51 education mandatory, nor in changing the abstinence-only language dictating the content of human sexuality, STI, or HIV/AIDS instruction in schools. By contrast, a trio of conservative parents, incensed by a San Antonio school district’s efforts to change their sexuality education curriculum from AOSE to APSE, successfully enacted statutory changes to SHAC requirements with backing from Religious Right interest groups within about four years. (These parents and San Antonio school district’s experience will be discussed further in Section V.) The Religious Right-motivated SHAC statutory changes were the only statutory amendments enacted in the 2021. Clearly, the Religious Right holds sway over Texas legislature and can enact statutory changes where more moderate or left-leaning policy advocates cannot.    Statutory High School Graduation Requirements: The exclusion of health education In 2009, the Texas Legislature removed health education from the high school graduation requirements outlined in TX EDUC § 28.025 (D. Wiley et al., 2017). This reduces the likelihood that school districts will choose to teach health education, the likelihood that school districts will choose to teach any form of sexuality education, and the likelihood that students will choose to take either health education or sexuality education even if they are offered. This action is also likely to exacerbate socioeconomic and racial disparities in health, as poorer school districts are more likely to eliminate non-required health courses when resources are scarce.    52 Administrative Sexuality Education Standards: From abstinence-only to abstinence-plus For over two decades, the SBOE’s curriculum standards for sexuality education parroted the AOSE morality policy enacted by the 1995 education reform bill, but upcoming changes reflect a more medically accurate, abstinence-plus approach and an unprecedented incursion of left-leaning advocates on the Religious Right. In accordance with the 1995 education reform act, in 1998 the SBOE proposed and adopted the age-appropriate curricula standards for school districts’ health education classes, called the “Texas Essential Knowledge and Skills (TEKS)” for health education (19 TX ADC § 115, see Appendix B for relevant excerpts). The sexuality education TEKS for students in Grades 7-8, Grades 9-10, and Grades 11-12 use the same abstinence-only language, verbatim, as the education reform statute TX EDUC § 28.004 on sexuality education. This suggests that these standards are not evidence-based or intended to achieve a desired public health outcome. Rather, they are rooted in the morality politics that guided the state legislature’s development of the 1995 AOSE morality policy and are therefore intended to reinforce the Religious Right moral value of abstinence.  Nevertheless, additional sexuality education TEKS for students in Grades 9-10 identify information about contraception and barrier protection as “essential knowledge and skills.” This contrasts with the sexuality education statute TX EDUC § 28.004, which makes information about contraception and barrier protection an optional component of the already optional sexuality education. However, the TEKS couch contraception and barrier protection information in language that emphasizes the superiority of abstinence: contraception and barrier protection are both “effective” and “ineffective,” while abstinence is just “effective.” Furthermore, the  53 amount of space given to contraception and barrier methods compared to abstinence—and, indeed, compared to all other topics in health education for Grades 9-10—indicates its low priority to the SBOE. Contraception and barrier methods receive half a line item, compared to four and a half line items referencing abstinence in a half-credit course covering sixteen other categories of health education content. This indicates that the TEKS for Grades 9-10 take a conservative abstinence-plus approach to sexuality education. Importantly, no other grade level TEKS makes any reference to contraception or barrier protection, but all contain at least one mention of abstinence, meaning that the sexuality education curriculum standards for Grade 6, Grades 7-8, and Grades 11-12 are all abstinence-only. The 1998 TEKS therefore take an overwhelmingly abstinence-only approach to sexuality education, while making a small concession to abstinence-plus sexuality education.   These predominately AOSE curriculum standards, consistent with statutory morality policy on sexuality education, have guided Texas school districts since 1998 and still guide them as of April 2022. However, new TEKS for sexuality education curriculum—which change the curriculum standards for sexuality education from abstinence-only to abstinence-plus—were approved in August 2020 and will go into effect in August 2022 (Texas Education Agency, 2022).  While the TEKS for Grade 6 are abstinence-only, the TEKS for Grades 7-8 and Grades 9-12 now take an abstinence-plus approach (see Appendix B for relevant excerpts). These new APSE curriculum standards expect students to learn comprehensive information about STI transmission, symptoms, health impact, prevalence, screening, testing, and treatment; the effectiveness of vaccines for preventing HPV; and the effectiveness and the risks and failure rates of barrier protection. At the same time, they expect students to understand the  54 importance of abstinence as the preferred choice of behavior for unmarried school-age people, the benefits of abstinence for emotional health and prevention of pregnancy and STIs, the “emotional risks” associated with sexual activity, and the importance of seeking parent and peer support for abstinence. These APSE standards represent significant progress toward providing Texas adolescents with medically accurate sexual health information, particularly about STIs. However, they retain pejorative language towards those who do choose to become sexually active, lack language about consent, and exclude information about gender identity and sexual orientation. They therefore are unlikely to address persistent LGBTQ health disparities. Furthermore, while the new TEKS may improve STI and HIV rates in Texas, this outcome is uncertain and unlikely to reduce racial health disparities, given that these administrative standards exist in the context of state statutory law that makes sexuality education optional and presents AOSE—not APSE—as the minimum content standard for school districts that choose to teach sexuality education. The introduction to the sexuality TEKS for each grade level emphasizes this very fact at length (see Appendix B). Nevertheless, the new TEKS represent a hard-won improvement against all odds, a testament to progressive grassroots mobilization and advocacy. The Texas Freedom Network, a grassroots nonprofit organization that exists to combat the Religious Right and fight for CSE and associated values, engaged in progressive activism in the years leading up to the TEKS update, mobilizing youth to testify to the SBOE and conducting a “Teach the Truth” advocacy campaign in partnership with SIECUS (Jacob, 2020; Yeager, 2020). The APSE standards consequently represent a kind of middle ground between the Religious Right AOSE values dominating the  55 legislature and the LGBTQ-inclusive CSE values for which the Texas Freedom Network strongly advocated. They also more closely reflect the values of Latinx voters in the state as discussed in Section III, indicating the possible contribution of this growing majority to the TEKS updates.   Summary and health policy implications Taken together, current Texas statutory and administrative laws related to sexuality education severely limit equal access to full and complete sexual health information, openly discriminate against or exclude LGBTQ youth, and can be expected to result in poor sexual health outcomes with significant health disparities by race, gender, sexual orientation, and socioeconomic status. The Texas Legislature has done little to address these public health concerns, but not without ample opportunity. The Texas legislature voted down countless proposed amendments to these statutes—including seven proposed bills in the 2021 legislative session alone—that would have remediated some of these issues. None of the statutory language dictating abstinence-only sexuality education program content has changed since 1995. The only statutory amendments since that year have added more harmful abstinence-only language, made it more difficult for school districts to exert their local control via SHACs to institute new APSE or CSE curricula, and reduced the likelihood that students will enroll in sexuality education programs by having parents opt in rather than opt out their students.   As revealed by the analyses in Sections II and III, this reality can be attributed to the increasingly strong hold of oppressive Religious Right values, representatives, and interest groups over the Texas legislature and policy decisions, perpetuated by white racial threat,  56 economic threat, and resulting morality politics. Fortunately, Religious Right rule is not absolute: progressives have successfully mobilized and advocated change in the form of the upcoming administrative law revisions to the TEKS for Health Education. However, it is uncertain how effective the new TEKS administrative law will be given the current statutory regime and political environment. While the new administrative laws establish APSE curriculum standards, existing statutory laws establish AOSE curriculum standards. This may cause confusion, leading some school districts to operate based on the TEKS curriculum standards, and others based on the statutes. Still others may implement the statutory model programs that include inaccurate and unconstitutional information about “homosexual conduct.” These legal inconsistencies may limit the TEKS updates’ impact on schools delivering AOSE and must be addressed—but the Texas legislature’s refusal to enact statutory amendments impedes a resolution.  Further frustrating the TEKS updates’ impact, even if the new TEKS motivate school districts to revise their sexuality education programs to APSE, the SHAC statute amendments that increase transparency and require public meetings may serve only to fuel morality politics and give the vocal Religious Right minority a platform, stymieing community and state policy progress. An example of this unexpected interplay will be discussed in Section V.  A final concern relates to data tracking. Because sexuality education is optional for school districts and students, the state has no need to track school districts’ sexuality education curricula or student enrollment for law enforcement purposes. This means that the state does not know for certain which schools are delivering sexuality education, what information they are delivering, how that information is delivered, or who receives it. It is therefore impossible  57 for the state (and very difficult for outside researchers) to know the impact of Texas sexuality education laws, including the effectiveness of the new TEKS updates. An amendment addressing this could be a potential priority for reform, as data collection does not overtly side with either progressive or Religious Right values.   V. Case Study: San Antonio North East Independent School District As described in Section IV, Texas state-level statutory and administrative laws do not create the legal conditions for all Texans to have full and equal access to complete, medically accurate sexual health information. However, they do allow for some Texans to access medically accurate sexuality education—those who live in well-funded school districts with motivated leaders and receptive community members. To clarify how key political actors, morality politics, and these Texas state-level laws operate together in practice to shape sexuality education, I now turn to a case study of San Antonio North East Independent School District’s experience with changing its sexuality education curriculum. While this case study shows how Texas state-level policies can work in a community’s favor, it also highlights the unintended consequences of progressive change and their potential negative impact on state-level policy. The school district’s slow, careful steps to implement an APSE curriculum within the confines of existing laws unexpectedly stirred up morality politics that amplified the voices of a few Religious Right naysayers over the quietly receptive majority, ultimately shifting state sexuality education policy further to the right.  58 San Antonio’s North East Independent School District (NEISD) decided to work towards revising its sexuality education curriculum in 2011. The NEISD had delivered AOSE to its 64,000 students until 2008, when the district switched to an APSE curriculum that was not evidence-based (D. C. Wiley et al., 2020). Upon attending an adolescent health conference in 2011, however, the NEISD\\'s SHAC decided to formally revise the district’s sexuality education curriculum (D. C. Wiley et al., 2020). This particular SHAC was unusually active, meeting more frequently than required by state law; large, with 50 members; and representative of the community, with members across multiple demographic, political, and social groups (D. C. Wiley et al., 2020). In this way, the SHAC “functioned as a true ‘voice’ of the community” (D. C. Wiley et al., 2020). In 2013, the SHAC formed a committee to choose a new sexuality education curriculum. This committee engaged staff from a youth-centered health initiative funded by the City, who in turn sought professional advice from staff at the University of Texas Health Science Center in San Antonio (D. C. Wiley et al., 2020). Based on their advice, the committee selected a curriculum using a program evaluation tool that directed the committee in conducting community and partner needs assessments, identifying and evaluating four evidence-based curriculum options, and finally selecting a curriculum to recommend (D. C. Wiley et al., 2020). The committee then conducted “Parent Previews” of the recommended curriculum to solicit feedback online and in-person on school campuses (D. C. Wiley et al., 2020). Though in-person attendance was low (2% of eligible parents in 2014-2015), the website recorded more than 2800 clicks in 2015 (D. C. Wiley et al., 2020). In Spring 2016, the full SHAC voted to accept the committee’s curriculum recommendation and presented the recommendation to the school  59 board, which in turn voted unanimously to adopt the recommended curriculum beginning in Fall 2016. The adopted curriculum was an evidence-based abstinence-plus curriculum that encouraged abstinence while providing adolescents with information about STIs, HIV, condoms, and setting boundaries.  The NEISD’s curriculum adoption was “a thorough process and a well-thought-out decision, guided by science[,] implemented by trusted adults in the community,” and consistent with state law—though state law does not require SHAC or school board members to be trained in evidence-based practices or program evaluation (D. C. Wiley et al., 2020). Fully 98% of parents have given written consent to enroll their students in this sexuality education program since the program rollout in 2016, indicating widespread community support (D. C. Wiley et al., 2020). Unfortunately, when NEISD announced their decision to adopt the new curriculum, three parents—two of whom were members of anti-abortion groups in the San Antonio area—vehemently protested the decision and attempted to rile up community outrage (D. C. Wiley et al., 2020). Their strategies included: making false and misleading claims about the curriculum in public statements to news and media outlets, hosting “NEISD Sex Ed Parent Education Seminars” that purported to be school events and provided inaccurate information about the curriculum (e.g., “promoting anal and oral sex”), sending robocalls to parents in the school district, posting false information on social media, bombarding the NEISD with time-consuming requests for records, and filing formal appeals with the Texas Education Agency (D. C. Wiley et al., 2020). As high parent opt-in rates for the curriculum suggest, these efforts all failed to incite community opposition or state intervention.   60 However, all three parents went on to participate in the 2019 legislative attempt by Texas Family (a department of the anti-abortion group San Antonio Family Association) to amend state law regulating SHAC activities and members. Their proposed Senate Bill 784 (86th Legislative Session, 2019) sought to make all sexuality education curricula and SHAC meeting minutes publicly available and require school districts to send written notice to all parents if human sexuality instruction will be provided, including instructions for how to submit grievances. It also sought to require the SHAC to hold at least two public meetings and seek public comment regarding proposed sexuality education curriculum changes and make the final vote public. All of these changes would create institutional barriers for SHACs to alter sexuality education curricula and increase opportunities for vocal minority parents such as themselves to impede adoption of evidence-based curricula. The parents’ oral testimony in support of this bill drew upon the opponents’ experiences with the NEISD sexuality education curriculum (D. C. Wiley et al., 2020). Though this bill ultimately failed to become law in the 2019 legislative session, it did pass out of committee (D. C. Wiley et al., 2020). Furthermore, most of the amendments proposed by this bill were signed into law in the very next legislative session via House Bill 1525 (87th Legislative Session, 2021), with detrimental implications for students’ health and access to sexuality education (as discussed in Section IV). These three parents’ success in motivating concrete changes to state-level law impacting sexuality education is a clear example of the political power of just a few conservative voices in this debate. The NEISD SHAC had in many ways showcased the success of existing state statutes. The SHAC undertook a thorough evaluation with expert advice to select their sexuality education curriculum and successfully tailored health curricula to the needs of  61 the local community, as is their mandate—the vast majority of NEISD parents accepted the new abstinence-plus sexuality education curriculum. However, Texas state legislators only heard the complaints of the few parents who did not accept the new curriculum and, as a result, changed these same state policies that had in fact worked to the community’s benefit.  This supports theories of “morality politics” influencing U.S. and Texas state-level sexuality education policy, as described in previous sections. In this case, legislators indeed made policy decisions based on the salience and emotion of morality politics (such as those surrounding sexuality education debates) rather than on evidence of effectiveness or public opinion polls, resulting in policy decisions that skewed towards a vocal conservative minority (Irvine, 2006). This case study also highlights the power and influence that Religious Right interest groups hold over the Texas legislature and legislative decisions. After all, a minor city-level Religious Right interest group brought these parents’ complaints to state legislators’ attention to successfully change policy. Large, well-funded state-level Religious Right interest groups can only hold even more sway over state legislators. (See Appendix A for an overview of prominent Religious Right interest groups in Texas.)   VI. Conclusion Texas is in a deep hole of miserable sexual and reproductive health outcomes and stark health inequities. One way forward is to improve sexuality education and the policies that govern it. But to fully understand how exactly to do this requires attending not just to laws and legislative  62 practices, but to the power, voices, institutional actors, and political contexts that make and sustain state-level sexuality education legal frames. This thesis used methods and research drawn from political science and sociology, as well as historical and cultural analysis, to make visible to public health audiences the forces that construct the policy contexts in which they work. And unfortunately, good public health evidence alone does not change law and policy.  Sexuality education is an issue of race, class, gender, and sexuality. That is, sexuality education politics are embedded in other power struggles: to maintain white supremacy, patriarchy, heteronormativity, and economic dominance. This means that sexuality education is inextricably intertwined with other sexual and reproductive health issues and issues of social conservatism that are mired in these same power struggles. As such, Religious Right representatives and interest groups that focus on issues seemingly unrelated to sexuality education—abortion rights, welfare reform, and public-school financing, to name a few—will support AOSE, get involved in AOSE debates, and enact and maintain AOSE policy. Texas has a fundamentally antidemocratic political and legal system that has allowed a few right-wing voices—which are not representative of the Texas population—to acquire and retain enormous political power in Texas. This has negatively impacted sexuality education policy, sexual and reproductive health rights, and sexual and reproductive health outcomes.  Many recent developments in Religious Right sexuality education policy and in Religious Right conservative policy more generally do not bode well for the future of sexuality education policy and sexual and reproductive rights in Texas. In the last year, Texas state-level Republicans have proposed and passed SB 8, which effectively bans abortion by making it illegal to get an abortion after six weeks of pregnancy and deputizes citizens to report those who  63 receive, aid, or abet an abortion (Ishak, 2022). A governor’s order has criminalized parents who allow their transgender children to receive gender-affirming treatment, calling it “child abuse” (Ishak, 2022). And, compounding the effects of redistricting, Texas Republicans have enacted voter restrictions that make voting more difficult, with disproportionate impact on voters of color (Ura, 2021). Given the interplay of “morality politics” and state policy in Texas, this legislation is likely to have ramifications for sexuality education policy, impeding progressive change and further restricting Texans’ access to medically accurate sexuality education. At the same time, the recent positive changes to administrative sexuality education curriculum standards, as well as social science research on what influences sexual and reproductive health policy, gives some hope for the future. Research suggests that the presence of a growing Latinx majority in Texas may be contributing to the progressive shifts we are seeing in sexuality education policy (Jackson & Kenney, 2021). The continued growth of the Latinx population, combined with concerted efforts to fight voter suppression and build minority power resources, will likely further shift sexuality education policy away from AOSE. Furthermore, grassroots mobilization and youth-led advocacy from the left-leaning Texas Freedom Network and SIECUS proved successful in motivating the positive TEKS changes. Continuing to mobilize and advocate in the wake of this success could further shift policy. These progressive organizations could take a leaf out of the Religious Right interest groups’ books and mobilize people to run for office at the local level and/or unite with other interest groups across social issues to build power.  However, none of these actions are certain to yield progressive reform. The complex interplay of political forces, coupled with unequal and discriminatory redistricting processes,  64 manifests some unexpected countervailing forces that complicate the path forward. This thesis has shown again and again that progressive change—or even just heightened public awareness of minoritized groups—can have the unintended consequences of fueling morality politics and shifting political discourse and policy to the right. Voter suppression exacerbates this political process, silencing the public majority that supports more moderate or left-leaning policies. The paths to progressive reform are complicated and messy, as are the legal frames and the political contexts in which we live. Progressive activists must tread carefully and consider these complexities. But progressive action to change the law is imperative—to improve public health, health equity, and human rights.     65 Appendix A: Texas Religious Right Advocacy Groups and Funding The research presented in this thesis elucidates how members of Religious Right interest groups—bolstered by national, state, and local moral narratives—can significantly influence state representatives and state-level sexuality education policies. In Texas, Religious Right organizations have funneled millions of dollars into conservative candidates’ political campaigns and conservative policy advocacy since the late 1980s. This Appendix presents a brief overview of some of the most prominent and well-funded Religious Right interest groups active in Texas today. Data is drawn from the Religious Right Watch, an online source on Religious Right policy influences, organizations, and funding sources maintained by the Texas Freedom Network, a left-leaning, nonpartisan, grassroots nonprofit organization (Texas Freedom Network, 2022).  Organization Name Description 2011 Tax Records Liberty Institute Nonprofit umbrella organization for Texas Values, which focuses on public policy issues in Texas. The nonprofit lobbies at the Texas Legislature and the SBOE, provides legal representation to defend Religious Right values, and does political organizing work focused on mobilizing conservative Christian pastors to advance its political agenda. Revenue: $725,516 Assets: $2.3 million Life Dynamics Nonprofit organization opposing the right to abortion in all circumstances. Life Dynamics has threatened legal action against school districts whose students seek family planning services. Revenue: $537,106  Assets: $946,079 Texas Public Policy Foundation Nonprofit conservative think tank that has historically focused on censoring textbooks, promoting local control over education and curriculum, advocating for private school voucher policies and tort reform, and opposing CHIP. Revenue: $5.76 million Assets: $4.24 million  66 Texas Right to Life Committee and Education Fund One of the best funded and oldest anti-abortion nonprofit organizations in Texas Revenue: $1.9 million Assets: $443,036 WallBuilders Nonprofit organization advancing a Republican agenda promoting the United States as a “Christian nation” and laws that reflect conservative Christian biblical teachings. Revenue: $4.42 million Assets: $1.67 million  Appendix B: State Statutory and Administrative Law Governing Sexuality Education in Texas This Appendix presents relevant excerpts from all Texas statutes and administrative rules referenced in this thesis. It also includes any amendments to these laws proposed in the 2021 legislative session and their status as of March 2022. A preliminary list of proposed bills was acquired from SIECUS (SIECUS, 2021b) and updated using Westlaw Edge.   TX EDUC § 28.025 Grants the State Board of Education authority to determine high school graduation requirements “consistent with required curriculum under Section 28.002” (TX EDUC § 28.025).  2021 Proposed Amendments to TX EDUC § 28.025 House Bill 3058 (failed): Sought to reverse the 2009 legislative change to high school graduation requirements and to make one credit of health education a minimum graduation requirement.   67  TX EDUC § 28.004 This hefty statute enacted as part of the 1995 Texas education reform bill covers the content of optional school-based sexuality education instruction as well as laws pertaining to the establishment, membership, and actions of the local school health advisory council (SHAC).  Sexuality Education Content This statute states that “any course materials and instruction relating to human sexuality,” STIs, or HIV/AIDS in public schools must: (1) present abstinence from sexual activity as the preferred choice of behavior in relationship to all sexual activity for unmarried persons of school age; (2) devote more attention to abstinence from sexual activity than to any other behavior; (3) emphasize that abstinence from sexual activity, if used consistently and correctly, is the only method that is 100 percent effective in preventing pregnancy, sexually transmitted diseases, infection with human immunodeficiency virus or acquired immune deficiency syndrome, and the emotional trauma associated with adolescent sexual activity; (4) direct adolescents to a standard of behavior in which abstinence from sexual activity before marriage is the most effective way to prevent pregnancy, sexually transmitted diseases, and infection with human immunodeficiency virus or acquired immune deficiency syndrome; and  68 (5) teach contraception and condom use in terms of human use reality rates instead of theoretical laboratory rates, if instruction on contraception and condoms is included in curriculum content (TX EDUC § 28.004). The statute further prohibits school districts from distributing condoms in connection with sexuality education and allows schools to separate students by sex for sexuality education. This text has not been altered since it was enacted in 1995 via the Texas education reform bill and remains active law today.  Local School Health Advisory Council The statute’s content regarding local school health advisory councils (SHACs) and how school districts may determine and disseminate their sexuality education curricula has undergone extensive revisions since 1995, growing from two to eight pages via biannual amendments beginning in 2001. The 2020 version of this statute states that each school district’s board of trustees must establish a local SHAC to convene at least four times per year “to assist the district in ensuring that local community values are reflected in the district’s health education instruction” (TX EDUC § 28.004). The SHAC is to consist of mostly parents of students in the school district, though the board of trustees must appoint at least five of the SHAC members. One of the SHAC’s duties is to recommend “appropriate grade levels and methods of instruction for human sexuality instruction” and advise the board of trustees on selection of sexuality education course materials, though all materials and instruction must be consistent with the established content requirements (TX EDUC § 28.004). All sexuality education curriculum materials must be made publicly available. Before the start of each school year,  69 school districts must write to all parents to inform them whether or not the district will be providing sexuality education, and to inform parents that they have the right to remove their student from any part of the course (TX EDUC § 28.004).  2021 Proposed Amendments to TX EDUC § 28.004 House Bill 1525 (enacted): All SHAC meetings must take meeting minutes and be recorded. Notes and recording must be made public within 10 days of the meeting.  Furthermore, the board of trustees must establish a process for the adoption of sexuality education curriculum materials. This policy must require the SHAC to “hold at least two public meetings on the curriculum materials before adopting recommendations” and then provide these recommendations to the board at a public meeting. The board must ensure that the curriculum materials are subject- and grade-appropriate and are “reviewed by academic experts in the subject and grade level for which the curriculum materials are intended,” and then vote to adopt the curriculum recommendations at a public meeting. Finally, school districts that choose to provide sexuality education must provide detailed information to parents about the curriculum content, must inform parents about how to submit grievances or get involved in curriculum development, and must obtain written consent from a parent for each student to receive human sexuality instruction, also known as an “opt-in” clause. The opt-in clause must be renewed in the next legislative session or it will expire on August 1, 2024. Senate Bill 9 (enacted): Requires school districts to provide instruction on child abuse, family violence, dating violence, and sex trafficking.  70 House Bill 3872 (failed): Sought to define additional requirements of each local SHAC’s activities, many of which were ultimately included in House Bill 1525. This bill also would have directed the Commissioner to adopt rules requiring school districts to use a process for adopting sexuality education curriculum materials. Senate Bill 442 (failed): Sought to define additional requirements of each local SHAC’s activities, many of which were ultimately included in House Bill 1525. This bill also would have directed the Commissioner to adopt rules requiring school districts to use a process for adopting sexuality education curriculum materials. House Bill 2679 (failed): Sought to require school districts to teach medically accurate, age-appropriate sexuality education curricula that provides information about sexually transmitted infections and pregnancy, discusses “human sexuality as a normal and healthy aspect of human development,” provides complete information about contraceptive and barrier methods approved by the FDA, promotes relationship and communication skills, discusses consent and personal boundaries, includes “affirming information about gender identity and sexual orientation,” and emphasizes the importance of abstinence. The bill also would have required school districts to adopt policies regarding the distribution of condoms and menstrual products. House Bill 4088 (failed): Sought to require school districts to teach medically accurate, age-appropriate sexuality education curricula that provides information about sexually transmitted infections and pregnancy, discusses “human sexuality as a normal and healthy aspect of human development,” provides complete information about contraceptive and barrier methods approved by the FDA, and promote relationship and communication skills. The bill also would  71 have required school districts to adopt policies regarding the distribution of condoms. This bill did not include the word “abstinence.”   TX HEALTH & S § 85.007 The Human Immunodeficiency Virus Services Act (1989 Tex. Sess. Law Serv. 1195) directed the Department of Health to “develop model education programs to be available to educate the public about AIDS and HIV infection” (1989 Tex. Sess. Law Serv. 1195). Consistent with article 4419b-5, it stipulated that program materials intended for minors must: emphasize sexual abstinence before marriage and fidelity in marriage as the expected standard in terms of public health and the most effective ways to prevent HIV infection, sexually transmitted diseases, and unwanted pregnancies and shall state that homosexual conduct is not an acceptable lifestyle and is a criminal offense under Section 21.06 of the Penal Code (1989 Tex. Sess. Law Serv. 1195).  Though the Act was repealed in 1991, this Article was replaced in the same year by TX HEALTH & S § 85.007, which contained the same text with minor grammatical changes. This text has not been altered since and remains active law today, with four additional abstinence-only scare-tactic content requirements (e.g., to “teach that sexual activity before marriage is likely to have harmful psychological and physical consequences”) added in 1999 (1999 Tex. Sess. Law Serv. Ch. 1411 (H.B. 2085)).   72 2021 Proposed Amendments to TX HEALTH & S § 85.007 Senate Bill 129 (failed): Sought to repeal TX PENAL § 21.06 and remove the requirements in TX HEALTH & S § 85.007 and TX HEALTH & S § 163.002 that sexuality education materials emphasize that homosexual conduct is not an acceptable lifestyle and a criminal offense. Also sought to replace gender specific language relating to the rights and duties of spouses in the Family Code. House Bill 1037 (failed): Sought to repeal TX PENAL § 21.06 and remove the requirements in TX HEALTH & S § 85.007 and TX HEALTH & S § 163.002 that sexuality education materials emphasize that homosexual conduct is not an acceptable lifestyle and a criminal offense. Also sought to replace gender specific language relating to the rights and duties of spouses in the Family Code. House Bill 1038 (failed): Sought to repeal TX PENAL § 21.06 and remove the requirements in TX HEALTH & S § 85.007 and TX HEALTH & S § 163.002 that sexuality education materials emphasize that homosexual conduct is not an acceptable lifestyle and a criminal offense. Senate Bill 261 (failed): Sought to repeal TX PENAL § 21.06 and remove the requirements in TX HEALTH & S § 85.007 and TX HEALTH & S § 163.002 that sexuality education materials emphasize that homosexual conduct is not an acceptable lifestyle and a criminal offense. House Bill 4425 (failed): Sought to remove the requirements in TX HEALTH & S § 85.007 and TX HEALTH & S § 163.002 that sexuality education materials emphasize that homosexual conduct is not an acceptable lifestyle and a criminal offense.    73 TX HEALTH & S § 163.001-2 Article 4419b-5 of the Human Immunodeficiency Virus Services Act (1989 Tex. Sess. Law Serv. 1195) directed the Texas Department of Health to “develop a model public health education program suitable for school-age children,” to be made available to the public and government agencies upon request. It recommends emphasizing that “abstinence from sexual intercourse outside of lawful marriage is the expected societal standard for school-age unmarried persons.” It also recommends that the “public health education program” include: (1) an emphasis on sexual abstinence as the only completely reliable method of avoiding unwanted teenage pregnancy and sexually transmitted diseases; (2) an emphasis on the importance of self-control, responsibility, and ethical conduct in making decisions pertaining to sexual behavior; (3) statistics based on the latest medical information that indicate the efficacy of the various forms of contraception; (4) information concerning the laws relating to the financial responsibilities associated with pregnancy, childbirth, and child rearing; (5) information concerning the laws prohibiting sexual abuse and the legal and counseling options available to victims of sexual abuse; (6) information on how to cope with and rebuff unwanted physical and verbal sexual advances, as well as the importance of avoiding the sexual exploitation of other persons; (7) psychologically sound methods of resisting unwanted peer pressure; and  74 (8) emphasis in a factual manner and from a public health perspective that homosexuality is not a lifestyle acceptable to the general public and that homosexual conduct is a criminal offense under Section 21.06 of the Penal Code (TX CIV ST Art. 4419b-5). Though the Act was repealed in 1991, this Article was replaced in the same year by TX HEALTH & S § 163.001-2, which contains the above text verbatim. This statute has not been altered since and remains active law today.  2021 Proposed Amendments to TX HEALTH & S § 163.001-2 Senate Bill 129 (failed): Sought to repeal TX PENAL § 21.06 and remove the requirements in TX HEALTH & S § 85.007 and TX HEALTH & S § 163.002 that sexuality education materials emphasize that homosexual conduct is not an acceptable lifestyle and a criminal offense. Also sought to replace gender specific language relating to the rights and duties of spouses in the Family Code. House Bill 1037 (failed): Sought to repeal TX PENAL § 21.06 and remove the requirements in TX HEALTH & S § 85.007 and TX HEALTH & S § 163.002 that sexuality education materials emphasize that homosexual conduct is not an acceptable lifestyle and a criminal offense. Also sought to replace gender specific language relating to the rights and duties of spouses in the Family Code. House Bill 1038 (failed): Sought to repeal TX PENAL § 21.06 and remove the requirements in TX HEALTH & S § 85.007 and TX HEALTH & S § 163.002 that sexuality education materials emphasize that homosexual conduct is not an acceptable lifestyle and a criminal offense.  75 Senate Bill 261 (failed): Sought to repeal TX PENAL § 21.06 and remove the requirements in TX HEALTH & S § 85.007 and TX HEALTH & S § 163.002 that sexuality education materials emphasize that homosexual conduct is not an acceptable lifestyle and a criminal offense. House Bill 4425 (failed): Sought to remove the requirements in TX HEALTH & S § 85.007 and TX HEALTH & S § 163.002 that sexuality education materials emphasize that homosexual conduct is not an acceptable lifestyle and a criminal offense.   TX PENAL § 21.06 First enacted in 1973, this law states that “A person commits an offense if he engages in deviate sexual intercourse with another individual of the same sex. An offense under this section is a Class C misdemeanor” (TX PENAL § 21.06). This statute was declared unconstitutional by Lawrence v. Texas (2003).  2021 Proposed Amendments to TX PENAL § 21.06 Senate Bill 129 (failed): Sought to repeal TX PENAL § 21.06 and remove the requirements in TX HEALTH & S § 85.007 and TX HEALTH & S § 163.002 that sexuality education materials emphasize that homosexual conduct is not an acceptable lifestyle and a criminal offense. Also sought to replace gender specific language relating to the rights and duties of spouses in the Family Code.  76 House Bill 1037 (failed): Sought to repeal TX PENAL § 21.06 and remove the requirements in TX HEALTH & S § 85.007 and TX HEALTH & S § 163.002 that sexuality education materials emphasize that homosexual conduct is not an acceptable lifestyle and a criminal offense. Also sought to replace gender specific language relating to the rights and duties of spouses in the Family Code. House Bill 1038 (failed): Sought to repeal TX PENAL § 21.06 and remove the requirements in TX HEALTH & S § 85.007 and TX HEALTH & S § 163.002 that sexuality education materials emphasize that homosexual conduct is not an acceptable lifestyle and a criminal offense. Senate Bill 261 (failed): Sought to repeal TX PENAL § 21.06 and remove the requirements in TX HEALTH & S § 85.007 and TX HEALTH & S § 163.002 that sexuality education materials emphasize that homosexual conduct is not an acceptable lifestyle and a criminal offense. House Bill 4425 (failed): Sought to remove the requirements in TX HEALTH & S § 85.007 and TX HEALTH & S § 163.002 that sexuality education materials emphasize that homosexual conduct is not an acceptable lifestyle and a criminal offense.   19 TX ADC § 115 Sexuality Education Curriculum Standards: 1998 – July 2022 In accordance with the 1995 education reform act, in 1998 the SBOE proposed and adopted the age-appropriate curricula standards for school districts’ health education classes, called the “Texas Essential Knowledge and Skills (TEKS)” for health education. The TEKS for health education provide standards for sexual abuse prevention, intervention, and awareness  77 beginning in Grade 4 and throughout Grades 6-12. These aside, the first TEKS standard for sexuality education appears in Grade 6, with the expectation that students “explain the consequences of sexual activity and the benefits of abstinence” (19 TX ADC § 115.22). The TEKS expand upon this with the following expectations for students in Grades 7-8, which are reiterated in the standards for Grades 9-10 (one-half credit) and Grades 11-12 (one-half credit): (E) analyze the importance of abstinence from sexual activity as the preferred choice of behavior in relationship to all sexual activity for unmarried persons of school age; and (F) discuss abstinence from sexual activity as the only method that is 100% effective in preventing pregnancy, STDs, and the sexual transmission of HIV or acquired immune deficiency syndrome, and the emotional trauma associated with adolescent sexual activity (19 TX ADC § 115.23). Seventh and eighth grade students are also expected to “summarize the facts related to Human Immunodeficiency Virus (HIV) infection and sexually transmitted diseases (STDs)” (19 TX ADC § 115.23). However, the greatest number of curriculum standards for sexuality education appear in the recommended TEKS for a one-half credit course in Grades 9-10. In addition to learning the two abstinence-only tenets mentioned previously (items E and F), students are expected to: (A) analyze the relationship between the use of refusal skills and the avoidance of unsafe situations such as sexual abstinence; (B) analyze the importance and benefits of abstinence as it relates to emotional health and the prevention of pregnancy and sexually-transmitted diseases;  78 (C) analyze the effectiveness and ineffectiveness of barrier protection and other contraceptive methods, including the prevention of STDs, keeping in mind the effectiveness of remaining abstinent until marriage; [and] (D) analyze the importance of healthy strategies that prevent physical, sexual, and emotional abuse such as date rape (19 TX ADC § 115.32).  Sexuality Education Curriculum Standards: Upcoming Changes in August 2022 In August 2020, the Texas State Board of Education updated the TEKS, including Chapter 115 (TEKS for Health Education), for the first time since 1998, changing the curriculum standards for sexuality education from abstinence-only to abstinence-plus. The new changes will go into effect in August 2022 (Texas Education Agency, 2022).  Every grade level with TEKS for sexuality education (Grades 4-12) includes the following introductory passage: “An integral part of health education involves educators being aware of state laws relevant to human sexuality instruction. These laws include affirming:  (A) a local school district\\'s control over the provision of human sexuality instruction to ensure that local community values are reflected in that instruction (Texas Education Code (TEC), §28.004(e)-(h));  (B) the right of a parent or legal guardian to be informed of the provision of human sexuality instruction to their child and review the content of that instruction (TEC, §28.004(i)-(j));  (C) the right of a parent or legal guardian to remove their child from any portion of human sexuality instruction without penalty to the child (TEC, §28.004(i));   79 (D) the centrality of abstinence education in any human sexuality curriculum (TEC, §28.004(e)); and  (E) the right of a parent or legal guardian to be informed of and consent to an abortion performed on their pregnant child (with judicially authorized or medical emergency exceptions) (Texas Family Code, Chapter 33).  (5) Educators also should be aware of and abide by the statutory prohibition on taxpayer resource transactions between state governmental entities, including public schools, and abortion providers or an affiliate of an abortion provider (Texas Government Code, Chapter 2272).”  The TEKS provide age-appropriate standards for learning about puberty for Grade 4 and up, and age-appropriate standards for learning about healthy relationships; setting and respecting personal boundaries; sexual abuse, harassment, and trafficking; and bullying prevention for Grade 5 and up. In addition, the TEKS present standards for sexuality education by grade level.  For Grade 6, “the student understands that there are risks associated with sexual activity and that abstinence from sexual activity is the only 100% effective method to avoid risks. The student is expected to:  (A) identify teen pregnancy as a possible outcome of sexual activity;  (B) identify life goals that one wishes to achieve prior to becoming a parent;  (C) define sexually transmitted infections (STIs) and sexually transmitted diseases (STDs) as infections or diseases that are spread through sex or sexual activity;   80 (D) identify what emotional risks are associated with sexual activity between unmarried persons of school age;  (E) define abstinence as refraining from all forms of sexual activity and genital contact between individuals and discuss the importance of seeking support from parents, other trusted adults, and peers to be abstinent;  (F) explain why abstinence is the preferred choice of behavior in relationship to all sexual activity for unmarried persons of school age;  (G) identify why abstinence from sexual activity is the only method that is 100% effective in preventing pregnancy; STDs/STIs, including human immunodeficiency virus (HIV) and acquired immunodeficiency syndrome (AIDS); and the emotional risks associated with adolescent sexual activity;  (H) list the benefits of abstinence from sexual activity such as increased self-esteem, self-confidence, student academic achievement, and alignment with personal, family, and moral or religious beliefs and values; and  (I) explain how laws protect victims of sexual harassment, sexual abuse, and sexual assault.”   For Grades 7-8, “the student understands that there are risks associated with sexual activity and that abstinence from sexual activity is the only 100% effective method to avoid risks. The student is expected to:  (A) explain how teen pregnancy is a possible outcome of sexual activity;   81 (B) explain the short- and long-term educational, financial, and social impacts of pregnancy on teen parents, the child, families, and society;  (C) identify the difference between bacterial and viral sexually transmitted diseases/sexually transmitted infections (STDs/STIs) [sexually transmitted diseases (STDs) and sexually transmitted infections (STIs)] , including long-term or lifetime effects such as infertility and cancer;  (D) describe various modes of transmission of STDs/STIs;  (E) identify the prevalence of STDs/STIs among teens by referencing county, state, and/or federal data sources;  (F) list the signs and symptoms of STDs/STIs, including human papillomavirus (HPV), human immunodeficiency virus (HIV) and acquired immunodeficiency syndrome (AIDS), chlamydia, syphilis, gonorrhea, herpes, and trichomoniasis, and explain why not all STDs/STIs show symptoms initially;  (G) explain the importance of STD/STI [STD and STI] screening, testing, and early treatment for sexually active individuals, including during yearly physicals or if there is a concern (H) identify community resources, a minor\\'s right to consent under certain circumstances, and the importance of parent or other trusted adult support for STD/STI testing and treatment;  (I) identify emotional risks that can be associated with sexual activity for unmarried persons of school age, including stress, anxiety, and depression;   82 (J) identify support from parents and other trusted adults to be abstinent from sexual activity and create strategies for building peer support to be abstinent;  (K) analyze the importance of abstinence as the preferred choice of behavior in relationship to all sexual activity for unmarried persons of school age;  (L) analyze the effectiveness and the risks and failure rates (human-use reality rates) of barrier protection and other contraceptive methods in the prevention of STDs/STIs and pregnancy;  (M) explain that HPV vaccines can help prevent the transmission of the most common types of HPV, a virus that can cause genital warts and cervical cancer and other cancers in males and females;  (N) research and explain the benefits of abstinence from sexual activity such as increased self-esteem, self-confidence, and student academic achievement;  (O) define legal implications of teen pregnancy, including the legal effects of acknowledgement and proof of paternity;  (P) describe legal aspects of sexual activity with a minor person, including the legal age of consent, statutory rape, aggravated sexual assault, sexual assault, sexual abuse, and indecency with a child; and  (Q) examine the legal ramifications of sexual offenses such as sexual harassment, sexual abuse, and sexual assault.”   83 For the first of two half-credit courses for Grades 9-12, “the student understands that there are risks associated with sexual activity and that abstinence from sexual activity is the only 100% effective method to avoid risks. The student is expected to:  (A) research and analyze the educational, financial, and social impacts of pregnancy on teen parents, the child, families, and society, including considering the effects on one\\'s personal life goals;  (B) describe various modes of transmission of STDs/STIs;  (C) investigate and summarize the statistics on the prevalence of STDs/STIs among teens by referencing county, state, and/or federal data sources;  (D) describe signs and symptoms of STDs/STIs, including human papillomavirus (HPV), human immunodeficiency virus/acquired immunodeficiency syndrome (HIV/AIDS), chlamydia, syphilis, gonorrhea, herpes, and trichomoniasis, and identify that not all STDs/STIs show symptoms;  (E) analyze the importance of STD/STI screening, testing, and early treatment for sexually active people, including during yearly physicals or if there is a concern;  (F) analyze emotional risks that can be associated with sexual activity for unmarried persons of school age, including stress, anxiety, and depression;  (G) analyze the importance and benefits of abstinence from sexual activity as it relates to emotional health and the prevention of pregnancy and STDs/STIs;  (H) identify support from parents and other trusted adults and create strategies, including building peer support, to be abstinent or for return to abstinence if sexually active;   84 (I) analyze the effectiveness and the risks and failure rates (human-use reality rates) of barrier protection and other contraceptive methods, including how they work to reduce the risk of STDs/STIs and pregnancy; and  (J) explain the legal responsibilities related to teen pregnancy, including child support and acknowledgement of paternity.”  For the second of two half-credit courses for Grades 9-12, “the student understands that there are risks associated with sexual activity and that abstinence from sexual activity is the only 100% effective method to avoid risks. The student is expected to:  (A) analyze the options available to teenage parents such as parenting or the process of adoption and the legal rights of parties involved;  (B) evaluate long-term or lifetime effects of bacterial and viral STDs/STIs, including infertility and cancer;  (C) identify community resources, minors\\' right to consent under certain circumstances, and the importance of parent or other trusted adult support for STD/STI testing and treatment;  (D) analyze the effectiveness and the risks and failure rates (human-use reality rates) of barrier protection and other contraceptive methods, including how they work to reduce the risk of STDs/STIs and pregnancy;  (E) identify the effectiveness of vaccines in preventing the transmission of the most common types of HPV, a virus that may cause genital warts and head and neck cancer, cervical cancer, anal cancer, or other cancers that may occur in males and females;   85 (F) analyze the benefits of abstinence from sexual activity, including focusing on personal development and encouraging individuals to build healthy relationships not complicated by sexual involvement; (G) assess support from parents and other trusted adults and create strategies, including building peer support, to be abstinent or for return to abstinence if sexually active;  (H) investigate and summarize legal aspects of sexual activity with a minor person, including the legal age of consent, statutory rape, aggravated sexual assault, sexual assault, and indecency with a child; and  (I) investigate and summarize current laws relating to sexual offenses such as sexual harassment, abuse, and assault.”   TX HUM RES § 52.001-2 (Repealed) This statute assigned the Texas Department of Human Services the responsibility for collecting and distributing information relating to school age pregnancy, “including information on educational programs provided in the public school system relating to family life education, abstinence from sex, and sexually transmitted diseases,” and for making recommendations to the legislature and relevant state agencies (TX HUM RES § 52.001). The bill also established the “School Age Pregnancy Interagency Advisory Committee,” colloquially known as the Adolescent Pregnancy and Parenthood Advisory Council, to assist with these responsibilities (TX HUM RES § 52.002). These statutes were effectively repealed in 1993.    86 Works Cited  America’s Health Rankings. (2021). Teen Births in Texas. Retrieved from https://www.americashealthrankings.org/explore/health-of-women-and-children/measure/TeenBirth_MCH/state/TX.   https://www.americashealthrankings.org/explore/health-of-women-and-children/measure/TeenBirth_MCH/state/TX Arsneault, S. (2001). Values and Virtue: The Politics of Abstinence-Only Sex Education. American review of public administration, 31(4), 436-454. doi:10.1177/02750740122065036 CDC. (2012). Prepregnancy Contraceptive Use Among Teens with Unintended Pregnancies Resulting in Live Births — Pregnancy Risk Assessment Monitoring System (PRAMS), 2004–2008. Retrieved from cdc.gov/mmwr:  Chin, H. B., Sipe, T. A., Elder, R., Mercer, S. L., Chattopadhyay, S. K., Jacob, V., . . . Santelli, J. (2012). The effectiveness of group-based comprehensive risk-reduction and abstinence education interventions to prevent or reduce the risk of adolescent pregnancy, human immunodeficiency virus, and sexually transmitted infections: two systematic reviews for the Guide to Community Preventive Services. Am J Prev Med, 42(3), 272-294. doi:10.1016/j.amepre.2011.11.006 Cronenberg, S. (2013). \"Let\\'s Talk about Sex\" . In School. American journal of sexuality education, 8(1-2), 116-120. doi:10.1080/15546128.2013.790222 di Mauro, D., & Joffe, C. (2007). The religious right and the reshaping of sexual policy: An examination of reproductive rights and sexuality education. Sexuality Research & Social Policy, 4(1), 67-92. doi:10.1525/srsp.2007.4.1.67 Doan, A., & McFarlane, D. (2012). Saying No to Abstinence-Only Education: An Analysis of State Decision-Making. Publius, 42, 613-635. doi:10.2307/41682905 Family and Youth Services Bureau. (2022a). Sexual Risk Avoidance Education Program - General Departmental Program Fact Sheet. In Administration for Children & Families & U. D. o. H. a. H. Services (Eds.). acf.hhs.gov. Family and Youth Services Bureau. (2022b). Title V State Sexual Risk Avoidance Education: Fact Sheet. In Administration for Children & Families & US Department of Health and Human Services (Eds.). acf.hhs.gov. Fields, J. (2005). “Children Having Children”: Race, Innocence, and Sexuality Education. Social problems (Berkeley, Calif.), 52(4), 549-571. doi:10.1525/sp.2005.52.4.549 Fields, J. (2012). Sexuality Education in the United States: Shared Cultural Ideas across a Political Divide. Sociology compass, 6(1), 1-14. doi:10.1111/j.1751-9020.2011.00436.x Fox, A. M., Himmelstein, G., Khalid, H., & Howell, E. A. (2019). Funding for Abstinence-Only Education and Adolescent Pregnancy Prevention: Does State Ideology Affect Outcomes? American journal of public health, 109(3), 497-504. doi:10.2105/AJPH.2018.304896 García, L. (2009). \"Now Why Do You Want To Know About That?”: Heteronormativity, Sexism, and Racism in the Sexual (Mis)education of Latina Youth. Gender and Society, 23(4), 520-541. Retrieved from http://www.jstor.org.yale.idm.oclc.org/stable/20676801  87 Goldfarb, E. S., & Lieberman, L. D. (2021). Three Decades of Research: The Case for Comprehensive Sex Education. Journal of Adolescent Health, 68(1), 13-27. doi:10.1016/j.jadohealth.2020.07.036 Guttmacher Institute. (2021a). Federally Funded Abstinence-Only Programs: Harmful and Ineffective. Retrieved from guttmacher.org:  Guttmacher Institute. (2021b). Federally Funded Sex Education: Strengthening And Expanding Evidence-Based Programs. Retrieved from guttmacher.org:  Human Immunodeficiency Virus Services Act, Art. 4419b-5 (1989). Irvine, J. M. (2006). Emotional scripts of sex panics. Sexuality Research & Social Policy, 3(3), 82-94. doi:10.1525/srsp.2006.3.3.82 Ishak, N. (2022, March 20). State-level Republicans are going all in on extreme anti-trans, anti-abortion laws. Vox. Retrieved from https://www.vox.com/2022/3/20/22987539/anti-trans-anti-abortion-laws-texas-florida-idaho Jackson, A. L., & Kenney, A. M. (2021). The Sociopolitical Context of Abortion Bill Authorship in Texas. Social currents, 8(4), 358-377. doi:10.1177/2329496520950789 Jacob, A. (2020). This could be a big year for sex ed in Texas. Here’s what you need to know. SIECUS. Retrieved from https://siecus.org/this-could-be-a-big-year-for-sex-ed-in-texas-heres-what-you-need-to-know/ Jeffries, C. (2018). Adolescent Women and Antiabortion Politics in the Reagan Administration. Journal of American studies, 52(1), 193-213. doi:10.1017/S0021875816002024 Kantor, L. M., Santelli, J. S., Teitler, J., & Balmer, R. (2008). Abstinence-only policies and programs: An overview. Sexuality Research & Social Policy, 5(3), 6-17. doi:http://dx.doi.org/10.1525/srsp.2008.5.3.6 Kendall, N. (2008). The state(s) of sexuality education in America. Sexuality Research & Social Policy, 5(2), 1-11. doi:10.1525/srsp.2008.5.2.1 Kincaid, J. D. (2016). The Rational Basis of Irrational Politics: Examining the Great Texas Political Shift to the Right. Politics & society, 44(4), 525-550. doi:10.1177/0032329216674003 Kohler, P. K., Manhart, L. E., & Lafferty, W. E. (2008). Abstinence-only and comprehensive sex education and the initiation of sexual activity and teen pregnancy. J Adolesc Health, 42(4), 344-351. doi:10.1016/j.jadohealth.2007.08.026 Lamb, S. (2013). Just the Facts? The Separation of Sex Education from Moral Education. Educational theory, 63(5), 443-460. doi:10.1111/edth.12034 Lugg, C. A. (1998). The Religious Right and Public Education: The Paranoid Politics of Homophobia. Educational policy (Los Altos, Calif.), 12(3), 267-283. doi:10.1177/0895904898012003003 McNeill, T. (2013). Sex education and the promotion of heteronormativity. Sexualities, 16(7), 826-846. doi:10.1177/1363460713497216 Miller, A. M., & Schleifer, R. A. (2008). Through the looking glass: Abstinence-only-until-marriage programs and their impact on adolescent human rights. Sexuality Research & Social Policy, 5(3), 28-43. doi:http://dx.doi.org/10.1525/srsp.2008.5.3.28 National Latina Institute for Reproductive Health, & PerryUndem. (2018). Latina/o Voters’ Views and Experiences Around Reproductive Health: Results from a National Survey of Latina/o Voters. Retrieved from National Latina Institute for Reproductive Health. What We Do: Culture Shift.: https://www.latinainstitute.org/en/culture-shift  88 Ott, M. A., & Santelli, J. S. (2007). Abstinence and abstinence-only education. Curr Opin Obstet Gynecol, 19(5), 446-452. doi:10.1097/GCO.0b013e3282efdc0b Rabbitte, M., & Enriquez, M. (2019). The Role of Policy on Sexual Health Education in Schools: Review. In (Vol. 35, pp. 27-38). Los Angeles, CA: SAGE Publications. Ramsey, R. (2021, Dec. 8, 2021). Analysis: Texas’ population has changed much faster than its political maps. The Texas Tribune. Retrieved from https://www.texastribune.org/2021/12/08/texas-redistricting-demographics-elections/ Reuthinger, D. L., Jr. (2007). Lord of the PEIMS: There Is No Fellowship Between the Twin Towers of Accountability and Local Control. Texas Tech Administrative Law Journal(Spring).  Romo, L. F., Bravo, M., Cruz, M. E., Rios, R. M., & Kouyoumdjian, C. (2010). “El Sexo no es Malo”: Maternal Values Accompanying Contraceptive Use Advice to Young Latina Adolescent Daughters. Sexuality Research and Social Policy, 7(2), 118-127. doi:10.1007/s13178-009-0001-6 Scheitle, C. P., & Hahn, B. B. (2011). From the pews to policy: specifying Evangelical Protestantism\\'s influence on states\\' sexual orientation policies. Social Forces, 89, 913+. Retrieved from https://link-gale-com.yale.idm.oclc.org/apps/doc/A253444987/OVIC?u=29002&sid=summon&xid=c88adf86 SIECUS. (2021a). History of Sex Education. Retrieved from https://siecus.org/resources/history-of-sex-ed/:  SIECUS. (2021b). Texas State Profile. Retrieved from https://siecus.org/state_profile/texas-fy21-state-profile/:  Stone, A. L. (2016). The Impact of Anti-Gay Politics on the LGBTQ Movement. Sociology compass, 10(6), 459-467. doi:https://doi.org/10.1111/soc4.12373 Stork, B. (2006). What About Our Future? The Chaos That Is the Texas School Finance System. St. Mary’s Law Review on Minority Issues(Spring).  Texas Demographic Center. (2000). Descriptive Data Tables by Subject: Race/Ethnicity. In Proportion of the Population in each Race/Ethnicity Group in 1980, and 2000, Numerical Change 1980 to 1990 and 1990 to 2000 by Race/Ethnicity, and Proportion of Net Change from 1980 to 1990 and 1990 to 2000 by Race/Ethnicity in the State of Texas  (Ed.). Texas Demographic Center. Texas Education Agency. (2022). Health Education TEKS Review. Retrieved from https://tea.texas.gov/academics/curriculum-standards/teks-review/health-education-teks-review Texas Freedom Network. (2022). Mission.  Texas Freedom Network Education Fund. (2006). The Anatomy of Power: Texas and the Religious Right in 2006. Retrieved from  Texas Freedom Network Education Fund. (2009). The 81st Legislature: Change at the Capitol? Retrieved from  Texas Freedom Network Education Fund, & Sexuality Information and Education Council of the United States. (2019). Time for Change: Sex Education and the Texas Health Curriculum Standards. Retrieved from  Texas Legislative Council. (2021). Texas Constitution. tlc.texas.gov  89 Tortolero, S. R., Johnson, K., Peskin, M., Cuccaro, P. M., Markham, C., Hernandez, B. F., . . . Li, D. H. (2011). \"Dispelling the Myth: What Parents Really Think about Sex Education in Schools. Journal of Applied Research on Children: Informing Policy for Children at Risk, Vol. 2(Iss. 2).  Ura, A. (2021, Sept. 7). Gov. Greg Abbott signs Texas voting bill into law, overcoming Democratic quorum breaks. Texas Tribune. Retrieved from https://www.texastribune.org/2021/09/01/texas-voting-bill-greg-abbott/ US Department of Education. (2021, June 15). The Federal Role in Education. Retrieved from https://www2.ed.gov/about/overview/fed/role.html Wiley, D., Miller, F., Quinn, D., Valentine, R., & Miller, K. (2017). Conspiracy of Silence: Sexuality Education in Texas Public Schools in 2015-16. Retrieved from  Wiley, D., & Wilson, K. (2009). Just Say Don\\'t Know: Sexuality Education in Texas Public Schools. Retrieved from  Wiley, D. C., Plesons, M., Chandra-Mouli, V., & Ortega, M. (2020). Managing Sex Education Controversy Deep in the Heart of Texas: A Case Study of the North East Independent School District (NEISD). American journal of sexuality education, 15(1), 53-81. doi:10.1080/15546128.2019.1675562 Yeager, N. (2020, December 8). The Long, Winding Road That Led to the SBOE’s Decision for Texas Schools to Teach Abstinence-Plus Sex Education. Texas Observer. Retrieved from https://www.texasobserver.org/the-long-winding-road-that-led-to-the-sboes-decision-for-texas-schools-to-teach-abstinence-plus-sex-education/   ',\n",
       " 'id': 125772114,\n",
       " 'identifiers': [{'identifier': 'oai:elischolar.library.yale.edu:ysphtdl-2172',\n",
       "   'type': 'OAI_ID'},\n",
       "  {'identifier': '519836734', 'type': 'CORE_ID'}],\n",
       " 'title': 'The Politics Of Sexuality Education Policy In Texas',\n",
       " 'language': {'code': 'en', 'name': 'English'},\n",
       " 'magId': None,\n",
       " 'oaiIds': ['oai:elischolar.library.yale.edu:ysphtdl-2172'],\n",
       " 'publishedDate': '2022-01-01T08:00:00',\n",
       " 'publisher': 'EliScholar – A Digital Platform for Scholarly Publishing at Yale',\n",
       " 'pubmedId': None,\n",
       " 'references': [],\n",
       " 'sourceFulltextUrls': ['https://elischolar.library.yale.edu/cgi/viewcontent.cgi?article=2172&context=ysphtdl'],\n",
       " 'updatedDate': '2022-06-10T08:06:13',\n",
       " 'yearPublished': 2022,\n",
       " 'journals': [],\n",
       " 'links': [{'type': 'download',\n",
       "   'url': 'https://core.ac.uk/download/519836734.pdf'},\n",
       "  {'type': 'reader', 'url': 'https://core.ac.uk/reader/519836734'},\n",
       "  {'type': 'thumbnail_m', 'url': 'https://core.ac.uk/image/519836734/medium'},\n",
       "  {'type': 'thumbnail_l', 'url': 'https://core.ac.uk/image/519836734/large'},\n",
       "  {'type': 'display', 'url': 'https://core.ac.uk/works/125772114'}]}"
      ]
     },
     "execution_count": 103,
     "metadata": {},
     "output_type": "execute_result"
    }
   ],
   "source": [
    "results = raw['results']\n",
    "results[-1]"
   ]
  },
  {
   "cell_type": "code",
   "execution_count": 128,
   "metadata": {},
   "outputs": [
    {
     "name": "stdout",
     "output_type": "stream",
     "text": [
      "documentType\n",
      "    248\n",
      "Name: count, dtype: int64\n",
      "count    2.480000e+02\n",
      "mean     2.456155e+05\n",
      "std      3.316800e+05\n",
      "min      4.260000e+02\n",
      "25%      4.823925e+04\n",
      "50%      7.610800e+04\n",
      "75%      3.608900e+05\n",
      "max      1.567517e+06\n",
      "Name: len_fullText, dtype: float64\n",
      "count     248.000000\n",
      "mean     1274.326613\n",
      "std       888.760695\n",
      "min        12.000000\n",
      "25%       903.250000\n",
      "50%      1196.000000\n",
      "75%      1487.250000\n",
      "max      9824.000000\n",
      "Name: len_abstract, dtype: float64\n"
     ]
    }
   ],
   "source": [
    "df = pd.DataFrame([\n",
    "    {\n",
    "        'title': result['title'],\n",
    "        'len_fullText': len(result['fullText']), \n",
    "        'len_abstract': len(result['abstract']),\n",
    "        'fieldOfStudy':result['fieldOfStudy'], \n",
    "        'documentType':result['documentType'],\n",
    "        'publisher': result['publisher']\n",
    "    } for result in results])\n",
    "\n",
    "# documentType doesn't have much useful information in these results\n",
    "print(df.documentType.value_counts(dropna=False))\n",
    "\n",
    "# many of these documents seem to be theses, so they are quite long: median is ~75,000\n",
    "# but shortest are <500\n",
    "print(df.len_fullText.describe())\n",
    "print(df.len_abstract.describe())"
   ]
  },
  {
   "cell_type": "code",
   "execution_count": 123,
   "metadata": {},
   "outputs": [
    {
     "name": "stdout",
     "output_type": "stream",
     "text": [
      "-1\n",
      "1327\n",
      "3542\n"
     ]
    }
   ],
   "source": [
    "# abstract can be searched for in text to remove, but NB small differences can prevent match\n",
    "# in this example, inclusion of line breaks in full text\n",
    "print(results[-1]['fullText'].find(results[-1]['abstract']))\n",
    "print(results[-1]['fullText'].find(results[-1]['abstract'][:100]))\n",
    "print(results[-1]['fullText'].find(results[-1]['abstract'][-100:]))"
   ]
  },
  {
   "cell_type": "code",
   "execution_count": 124,
   "metadata": {},
   "outputs": [
    {
     "data": {
      "text/html": [
       "<div>\n",
       "<style scoped>\n",
       "    .dataframe tbody tr th:only-of-type {\n",
       "        vertical-align: middle;\n",
       "    }\n",
       "\n",
       "    .dataframe tbody tr th {\n",
       "        vertical-align: top;\n",
       "    }\n",
       "\n",
       "    .dataframe thead th {\n",
       "        text-align: right;\n",
       "    }\n",
       "</style>\n",
       "<table border=\"1\" class=\"dataframe\">\n",
       "  <thead>\n",
       "    <tr style=\"text-align: right;\">\n",
       "      <th></th>\n",
       "      <th>title</th>\n",
       "      <th>len_fullText</th>\n",
       "      <th>len_abstract</th>\n",
       "      <th>fieldOfStudy</th>\n",
       "      <th>documentType</th>\n",
       "      <th>publisher</th>\n",
       "    </tr>\n",
       "  </thead>\n",
       "  <tbody>\n",
       "    <tr>\n",
       "      <th>39</th>\n",
       "      <td>Dynamics of Difference: Inequality and Transfo...</td>\n",
       "      <td>426</td>\n",
       "      <td>1103</td>\n",
       "      <td>None</td>\n",
       "      <td></td>\n",
       "      <td>Routeldge</td>\n",
       "    </tr>\n",
       "    <tr>\n",
       "      <th>116</th>\n",
       "      <td>Private security in Africa</td>\n",
       "      <td>2830</td>\n",
       "      <td>909</td>\n",
       "      <td>None</td>\n",
       "      <td></td>\n",
       "      <td>'Bloomsbury Academic'</td>\n",
       "    </tr>\n",
       "    <tr>\n",
       "      <th>81</th>\n",
       "      <td>Book Review: \\u3cem\\u3eFat Matters: From Socio...</td>\n",
       "      <td>5837</td>\n",
       "      <td>140</td>\n",
       "      <td>None</td>\n",
       "      <td></td>\n",
       "      <td>Open PRAIRIE: Open Public Research Access Inst...</td>\n",
       "    </tr>\n",
       "    <tr>\n",
       "      <th>2</th>\n",
       "      <td>Dr. Kevin C.  Casey  Motl named dean of Ouachi...</td>\n",
       "      <td>6038</td>\n",
       "      <td>232</td>\n",
       "      <td>None</td>\n",
       "      <td></td>\n",
       "      <td>Scholarly Commons @ Ouachita</td>\n",
       "    </tr>\n",
       "    <tr>\n",
       "      <th>1</th>\n",
       "      <td>Entangled Legalities Beyond the State</td>\n",
       "      <td>6391</td>\n",
       "      <td>327</td>\n",
       "      <td>None</td>\n",
       "      <td></td>\n",
       "      <td>'Cambridge University Press (CUP)'</td>\n",
       "    </tr>\n",
       "    <tr>\n",
       "      <th>...</th>\n",
       "      <td>...</td>\n",
       "      <td>...</td>\n",
       "      <td>...</td>\n",
       "      <td>...</td>\n",
       "      <td>...</td>\n",
       "      <td>...</td>\n",
       "    </tr>\n",
       "    <tr>\n",
       "      <th>183</th>\n",
       "      <td>Social and Political Issues on Sustainable Dev...</td>\n",
       "      <td>1213316</td>\n",
       "      <td>979</td>\n",
       "      <td>None</td>\n",
       "      <td></td>\n",
       "      <td>'Informa UK Limited'</td>\n",
       "    </tr>\n",
       "    <tr>\n",
       "      <th>221</th>\n",
       "      <td>Dynamics in the History of Religions between A...</td>\n",
       "      <td>1278558</td>\n",
       "      <td>424</td>\n",
       "      <td>None</td>\n",
       "      <td></td>\n",
       "      <td>'Brill'</td>\n",
       "    </tr>\n",
       "    <tr>\n",
       "      <th>238</th>\n",
       "      <td>Irony as a Method of Neoclassical Sociology : ...</td>\n",
       "      <td>1313335</td>\n",
       "      <td>9824</td>\n",
       "      <td>None</td>\n",
       "      <td></td>\n",
       "      <td>Åbo Akademis förlag - Åbo Akademi University P...</td>\n",
       "    </tr>\n",
       "    <tr>\n",
       "      <th>135</th>\n",
       "      <td>La sociologia di Luciano Cavalli</td>\n",
       "      <td>1442746</td>\n",
       "      <td>2086</td>\n",
       "      <td>None</td>\n",
       "      <td></td>\n",
       "      <td>'Firenze University Press'</td>\n",
       "    </tr>\n",
       "    <tr>\n",
       "      <th>27</th>\n",
       "      <td>Handbook of sociological science : contributio...</td>\n",
       "      <td>1567517</td>\n",
       "      <td>4392</td>\n",
       "      <td>None</td>\n",
       "      <td></td>\n",
       "      <td>'Edward Elgar Publishing'</td>\n",
       "    </tr>\n",
       "  </tbody>\n",
       "</table>\n",
       "<p>248 rows × 6 columns</p>\n",
       "</div>"
      ],
      "text/plain": [
       "                                                 title  len_fullText  \\\n",
       "39   Dynamics of Difference: Inequality and Transfo...           426   \n",
       "116                         Private security in Africa          2830   \n",
       "81   Book Review: \\u3cem\\u3eFat Matters: From Socio...          5837   \n",
       "2    Dr. Kevin C.  Casey  Motl named dean of Ouachi...          6038   \n",
       "1                Entangled Legalities Beyond the State          6391   \n",
       "..                                                 ...           ...   \n",
       "183  Social and Political Issues on Sustainable Dev...       1213316   \n",
       "221  Dynamics in the History of Religions between A...       1278558   \n",
       "238  Irony as a Method of Neoclassical Sociology : ...       1313335   \n",
       "135                   La sociologia di Luciano Cavalli       1442746   \n",
       "27   Handbook of sociological science : contributio...       1567517   \n",
       "\n",
       "     len_abstract fieldOfStudy documentType  \\\n",
       "39           1103         None                \n",
       "116           909         None                \n",
       "81            140         None                \n",
       "2             232         None                \n",
       "1             327         None                \n",
       "..            ...          ...          ...   \n",
       "183           979         None                \n",
       "221           424         None                \n",
       "238          9824         None                \n",
       "135          2086         None                \n",
       "27           4392         None                \n",
       "\n",
       "                                             publisher  \n",
       "39                                           Routeldge  \n",
       "116                              'Bloomsbury Academic'  \n",
       "81   Open PRAIRIE: Open Public Research Access Inst...  \n",
       "2                         Scholarly Commons @ Ouachita  \n",
       "1                   'Cambridge University Press (CUP)'  \n",
       "..                                                 ...  \n",
       "183                               'Informa UK Limited'  \n",
       "221                                            'Brill'  \n",
       "238  Åbo Akademis förlag - Åbo Akademi University P...  \n",
       "135                         'Firenze University Press'  \n",
       "27                           'Edward Elgar Publishing'  \n",
       "\n",
       "[248 rows x 6 columns]"
      ]
     },
     "execution_count": 124,
     "metadata": {},
     "output_type": "execute_result"
    }
   ],
   "source": [
    "# maybe one way select docs is to filter by abstract length: below ~300 is probably not interesting\n",
    "# the long ones are probably for books and theses, which are also interesting -- but still multi-thousand word is perhaps not ideal\n",
    "df.sort_values('len_fullText')"
   ]
  },
  {
   "cell_type": "code",
   "execution_count": 125,
   "metadata": {},
   "outputs": [
    {
     "data": {
      "text/plain": [
       "publisher\n",
       "'Informa UK Limited'                                29\n",
       "                                                    19\n",
       "'Lifescience Global'                                14\n",
       "'Springer Science and Business Media LLC'           12\n",
       "'SAGE Publications'                                  8\n",
       "                                                    ..\n",
       "Routeldge                                            1\n",
       "'School of Advanced Study'                           1\n",
       "Encompass                                            1\n",
       "London School of Economics and Political Science     1\n",
       "UNI ScholarWorks                                     1\n",
       "Name: count, Length: 119, dtype: int64"
      ]
     },
     "execution_count": 125,
     "metadata": {},
     "output_type": "execute_result"
    }
   ],
   "source": [
    "df.publisher.value_counts()"
   ]
  },
  {
   "cell_type": "code",
   "execution_count": 126,
   "metadata": {},
   "outputs": [
    {
     "data": {
      "text/plain": [
       "{'acceptedDate': None,\n",
       " 'arxivId': None,\n",
       " 'authors': [{'name': 'Lawson, Felley'}, {'name': 'Ouachita News Bureau,'}],\n",
       " 'citationCount': None,\n",
       " 'contributors': [],\n",
       " 'outputs': ['https://api.core.ac.uk/v3/outputs/534809425'],\n",
       " 'createdDate': '2022-10-10T21:50:37',\n",
       " 'dataProviders': [{'id': 3629,\n",
       "   'name': '',\n",
       "   'url': 'https://api.core.ac.uk/v3/data-providers/3629',\n",
       "   'logo': 'https://api.core.ac.uk/data-providers/3629/logo'}],\n",
       " 'depositedDate': None,\n",
       " 'abstract': 'Dr. Kevin C. “Casey” Motl has been named dean of the William H. Sutton School of Social Sciences at Ouachita Baptist University. The Sutton School houses Ouachita’s departments of History, Political Science, Psychology and Sociology',\n",
       " 'documentType': '',\n",
       " 'doi': None,\n",
       " 'downloadUrl': 'https://core.ac.uk/download/534809425.pdf',\n",
       " 'fieldOfStudy': None,\n",
       " 'fullText': 'Ouachita Baptist University Scholarly Commons @ Ouachita Press Releases Office of Communication 6-27-2022 Dr. Kevin C. \"Casey\" Motl named dean of Ouachita\\'s Sutton School of Social Sciences Felley Lawson Ouachita News Bureau Follow this and additional works at: https://scholarlycommons.obu.edu/press_releases  Part of the Higher Education Commons, Organizational Communication Commons, and the Public Relations and Advertising Commons      For immediate release  Dr. Kevin C. “Casey” Motl named dean of Ouachita’s Sutton School of Social Sciences  By Felley Lawson  June 27, 2022  For more information, contact OBU’s news bureau at newsbureau@obu.edu or (870) 245-5206    ARKADELPHIA, Ark.—Dr. Kevin C. “Casey” Motl has been named dean of the William H. Sutton School of Social Sciences at Ouachita Baptist University. The Sutton School houses Ouachita’s departments of History, Political Science, Psychology and Sociology.    Motl earned a Bachelor of Arts degree in education from Texas A&M University and a Master of Arts in history from the University of North Texas, then returned to A&M for his Ph.D. studies in history before joining the faculty at Ouachita in 2006. He was named the R. Voyt Hill Chair of History in 2014 and has served as interim dean of the Sutton School since Fall 2021, when Dr. Randall Wight—professor of psychology and biology at Ouachita and former dean of the Sutton School—left the dean’s post to return to the classroom.     Photo 1 Dr. Kevin C. \"Casey\" Motl “Dr. Motl served the Sutton School well as interim,” said Dr. Ben R. Sells, Ouachita president. “In the search to fill the permanent position, he participated in an intensive review process that invited input from his colleagues and students, and from Ouachita administrators.     “Dr. Motl is recognized as an instructor committed to preparing students,” he added. “As dean, he’ll work to advance the high standard of excellence in teaching, learning, research and creative expression for which the Sutton School is known.”    “I look for patterns and continuities; that’s how I approach the world,” Motl said. “I see the dean’s position as an opportunity to apply that kind of thinking to the well-being of our programs here in the Sutton School and to Ouachita as an institution.”    Motl’s on-the-job training offered him opportunities—like helping build Ouachita’s new criminal justice major that launches this fall—that provided valuable insight into ways he can help grow the Sutton School.    “We designed a program that balances theoretical elements and very practical experiences, and we did it in consultation with law enforcement professionals in our community,” Motl explained. “They gave us great advice, and we reverse-engineered the entire program from those outcomes.”    The recruitment goal for Ouachita’s first cohort of criminal justice majors was 15 to 20 students—a target that has been met and likely will be surpassed.    “The number of graduating seniors nationwide is shrinking, and we have to find ways to appeal to these prospective students. Our Christian identity has a great deal of value in that regard,” Motl said. “They also need to earn qualifications to move into a profession that will give them satisfaction in life and a decent livelihood. We’ve got to reach out to them in creative, innovative ways, and I feel like our criminal justice program does that. I’m very excited to see how it grows over the next couple of years.”    According to Dr. Jeff Root, dean of the School of Humanities and the Michael D. Huckabee School of Education at Ouachita, that excitement is on brand for Motl.    “I have always been impressed by Dr. Motl’s sheer enthusiasm for his work. He is always looking to move forward but has the wisdom to listen carefully to every point of view. It’s a good combination for a leader,” observed Root, Ouachita’s longest-serving dean.     Root and Motl served together on the Arkadelphia School Board; Motl has been president for the last three years.    “Being on the school board has completely changed my life,” Motl said. “It’s taught me what effective leadership means and looks like in practice; that I don’t always have the right answers and the good ideas, that I do better as a leader and as a person when I let other smart people volunteer their thinking on any given question.”    During the past four years, changes the board has made shifted the school district from a six-figure deficit to annual surpluses exceeding a million dollars—funds earmarked to increase employee salaries and help finance projects such as a new elementary school.    “We get to think big in Arkadelphia when we could not before,” Motl said, adding that credit for the board’s success is always split seven ways. “At the end of the day, it’s all a collaborative effort.”    Motl’s appointment as dean of the Sutton School adds another layer of Ouachita connection for his family, active members of First Baptist Church in Arkadelphia. His wife, Lori, is a 1993 graduate and Ouachita’s director of admissions counseling. Their children are Ryan, a 2021 Ouachita grad; Sydney, a junior at Ouachita; and Joshua, an incoming freshman. Ryan and his wife, Mattie—a 2019 grad—have a one-year-old daughter, Miriam. And outside the classroom, Motl is known to fans of Ouachita athletics as the “voice of the Tigers” for football and basketball games.    While Motl will continue to teach classes in Ouachita’s Department of History, he sees the other possibilities in front of him as dean: to promote programs in the Sutton School, to engage alumni and connect them with students figuring out their own careers, to forge relationships with donors and find funding for new learning experiences for students.    He said, “I see opportunities to create interlocking good outcomes that improve the quality of life for everybody connected to the Sutton School of Social Sciences.”    -30-    PHOTO AVAILABLE FOR DOWNLOAD AT https://obu.edu/stories/news/2022/06/motl-named-dean-of-sutton-school.php.            ',\n",
       " 'id': 131123412,\n",
       " 'identifiers': [{'identifier': '534809425', 'type': 'CORE_ID'},\n",
       "  {'identifier': 'oai:scholarlycommons.obu.edu:press_releases-2089',\n",
       "   'type': 'OAI_ID'}],\n",
       " 'title': 'Dr. Kevin C.  Casey  Motl named dean of Ouachita\\\\u27s Sutton School of Social Sciences',\n",
       " 'language': {'code': 'en', 'name': 'English'},\n",
       " 'magId': None,\n",
       " 'oaiIds': ['oai:scholarlycommons.obu.edu:press_releases-2089'],\n",
       " 'publishedDate': '2022-06-27T08:00:00',\n",
       " 'publisher': 'Scholarly Commons @ Ouachita',\n",
       " 'pubmedId': None,\n",
       " 'references': [],\n",
       " 'sourceFulltextUrls': ['https://scholarlycommons.obu.edu/cgi/viewcontent.cgi?article=2089&context=press_releases'],\n",
       " 'updatedDate': '2022-11-18T12:23:03',\n",
       " 'yearPublished': 2022,\n",
       " 'journals': [],\n",
       " 'links': [{'type': 'download',\n",
       "   'url': 'https://core.ac.uk/download/534809425.pdf'},\n",
       "  {'type': 'reader', 'url': 'https://core.ac.uk/reader/534809425'},\n",
       "  {'type': 'thumbnail_m', 'url': 'https://core.ac.uk/image/534809425/medium'},\n",
       "  {'type': 'thumbnail_l', 'url': 'https://core.ac.uk/image/534809425/large'},\n",
       "  {'type': 'display', 'url': 'https://core.ac.uk/works/131123412'}]}"
      ]
     },
     "execution_count": 126,
     "metadata": {},
     "output_type": "execute_result"
    }
   ],
   "source": [
    "# there are some odd results: e.g. this is a press release\n",
    "results[2]"
   ]
  },
  {
   "cell_type": "code",
   "execution_count": 131,
   "metadata": {},
   "outputs": [
    {
     "data": {
      "text/plain": [
       "{'acceptedDate': None,\n",
       " 'arxivId': None,\n",
       " 'authors': [{'name': 'Hansen, Brittney'}],\n",
       " 'citationCount': None,\n",
       " 'contributors': [],\n",
       " 'outputs': ['https://api.core.ac.uk/v3/outputs/519731483'],\n",
       " 'createdDate': '2022-06-08T17:37:00',\n",
       " 'dataProviders': [{'id': 2573,\n",
       "   'name': '',\n",
       "   'url': 'https://api.core.ac.uk/v3/data-providers/2573',\n",
       "   'logo': 'https://api.core.ac.uk/data-providers/2573/logo'}],\n",
       " 'depositedDate': None,\n",
       " 'abstract': 'Tsichlia, Gina and Alexandra M. Johnstone (Eds.). Fat Matters: From Sociology to Science. M & K Update Ltd., 2010, 144 pp., $45.00 paperback',\n",
       " 'documentType': '',\n",
       " 'doi': None,\n",
       " 'downloadUrl': 'https://core.ac.uk/download/519731483.pdf',\n",
       " 'fieldOfStudy': None,\n",
       " 'fullText': 'Great Plains Sociologist Volume 21 Issue 1 Article 4 2010 Book Review: Fat Matters: From Sociology to Science Edited by Gina Tsichlia and Alexandra M. Johnstone Brittney Hansen University of North Dakota Follow this and additional works at: https://openprairie.sdstate.edu/greatplainssociologist  Part of the Regional Sociology Commons, and the Rural Sociology Commons Recommended Citation Hansen, Brittney (2010) \"Book Review: Fat Matters: From Sociology to Science Edited by Gina Tsichlia and Alexandra M. Johnstone,\" Great Plains Sociologist: Vol. 21 : Iss. 1 , Article 4. Available at: https://openprairie.sdstate.edu/greatplainssociologist/vol21/iss1/4 This Book Review is brought to you for free and open access by Open PRAIRIE: Open Public Research Access Institutional Repository and Information Exchange. It has been accepted for inclusion in Great Plains Sociologist by an authorized editor of Open PRAIRIE: Open Public Research Access Institutional Repository and Information Exchange. For more information, please contact michael.biondo@sdstate.edu.   94Book Review  Fat Matters: From Sociology to Science Edited by Gina Tsichlia and Alexandra M. Johnstone  Reviewed by: Brittney Hansen\\uf02a    Tsichlia, Gina and Alexandra M. Johnstone (Eds.). Fat Matters: From Sociology to Science. M & K Update Ltd., 2010, 144 pp., $45.00 paperback.     Fat Matters is multi-faceted book written by a range of experts that examines the underlying factors behind the ‘Obesity Epidemic’.  The aim of the book is to review in a systematic way different aspects of this growing issue from a variety of angles, from sociology, through medicine to technology.  Each chapter attempts to define, explain, or present ways to remedy some aspect of the current obesity epidemic plaguing the United Kingdom and the United States. An underlying concept that is mentioned frequently throughout the text is the influence of the media on what society feels is acceptable in terms of how an individual feels about the way they look.  In this text there is not a direct thesis question to be answered, but the goal of reviewing the ‘Obesity Epidemic’ is obtained. Not only does the text define and explain obesity from a sociological and scientific perspective, it presents new and upcoming research that can further our understanding of obesity and how to curb its detrimental effects for the individual and society as a whole. The book also presents an introduction into a new field of research by arguing that obesity is not only a sociological phenomenon but also a psychological one. This                                                  \\uf02a Brittney Hansen; e-mail: Brittney.hansen@und.edu  1Hansen: Book Review: <em>Fat Matters: From Sociology to Science</em> EditPublished by Open PRAIRIE: Open Public Research Access Institutional Repository and Information Exchange, 2010  95research is relatively new and through further study can provide important insights into obesity that are currently unknown. In addition to current and upcoming research the text delves into the current public debate regarding obesity and who is to blame. The debate focuses on whether or not obesity is to be blamed on the individual themselves or the society that influences that individual and enables them to become obese. Much research has shown that obesity is a social construct and is greatly influenced by society.   Although the text is a summary of many separate endeavors within the topic of obesity, I found it to be put together well. The key points of the book were well supported; each point that was emphasized was backed with valid research. Media and cultural influence on obesity seemed to be a central theme throughout the text and it was validated through a variety of studies. An average person without a medical or sociological background could read the text and understand the research and views presented.  Fat Matters had both its strengths and weaknesses. I felt its main strength was the fact that it was relatively easy to read and understand.  Another is the presentation of obesity through many different lenses to illustrate the complexity of the issue; there are many underlying, contributing factors in addition to those that are more obvious. The main weakness of the text is the difference in writing styles from chapter to chapter. Although the topics fit together well, I found it difficult sometimes to transition from one author’s writing style to the next. In addition, many topics were covered in the book relatively quickly and could have been presented in greater depth. I felt that much more information could have been presented that would have be not only interesting, but informative to the reader.   Fat Matters does not necessarily make a great contribution to the field of sociology or medical sociology, but it is an adequate introduction into one of the subfields in medical sociology. It is ideal for individuals interested in understanding a sociological perspective of a 2Great Plains Sociologist, Vol. 21 [2010], Iss. 1, Art. 4https://openprairie.sdstate.edu/greatplainssociologist/vol21/iss1/4  96common medical condition. A Medical Sociology professor could use this text as a resource for his/her students to see how a common medical issue is viewed through a sociological lens.   Fat Matters is a compilation of literary works on the subject of obesity in the UK and the US; its point is to review the obesity epidemic and the multiple factors that tie into it. I feel it succeeds in this mission. It covers a lot of ground in 10 relatively short chapters and provides a decent introduction into obesity as a social phenomenon.    3Hansen: Book Review: <em>Fat Matters: From Sociology to Science</em> EditPublished by Open PRAIRIE: Open Public Research Access Institutional Repository and Information Exchange, 2010',\n",
       " 'id': 79945515,\n",
       " 'identifiers': [{'identifier': 'oai:openprairie.sdstate.edu:greatplainssociologist-1132',\n",
       "   'type': 'OAI_ID'},\n",
       "  {'identifier': '519731483', 'type': 'CORE_ID'}],\n",
       " 'title': 'Book Review: \\\\u3cem\\\\u3eFat Matters: From Sociology to Science\\\\u3c/em\\\\u3e Edited by Gina Tsichlia and Alexandra M. Johnstone',\n",
       " 'language': {'code': 'en', 'name': 'English'},\n",
       " 'magId': None,\n",
       " 'oaiIds': ['oai:openprairie.sdstate.edu:greatplainssociologist-1132'],\n",
       " 'publishedDate': '2022-02-24T19:40:15',\n",
       " 'publisher': 'Open PRAIRIE: Open Public Research Access Institutional Repository and Information Exchange',\n",
       " 'pubmedId': None,\n",
       " 'references': [],\n",
       " 'sourceFulltextUrls': ['https://openprairie.sdstate.edu/cgi/viewcontent.cgi?article=1132&amp;context=greatplainssociologist'],\n",
       " 'updatedDate': '2022-06-08T17:37:00',\n",
       " 'yearPublished': 2022,\n",
       " 'journals': [],\n",
       " 'links': [{'type': 'download',\n",
       "   'url': 'https://core.ac.uk/download/519731483.pdf'},\n",
       "  {'type': 'reader', 'url': 'https://core.ac.uk/reader/519731483'},\n",
       "  {'type': 'thumbnail_m', 'url': 'https://core.ac.uk/image/519731483/medium'},\n",
       "  {'type': 'thumbnail_l', 'url': 'https://core.ac.uk/image/519731483/large'},\n",
       "  {'type': 'display', 'url': 'https://core.ac.uk/works/79945515'}]}"
      ]
     },
     "execution_count": 131,
     "metadata": {},
     "output_type": "execute_result"
    }
   ],
   "source": [
    "# a book review: the abstract is not actually informative\n",
    "results[81]"
   ]
  },
  {
   "cell_type": "code",
   "execution_count": 132,
   "metadata": {},
   "outputs": [
    {
     "data": {
      "text/plain": [
       "{'acceptedDate': None,\n",
       " 'arxivId': None,\n",
       " 'authors': [],\n",
       " 'citationCount': None,\n",
       " 'contributors': [],\n",
       " 'outputs': ['https://api.core.ac.uk/v3/outputs/548537633'],\n",
       " 'createdDate': '2022-12-10T02:00:32',\n",
       " 'dataProviders': [{'id': 4636,\n",
       "   'name': '',\n",
       "   'url': 'https://api.core.ac.uk/v3/data-providers/4636',\n",
       "   'logo': 'https://api.core.ac.uk/data-providers/4636/logo'}],\n",
       " 'depositedDate': None,\n",
       " 'abstract': 'Across Africa, growing economic inequality, instability and urbanization have led to the rapid spread of private security providers. While these PSPs have already had a significant impact on African societies, their impact has so far received little in the way of comprehensive analysis. Drawing on a wide range of disciplinary approaches, and encompassing anthropology, sociology and political science, Private Security in Africa offers unique insight into the lives and experiences of security providers and those affected by them, as well as into the fragile state context which has allowed them to thrive. Featuring original empirical research and case studies ranging from private policing in South Africa to the recruitment of Sierra Leoneans for private security work in Iraq, the book considers the full implications of PSPs for security and the state, not only for Africa but for the world as a whole',\n",
       " 'documentType': '',\n",
       " 'doi': '10.5040/9781350221987',\n",
       " 'downloadUrl': 'https://core.ac.uk/download/548537633.pdf',\n",
       " 'fieldOfStudy': None,\n",
       " 'fullText': 'Activity PackSelf-acceptance Anxiety Temper Friendship ResilienceActivity PackNorman had always been normal, perfectly normal, until one day when he grew a pair of wings! Draw some wonderful wings on Norman in the box below. @KidsBloomsburyA warmly reassuring story about f inding the courage to be yourself!Drawn by ……………………………………bloomsbury.com/childrensColour in Norman’s wings.Coloured in by ……………………………………A warmly reassuring story about f inding the courage to be yourself!bloomsbury.com/childrens@KidsBloomsburyCan you help Norman find his friends by completing the maze below?Turn to the back to see the answers!A warmly reassuring story about f inding the courage to be yourself!bloomsbury.com/childrens@KidsBloomsburyAnswer SheetMore terrific tales by Tom PercivalA warmly reassuring story about f inding the courage to be yourself!bloomsbury.com/childrens@KidsBloomsburyActivity PackCONNECT THE DOTS Can you connect the dots to complete Ruby’s spotty dress?1 •12•5 •13 •14 •6 •7 ••8 9•2 •10 •11 •• 3•15•4DRAWINGWhat does your Worry look like? Draw him in the space below.WORRY-BUSTERWhen you get a Worry how do you make yourself feel better? Do you play with a pet? Do you go outside? Do you talk to a friend? In the space below draw a picture that shows us what you do to shrink your Worry.Activity Pack Colouring in! When Ravi gets angry, he turns into a TIGER!  Can you colour him in to help show how he feels? How are you feeling at the moment?  Draw an animal that represents your feelings right now! When you get angry, what do you do to stay calm?  Write or draw them in the space below!Count to ten Take a deep breathTalk to  a friendRavi is chasing Biscuits the dog!  Can you help him catch up by directing him  through the maze?Activity PackCan you help Meesha make  her world bright and colourful? Use your pencils to colour in the picture below.Meesha makes lots of her own friends  using paper, pens and things around the house.  Draw a friend for yourself in the circle below,  then ask a grown-up to cut it out and  stick it to a box or bottle. What are the most important  things for a friend to be?  Write them below.kindfunnyfunnyMeesha has made lots of friends!  Can you draw yourself and some  of your friends with them?Activity PackSpot the difference! There are five differences  between these two pictures of Tilda.  Can you find them all?Even when things feel really difficult,  it’s always worth trying again – like Tilda!  Can you think of a time you had to try really hard to do something? Draw yourself below:Tilda is with her friends,  Ruby, Ravi, Norman and Meesha.  Colour them in!Tilda is being brave and is  going to see her friends at the park! Can you help her find her way  through the maze to them?SOLUTIONSSpot the difference! MazeSelf-acceptance Anxiety Temper Friendship Resilience',\n",
       " 'id': 138850603,\n",
       " 'identifiers': [{'identifier': '548537633', 'type': 'CORE_ID'},\n",
       "  {'identifier': 'oai:directory.doabooks.org:20.500.12854/94609',\n",
       "   'type': 'OAI_ID'},\n",
       "  {'identifier': '10.5040/9781350221987', 'type': 'DOI'}],\n",
       " 'title': 'Private security in Africa',\n",
       " 'language': {'code': 'en', 'name': 'English'},\n",
       " 'magId': None,\n",
       " 'oaiIds': ['oai:directory.doabooks.org:20.500.12854/94609'],\n",
       " 'publishedDate': '2022-12-06T16:13:43',\n",
       " 'publisher': \"'Bloomsbury Academic'\",\n",
       " 'pubmedId': None,\n",
       " 'references': [],\n",
       " 'sourceFulltextUrls': ['https://www.bloomsbury.com/media/q4flsuyp/big-bright-feelings-activity-pack-bundle.pdf'],\n",
       " 'updatedDate': '2023-02-12T18:31:19',\n",
       " 'yearPublished': 2022,\n",
       " 'journals': [],\n",
       " 'links': [{'type': 'download',\n",
       "   'url': 'https://core.ac.uk/download/548537633.pdf'},\n",
       "  {'type': 'reader', 'url': 'https://core.ac.uk/reader/548537633'},\n",
       "  {'type': 'thumbnail_m', 'url': 'https://core.ac.uk/image/548537633/medium'},\n",
       "  {'type': 'thumbnail_l', 'url': 'https://core.ac.uk/image/548537633/large'},\n",
       "  {'type': 'display', 'url': 'https://core.ac.uk/works/138850603'}]}"
      ]
     },
     "execution_count": 132,
     "metadata": {},
     "output_type": "execute_result"
    }
   ],
   "source": [
    "# results with too-short text often have problems: e.g. this is just garbage\n",
    "results[116]"
   ]
  },
  {
   "cell_type": "markdown",
   "metadata": {},
   "source": [
    "# Trying to limit to journal articles"
   ]
  },
  {
   "cell_type": "code",
   "execution_count": 7,
   "metadata": {},
   "outputs": [
    {
     "name": "stdout",
     "output_type": "stream",
     "text": [
      "14383786\n"
     ]
    }
   ],
   "source": [
    "articles_raw = query_works(\n",
    "    \"_exists_:journals OR _exists_:acceptedDate\",\n",
    "    limit=500\n",
    ")\n",
    "print(articles_raw['totalHits'])\n",
    "articles_results = articles_raw['results']"
   ]
  },
  {
   "cell_type": "code",
   "execution_count": 13,
   "metadata": {},
   "outputs": [],
   "source": [
    "journals_list = []\n",
    "accepted_date_list = []\n",
    "doi_list = []\n",
    "for article in articles_results:\n",
    "    journals_list.append(article['journals'])\n",
    "    accepted_date_list.append(article['acceptedDate'])\n",
    "    doi_list.append(article['doi'])"
   ]
  },
  {
   "cell_type": "code",
   "execution_count": 39,
   "metadata": {},
   "outputs": [
    {
     "name": "stdout",
     "output_type": "stream",
     "text": [
      "length of journals list:\n",
      "1    481\n",
      "0     15\n",
      "Name: count, dtype: int64\n",
      "\n",
      "keys of journalist list:\n",
      "(title, identifiers)    481\n",
      "Name: count, dtype: int64\n",
      "\n",
      "missing values\n",
      "title          394\n",
      "identifiers     15\n",
      "dtype: int64\n"
     ]
    }
   ],
   "source": [
    "print('length of journals list:', pd.Series([len(entry) for entry in journals_list]).value_counts(), sep='\\n')\n",
    "print('\\nkeys of journalist list:', pd.Series([entry[0].keys() for entry in journals_list if len(entry)>0]).value_counts(), sep='\\n')\n",
    "journals_df = pd.DataFrame([entry[0] if len(entry)>0 else {'title': None, 'identifiers': None} for entry in journals_list])\n",
    "print('\\nmissing values', journals_df.isna().sum(), sep='\\n')"
   ]
  },
  {
   "cell_type": "code",
   "execution_count": 46,
   "metadata": {},
   "outputs": [
    {
     "name": "stdout",
     "output_type": "stream",
     "text": [
      "Accepted date\n",
      "\n",
      "count                     496\n",
      "unique                    396\n",
      "top       2010-01-01T00:00:00\n",
      "freq                        7\n",
      "dtype: object\n"
     ]
    }
   ],
   "source": [
    "print('Accepted date\\n')\n",
    "accepted_dates = pd.Series(accepted_date_list)\n",
    "print(accepted_dates.describe())"
   ]
  },
  {
   "cell_type": "code",
   "execution_count": 55,
   "metadata": {},
   "outputs": [
    {
     "data": {
      "text/plain": [
       "{'acceptedDate': '2008-02-07T00:00:00',\n",
       " 'arxivId': None,\n",
       " 'authors': [{'name': 'Andrews, D. L.'}, {'name': 'Bradshaw, D.S.'}],\n",
       " 'citationCount': None,\n",
       " 'contributors': ['Powers, PE'],\n",
       " 'outputs': ['https://api.core.ac.uk/v3/outputs/193164484',\n",
       "  'https://api.core.ac.uk/v3/outputs/2783113'],\n",
       " 'createdDate': '2012-05-02T18:04:13',\n",
       " 'dataProviders': [{'id': 4786,\n",
       "   'name': '',\n",
       "   'url': 'https://api.core.ac.uk/v3/data-providers/4786',\n",
       "   'logo': 'https://api.core.ac.uk/data-providers/4786/logo'},\n",
       "  {'id': 124,\n",
       "   'name': '',\n",
       "   'url': 'https://api.core.ac.uk/v3/data-providers/124',\n",
       "   'logo': 'https://api.core.ac.uk/data-providers/124/logo'}],\n",
       " 'depositedDate': '2008-02-07T00:00:00',\n",
       " 'abstract': 'The possibility of influencing resonance energy transfer through the input of off-resonant pulses of laser radiation is the subject of recent research. Attention is now focused on systems in which resonance energy transfer is designedly precluded by geometric configuration. Here, through an optically nonlinear mechanism - optically controlled resonance energy transfer - the throughput of non-resonant pulses can facilitate energy transfer that is, in their absence, completely forbidden. The system thus functions as an optical buffer, with excitation throughput switched on by the secondary beam. For applications, a system based on two parallel nano-arrays is envisaged. This paper will establish and discuss the principles - those that can be exploited to enhance switching characteristics and efficiency, and others (such as off-axis excitation transfer) that may represent cross-talk limitations. Principles to be explored in detail are the interplay between geometric features, including the array architecture and repeat distance (lattice constant), the array spacing and translational symmetry, the orientations of the transition dipoles, and the magnitude of the relevant components of the nonlinear response tensors. The aim is, through a determination of key parameters, to inform a program of optimization that can deliver specific criteria for realizing the most efficient systems for implementation',\n",
       " 'documentType': 'research',\n",
       " 'doi': '10.1117/12.764448',\n",
       " 'downloadUrl': 'https://core.ac.uk/download/2783113.pdf',\n",
       " 'fieldOfStudy': 'physics',\n",
       " 'fullText': \"Optical control and switching of excitation  \\ntransfer in nano-arrays \\n \\nDavid S. Bradshaw and David L. Andrews*\\n                                                          \\n*\\n david.andrews@physics.org \\nNanostructures and Photomolecular Systems, School of Chemical Sciences,  \\nUniversity of East Anglia, Norwich NR4 7TJ, U.K. \\n \\nABSTRACT \\n \\nThe possibility of influencing resonance energy transfer through the input of off-resonant pulses of laser radiation is the \\nsubject of recent research.  Attention is now focused on systems in which resonance energy transfer is designedly \\nprecluded by geometric configuration.  Here, through an optically nonlinear mechanism – optically controlled resonance \\nenergy transfer – the throughput of non-resonant pulses can facilitate energy transfer that is, in their absence, completely \\nforbidden.  The system thus functions as an optical buffer, with excitation throughput switched on by the secondary \\nbeam.  For applications, a system based on two parallel nano-arrays is envisaged.  This paper will establish and discuss \\nthe principles – those that can be exploited to enhance switching characteristics and efficiency, and others (such as off-\\naxis excitation transfer) that may represent cross-talk limitations.  Principles to be explored in detail are the interplay \\nbetween geometric features, including the array architecture and repeat distance (lattice constant), the array spacing and \\ntranslational symmetry, the orientations of the transition dipoles, and the magnitude of the relevant components of the \\nnonlinear response tensors.  The aim is, through a determination of key parameters, to inform a program of optimization \\nthat can deliver specific criteria for realizing the most efficient systems for implementation.   \\n \\nKeywords: Nanophotonics, energy transfer, quantum electrodynamics, near-field, optical transistor, optical switching, \\nnano-array  \\n \\n \\n1. INTRODUCTION \\n \\nAs the speed of ultrafast communications, sensing and computer processing maintains an apparently unabated rise, the \\nneed to achieve ever faster switching capability becomes increasingly pressing.  Although electronics capabilities \\ngenerally continue to improve according to Moore's Law, all-optical systems have a clear potential for much greater \\nbandwidths and speeds – circumventing the bottlenecks that can often result from opto-electronic conversion.  For many \\nyears it has been known that all-optical switching, based on various forms of photonic interaction in which light is \\ncontrolled by light, is not only technically realizable but has the potential to revolutionize telecommunications and \\ncomputing.  Not surprisingly, numerous implementation strategies have been entertained, and many are the subject of \\nvigorous ongoing research.  This paper presents an analysis of a novel optical control mechanism – initially outlined by \\none of the present authors.1-3 \\n \\n Resonance energy transfer is the principal process for the intermolecular redistribution of electronic energy \\nfollowing initial (usually optical) excitation.4  In its simplest form known as Förster transfer, it involves a simple \\nrelocation of energy from an electronically excited donor A to an acceptor B in its ground state.  By input of an auxiliary \\nlaser field this energy transfer may be enhanced by a laser-assisted resonance energy transfer (LARET) mechanism, \\nwhose efficiency scales linearly with the laser intensity.5  Calculations have shown that LARET can offer a several-fold \\nincrease in the rate of energy transfer, even for modest pulsed laser intensities of around 1012 W cm–2.6  Optically \\ncontrolled resonance energy transfer (OCRET) is a related process, differing from LARET in that an important \\nconfigurable condition is applied.  This condition requires the transition dipole moments of the donor and acceptor, and \\ntheir mutual displacement vector, to be mutually perpendicular – thus excluding a Förster process that would otherwise  \\n \\n  \\n \\n \\n \\n \\n \\n \\n \\n \\n \\n \\n \\n \\n \\n \\nFigure 1.  Graphic depiction of a parallel pair of two-dimensional hexagonal-lattice arrays \\n \\n \\nbe possible on symmetry and energetic grounds.7  By application of the off-resonant laser beam the transfer of energy is \\nactivated, effecting all-optical switching action.   \\n \\n In the following we develop the fundamental electrodynamic theory for the OCRET mechanism, identifying in \\ndetail the geometric, optical and molecular structural conditions for it to occur between a single donor-acceptor pair \\n(Section 2).  The analysis is then extended to several arrangements – one of which is figuratively illustrated by Fig. 1 – \\nthat could be useful for realistic all-optical switches, taking into account the requirement for a multiplicity of such donor-\\nacceptor partners to operate independently, without significant cross-talk.  The specific geometric configurations to be \\nexamined are one-dimensional linear arrays (Section 3), two-dimensional square-lattice arrays (Section 4) and \\nhexagonal-lattice arrays (Section 5).  Further implementation issues are addressed in the concluding Section 6. \\n \\n \\n2. COUPLING PAIR \\n \\nTo specifically determine the rate of energy transfer for the OCRET mechanism, a time-dependent perturbation theory \\nmethod is required.  Details of the calculation, which is used to establish the quantum amplitudes of the system, are fully \\ndescribed in refs 5 and 6 and they are not repeated here.  The OCRET mechanism is distinguished by the fact that the \\nquantum amplitude for Förster transfer has a null result – a consequence of the orthogonal triad condition, i.e. \\nR ⊥ µA ⊥ µB, where R is the donor-acceptor displacement vector, and µA, µB are the salient transition dipole moments of \\nthe two molecules.8  In the near-field, the quantum amplitude arising from the input auxiliary beam is given by;  \\n  \\n \\n( ) ( ) ( ) ( ) ( ) ( )( )4 2 3\\n0\\nˆ ˆ3\\n8\\nA B B A\\nfi i l jk j k ij lk ij lk\\nn ckM e e R R S k S k S k S k\\nVR\\nδ\\npiε\\n\\uf8eb \\uf8f6\\n= − − + −\\uf8ec \\uf8f7\\n\\uf8ed \\uf8f8\\nℏ\\n  , (1) \\n \\nwhere n is the number of photons (proportional to intensity) in the quantization volume V, and the implied summation  \\n            \\n  \\n \\n \\n \\n \\n \\n \\n \\n \\n \\nFigure 2.  Feynman diagrams for OCRET \\n \\nconvention for repeated Cartesian tensor indices is employed.  Furthermore, e and ћck denote the polarization vector (an \\noverbar denoting complex conjugation) and energy of the input photon, respectively.  Each of the two terms of equation \\n(1), illustrated by the Feynman diagrams of Fig. 2, represents a fourth order photonic interaction event, necessitating \\ndeployment of a fourth-order perturbation treatment as indicated by the superscript of Mfi.  Also in (1) is the generalized \\npolarizability, ( )ijS kξ ± , explicitly given by;  \\n \\n ( )\\nfr ri fr ri\\ni j j i\\nij\\nr rf ri\\nS k\\nE ck E ck\\nξ µ µ µ µ\\uf8f1 \\uf8fc\\uf8f4 \\uf8f4± = +\\uf8f2 \\uf8fd±\\uf8f4 \\uf8f4\\uf8f3 \\uf8fe\\n∑ ɶ ɶℏ ∓ ℏ\\n  , (2) \\n \\nwhere the transition dipole moments are designated by the shorthand notation xy x y=µ µ , energy differences are \\nexpressed in the form xy x yE E E= − , and tildes denote the necessary inclusion of damping terms if the theory were to be \\napplied under near-resonance conditions9-15 – though the present analysis focuses solely on off-resonant photon \\nabsorption, and as such the tildes will henceforth be omitted.  Further, f signifies the final electronic state of molecule ξ, i \\nis the initial state, and r, s are intermediates.  To a good approximation, let it be assumed that the sums of equation (2) are \\nlimited to the three states that determine the most prominent optical features.  These are denoted 0 , σ , α  for donor \\nA, and 0 , τ , β  for acceptor B – where α  and β  are the levels between which energy transfer occurs.  It is also \\nexpedient to select a frequency for the input radiation that has a resonance offset with respect to the positioning of these \\nlevels, a condition expressible as AE ck Eσα = + ∆ℏ , where AE∆  is a non-zero energy with magnitude significantly lower \\nthan a typical transition energy.  An expression of similar form, BE ck Eτβ = + ∆ℏ , is assumed for B.  The outcome of \\napplying these conditions is that one summand is significantly larger in magnitude than the rest.  Hence, equation (1) \\nbecomes; \\n \\n \\n( ) ( )( ) ( )( )( )4 0 0 0 02 3\\n0\\nˆ ˆ3\\n8fi A B\\nn ck\\nM\\nVR E E\\nσα βτ\\nσ τ σ τ\\npiε\\n\\uf8eb \\uf8f6\\n⋅ ⋅\\n\\uf8ec \\uf8f7= ⋅ − ⋅ ⋅\\n\\uf8ec \\uf8f7∆ ∆\\n\\uf8ed \\uf8f8\\ne e\\nR R\\nℏ µ µ\\nµ µ µ µ   . (3) \\n  \\n Next, to proceed to the geometric conditions, we introduce a Cartesian basis in which the donor-acceptor \\ndisplacement vector R is identified with the z-direction.  The vectors 0ˆ ˆA\\nα\\n≡µ µ  and 0ˆ ˆB β≡µ µ  are chosen unambiguously \\nas being directed in the ˆi  and ˆj  directions respectively and, by a judicious choice which is fully justifiable on symmetry \\ngrounds, 0 ˆˆ σ = kµ  and ˆˆ σα = jµ .  Due to the mutually orthogonal triad of vectors that determines the conditions for \\nOCRET, the dipole orientations of the acceptor are easily determined by taking these vectors and rotating each by 90° \\naround the z-axis, so that 0 ˆˆ τ = kµ  and ˆˆ βτ = −iµ .  For convenience A and B are chosen to belong to identical symmetry \\ngroups, although the same calculational method allows for systems where this is not necessarily the case.  Therefore, \\nemploying this configuration, equation (3) becomes; \\n  \\n( )\\n4\\n4 2\\n2 3\\n0\\nsin cos sin\\n8fi A B\\nn ck\\nM\\nVr E E\\nκ φ θ θ\\npiε\\n\\uf8eb \\uf8f6′\\n−\\n\\uf8ec \\uf8f7=\\n\\uf8ec \\uf8f7∆ ∆\\uf8ed \\uf8f8\\nℏ µ\\n  , (4) \\n \\nwhere the orientation factor is ( )2 2 23 2R r Rκ ′ = − = −  given that ˆr=R k , r being the displacement of B from A.  \\nFurthermore, the given angles denote the orientation of e in spherical coordinates (with the input photon polarization \\ntaken as linear).  In addition, all transition dipole moments will have similar magnitude – thus, for simplicity, assumed to \\nbe equal.  Equation (4) clearly delivers a non-zero result, unlike the now precluded Förster transfer.  The time-dependent \\nprobability, P(t), that the energy transfer process can proceed is secured from the Fermi’s Golden Rule,16 here \\nexpressible in the form; \\n \\n ( ) 2(2) (4)\\n0\\n2\\n... d\\nt\\nf\\nfi fiP t M M t\\npiρ\\n= + +∫\\nℏ\\n  , (5) \\n \\nwith higher-order quantum amplitudes rapidly diminishing in magnitude.  Here, the second-order contribution (2)fiM  \\ncorresponds to RET – a null quantity in this case – and fρ  is the density of states.  Inserting (4) into (5) gives the \\nexpression; \\n \\n ( )\\n2\\n4 2 2\\n6\\n4\\nsin cos sinKC JP t\\nr\\nφ θ θ′=   , (6) \\n  \\nwhere the variables are defined as 4 208fK ρ piε= ℏµ , \\n2\\n02 A BC c E Eε= ∆ ∆µ  and ( )20 dtJ I t t′ = ∫ , in which \\n( ) 2I t n c k V≡ ℏ  is the irradiance.  It is noteworthy that with 0φ = ° , 0θ = °  or 90θ = ° , no energy transfer to the \\nacceptor occurs. \\n \\n \\n3. ONE-DIMENSIONAL LINEAR ARRAYS \\n \\nTo extend and develop the pair model of the last section into that of a potentially workable all-optical switch, we shall \\ninitially investigate the case of coupling between two one-dimensional linear arrays – each of which is composed of \\nequally spaced, identical molecules.  These are constructed such that each constituent molecule of the donor array \\ndirectly corresponds to a counterpart within the acceptor array; these pairs are given the coordinate u (an integer value) \\nand are displaced, one from each other, by ˆrk .  Furthermore, all molecules in the donor and acceptor arrays are \\norientated in the ˆi  and ˆj  directions, respectively, i.e. the principal condition of OCRET is satisfied.  This linear array \\nsystem is equivalent to a single row of Fig. 3.  It is expedient to focus on processes by means of which energy can \\ntransfer from any one specific excited donor (for convenience located at u = 0) to any other molecule.  First we consider \\nenergy relocation to any single, arbitrary molecule within the acceptor array.  To find the relevant quantum amplitude, \\nthe same mathematical process is utilized as the preceding section up to equation (4) when, as ˆ ˆul r= +R i k  in this \\ninstance (where l is the lattice constant), we find; \\n \\n \\n( )\\n( )\\n4 2 2\\n4 2\\n2 3 5\\n2 20 2\\n2\\nsin cos sin\\n8fi A B\\nn ck u rM\\nl V E E\\nu r\\nφ θ θ\\npiε\\n\\uf8eb \\uf8f6\\n\\uf8eb \\uf8f6\\n− ′\\uf8ec \\uf8f7−\\n\\uf8ec \\uf8f7= \\uf8ec \\uf8f7\\uf8ec \\uf8f7∆ ∆ \\uf8ec \\uf8f7\\uf8ed \\uf8f8 ′+\\uf8ed \\uf8f8\\nℏ µ\\n  , (7) \\n    \\nsince ( ) ( )2 2 2 22u r u rκ ′ ′ ′= − + , in which r r l′ =  is the aspect ratio.  As anticipated it is clear that equation (7) is  \\n \\n  \\n \\n \\n \\n \\n \\n \\n \\n \\n \\n \\n \\n \\n \\n \\n \\n \\n \\n \\n \\n \\nFigure 3.  Structure of the parallel arrays, viewed from above. Both lie in the ij-plane, with all donor transition moments (black) in the \\nupper array parallel to the i-axis, and all acceptor transition moments (gray) in the lower array parallel to the j-axis.  \\nThe open arrows represent one excited donor and its counterpart acceptor. \\n \\n \\n \\n \\n \\n \\n \\n \\n \\n \\n \\n \\n \\n \\n \\n \\n \\n \\n \\n \\n \\n \\n \\n \\n \\nFigure 4.  Plot of log P(t), the time-dependent probability, against the aspect ratio, r′, for optical transfer from an excited molecule in \\nthe donor linear array to the required destination in the acceptor linear array (0-0); also depicted are the ‘cross-talk’ probabilities for   \\ntransfer to another molecule in either the acceptor (d-a) or the donor (d-d) array, and the sum of all three transfer possibilities (Total).   \\nInsert: difference between 0-0 and the sum for various r′, where on the ordinate axis each 0.01 difference corresponds to 2.3% loss.  \\n \\nidentical to (4) with u set as null.  Inserting (7) into (5) gives the expression; \\n \\n ( ) ( )( )\\n22 2 2\\n4 2 2\\n56 2 2\\n2\\nsin cos sin\\nKC J u r\\nP t\\nl u r\\nφ θ θ′ ′−=\\n′+\\n  . (8) \\n \\nNext to be considered is the case of energy transfer from the initially excited molecule to another within the donor array.  \\nHere the corresponding expression is analogous to equation (8), but with r′ equal to zero.  The subsequent aim is to \\ncompare and contrast the probability of energy relocation to the excited donor’s partner in the acceptor array, against the \\nsum of probabilities for transfer to all other molecules within both arrays.  This is achieved by a graphical depiction of \\nP(t), with arbitrary units, for different transfer destinations as shown in Fig. 4.  In this representation, energy transfer \\noutside the range u = ±10 is negligible.  Calculations are performed with ∆E = 3.3 × 10–20 J, µ  = 1 × 10–29 C m, φ = 90° \\nand θ = 45°.  As the different curves within Fig. 4 illustrate, the transfer of energy from the excited donor to the \\ncorresponding molecule in the acceptor array, i.e. migration between the pair at u = 0, greatly dominates all other transfer \\npossibilities combined for an aspect ratio up to 0.5.  In fact no less than 98.9% of the total excitation is transported to the \\nrequired destination.  Conversely, on changing the aspect ratio to r′ = 1, the amount of cross-talk to other molecules \\nbecomes very significant, with 35.4% of the desired transfer lost (see Fig. 4, insert).  Notably (unlike the following \\ntwo-dimensional systems) the destination of the initial excitation is not dependent on the laser intensity.  Results from \\nthis section clearly show that, with favorable r′ values, linear arrays are tenable as components in an all-optical switch.  \\nNonetheless, a practically more useful solution will be based on two-dimensional arrays, the subject of the next two \\nsections. \\n \\n \\n4. TWO-DIMENSIONAL SQUARE-LATTICE ARRAYS \\n \\nA system more feasible as an all-optical switch involves a pair of two-dimensional square-lattice arrays (Fig. 3).  To \\ndevelop theory for this system, the linear arrays of the previous section are expanded into two dimensions – so that each \\nmolecule within an array is now labeled (u, v), where u and v are integers, and also ˆ ˆ ˆul vl r= +R i + j k .  In this case RET \\nis no longer always null, and may occur between the donor and off-axis molecules,1 i.e. where u ≠ 0  and v ≠ 0 .  To find \\nan expression for P(t) for this system the following equation, as determined in earlier RET work,17 is required;  \\n \\n \\n( ) ( )\\n2 2 2\\n2 2\\n2 2 6\\n016\\nA B\\nfi fiM M R\\nκ\\npi ε\\n\\uf8eb \\uf8f6\\n\\uf8ec \\uf8f7=\\n\\uf8ec \\uf8f7\\n\\uf8ed \\uf8f8\\nµ µ\\n  , (9) \\n \\nwhere cos 3cos cosκ θ φ γ= −  (with θ  the angle between Aµ  and Bµ , and φ , γ  the angles between R and Aµ , \\nBµ  respectively).  In application to this system equation (9) becomes; \\n \\n   \\n( )\\n( )\\n4 2 222\\n2 2 6 52 2 2\\n0\\n9\\n16fi\\nu vM\\nl u v rpi ε\\n\\uf8eb \\uf8f6\\uf8eb \\uf8f6\\n\\uf8ec \\uf8f7\\uf8ec \\uf8f7=\\n\\uf8ec \\uf8f7\\uf8ec \\uf8f7\\n′+ +\\uf8ed \\uf8f8\\uf8ed \\uf8f8\\nµ\\n  , (10) \\n \\nsince ( )2 2 23uv u v rκ ′= − + + .  The transfer contribution due to OCRET is determined analogously, to give; \\n \\n   \\n( )\\n( )\\n4 2 2 2\\n4 2\\n2 3 5\\n2 2 20 2\\n2\\nsin cos sin\\n8fi A B\\nn ck u v rM\\nl V E E\\nu v r\\nφ θ θ\\npiε\\n\\uf8eb \\uf8f6\\n\\uf8eb \\uf8f6\\n− ′\\uf8ec \\uf8f7+ −\\n\\uf8ec \\uf8f7= \\uf8ec \\uf8f7\\uf8ec \\uf8f7∆ ∆ \\uf8ec \\uf8f7\\uf8ed \\uf8f8 ′+ +\\uf8ed \\uf8f8\\nℏ µ\\n  , (11) \\n \\n  \\n \\n \\n \\n \\n \\n \\n \\n \\n \\n \\n \\n \\n \\n \\n \\n \\n \\n \\n \\n \\n \\nFigure 5.  Graph illustrating log P(t) against r′ for pair of two-dimensional square arrays.  Here, the intensity I of the input laser is \\n1×1012 W cm–2 and the key is that of Fig. 4. \\n \\n \\n \\n \\n \\n \\n \\n \\n \\n \\n \\n \\n \\n \\n \\n \\n \\n \\n \\n \\n \\n \\n \\n \\n \\n \\n \\n \\nFigure 6.  Graph as Fig. 5, but for I = 1×1010 W cm–2. \\n \\nas ( ) ( )2 2 2 2 2 22u v r u v rκ ′ ′ ′= + − + + .  Employing equations (10) and (11) with (5), the following is determined; \\n \\n  \\n \\n( ) ( ) ( )\\n( )\\n2 2 2 2 2 2\\n56 2 2 2\\n22 2 2 2 4 2 2\\n9 6 2 sin cos sin\\n2 sin cos sin ,\\nKP t u v t CJuv u v r\\nl u v r\\nC J u v r\\nφ θ θ\\nφ θ θ\\n\\uf8ee ′= + + −\\uf8f0\\n′+ +\\n\\uf8f9′ ′+ + − \\uf8fa\\uf8fb\\n \\n(12)\\n \\n \\nwhere the fluence ( )0 dtJ I t t= ∫ .  As earlier for linear arrays, a graphical depiction of P(t) for various transfer \\ndestinations (see Figs 5 and 6) is used to analyze the probability of energy transfer to the excited donor’s partner in the \\nacceptor array against the summed probabilities for transportation of the energy to all other molecules.  Calculations are \\nperformed with the same parameter values as previously employed.  The laser intensity, which for simplicity is assumed \\ntime-independent, takes the value of 1×1012 W cm–2 and 1×1010 W cm–2, for Figs 5 and 6 respectively.  From a \\ncomparison of these graphical representations, it is clear that intensity is a major contributing factor in determining the \\ndestination of the donor excitation.  To achieve transfer losses less than 5% the aspect ratio, r′, can be little over 0.3 for \\nI = 1×1012 W cm–2, or 0.06 for 1×1010 W cm–2.  These r′ values are both practicable, but in the latter case may be most \\nreadily implemented through an expansion of the lattice constant, compromising the miniature dimensions of a device.  \\nThe next section will determine whether these values can be improved upon, by examining two-dimensional \\nhexagonal-lattice arrays as alternative components for realization as an all-optical switch. \\n \\n \\n5. TWO-DIMENSIONAL HEXAGONAL-LATTICE ARRAYS \\n \\nIn the investigation of an array of two-dimensional hexagonal-lattices, it is convenient to choose a coordinate system \\nwhere 1 2 ˆˆ ˆul vl r= +R a + a k , which is converted into Cartesian coordinates so that; \\n \\n ( ) ( )3 ˆ ˆ ˆ\\n2 2\\nl l\\nu v u v r= − + +R i + j k   . (13) \\n \\nFor a pair of hexagonal-lattices, RET is possible from the donor to all other molecules, except where u = v or u = −v, as \\nis determined from the following expression; \\n \\n   \\n( ) ( ) ( )\\n( ) ( )( )\\n4 2 2\\n22\\n2 2 6 52 2 20\\n108\\n3 4\\nfi\\nu v u v\\nM\\nl u v u v rpi ε\\n\\uf8eb \\uf8f6\\n\\uf8eb \\uf8f6\\n− +\\uf8ec \\uf8f7\\n\\uf8ec \\uf8f7= \\uf8ec \\uf8f7\\uf8ec \\uf8f7\\n′\\uf8ec \\uf8f7− + + +\\uf8ed \\uf8f8\\n\\uf8ed \\uf8f8\\nµ\\n  , (14) \\n    \\nand ( ) ( ) ( ) ( )( )2 2 23 3 3 4u v u v u v u v rκ ′= − − + − + + + .  The transfer contribution due to OCRET is resolved by \\nreplicating the previous method, and hence; \\n \\n \\n( ) ( ) ( )\\n( ) ( )( )\\n4 2 2 2\\n4 2\\n2 3 5\\n2 20 2 2\\n3\\nsin cos sin\\n3 4\\nfi\\nA B\\nn ck u v u v r\\nM\\nl V E E\\nu v u v r\\nφ θ θ\\npiε\\n\\uf8eb \\uf8f6\\n\\uf8ec \\uf8f7\\uf8eb \\uf8f6 ′\\n− − + + +\\n\\uf8ec \\uf8f7= \\uf8ec \\uf8f7\\n\\uf8ec \\uf8f7∆ ∆ \\uf8ec \\uf8f7\\uf8ed \\uf8f8 ′\\uf8ec \\uf8f7− + + +\\n\\uf8ed \\uf8f8\\nℏ µ\\n  , (15) \\n \\n \\n \\n  \\n \\n \\n \\n \\n \\n \\n \\n \\n \\n \\n \\n \\n \\n \\n \\n \\n \\n \\n \\nFigure 7.  Graph illustrating log P(t) against r′ for pair of two-dimensional hexagonal arrays.  Here, the intensity I of the input laser is \\n1×1012 W cm–2 and key is given by Fig. 4. \\n \\n \\n \\n \\n \\n \\n \\n \\n \\n \\n \\n \\n \\n \\n \\n \\n \\n \\n \\n \\n \\n \\n \\n \\nFigure 8.  Graph as Fig. 7, but for I = 1×1010 W cm–2. \\nsince ( ) ( )( ) ( ) ( )( )2 2 2 22 23 3 4u v u v r u v u v rκ ′ ′ ′= − + + + − + + + .  Through use of (14) and (15), with (5), the following \\nresult is found; \\n  \\n \\n( ) ( ) ( ) ( )( ) ( ) ( )( )\\n( ) ( )( ) ( ) ( )( )\\n2 2 2 2 2 2\\n6\\n2 52 2 2 22 2 4 2 2 2\\n1728 384 3 3 sin cos sin\\n64 3 sin cos sin 3 4 .\\nKP t u v u v t CJ u v u v u v u v r\\nl\\nC J u v u v r u v u v r\\nφ θ θ\\nφ θ θ −\\n\\uf8ee ′= − + + − + − + + +\\n\\uf8f0\\n\\uf8f9\\n′ ′ ′+ − + + + − + + +\\uf8fa\\uf8fb\\n   \\n(16)\\n \\n \\nIn the same manner as previously, various plots of P(t) are constructed (Figs 7 and 8).  On comparing these graphs it \\nagain transpires that the laser intensity plays a major role, as earlier for the square-lattice array system.  To achieve \\ntransfer losses less than 5% in this case, r′ cannot be much greater than 0.11 for I = 1×1012 W cm–2, or 0.025 for 1×1010 \\nW cm–2 – values that are not favorable in comparison to the previous two-dimensional arrays system.  This is explained \\nby the fact that RET does not contribute to the transportation of excitation to the desired location, i.e. with u = 0 and \\nv = 0 the first two terms of equation (16) are null, while all other potential destinations contain this RET contribution \\nexcept where u = v or u = −v. \\n \\n \\n6. CONCLUSION \\n \\nThis paper has investigated an all-optical nonlinear process that has potential for a variety of device implementations.  \\nThe distinct features of several potentially fabricated nano-array structures have been analyzed in detail, and their \\nrelative efficiencies and practicality critically assessed.  One-dimensional linear-lattice arrays prove the most efficient for \\ncontrolling the throughput of excitation from initially excited donor species to counterpart acceptors.  Two-dimensional \\narrays are more practically useful, in terms of the trade-off with nanoscale compactness, and square-lattice arrays \\nrepresent a particularly favorable structure.  Hexagonally close-packed arrays, despite their more efficient planar \\npacking, prove less efficient through admitting a greater degree of information loss through cross-talk; the result is a \\nconvenient vindication of the square-lattice arrangement, which also has the advantage of simpler construction.  In \\npractice the layered fabrication of any such structure could be expedited by inclusion of a dielectric material between the \\narrays, which can be expected to further improve transfer efficiency.  Ongoing research will involve an examination of \\nthe effects on transfer efficiency due to; the input of dual incident laser beams of different frequencies, the initial \\nexcitation of various molecules within the donor array, and a detailed analysis of other losses (e.g. through fluorescence).  \\nThere are obvious switching, logic gate and transistor attributes to be explored, but the aspect that might hold the greatest \\npromise for optical communications and data transmission is the capacity of such a system to act as an optical buffer.   \\n \\n \\nACKNOWLEDGEMENTS \\n \\nWe wish to thank the Leverhulme Trust for providing the financial support for this research. \\n \\n \\nREFERENCES \\n \\n1. D. L. Andrews and R. G. Crisp, “Optically activated energy transfer: array implementation”, J. Opt. A 8, pp. \\nS106-S112, 2006. \\n2. D. L. Andrews and R. G. Crisp, “Theory of directed electronic energy transfer”, J. Fluoresc. 16, pp. 191-199, \\n2006. \\n3. R. G. Crisp and D. L. Andrews, “Optical switching in nano-arrays: Transistor action through directed energy \\ntransfer”, Proc. SPIE, 61951I, 2006. \\n4. Resonance Energy Transfer, eds D. L. Andrews and A. A. Demidov (Wiley, Chichester, 1999). \\n5. P. Allcock, R. D. Jenkins and D. L. Andrews, “Laser assisted resonance energy transfer”, Chem. Phys. Lett. \\n301, pp. 228-234, 1999. \\n6. P. Allcock, R. D. Jenkins and D. L. Andrews, “Laser-assisted resonance-energy transfer”, Phys. Rev. A 61, \\n023812, 2000. \\n7. D. L. Andrews, R. G. Crisp and S. Li, “Single and dual beam optical switching of resonance energy transfer”, J. \\nChem. Phys. 127, 174702, 2007. \\n8. D. L. Andrews and D. S. Bradshaw, “Virtual photons, dipole fields and energy transfer: a quantum \\nelectrodynamical approach”, Eur. J. Phys. 25, pp. 845-858, 2004. \\n9. D. L. Andrews, S. Naguleswaran and G. E. Stedman, “Phenomenological damping of nonlinear-optical response \\ntensors”, Phys. Rev. A 57, pp. 4925-4929, 1998. \\n10. D. L. Andrews, L. C. D. Romero and G. E. Stedman, “Polarizability and the resonance scattering of light: \\nDamping sign issues”, Phys. Rev. A 67, 055801, 2003. \\n11. P. W. Milonni and R. W. Boyd. “Influence of radiative damping on the optical-frequency susceptibility”, Phys. \\nRev. A 69, 023814, 2004. \\n12. R. Loudon and S. M. Barnett, “Theory of the linear polarizability of a two-level atom”, J. Phys. B 39, pp. S555-\\nS563, 2006. \\n13. P. R. Berman, R. W. Boyd and P. W. Milonni, “Polarizability and the optical theorem for a two-level atom with \\nradiative broadening”, Phys. Rev. A 74, 053816, 2006. \\n14. S. Mukamel, “Causal versus noncausal description of nonlinear wave mixing: Resolving the damping-sign \\ncontroversy”, Phys. Rev. A 76, 021803, 2007. \\n15. I. Bialynicki-Birula and  T. Sowinski, arXiv.org:0705.2121 [quant-ph]. \\n16. E. Fermi, Nuclear Physics (Chicago, University of Chicago Press, 1950). \\n17. G. J. Daniels, R. D. Jenkins, D. S. Bradshaw and D. L. Andrews, “Resonance energy transfer: The unified \\ntheory revisited”, J. Chem. Phys. 119, pp. 2264-2274, 2003. \\n\",\n",
       " 'id': 1191305,\n",
       " 'identifiers': [{'identifier': '193164484', 'type': 'CORE_ID'},\n",
       "  {'identifier': '2783113', 'type': 'CORE_ID'},\n",
       "  {'identifier': '2134360883', 'type': 'MAG_ID'},\n",
       "  {'identifier': 'oai:ueaeprints.uea.ac.uk:38316', 'type': 'OAI_ID'},\n",
       "  {'identifier': '10.1117/12.764448', 'type': 'DOI'}],\n",
       " 'title': 'Optical control and switching of excitation transfer in nano-arrays',\n",
       " 'language': {'code': 'en', 'name': 'English'},\n",
       " 'magId': '2134360883',\n",
       " 'oaiIds': ['oai:ueaeprints.uea.ac.uk:38316'],\n",
       " 'publishedDate': '2008-02-07T00:00:00',\n",
       " 'publisher': \"'SPIE-Intl Soc Optical Eng'\",\n",
       " 'pubmedId': None,\n",
       " 'references': [],\n",
       " 'sourceFulltextUrls': [],\n",
       " 'updatedDate': '2021-12-22T04:34:16',\n",
       " 'yearPublished': 2008,\n",
       " 'journals': [],\n",
       " 'links': [{'type': 'download',\n",
       "   'url': 'https://core.ac.uk/download/2783113.pdf'},\n",
       "  {'type': 'reader', 'url': 'https://core.ac.uk/reader/2783113'},\n",
       "  {'type': 'thumbnail_m', 'url': 'https://core.ac.uk/image/2783113/medium'},\n",
       "  {'type': 'thumbnail_l', 'url': 'https://core.ac.uk/image/2783113/large'},\n",
       "  {'type': 'display', 'url': 'https://core.ac.uk/works/1191305'}]}"
      ]
     },
     "execution_count": 55,
     "metadata": {},
     "output_type": "execute_result"
    }
   ],
   "source": [
    "articles_results[np.argwhere(journals_df.identifiers.isna())[0,0]]"
   ]
  },
  {
   "cell_type": "markdown",
   "metadata": {},
   "source": [
    "# Limiting to particular journals"
   ]
  },
  {
   "cell_type": "markdown",
   "metadata": {},
   "source": [
    "DOI prefixes do not always uniquely identify journals, e.g. AJS:"
   ]
  },
  {
   "cell_type": "code",
   "execution_count": 71,
   "metadata": {},
   "outputs": [],
   "source": [
    "ajs_metadata = json.loads(requests.get('https://api.crossref.org/journals/0002-9602/').text)"
   ]
  },
  {
   "cell_type": "code",
   "execution_count": 72,
   "metadata": {},
   "outputs": [
    {
     "data": {
      "text/plain": [
       "dict_keys(['last-status-check-time', 'counts', 'breakdowns', 'publisher', 'coverage', 'title', 'subjects', 'coverage-type', 'flags', 'ISSN', 'issn-type'])"
      ]
     },
     "execution_count": 72,
     "metadata": {},
     "output_type": "execute_result"
    }
   ],
   "source": [
    "ajs_metadata.keys()\n",
    "ajs_metadata['message'].keys()"
   ]
  },
  {
   "cell_type": "code",
   "execution_count": 73,
   "metadata": {},
   "outputs": [],
   "source": [
    "ajs_works = json.loads(requests.get('https://api.crossref.org/journals/0002-9602/works/?rows=10').text)"
   ]
  },
  {
   "cell_type": "code",
   "execution_count": 83,
   "metadata": {},
   "outputs": [
    {
     "data": {
      "text/plain": [
       "['10.1086/229722',\n",
       " '10.1086/224050',\n",
       " '10.1086/211605',\n",
       " '10.1086/227449',\n",
       " '10.1086/344856',\n",
       " '10.1086/222711',\n",
       " '10.1086/218764',\n",
       " '10.1086/228842',\n",
       " '10.1086/217470',\n",
       " '10.1086/600025']"
      ]
     },
     "execution_count": 83,
     "metadata": {},
     "output_type": "execute_result"
    }
   ],
   "source": [
    "ajs_works.keys()\n",
    "ajs_works['message'].keys()\n",
    "ajs_works['message']['items'][0]['DOI']\n",
    "[item['DOI'] for item in ajs_works['message']['items']]"
   ]
  },
  {
   "cell_type": "code",
   "execution_count": 5,
   "metadata": {},
   "outputs": [],
   "source": [
    "ajs_raw = query_works(\n",
    "    query_text='10.1086',\n",
    "    limit=100\n",
    ")"
   ]
  },
  {
   "cell_type": "code",
   "execution_count": 6,
   "metadata": {},
   "outputs": [
    {
     "name": "stdout",
     "output_type": "stream",
     "text": [
      "hits:  250330\n",
      "share of sample where doi prefix matches:  0.4444444444444444\n"
     ]
    },
    {
     "data": {
      "text/plain": [
       "[('10.1086/506971',\n",
       "  [{'title': 'The American Naturalist',\n",
       "    'identifiers': ['issn:0003-0147', '0003-0147']}]),\n",
       " ('10.1086/379866', [{'title': None, 'identifiers': ['0021-9398']}]),\n",
       " ('10.1086/202005', [{'title': None, 'identifiers': ['0011-3204']}]),\n",
       " ('10.1086/427638', [{'title': None, 'identifiers': ['0021-9398']}]),\n",
       " ('10.1086/660830', []),\n",
       " ('10.1086/202312', []),\n",
       " ('10.1086/378137', []),\n",
       " ('10.1086/286062', []),\n",
       " ('10.1086/670161', [{'title': None, 'identifiers': ['0026-8232']}]),\n",
       " ('10.1086/507497.',\n",
       "  [{'title': 'American Art', 'identifiers': ['1073-9300', 'issn:1073-9300']}]),\n",
       " ('10.1086/378551', []),\n",
       " ('10.1086/669393.', []),\n",
       " ('10.1086/687213', []),\n",
       " ('10.1086/696619',\n",
       "  [{'title': 'The Journal of Politics',\n",
       "    'identifiers': ['1468-2508', 'issn:1468-2508']}]),\n",
       " ('10.1086/644533', []),\n",
       " ('10.1086/503776', [{'title': None, 'identifiers': ['0022-1899']}]),\n",
       " ('10.1086/676525', [{'title': None, 'identifiers': ['0003-0147']}]),\n",
       " ('10.1086/656472', [{'title': None, 'identifiers': ['0011-3204']}]),\n",
       " ('10.1086/675382', [{'title': None, 'identifiers': ['0013-0079']}]),\n",
       " ('10.1086/663841', [{'title': None, 'identifiers': ['0021-9371']}]),\n",
       " ('10.1086/310798', [{'title': None, 'identifiers': ['0004-637X']}]),\n",
       " ('10.1086/667193', [{'title': None, 'identifiers': ['0003-0147']}]),\n",
       " ('10.1086/323945', [{'title': None, 'identifiers': ['0004-637X']}]),\n",
       " ('10.1086/674028', [{'title': None, 'identifiers': ['0013-0079']}]),\n",
       " ('10.1086/339275',\n",
       "  [{'title': 'Ethics', 'identifiers': ['issn:0014-1704', '0014-1704']}]),\n",
       " ('10.1086/662441', [{'title': None, 'identifiers': ['1932-8575']}]),\n",
       " ('10.1086/309822', [{'title': None, 'identifiers': ['0004-637X']}]),\n",
       " ('10.1086/307750', []),\n",
       " ('10.1086/708929',\n",
       "  [{'title': 'American Journal of Health Economics',\n",
       "    'identifiers': ['2332-3493',\n",
       "     'issn:2332-3507',\n",
       "     'issn:2332-3493',\n",
       "     '2332-3507']}]),\n",
       " ('10.1086/307135', [{'title': None, 'identifiers': ['0004-637X']}]),\n",
       " ('10.1086/376566', [{'title': None, 'identifiers': ['0004-637X']}]),\n",
       " ('10.1086/337957', [{'title': None, 'identifiers': ['0004-637X']}]),\n",
       " ('10.1086/317262', [{'title': None, 'identifiers': ['0004-637X']}]),\n",
       " ('10.1086/304411', [{'title': None, 'identifiers': ['0004-637X']}]),\n",
       " ('10.1086/596324', [{'title': None, 'identifiers': ['0734-306X']}]),\n",
       " ('10.1086/377254', [{'title': None, 'identifiers': ['0004-637X']}])]"
      ]
     },
     "execution_count": 6,
     "metadata": {},
     "output_type": "execute_result"
    }
   ],
   "source": [
    "print('hits: ', ajs_raw['totalHits'])\n",
    "ajs_results = ajs_raw['results']\n",
    "doi_series = pd.Series([entry['doi'] for entry in ajs_results])\n",
    "print('share of sample where doi prefix matches: ', doi_series.str.startswith('10.1086', na=False).mean())\n",
    "[(entry['doi'], entry['journals']) for entry in ajs_results if entry['doi'] and entry['doi'].startswith('10.1086')]"
   ]
  },
  {
   "cell_type": "code",
   "execution_count": 10,
   "metadata": {},
   "outputs": [],
   "source": [
    "issn_query = query_works(\n",
    "    '(\"0002-9602\" OR \"1537-5390\") _exists_:acceptedDate',\n",
    "    limit=100\n",
    ")"
   ]
  },
  {
   "cell_type": "code",
   "execution_count": 17,
   "metadata": {},
   "outputs": [
    {
     "name": "stdout",
     "output_type": "stream",
     "text": [
      "Raw hits:  83\n",
      "Share missing DOI:  0.0\n"
     ]
    },
    {
     "data": {
      "text/plain": [
       "identifiers\n",
       "[0002-9602]                                               55\n",
       "[0002-9602, issn:0002-9602]                               11\n",
       "[0002-9602, 1537-5390, issn:1537-5390, issn:0002-9602]     5\n",
       "[1699-2407]                                                1\n",
       "[2302-7525]                                                1\n",
       "[issn:0161-956X, 0161-956x]                                1\n",
       "[1079-0268]                                                1\n",
       "[issn:1441-3523, 1441-3523]                                1\n",
       "[0047-2891]                                                1\n",
       "[0718-8358, issn:0718-8358]                                1\n",
       "[1556-5068]                                                1\n",
       "[0001-4273]                                                1\n",
       "[0100-1965]                                                1\n",
       "Name: count, dtype: int64"
      ]
     },
     "execution_count": 17,
     "metadata": {},
     "output_type": "execute_result"
    }
   ],
   "source": [
    "print('Raw hits: ', issn_query['totalHits'])\n",
    "issn_results = issn_query['results']\n",
    "print('Share missing DOI: ', pd.Series([entry['doi'] for entry in issn_results]).isna().mean())\n",
    "issn_journals = pd.DataFrame([entry['journals'][0] if len(entry['journals'])==1 else {'title':None, 'identifiers':None} for entry in issn_results])\n",
    "issn_journals.identifiers.value_counts()"
   ]
  },
  {
   "cell_type": "code",
   "execution_count": 20,
   "metadata": {},
   "outputs": [
    {
     "data": {
      "text/plain": [
       "{'acceptedDate': '2016-07-01T00:00:00',\n",
       " 'arxivId': None,\n",
       " 'authors': [{'name': 'Holland, J'}],\n",
       " 'citationCount': None,\n",
       " 'contributors': [''],\n",
       " 'outputs': ['https://api.core.ac.uk/v3/outputs/209830079',\n",
       "  'https://api.core.ac.uk/v3/outputs/375509433',\n",
       "  'https://api.core.ac.uk/v3/outputs/46664736'],\n",
       " 'createdDate': '2016-11-07T23:24:18',\n",
       " 'dataProviders': [{'id': 4786,\n",
       "   'name': '',\n",
       "   'url': 'https://api.core.ac.uk/v3/data-providers/4786',\n",
       "   'logo': 'https://api.core.ac.uk/data-providers/4786/logo'},\n",
       "  {'id': 18201,\n",
       "   'name': '',\n",
       "   'url': 'https://api.core.ac.uk/v3/data-providers/18201',\n",
       "   'logo': 'https://api.core.ac.uk/data-providers/18201/logo'},\n",
       "  {'id': 140,\n",
       "   'name': '',\n",
       "   'url': 'https://api.core.ac.uk/v3/data-providers/140',\n",
       "   'logo': 'https://api.core.ac.uk/data-providers/140/logo'}],\n",
       " 'depositedDate': '2016-07-01T00:00:00',\n",
       " 'abstract': None,\n",
       " 'documentType': 'research',\n",
       " 'doi': '10.1086/686047',\n",
       " 'downloadUrl': 'https://core.ac.uk/download/46664736.pdf',\n",
       " 'fieldOfStudy': None,\n",
       " 'fullText': 'This is a repository copy of The Politics of Consolation: Memory and the Meaning of September 11. By Christina Simko. Oxford: Oxford University Press, 2015. Pp. xii+290..White Rose Research Online URL for this paper:http://eprints.whiterose.ac.uk/95042/Version: Published VersionArticle:Holland, J orcid.org/0000-0003-4883-332X (2016) The Politics of Consolation: Memory and the Meaning of September 11. By Christina Simko. Oxford: Oxford University Press, 2015. Pp. xii+290. American Journal of Sociology, 122 (1). pp. 297-298. ISSN 0002-9602 https://doi.org/10.1086/686047eprints@whiterose.ac.ukhttps://eprints.whiterose.ac.uk/Reuse See Attached Takedown If you consider content in White Rose Research Online to be in breach of UK law, please notify us by emailing eprints@whiterose.ac.uk including the URL of the record and the reason for the withdrawal request. portant part of this study, illustrating, as this book does, Theodor Adorno’sfamous quote, “The need to lend a voice to suffering is a condition of all truth”(Negative Dialectics [Continuum, 1973, pp. 17–18]).The Politics of Consolation: Memory and the Meaning of September 11. ByChristina Simko. Oxford: Oxford University Press, 2015. Pp. xii1290.Jack HollandUniversity of LeedsThe events of 9/11 have been something of a preoccupation for social sci-entists, but, as Christina Simko’s excellent book The Politics of Consolationdemonstrates, further studies of 9/11 are necessary for three reasons. First,the tool kit of the interpretive sociologist can bring important new insights,helping us tomake sense of theways inwhich themeaning of that day and itsevents have come to be understood. Second, 9/11 is not done: the events ofSeptember 11, 2001, continue to be (re)written as the reality of what is ref-erenced by those four keystrokes is still up for grabs. And, third, this processmatters for real and political reasons; the meaning of 9/11 is the centralunderpinning axiom of the current sociopolitical era. In short, this topic andthis book matter a great deal, nearly 15 years from the day and the eventsthemselves.Simko has produced an extremely well-written book, which is a pleasureto read, despite drawing frequently on the sociological literature. The bookbegins with pertinent discussions of the politics of suffering and consolation(for the nation), as well as, crucially, considering the role of cultural traumaaround moments of (inter)national crises. A number of themes come to thefore, including the centrality of narrative in the modern rhetorical presi-dency, as political leaders are required to construct frameworks of meaningfor the nation and its citizens. From here the book progresses, in its first half,to consider the role and history of the consolation genre through Americanpolitical history. Simko shows howpolitical elites drawupon a dualistic and,less frequently acknowledged, tragic mode in the construction of memoryandmeaning, very often in response to perceivedkey events.This frameworkand history set the ground for the book’s second half (and principal task),which traces the construction of the memory and meaning of September 11,2001. The book concludes, powerfully but sensitively, with a normative callto shift dominant American forms of remembering and constructing “9/11”from the dualistic to the tragic mode. Bill Clinton, the author suggests, haspreviously and effectively employed this mode, emphasizing loss, hope, andcompassion rather than moral binaries.Make no mistake: this is a scholarly and impressive book. My initial cri-tiques of it are limited to three areas: calls for extension, elaboration, and ex-clusion, before considering a larger issue of engagement. First, I would like toBook Reviews297This content downloaded from 129.011.022.210 on October 26, 2016 06:31:21 AMAll use subject to University of Chicago Press Terms and Conditions (http://www.journals.uchicago.edu/t-and-c).see two of the book’s empirical insights extended. In revealing differences(and a divergence) in the process of constructing thememory andmeaning of9/11, which is dependent upon actor and location, the book makes an interest-ing and important empirical contribution, which can provide even greaterballast for its normative position. Likewise, and allied to its theoretical setupand analysis, the book usefully but briefly highlights nonverbal processes inthe construction of meaning and memory. Second, one key theoretical con-cept requires further elaboration. The term “effect flow” is frequently in-voked and appears central to the author’s understanding ofwhy this processmatters and how the key components involved in it relate to each other. Thismapping and setup is inevitably delicate and nuanced andmust therefore beelaborated. Third, in its final stages the book delves into comparative anal-ysis, with a limited exploration of the British response to 7/7, which mightultimately have better been excluded.These are small critiques of a very goodtext. A larger issue that the book makes clear, however, is of greater signif-icance for the discipline: the importance of engagement across disciplinaryboundaries.Greater engagementwith literature beyond the discipline of sociologywouldenhance this book. Some absences are surprising (e.g., Derrida on the dual-istic mode or geographers on the “sacred ground” of Ground Zero). In par-ticular, I was struck by the absence of references to the wealth of relevantresearch in politics and international relations, in which analyses of nationalnarratives of 9/11 are plentiful. Simko suggests that “there is much workto be done to probe the ever-shifting, but still critically important, role ofthe nation and its leaders as a source and arbiter of meaning in our world”(p. 208). While surely correct, this claim is made without reference to worksin the discipline that most frequently does explore this exact topic (sinceBenedict Anderson’s seminal text). The author will find an army of supportfor the book’s argument that we need to rethink and rescript 9/11. Allies canbe found in Richard Jackson, Stuart Croft, and Jenny Edkins, all of whomhave written influential works on the construction of the meaning of 9/11amid and through the cultural trauma the day inspired. Many more haveemployed critical and constructivist approaches to the study of 9/11, includ-ing its meaning and memory.This book remains, however, one that should be widely read: it is wellresearched and marries theory with empirics through lucid prose. Most im-portant, it presents an important analysis and argument, which contributesto a body of work trying to redress the worst excesses of post-9/11 politicsand foreign policy. And, in the wake of the recent terrorist attacks in Paris, itis clear that these lessons are also (urgently) applicable more widely.American Journal of Sociology298This content downloaded from 129.011.022.210 on October 26, 2016 06:31:21 AMAll use subject to University of Chicago Press Terms and Conditions (http://www.journals.uchicago.edu/t-and-c).',\n",
       " 'id': 8456697,\n",
       " 'identifiers': [{'identifier': '2472281607', 'type': 'MAG_ID'},\n",
       "  {'identifier': '375509433', 'type': 'CORE_ID'},\n",
       "  {'identifier': '46664736', 'type': 'CORE_ID'},\n",
       "  {'identifier': '209830079', 'type': 'CORE_ID'},\n",
       "  {'identifier': 'oai:eprints.whiterose.ac.uk:95042', 'type': 'OAI_ID'},\n",
       "  {'identifier': '10.1086/686047', 'type': 'DOI'}],\n",
       " 'title': 'The Politics of Consolation: Memory and the Meaning of September 11. By Christina Simko. Oxford: Oxford University Press, 2015. Pp. xii+290.',\n",
       " 'language': None,\n",
       " 'magId': '2472281607',\n",
       " 'oaiIds': ['oai:eprints.whiterose.ac.uk:95042'],\n",
       " 'publishedDate': '2016-07-01T00:00:00',\n",
       " 'publisher': \"'University of Chicago Press'\",\n",
       " 'pubmedId': None,\n",
       " 'references': [],\n",
       " 'sourceFulltextUrls': ['https://eprints.whiterose.ac.uk/95042/3/686047.pdf'],\n",
       " 'updatedDate': '2022-04-06T09:00:50',\n",
       " 'yearPublished': 2016,\n",
       " 'journals': [{'title': None, 'identifiers': ['0002-9602']}],\n",
       " 'links': [{'type': 'download',\n",
       "   'url': 'https://core.ac.uk/download/46664736.pdf'},\n",
       "  {'type': 'reader', 'url': 'https://core.ac.uk/reader/46664736'},\n",
       "  {'type': 'thumbnail_m', 'url': 'https://core.ac.uk/image/46664736/medium'},\n",
       "  {'type': 'thumbnail_l', 'url': 'https://core.ac.uk/image/46664736/large'},\n",
       "  {'type': 'display', 'url': 'https://core.ac.uk/works/8456697'}]}"
      ]
     },
     "execution_count": 20,
     "metadata": {},
     "output_type": "execute_result"
    }
   ],
   "source": [
    "issn_results[1]"
   ]
  },
  {
   "cell_type": "code",
   "execution_count": 53,
   "metadata": {},
   "outputs": [],
   "source": [
    "issn_df = pd.DataFrame([\n",
    "    {\n",
    "        'issn': str(entry['journals'][0]['identifiers'])[1:-1] if len(entry['journals'])>0 else None,\n",
    "        'fullText': entry['fullText'],\n",
    "        'references': entry['references'],\n",
    "        'abstract': entry['abstract'],\n",
    "        'accepted': entry['acceptedDate']\n",
    "    }\n",
    "    for entry in issn_results\n",
    "])"
   ]
  },
  {
   "cell_type": "code",
   "execution_count": 57,
   "metadata": {},
   "outputs": [
    {
     "name": "stdout",
     "output_type": "stream",
     "text": [
      "issn\n",
      "True     71\n",
      "False    11\n",
      "Name: count, dtype: int64\n",
      "share with ISSN in full text:  1.0\n"
     ]
    },
    {
     "data": {
      "text/html": [
       "<div>\n",
       "<style scoped>\n",
       "    .dataframe tbody tr th:only-of-type {\n",
       "        vertical-align: middle;\n",
       "    }\n",
       "\n",
       "    .dataframe tbody tr th {\n",
       "        vertical-align: top;\n",
       "    }\n",
       "\n",
       "    .dataframe thead th {\n",
       "        text-align: right;\n",
       "    }\n",
       "</style>\n",
       "<table border=\"1\" class=\"dataframe\">\n",
       "  <thead>\n",
       "    <tr style=\"text-align: right;\">\n",
       "      <th></th>\n",
       "      <th>issn</th>\n",
       "      <th>fullText</th>\n",
       "      <th>references</th>\n",
       "      <th>abstract</th>\n",
       "      <th>accepted</th>\n",
       "    </tr>\n",
       "  </thead>\n",
       "  <tbody>\n",
       "    <tr>\n",
       "      <th>2</th>\n",
       "      <td>'0002-9602'</td>\n",
       "      <td>AJS Volume 111 Number 3 (November 2005): 797–8...</td>\n",
       "      <td>[{'id': 18769633, 'title': 'A Longitudinal Ana...</td>\n",
       "      <td>In Suicide, Durkheim found that involvement in...</td>\n",
       "      <td>2006-01-25T00:00:00</td>\n",
       "    </tr>\n",
       "    <tr>\n",
       "      <th>3</th>\n",
       "      <td>'0002-9602', '1537-5390', 'issn:1537-5390', 'i...</td>\n",
       "      <td>The Future of Weak Ties1\\n“The Strength of Wea...</td>\n",
       "      <td>[]</td>\n",
       "      <td>“The Strength of Weak Ties” (Granovetter 1973)...</td>\n",
       "      <td>2016-05-12T00:00:00</td>\n",
       "    </tr>\n",
       "    <tr>\n",
       "      <th>4</th>\n",
       "      <td>'0002-9602'</td>\n",
       "      <td>Early Adolescent Self-Esteem as a Function of ...</td>\n",
       "      <td>[]</td>\n",
       "      <td>Self-esteem is postulated to be a function of ...</td>\n",
       "      <td>2002-07-26T00:00:00</td>\n",
       "    </tr>\n",
       "    <tr>\n",
       "      <th>6</th>\n",
       "      <td>'0002-9602'</td>\n",
       "      <td>Gifts as Economic Signals and Social Symbols\\n...</td>\n",
       "      <td>[{'id': 1451102, 'title': 'A Theory of Primiti...</td>\n",
       "      <td>Gift-giving has often puzzled economists, espe...</td>\n",
       "      <td>2008-01-04T00:00:00</td>\n",
       "    </tr>\n",
       "    <tr>\n",
       "      <th>7</th>\n",
       "      <td>'0002-9602'</td>\n",
       "      <td>Cornell University ILR School \\nDigitalCommons...</td>\n",
       "      <td>[]</td>\n",
       "      <td>This article develops a theory that explains h...</td>\n",
       "      <td>2002-09-30T00:00:00</td>\n",
       "    </tr>\n",
       "    <tr>\n",
       "      <th>9</th>\n",
       "      <td>'0002-9602'</td>\n",
       "      <td>How cultural capital emerged in Gilded Age Ame...</td>\n",
       "      <td>[]</td>\n",
       "      <td>This article uses a new database of subscriber...</td>\n",
       "      <td>2018-05-01T00:00:00</td>\n",
       "    </tr>\n",
       "    <tr>\n",
       "      <th>10</th>\n",
       "      <td>'0002-9602'</td>\n",
       "      <td>1412 AJS Volume 110 Number 5 (March 2005): 141...</td>\n",
       "      <td>[{'id': 18769441, 'title': 'A Model of Destina...</td>\n",
       "      <td>Immigrants’ destination-language proficiency h...</td>\n",
       "      <td>2005-05-27T00:00:00</td>\n",
       "    </tr>\n",
       "    <tr>\n",
       "      <th>11</th>\n",
       "      <td>'0002-9602', 'issn:0002-9602'</td>\n",
       "      <td>Durham Research Online\\nDeposited in DRO:\\n23 ...</td>\n",
       "      <td>[]</td>\n",
       "      <td>This article examines the effects of crowding ...</td>\n",
       "      <td>2001-03-01T00:00:00</td>\n",
       "    </tr>\n",
       "    <tr>\n",
       "      <th>12</th>\n",
       "      <td>'0002-9602'</td>\n",
       "      <td>Boston University\\nOpenBU http://open.bu.edu\\n...</td>\n",
       "      <td>[]</td>\n",
       "      <td>Literature on the nonprofit sector focuses on ...</td>\n",
       "      <td>2007-03-29T00:00:00</td>\n",
       "    </tr>\n",
       "    <tr>\n",
       "      <th>13</th>\n",
       "      <td>'0002-9602', 'issn:0002-9602'</td>\n",
       "      <td>Durham Research Online\\nDeposited in DRO:\\n23 ...</td>\n",
       "      <td>[]</td>\n",
       "      <td>Organizational theories, especially ecological...</td>\n",
       "      <td>2001-01-01T00:00:00</td>\n",
       "    </tr>\n",
       "    <tr>\n",
       "      <th>15</th>\n",
       "      <td>'0002-9602', 'issn:0002-9602'</td>\n",
       "      <td>The Legalization of the Workplace  (Article b...</td>\n",
       "      <td>[]</td>\n",
       "      <td>This study uses longitudinal data on nearly 30...</td>\n",
       "      <td>2002-07-26T00:00:00</td>\n",
       "    </tr>\n",
       "    <tr>\n",
       "      <th>17</th>\n",
       "      <td>'0002-9602'</td>\n",
       "      <td>Self-Perceptions of Black Americans: \\nSelf-Es...</td>\n",
       "      <td>[]</td>\n",
       "      <td>This study examines the determinants of person...</td>\n",
       "      <td>2002-07-26T00:00:00</td>\n",
       "    </tr>\n",
       "    <tr>\n",
       "      <th>20</th>\n",
       "      <td>'0002-9602', '1537-5390', 'issn:1537-5390', 'i...</td>\n",
       "      <td>When Politics Froze Fashion: The Effect of the...</td>\n",
       "      <td>[]</td>\n",
       "      <td>The authors examine the popularity of boys’ gi...</td>\n",
       "      <td>2015-02-16T00:00:00</td>\n",
       "    </tr>\n",
       "    <tr>\n",
       "      <th>22</th>\n",
       "      <td>'0002-9602'</td>\n",
       "      <td>From Narcissism to Face Work: Two Viewson the ...</td>\n",
       "      <td>[]</td>\n",
       "      <td>Using theoretical argumentation supported by t...</td>\n",
       "      <td>2015-10-07T00:00:00</td>\n",
       "    </tr>\n",
       "    <tr>\n",
       "      <th>24</th>\n",
       "      <td>'0002-9602'</td>\n",
       "      <td>Welfare and the Rise in Female-Headed\\nFamilie...</td>\n",
       "      <td>[]</td>\n",
       "      <td>The article provides a bridge between recent m...</td>\n",
       "      <td>2002-07-26T00:00:00</td>\n",
       "    </tr>\n",
       "    <tr>\n",
       "      <th>25</th>\n",
       "      <td>'0002-9602'</td>\n",
       "      <td>The Normative Foundations of Emancipatory Theo...</td>\n",
       "      <td>[]</td>\n",
       "      <td>This is the published version. Copyright 1989 ...</td>\n",
       "      <td>2002-07-26T00:00:00</td>\n",
       "    </tr>\n",
       "    <tr>\n",
       "      <th>26</th>\n",
       "      <td>'0002-9602'</td>\n",
       "      <td>This is a repository copy of Family structure ...</td>\n",
       "      <td>[]</td>\n",
       "      <td>The association between family structure insta...</td>\n",
       "      <td>2015-05-01T00:00:00</td>\n",
       "    </tr>\n",
       "    <tr>\n",
       "      <th>27</th>\n",
       "      <td>'0002-9602', 'issn:0002-9602'</td>\n",
       "      <td>Civil Society Reconsidered: The Durable Natur...</td>\n",
       "      <td>[]</td>\n",
       "      <td>This article develops a conceptual framework o...</td>\n",
       "      <td>2006-01-25T00:00:00</td>\n",
       "    </tr>\n",
       "    <tr>\n",
       "      <th>29</th>\n",
       "      <td>'0002-9602'</td>\n",
       "      <td>University of PennsylvaniaScholarlyCommonsOper...</td>\n",
       "      <td>[]</td>\n",
       "      <td>In four countries, levels of trust and recipro...</td>\n",
       "      <td>2003-04-23T00:00:00</td>\n",
       "    </tr>\n",
       "    <tr>\n",
       "      <th>30</th>\n",
       "      <td>'0002-9602', 'issn:0002-9602'</td>\n",
       "      <td>Power and Position in the World City System  ...</td>\n",
       "      <td>[]</td>\n",
       "      <td>Globalization has renewed interest in the plac...</td>\n",
       "      <td>2004-02-12T00:00:00</td>\n",
       "    </tr>\n",
       "    <tr>\n",
       "      <th>31</th>\n",
       "      <td>'0002-9602', 'issn:0002-9602'</td>\n",
       "      <td>What Can We Learn about Neighborhood Effects ...</td>\n",
       "      <td>[]</td>\n",
       "      <td>Experimental estimates from Moving to Opportun...</td>\n",
       "      <td>2008-09-12T00:00:00</td>\n",
       "    </tr>\n",
       "    <tr>\n",
       "      <th>32</th>\n",
       "      <td>'0002-9602'</td>\n",
       "      <td>44 AJS Volume 110 Number 1 (July 2004): 44–91\u0001...</td>\n",
       "      <td>[]</td>\n",
       "      <td>This article describes the structure of the ad...</td>\n",
       "      <td>2004-08-10T00:00:00</td>\n",
       "    </tr>\n",
       "    <tr>\n",
       "      <th>33</th>\n",
       "      <td>'0002-9602', '1537-5390', 'issn:1537-5390', 'i...</td>\n",
       "      <td>Title Putting social context into text: The se...</td>\n",
       "      <td>[]</td>\n",
       "      <td>E-mail excludes the multiple nonlinguistic cue...</td>\n",
       "      <td>2008-10-20T00:00:00</td>\n",
       "    </tr>\n",
       "    <tr>\n",
       "      <th>34</th>\n",
       "      <td>'0002-9602', 'issn:0002-9602'</td>\n",
       "      <td>The Sutherland-Glueck Debate: On the Sociolog...</td>\n",
       "      <td>[]</td>\n",
       "      <td>During the 1930s, Edwin Sutherland established...</td>\n",
       "      <td>2002-07-26T00:00:00</td>\n",
       "    </tr>\n",
       "    <tr>\n",
       "      <th>35</th>\n",
       "      <td>'0002-9602'</td>\n",
       "      <td>Cornell University ILR School \\nDigitalCommons...</td>\n",
       "      <td>[]</td>\n",
       "      <td>This study refines and experimentally tests a ...</td>\n",
       "      <td>2002-07-26T00:00:00</td>\n",
       "    </tr>\n",
       "    <tr>\n",
       "      <th>40</th>\n",
       "      <td>'0002-9602'</td>\n",
       "      <td>Sociology Faculty Publications Sociology1-1988...</td>\n",
       "      <td>[]</td>\n",
       "      <td>Mead is known today primarily for his original...</td>\n",
       "      <td>2002-07-26T00:00:00</td>\n",
       "    </tr>\n",
       "    <tr>\n",
       "      <th>42</th>\n",
       "      <td>'0002-9602'</td>\n",
       "      <td>1380 AJS Volume 117 Number 5 (March 2012): 138...</td>\n",
       "      <td>[]</td>\n",
       "      <td>This article analyzes how Central American imm...</td>\n",
       "      <td>2012-04-17T00:00:00</td>\n",
       "    </tr>\n",
       "    <tr>\n",
       "      <th>43</th>\n",
       "      <td>'0002-9602'</td>\n",
       "      <td>Game Changer: The Topology of Creativity1Mathi...</td>\n",
       "      <td>[]</td>\n",
       "      <td>This article examines the sociological factors...</td>\n",
       "      <td>2015-05-01T00:00:00</td>\n",
       "    </tr>\n",
       "    <tr>\n",
       "      <th>44</th>\n",
       "      <td>'0002-9602', 'issn:0002-9602'</td>\n",
       "      <td>Citizenship Rights for Immigrants: National Po...</td>\n",
       "      <td>[]</td>\n",
       "      <td>Immigrant citizenship rights in the nation-sta...</td>\n",
       "      <td>2012-02-24T00:00:00</td>\n",
       "    </tr>\n",
       "    <tr>\n",
       "      <th>45</th>\n",
       "      <td>'0002-9602', 'issn:0002-9602'</td>\n",
       "      <td>Title Invigorating the content in social embed...</td>\n",
       "      <td>[]</td>\n",
       "      <td>Based on more than 14 months' ethnographic res...</td>\n",
       "      <td>2011-06-18T00:00:00</td>\n",
       "    </tr>\n",
       "    <tr>\n",
       "      <th>55</th>\n",
       "      <td>'0002-9602', 'issn:0002-9602'</td>\n",
       "      <td>Pulled, Pushed and Persuaded: Explaining Wome...</td>\n",
       "      <td>[]</td>\n",
       "      <td>Using a rare representative sample of grassroo...</td>\n",
       "      <td>2006-08-08T00:00:00</td>\n",
       "    </tr>\n",
       "    <tr>\n",
       "      <th>77</th>\n",
       "      <td>'0002-9602'</td>\n",
       "      <td>Singapore Management UniversityInstitutional K...</td>\n",
       "      <td>[]</td>\n",
       "      <td>Individuals who join an organization often ado...</td>\n",
       "      <td>2017-12-06T00:00:00</td>\n",
       "    </tr>\n",
       "    <tr>\n",
       "      <th>78</th>\n",
       "      <td>'0002-9602', '1537-5390', 'issn:1537-5390', 'i...</td>\n",
       "      <td>AJS Volume 115 Number 3 (November 2009): 657–7...</td>\n",
       "      <td>[]</td>\n",
       "      <td>One of the great paradoxes of institutional ch...</td>\n",
       "      <td>2011-06-18T00:00:00</td>\n",
       "    </tr>\n",
       "  </tbody>\n",
       "</table>\n",
       "</div>"
      ],
      "text/plain": [
       "                                                 issn  \\\n",
       "2                                         '0002-9602'   \n",
       "3   '0002-9602', '1537-5390', 'issn:1537-5390', 'i...   \n",
       "4                                         '0002-9602'   \n",
       "6                                         '0002-9602'   \n",
       "7                                         '0002-9602'   \n",
       "9                                         '0002-9602'   \n",
       "10                                        '0002-9602'   \n",
       "11                      '0002-9602', 'issn:0002-9602'   \n",
       "12                                        '0002-9602'   \n",
       "13                      '0002-9602', 'issn:0002-9602'   \n",
       "15                      '0002-9602', 'issn:0002-9602'   \n",
       "17                                        '0002-9602'   \n",
       "20  '0002-9602', '1537-5390', 'issn:1537-5390', 'i...   \n",
       "22                                        '0002-9602'   \n",
       "24                                        '0002-9602'   \n",
       "25                                        '0002-9602'   \n",
       "26                                        '0002-9602'   \n",
       "27                      '0002-9602', 'issn:0002-9602'   \n",
       "29                                        '0002-9602'   \n",
       "30                      '0002-9602', 'issn:0002-9602'   \n",
       "31                      '0002-9602', 'issn:0002-9602'   \n",
       "32                                        '0002-9602'   \n",
       "33  '0002-9602', '1537-5390', 'issn:1537-5390', 'i...   \n",
       "34                      '0002-9602', 'issn:0002-9602'   \n",
       "35                                        '0002-9602'   \n",
       "40                                        '0002-9602'   \n",
       "42                                        '0002-9602'   \n",
       "43                                        '0002-9602'   \n",
       "44                      '0002-9602', 'issn:0002-9602'   \n",
       "45                      '0002-9602', 'issn:0002-9602'   \n",
       "55                      '0002-9602', 'issn:0002-9602'   \n",
       "77                                        '0002-9602'   \n",
       "78  '0002-9602', '1537-5390', 'issn:1537-5390', 'i...   \n",
       "\n",
       "                                             fullText  \\\n",
       "2   AJS Volume 111 Number 3 (November 2005): 797–8...   \n",
       "3   The Future of Weak Ties1\\n“The Strength of Wea...   \n",
       "4   Early Adolescent Self-Esteem as a Function of ...   \n",
       "6   Gifts as Economic Signals and Social Symbols\\n...   \n",
       "7   Cornell University ILR School \\nDigitalCommons...   \n",
       "9   How cultural capital emerged in Gilded Age Ame...   \n",
       "10  1412 AJS Volume 110 Number 5 (March 2005): 141...   \n",
       "11  Durham Research Online\\nDeposited in DRO:\\n23 ...   \n",
       "12  Boston University\\nOpenBU http://open.bu.edu\\n...   \n",
       "13  Durham Research Online\\nDeposited in DRO:\\n23 ...   \n",
       "15   The Legalization of the Workplace  (Article b...   \n",
       "17  Self-Perceptions of Black Americans: \\nSelf-Es...   \n",
       "20  When Politics Froze Fashion: The Effect of the...   \n",
       "22  From Narcissism to Face Work: Two Viewson the ...   \n",
       "24  Welfare and the Rise in Female-Headed\\nFamilie...   \n",
       "25  The Normative Foundations of Emancipatory Theo...   \n",
       "26  This is a repository copy of Family structure ...   \n",
       "27   Civil Society Reconsidered: The Durable Natur...   \n",
       "29  University of PennsylvaniaScholarlyCommonsOper...   \n",
       "30   Power and Position in the World City System  ...   \n",
       "31   What Can We Learn about Neighborhood Effects ...   \n",
       "32  44 AJS Volume 110 Number 1 (July 2004): 44–91\u0001...   \n",
       "33  Title Putting social context into text: The se...   \n",
       "34   The Sutherland-Glueck Debate: On the Sociolog...   \n",
       "35  Cornell University ILR School \\nDigitalCommons...   \n",
       "40  Sociology Faculty Publications Sociology1-1988...   \n",
       "42  1380 AJS Volume 117 Number 5 (March 2012): 138...   \n",
       "43  Game Changer: The Topology of Creativity1Mathi...   \n",
       "44  Citizenship Rights for Immigrants: National Po...   \n",
       "45  Title Invigorating the content in social embed...   \n",
       "55   Pulled, Pushed and Persuaded: Explaining Wome...   \n",
       "77  Singapore Management UniversityInstitutional K...   \n",
       "78  AJS Volume 115 Number 3 (November 2009): 657–7...   \n",
       "\n",
       "                                           references  \\\n",
       "2   [{'id': 18769633, 'title': 'A Longitudinal Ana...   \n",
       "3                                                  []   \n",
       "4                                                  []   \n",
       "6   [{'id': 1451102, 'title': 'A Theory of Primiti...   \n",
       "7                                                  []   \n",
       "9                                                  []   \n",
       "10  [{'id': 18769441, 'title': 'A Model of Destina...   \n",
       "11                                                 []   \n",
       "12                                                 []   \n",
       "13                                                 []   \n",
       "15                                                 []   \n",
       "17                                                 []   \n",
       "20                                                 []   \n",
       "22                                                 []   \n",
       "24                                                 []   \n",
       "25                                                 []   \n",
       "26                                                 []   \n",
       "27                                                 []   \n",
       "29                                                 []   \n",
       "30                                                 []   \n",
       "31                                                 []   \n",
       "32                                                 []   \n",
       "33                                                 []   \n",
       "34                                                 []   \n",
       "35                                                 []   \n",
       "40                                                 []   \n",
       "42                                                 []   \n",
       "43                                                 []   \n",
       "44                                                 []   \n",
       "45                                                 []   \n",
       "55                                                 []   \n",
       "77                                                 []   \n",
       "78                                                 []   \n",
       "\n",
       "                                             abstract             accepted  \n",
       "2   In Suicide, Durkheim found that involvement in...  2006-01-25T00:00:00  \n",
       "3   “The Strength of Weak Ties” (Granovetter 1973)...  2016-05-12T00:00:00  \n",
       "4   Self-esteem is postulated to be a function of ...  2002-07-26T00:00:00  \n",
       "6   Gift-giving has often puzzled economists, espe...  2008-01-04T00:00:00  \n",
       "7   This article develops a theory that explains h...  2002-09-30T00:00:00  \n",
       "9   This article uses a new database of subscriber...  2018-05-01T00:00:00  \n",
       "10  Immigrants’ destination-language proficiency h...  2005-05-27T00:00:00  \n",
       "11  This article examines the effects of crowding ...  2001-03-01T00:00:00  \n",
       "12  Literature on the nonprofit sector focuses on ...  2007-03-29T00:00:00  \n",
       "13  Organizational theories, especially ecological...  2001-01-01T00:00:00  \n",
       "15  This study uses longitudinal data on nearly 30...  2002-07-26T00:00:00  \n",
       "17  This study examines the determinants of person...  2002-07-26T00:00:00  \n",
       "20  The authors examine the popularity of boys’ gi...  2015-02-16T00:00:00  \n",
       "22  Using theoretical argumentation supported by t...  2015-10-07T00:00:00  \n",
       "24  The article provides a bridge between recent m...  2002-07-26T00:00:00  \n",
       "25  This is the published version. Copyright 1989 ...  2002-07-26T00:00:00  \n",
       "26  The association between family structure insta...  2015-05-01T00:00:00  \n",
       "27  This article develops a conceptual framework o...  2006-01-25T00:00:00  \n",
       "29  In four countries, levels of trust and recipro...  2003-04-23T00:00:00  \n",
       "30  Globalization has renewed interest in the plac...  2004-02-12T00:00:00  \n",
       "31  Experimental estimates from Moving to Opportun...  2008-09-12T00:00:00  \n",
       "32  This article describes the structure of the ad...  2004-08-10T00:00:00  \n",
       "33  E-mail excludes the multiple nonlinguistic cue...  2008-10-20T00:00:00  \n",
       "34  During the 1930s, Edwin Sutherland established...  2002-07-26T00:00:00  \n",
       "35  This study refines and experimentally tests a ...  2002-07-26T00:00:00  \n",
       "40  Mead is known today primarily for his original...  2002-07-26T00:00:00  \n",
       "42  This article analyzes how Central American imm...  2012-04-17T00:00:00  \n",
       "43  This article examines the sociological factors...  2015-05-01T00:00:00  \n",
       "44  Immigrant citizenship rights in the nation-sta...  2012-02-24T00:00:00  \n",
       "45  Based on more than 14 months' ethnographic res...  2011-06-18T00:00:00  \n",
       "55  Using a rare representative sample of grassroo...  2006-08-08T00:00:00  \n",
       "77  Individuals who join an organization often ado...  2017-12-06T00:00:00  \n",
       "78  One of the great paradoxes of institutional ch...  2011-06-18T00:00:00  "
      ]
     },
     "execution_count": 57,
     "metadata": {},
     "output_type": "execute_result"
    }
   ],
   "source": [
    "matches_ajs = issn_df.issn.str.contains('0002-9602', na=False)\n",
    "print(matches_ajs.value_counts())\n",
    "print(\"share with ISSN in full text: \", issn_df[matches_ajs].fullText.str.contains('0002-9602').mean())\n",
    "issn_df[(~issn_df.abstract.isna()) & matches_ajs]"
   ]
  },
  {
   "cell_type": "code",
   "execution_count": 66,
   "metadata": {},
   "outputs": [
    {
     "name": "stdout",
     "output_type": "stream",
     "text": [
      "Remaining limit:  1 <class 'int'>\n",
      "1894267\n",
      "2759\n"
     ]
    }
   ],
   "source": [
    "test = query_works(\n",
    "    '_exists_:acceptedDate _exists_:fullText _exists_:abstract',\n",
    "    limit=3000,\n",
    "    # scroll=True,\n",
    "    # offset=0\n",
    ")\n",
    "print(test['totalHits'])\n",
    "print(len(test['results']))"
   ]
  },
  {
   "cell_type": "code",
   "execution_count": 71,
   "metadata": {},
   "outputs": [
    {
     "data": {
      "text/plain": [
       "True"
      ]
     },
     "execution_count": 71,
     "metadata": {},
     "output_type": "execute_result"
    }
   ],
   "source": [
    "type(test['results'][0]['journals']) == list"
   ]
  }
 ],
 "metadata": {
  "kernelspec": {
   "display_name": "QualAbstracts-R4Ruw4b-",
   "language": "python",
   "name": "python3"
  },
  "language_info": {
   "codemirror_mode": {
    "name": "ipython",
    "version": 3
   },
   "file_extension": ".py",
   "mimetype": "text/x-python",
   "name": "python",
   "nbconvert_exporter": "python",
   "pygments_lexer": "ipython3",
   "version": "3.9.13"
  },
  "orig_nbformat": 4
 },
 "nbformat": 4,
 "nbformat_minor": 2
}
