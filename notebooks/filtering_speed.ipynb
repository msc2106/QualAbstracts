{
 "cells": [
  {
   "cell_type": "markdown",
   "metadata": {},
   "source": [
    "# Making data"
   ]
  },
  {
   "cell_type": "code",
   "execution_count": 21,
   "metadata": {},
   "outputs": [],
   "source": [
    "import numpy as np\n",
    "import pandas as pd\n",
    "from string import ascii_letters\n",
    "from functools import reduce\n",
    "RNG = np.random.default_rng()"
   ]
  },
  {
   "cell_type": "code",
   "execution_count": 44,
   "metadata": {},
   "outputs": [],
   "source": [
    "# target set: 10,000 values, in random order\n",
    "\n",
    "target = RNG.permutation(list(range(10_000)))\n",
    "target_set = set(target)\n",
    "target_series = pd.Series(target)\n",
    "\n",
    "# 10 dataframes: each 10,000 rows, with 9 random float columns and 1 drawn randomly from integers [0,100,000)\n",
    "\n",
    "dfs = []\n",
    "dicts = []\n",
    "for _ in range(10):\n",
    "    cols = {\n",
    "        f'col{i}': RNG.random(size=10_000)\n",
    "        for i in range(4)\n",
    "    }\n",
    "    cols['target'] = RNG.integers(100_000, size=10_000)\n",
    "    dfs.append(pd.DataFrame(cols))\n",
    "    dicts.append(cols)"
   ]
  },
  {
   "cell_type": "code",
   "execution_count": 9,
   "metadata": {},
   "outputs": [
    {
     "name": "stdout",
     "output_type": "stream",
     "text": [
      "2.82 ms ± 58 µs per loop (mean ± std. dev. of 7 runs, 100 loops each)\n"
     ]
    }
   ],
   "source": [
    "%%timeit\n",
    "\n",
    "total = 0\n",
    "for df in dfs:\n",
    "    total += df.target.isin(target).sum()\n",
    "total"
   ]
  },
  {
   "cell_type": "code",
   "execution_count": 12,
   "metadata": {},
   "outputs": [
    {
     "name": "stdout",
     "output_type": "stream",
     "text": [
      "13.1 ms ± 2.44 ms per loop (mean ± std. dev. of 7 runs, 100 loops each)\n"
     ]
    }
   ],
   "source": [
    "%%timeit\n",
    "\n",
    "total = 0\n",
    "for df in dfs:\n",
    "    total += df.target.isin(target_set).sum()\n",
    "total\n"
   ]
  },
  {
   "cell_type": "code",
   "execution_count": 11,
   "metadata": {},
   "outputs": [
    {
     "name": "stdout",
     "output_type": "stream",
     "text": [
      "2.99 ms ± 239 µs per loop (mean ± std. dev. of 7 runs, 100 loops each)\n"
     ]
    }
   ],
   "source": [
    "%%timeit\n",
    "\n",
    "total = 0\n",
    "for df in dfs:\n",
    "    total += df.target.isin(target_series).sum()\n",
    "total"
   ]
  },
  {
   "cell_type": "code",
   "execution_count": 67,
   "metadata": {},
   "outputs": [],
   "source": [
    "letter_array = np.array([letter for letter in ascii_letters])\n",
    "random_indices = RNG.choice(len(letter_array), (100_000, 25), replace=True)\n",
    "converter = np.empty(100_000, dtype='object')\n",
    "for i in range(100_000):\n",
    "    converter[i] = reduce(lambda a, b: a+b, letter_array[random_indices[i]], '')\n",
    "\n",
    "target_str = converter[target].copy()\n",
    "target_str_set = set(target_str)\n",
    "target_str_sorted = np.sort( target_str)"
   ]
  },
  {
   "cell_type": "code",
   "execution_count": 68,
   "metadata": {},
   "outputs": [],
   "source": [
    "dfs_str = []\n",
    "for df in dfs:\n",
    "    df_str = df.copy()\n",
    "    df_str['target'] = converter[df_str['target']].copy()\n",
    "    dfs_str.append(df_str)"
   ]
  },
  {
   "cell_type": "code",
   "execution_count": 39,
   "metadata": {},
   "outputs": [
    {
     "name": "stdout",
     "output_type": "stream",
     "text": [
      "13 ms ± 2.27 ms per loop (mean ± std. dev. of 7 runs, 100 loops each)\n"
     ]
    }
   ],
   "source": [
    "%%timeit\n",
    "\n",
    "total = 0\n",
    "for df in dfs_str:\n",
    "    total += df.target.isin(target_str).sum()\n",
    "# print(total)"
   ]
  },
  {
   "cell_type": "code",
   "execution_count": 43,
   "metadata": {},
   "outputs": [
    {
     "name": "stdout",
     "output_type": "stream",
     "text": [
      "11.1 ms ± 366 µs per loop (mean ± std. dev. of 7 runs, 100 loops each)\n"
     ]
    }
   ],
   "source": [
    "%%timeit\n",
    "\n",
    "total = 0\n",
    "for df in dfs_str:\n",
    "    total += df.target.isin(target_str_sorted).sum()\n",
    "# print(total)"
   ]
  },
  {
   "cell_type": "code",
   "execution_count": 40,
   "metadata": {},
   "outputs": [
    {
     "name": "stdout",
     "output_type": "stream",
     "text": [
      "21 ms ± 3.42 ms per loop (mean ± std. dev. of 7 runs, 100 loops each)\n"
     ]
    }
   ],
   "source": [
    "%%timeit\n",
    "\n",
    "total = 0\n",
    "for df in dfs_str:\n",
    "    total += df.target.isin(target_str_set).sum()\n",
    "# print(total)"
   ]
  },
  {
   "cell_type": "code",
   "execution_count": 81,
   "metadata": {},
   "outputs": [
    {
     "name": "stdout",
     "output_type": "stream",
     "text": [
      "3.3 s ± 534 ms per loop (mean ± std. dev. of 7 runs, 1 loop each)\n"
     ]
    }
   ],
   "source": [
    "%%timeit\n",
    "\n",
    "total = 0\n",
    "for df in dfs_str:\n",
    "    for _, row in df.iterrows():\n",
    "        # print(row['target'])\n",
    "        if row['target'] in target_str_set:\n",
    "            total += 1"
   ]
  },
  {
   "cell_type": "code",
   "execution_count": 77,
   "metadata": {},
   "outputs": [
    {
     "name": "stdout",
     "output_type": "stream",
     "text": [
      "1031\n",
      "col0                       0.547856\n",
      "col1                       0.675737\n",
      "col2                       0.364239\n",
      "col3                       0.127782\n",
      "target    LHyxuILHfssXfncqgsfLqIkNK\n",
      "Name: 1, dtype: object\n",
      "col0        0.547856\n",
      "col1        0.675737\n",
      "col2        0.364239\n",
      "col3        0.127782\n",
      "target    979.000000\n",
      "Name: 1, dtype: float64\n"
     ]
    }
   ],
   "source": [
    "print(dfs_str[0]['target'].isin(target_str_sorted).sum())\n",
    "print(dfs_str[0].iloc[1])\n",
    "print(dfs[0].iloc[1])"
   ]
  },
  {
   "cell_type": "code",
   "execution_count": 79,
   "metadata": {},
   "outputs": [
    {
     "name": "stdout",
     "output_type": "stream",
     "text": [
      "True\n",
      "True\n"
     ]
    }
   ],
   "source": [
    "print(converter[979] in target_str_set)\n",
    "print(979 in target_set)"
   ]
  },
  {
   "cell_type": "code",
   "execution_count": 76,
   "metadata": {},
   "outputs": [
    {
     "name": "stdout",
     "output_type": "stream",
     "text": [
      "['wdjcOWUjicsMjWOGKOHFutxYG' 'slvtcKHfIyzhNBDqOlLJuTVZc'\n",
      " 'yMfhgcqbfyUzLKaKmSkLdofaI' 'pmqPblEreSfAQHMXQdiPqWaUM'\n",
      " 'XxRDxLTJHFmlNcHirruVLHBsz']\n",
      "[ 344 3434 9784 5573 9480]\n",
      "['wdjcOWUjicsMjWOGKOHFutxYG' 'slvtcKHfIyzhNBDqOlLJuTVZc'\n",
      " 'yMfhgcqbfyUzLKaKmSkLdofaI' 'pmqPblEreSfAQHMXQdiPqWaUM'\n",
      " 'XxRDxLTJHFmlNcHirruVLHBsz']\n"
     ]
    }
   ],
   "source": [
    "print(target_str[:5])\n",
    "print(target[:5])\n",
    "print(converter[target[:5]])"
   ]
  }
 ],
 "metadata": {
  "kernelspec": {
   "display_name": "QualAbstracts-_C7lXhsk",
   "language": "python",
   "name": "python3"
  },
  "language_info": {
   "codemirror_mode": {
    "name": "ipython",
    "version": 3
   },
   "file_extension": ".py",
   "mimetype": "text/x-python",
   "name": "python",
   "nbconvert_exporter": "python",
   "pygments_lexer": "ipython3",
   "version": "3.9.13"
  },
  "orig_nbformat": 4
 },
 "nbformat": 4,
 "nbformat_minor": 2
}
