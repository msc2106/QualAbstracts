{
 "cells": [
  {
   "cell_type": "markdown",
   "metadata": {},
   "source": [
    "Data Wrangling\n",
    "----"
   ]
  },
  {
   "cell_type": "markdown",
   "metadata": {},
   "source": [
    "# Outline"
   ]
  },
  {
   "cell_type": "markdown",
   "metadata": {},
   "source": [
    "# Setup"
   ]
  },
  {
   "cell_type": "code",
   "execution_count": 1,
   "metadata": {},
   "outputs": [
    {
     "name": "stdout",
     "output_type": "stream",
     "text": [
      "Working directory:  /home/mark/coding/QualAbstracts/notebooks\n"
     ]
    }
   ],
   "source": [
    "import pandas as pd\n",
    "import requests\n",
    "import numpy as np\n",
    "from datetime import datetime\n",
    "from os import getcwd\n",
    "import json\n",
    "import gzip\n",
    "print(\"Working directory: \", getcwd())"
   ]
  },
  {
   "cell_type": "markdown",
   "metadata": {},
   "source": [
    "# Filtering for Social Science and Humanities Articles"
   ]
  },
  {
   "cell_type": "markdown",
   "metadata": {},
   "source": [
    "## Links to APIs\n",
    "- Finding registration authority: https://www.doi.org/the-identifier/resources/factsheets/doi-resolution-documentation#4-which-ra\n",
    "    - Note, vast majority of academic articles are on crossref\n",
    "- Crossref lookup by doi: https://api.crossref.org/swagger-ui/index.html#/Works/get_works__doi_\n",
    "    - Note preference for including email\n",
    "    - Or download 185GB as torrent: https://www.crossref.org/blog/2023-public-data-file-now-available-with-new-and-improved-retrieval-options/\n",
    "- DataCite: https://support.datacite.org/docs/api-get-doi "
   ]
  },
  {
   "cell_type": "markdown",
   "metadata": {},
   "source": [
    "## CORE metadata"
   ]
  },
  {
   "cell_type": "code",
   "execution_count": 4,
   "metadata": {},
   "outputs": [
    {
     "name": "stdout",
     "output_type": "stream",
     "text": [
      "<class 'pandas.core.frame.DataFrame'>\n",
      "RangeIndex: 1650037 entries, 0 to 1650036\n",
      "Data columns (total 5 columns):\n",
      " #   Column    Non-Null Count    Dtype \n",
      "---  ------    --------------    ----- \n",
      " 0   doi       1650036 non-null  object\n",
      " 1   title     1650033 non-null  object\n",
      " 2   abstract  1649014 non-null  object\n",
      " 3   issn      1548098 non-null  object\n",
      " 4   subjects  686568 non-null   object\n",
      "dtypes: object(5)\n",
      "memory usage: 62.9+ MB\n",
      "None\n"
     ]
    },
    {
     "data": {
      "text/html": [
       "<div>\n",
       "<style scoped>\n",
       "    .dataframe tbody tr th:only-of-type {\n",
       "        vertical-align: middle;\n",
       "    }\n",
       "\n",
       "    .dataframe tbody tr th {\n",
       "        vertical-align: top;\n",
       "    }\n",
       "\n",
       "    .dataframe thead th {\n",
       "        text-align: right;\n",
       "    }\n",
       "</style>\n",
       "<table border=\"1\" class=\"dataframe\">\n",
       "  <thead>\n",
       "    <tr style=\"text-align: right;\">\n",
       "      <th></th>\n",
       "      <th>doi</th>\n",
       "      <th>title</th>\n",
       "      <th>abstract</th>\n",
       "      <th>issn</th>\n",
       "      <th>subjects</th>\n",
       "    </tr>\n",
       "  </thead>\n",
       "  <tbody>\n",
       "    <tr>\n",
       "      <th>0</th>\n",
       "      <td>10.1111/1467-8330.00227</td>\n",
       "      <td>Institutionalising future geographies of finan...</td>\n",
       "      <td>This paper provides a critical overview of rec...</td>\n",
       "      <td>'0066-4812'</td>\n",
       "      <td>NaN</td>\n",
       "    </tr>\n",
       "    <tr>\n",
       "      <th>1</th>\n",
       "      <td>10.1163/13822373-90002428</td>\n",
       "      <td>Landscaping Hispaniola Moreau de Saint-Méry's ...</td>\n",
       "      <td>This article focuses on Médéric Louis Élie Mor...</td>\n",
       "      <td>'issn:1382-2373', '1382-2373'</td>\n",
       "      <td>NaN</td>\n",
       "    </tr>\n",
       "    <tr>\n",
       "      <th>2</th>\n",
       "      <td>10.3354/meps09193</td>\n",
       "      <td>Modelling the effect of vertical mixing on bot...</td>\n",
       "      <td>Reliable estimates of in situ phytoplankton gr...</td>\n",
       "      <td>'1616-1599', 'issn:0171-8630', 'issn:1616-1599...</td>\n",
       "      <td>NaN</td>\n",
       "    </tr>\n",
       "    <tr>\n",
       "      <th>3</th>\n",
       "      <td>10.1177/1350508408095817</td>\n",
       "      <td>The Body Dances: Carnival Dance and Organization</td>\n",
       "      <td>Building on the work of Pierre Bourdieu and Ma...</td>\n",
       "      <td>'1350-5084'</td>\n",
       "      <td>sociology</td>\n",
       "    </tr>\n",
       "    <tr>\n",
       "      <th>4</th>\n",
       "      <td>10.1016/s0022-4049(02)00180-9</td>\n",
       "      <td>Arithmeticity of Orbifold Generalised Triangle...</td>\n",
       "      <td>Maclachlan and Martin have proved that only fi...</td>\n",
       "      <td>'0022-4049'</td>\n",
       "      <td>NaN</td>\n",
       "    </tr>\n",
       "  </tbody>\n",
       "</table>\n",
       "</div>"
      ],
      "text/plain": [
       "                             doi  \\\n",
       "0        10.1111/1467-8330.00227   \n",
       "1      10.1163/13822373-90002428   \n",
       "2              10.3354/meps09193   \n",
       "3       10.1177/1350508408095817   \n",
       "4  10.1016/s0022-4049(02)00180-9   \n",
       "\n",
       "                                               title  \\\n",
       "0  Institutionalising future geographies of finan...   \n",
       "1  Landscaping Hispaniola Moreau de Saint-Méry's ...   \n",
       "2  Modelling the effect of vertical mixing on bot...   \n",
       "3   The Body Dances: Carnival Dance and Organization   \n",
       "4  Arithmeticity of Orbifold Generalised Triangle...   \n",
       "\n",
       "                                            abstract  \\\n",
       "0  This paper provides a critical overview of rec...   \n",
       "1  This article focuses on Médéric Louis Élie Mor...   \n",
       "2  Reliable estimates of in situ phytoplankton gr...   \n",
       "3  Building on the work of Pierre Bourdieu and Ma...   \n",
       "4  Maclachlan and Martin have proved that only fi...   \n",
       "\n",
       "                                                issn   subjects  \n",
       "0                                        '0066-4812'        NaN  \n",
       "1                      'issn:1382-2373', '1382-2373'        NaN  \n",
       "2  '1616-1599', 'issn:0171-8630', 'issn:1616-1599...        NaN  \n",
       "3                                        '1350-5084'  sociology  \n",
       "4                                        '0022-4049'        NaN  "
      ]
     },
     "execution_count": 4,
     "metadata": {},
     "output_type": "execute_result"
    }
   ],
   "source": [
    "articles_md = pd.read_csv('../data/all_articles_notext.csv.gz')\n",
    "print(articles_md.info())\n",
    "articles_md.head()"
   ]
  },
  {
   "cell_type": "code",
   "execution_count": 26,
   "metadata": {},
   "outputs": [
    {
     "name": "stdout",
     "output_type": "stream",
     "text": [
      "<class 'pandas.core.frame.DataFrame'>\n",
      "Index: 1639120 entries, 0 to 1650035\n",
      "Data columns (total 5 columns):\n",
      " #   Column    Non-Null Count    Dtype \n",
      "---  ------    --------------    ----- \n",
      " 0   doi       1639120 non-null  object\n",
      " 1   title     1639116 non-null  object\n",
      " 2   abstract  1638100 non-null  object\n",
      " 3   issn      1537955 non-null  object\n",
      " 4   subjects  683181 non-null   object\n",
      "dtypes: object(5)\n",
      "memory usage: 75.0+ MB\n"
     ]
    }
   ],
   "source": [
    "# records without DOIs are useless\n",
    "articles_md.dropna(subset=['doi'], inplace=True)\n",
    "# remove duplicated DOIs\n",
    "articles_md.drop_duplicates(subset=['doi'], inplace=True)\n",
    "articles_md.info()"
   ]
  },
  {
   "cell_type": "code",
   "execution_count": 10,
   "metadata": {},
   "outputs": [
    {
     "data": {
      "text/plain": [
       "subjects\n",
       "biology                  147912\n",
       "medicine                 128554\n",
       "physics                  122715\n",
       "mathematics               51452\n",
       "computer science          45695\n",
       "chemistry                 45396\n",
       "psychology                26838\n",
       "engineering               25290\n",
       "materials science         19515\n",
       "geology                   15122\n",
       "economics                 13877\n",
       "sociology                 13610\n",
       "history                    6453\n",
       "art                        5260\n",
       "geography                  4413\n",
       "business                   3097\n",
       "political science          2942\n",
       "philosophy                 2607\n",
       "environmental science      2433\n",
       "Name: count, dtype: int64"
      ]
     },
     "execution_count": 10,
     "metadata": {},
     "output_type": "execute_result"
    }
   ],
   "source": [
    "articles_md.subjects.value_counts()"
   ]
  },
  {
   "cell_type": "code",
   "execution_count": 23,
   "metadata": {},
   "outputs": [
    {
     "data": {
      "image/png": "[encoded data removed]",
      "text/plain": [
       "<Figure size 640x480 with 1 Axes>"
      ]
     },
     "metadata": {},
     "output_type": "display_data"
    }
   ],
   "source": [
    "def word_count(s):\n",
    "    return len(s.split()) if type(s) == str else np.NaN\n",
    "\n",
    "abstract_wordcounts = articles_md.abstract.apply(word_count)\n",
    "abstract_wordcounts[abstract_wordcounts < 1000].hist();"
   ]
  },
  {
   "cell_type": "code",
   "execution_count": 27,
   "metadata": {},
   "outputs": [
    {
     "data": {
      "text/plain": [
       "count    1.638100e+06\n",
       "mean     1.766889e+02\n",
       "std      1.143214e+02\n",
       "min      0.000000e+00\n",
       "25%      1.060000e+02\n",
       "50%      1.620000e+02\n",
       "75%      2.300000e+02\n",
       "max      3.714000e+03\n",
       "Name: abstract, dtype: float64"
      ]
     },
     "execution_count": 27,
     "metadata": {},
     "output_type": "execute_result"
    }
   ],
   "source": [
    "abstract_wordcounts.describe()"
   ]
  },
  {
   "cell_type": "code",
   "execution_count": 48,
   "metadata": {},
   "outputs": [
    {
     "name": "stdout",
     "output_type": "stream",
     "text": [
      "Lorsque la Fédération des travailleurs de l'Ontario avait décidé d’étudier le problème de la crise constitutionnelle que traverse le Canada, elle avait souhaité entendre le point de vue, sinon du Québec, du moins d'un travailleur syndiqué du Québec.Far be it from me to minimize the initiative you have taken, but I cannot help telling you, without making the Ontario Federation of Labour a specific target, that Labour allowed itself to wait far too long. For, ever since the Quebec Federation of Labour, at the very outset of the work by the Laurendeau-Dunton Commission on Bilingualism and Biculturalism, asked this body to organize conferences between trade unionists throughout the country, we have continued to await such an invitation from an organisation such as yours. Following up on the efforts of the Montreal Labour Council, the QFL also called upon the Canadian Labour Congress to organize such a meeting.If we attach so much importance to such meetings of unionized workers outside of statutory conventions where jurisdictional problems occupy a higher place than those concerning the future of the country, it is because we believe that the working class has a vital interest in the maintenance of this minimum common market which is Canada, and that it is in a position to unmake as well as remake confederation.The Quebec separatists have for their part realized that independence is impossible without the support and the participation of the trade union movement. But Canadian trade unionism doesn't seem to have realized that it could play a determining role in the evolution of the constitutional crisis.As to us at the QLF we still believe, perhaps naively, that workers throughout the world have common interests which are not necessarily the same as those of the little and the grand bourgeoisie. We continue to believe that within Canada they should be able to understand one another, and this particularly within their union structures, and that they should not espouse the quarrels of national bourgeoisies, one of which, the French-Canadian, is essentially seeking to snatch class privileges from the English-Canadian bourgeoisie and American capitalists making business in Quebec. This having been said, we know too that a considerable number of Quebec as well as Ontario workers climbed, through their labour struggles, to a middle class social status, and that they tend to identify themselves to the aspirations of their national elites ; this explains Canadian nationalism as well as Quebec autononism. From a strictly labour viewpoint, French Canadian nationalism is no more justified than Canadian nationalism, but it happens that both exist and that there is nothing we can do about it.Under the circumstances, the best we can do is to seek out a satisfactory balance between the expression of the worker's primary needs and that of their cultural aspirations, which do not always point in the same direction. We must lean on the unanimity around our common needs to find grounds for agreement, for a modus vivendi where our aspirations are concerned. Thanks to our efforts, North American workers are no longer motivated by their material interests alone. This explains to foreign policy of the AFL-CIO, the latent anti-Americanism of Canadian organized labour and the nationalism, if not separatism, of Quebec trade unionists.If Canadian workers heeded only the categoric imperative of primo vivere, they would only have long since not only joined international unions, but pushed Canada over into annexation by the United States. Yet what we see, apart from the will to remain Canadian despite the shortcomings of this political and cultural choice, is a progressive Canadianization — more often within than outside — of North American trade unionism.Therefore if Canadian workers are disposed to pay a certain price for not being absorbed by the United States, taking into account all the undeniable material benefits that this would involve, there must be no astonishment that French Canadian workers are also ready to make certain sacrifices to avert assimilation by English Canada. However, just as English speaking workers don't go as far as ousting North American unions and capital to assert their national identity, so are French Canadian workers not unanimous about joining the CNTU, and even less so about embracing separatism to assert theirs. We would nevertheless be on the wrong track and preparing some cruel tomorrows if we imagined that the workers are indifferent to cultural and national, to constitutional, problems — an impression which, in my view, our Canadian trade unionism has been giving a bit too much.If I chose to speak to you about these cultural, national and constitutional problems in terms of prices to be paid, especially by the workers, it was to point out to you that Quebec French Canadians, including workers to a certain extent, have a notion that they have paid too dearly up to now for the right to maintain their national identity within Canadian Confederation. They believe they have paid too dearly in terms of economic inferiority, language impoverishment, ceaseless campaigns of niggardly demands, and vexations of every kind. The choice that confronts them now is either to pay a premium for living completely separate from the rest of the country, or cutting the price by letting themselves be assimilated by the U.S. instead of English Canada, a much more inviting course in terms of hard profit. And, according to a poll conducted by Maclean's, the Quebec annexationists are more numerous that the separatists. However, it happens that annexationists are recruited especially from the popular, less-educated class whereas the separatists are more frequently found among the educated and influential, as may readily be judged by the tone of the French Canadian press, televison and radio.At the QFL our choice has, for some years now, been in between those two desperate solutions. Time and again we have rejected the separatist theory. We regard it as far to costly to the working classes ; so costly in fact that it would end up sooner or later in annexation to the United States. In that event, the several subsequent decades would see Quebec left with nothing more that some Louisiana-style folklore merit.But on the other hand, neither do we accept the present state of affairs, in which we have the impression that we alone are footing the Confederation bill. And since we are increasingly aware of being a key factor in your own gambit to thwart annexation, what we propose to you is that you share with us the cost of the very raison d'être and the originality of this land — its bilingual and bicultural character.Obviously there can be no question of the overnight transformation of all Canadians into bilinguals and participants in two cultures. This is the frequent dread of anglophone Canadians, most of whom, deprived of the necessary education, already participate very little in their own culture. There is no great haste to tackle a second language when one doesn't even have the basic education to be able to adapt to technological changes. French Canadians are even more knowledgeable about this resistance to bilingualism. For this was precisely the condition laid down, to the detriment of French Canadian culture, by Canadian anglophone and American people of property who established in their province. We have no intention of requiring that adult workers throughout Canada be bilingual at a time when we ourselves are demanding the right to work in our own language in Quebec.Yet while we insist on working in French in Quebec, we resist at the same time the increasing pressure being exerted for official unilingualism in our province. We are opposed to unilingualism because we want to make room for the future, which seems to us to promise an ever-broadening and more advanced education for the class we represent.If French Canadian workers are bilingual now, it is simply because they were forced into it to earn their living. If you aren't, it's because you've been able to get along without it. That is why we have nothing against English unilingual workers who decided against compromising the small amount of culture they had by participating in ours without the necessary preparation. That is why we deplore the cultural impoverishment that resulted for us from the economic necessity of living seated between two cultures which were too poor for the one to gain enrichment from the other. This is also the reason why on the one hand we reproach your elite for shying away from one of the richest culture in the world, ours — and this is apparently a unique world fact for an educated class — and why on the other hand we reproach certain of our own elite for trying, in spite and vengeance to bar us through unilingualism from access to another of the great western cultures, yours.Just as we understand your own lack of eagerness, as adults, to become bilingual, so would we fail to understand failure on your part to create for your children, surely more educated and cultivated than you are, the conditions permitting them to become bilingual for cultural reasons ; just what we ourselves desire for our own children. Life has made it so that the reason for my being bilingual is not the same as Dr. Eugene Forsey's for being so. But that is no reason why the descendants of all of us in Canada shouldn't be bilingual, in the same manner as all the intellectuel elite of Europe and elsewhere. This is especially true when bilingualism is probably the very condition of the country's survival.If educated English Canadians were to adopt Spanish or German as a second language, French Canadians might well turn to Russian or Chinese, and that would be it for Canada.A Quebec separatist, even of the subconscious kind, is not as readily identified by bombs and street demonstrations as he is by his total absence of demands on English language Canadians. He will ask you for nothing lest he be given something that will point up the folly of his thesis. And you can identify a French Canadian federalist by his determination to change the existing situation, not by way of more or less complete Quebec isolation, but by his numerous demands on English Canada. And since I am a confirmed federalist I shall not mince words about telling you under what conditions, in my opinion, the Canadian experience will be able to continue. Then it will be up to you to decide whether you are federalists or separatists.To begin with, since we are here in Ontario and I am speaking to Ontario workers, I shall say that inevitably there will be, as regards our respective provinces, identical conditions for our linguistic minorities. As far as the separatists are concerned, Quebec must treat its anglophone minority in largely the same way as Ontario and the other provinces treat their francophone minorities. I have told you why I do not share that view, which seems to me to be inspired much more by the law of retaliation than by the requirements of human progress. But for a federalist like myself it is Ontario and the other provinces — but especially Ontario — which must move progressively and rapidly to granting the French minority the same treatment as we grant our English minority.Now mark you, my words do not mean that I am here as a beggar. I'm not asking you for anything. Rather I am here to offer you something — the opportunity to conserve a country that is going to be bicultural or that isn't going to be at all.You would like me to tell you what is happening in Quebec. What is happening in Quebec is that the separatist idea, in forms much more subtle than secession, is working its way into minds. It is a tendency for which, some day, there will be no turning back unless the rest of the country moves in the direction that I havesuggested to you. It isn't, at least to my mind, a matter of vengeance, of reprisal, or of using our anglophone minority as a hostage to secure equal treatment for your francophone minority. In fact, French language Quebecers are becoming more and more inclined to disown the linguistic minorities of the other provinces ; to ridicule their heroic efforts to escape assimiliation, to forget these groups maltreated by history just as one tries to forget about retarded children placed in an institution. More and more they are tending towards giving up to your governments, towards regarding bilingualism as a costly Utopia, towards disinterest in the rest of the country — French minorities included — towards turning inwards to one another and abandoning to you everything that is not Quebec. While you continue to wonder, all in good faith, what is wrong with your mate, the mate is beginning to fatalistically accept divorce... or at least separate rooms.If I tell you that in order to save Confederation, Ontario must immediately become an official bilingual province and, progressively, a bicultural territory, there are realistic Quebec federalists who, on my return home, will call me an impenitent idealist and a hopeless dreamer. They will tell me that by calling for such things I am, on the contrary, risking a death blow to « the old lady » — the Constitution — and turning you into separatists. The way they see it, the best we can hope for is to build a Quebec both strong and French which will keep its Confederation membership card for the sole purpose of maintaining here a minimum of a common market that has been reduced to the status of a businessmen's club. I leave it to you, then, to imagine what thoughts are reserved for me by the separatists of all hues, to whom any helping hand offered the English to prevent them from wrecking Confederation is tantamount to the crime of high treason.And yet for my part I persist in telling you that in order to make Quebecers start interesting themselves anew in Canada as being their country, something has to happen to make them feel that this country is theirs. You do not always understand Quebec's official attitude towards Ottawa : opting out of cost-sharing programs, the recuperation of taxation fields, demands for powers which have been transferred to the federal State by way of constitutional amendment, the desire to assume an international personality in the cultural and labour fields, and so on.You feel that Quebec is pulling out of Confederation, and indeed this is true in spirits if not in facts. For if the country can adapt itself to a more rigorous division of jurisdictions, and even granting greater constitutional powers to the provinces, it cannot long survive the psychological disaffection of Quebecers towards the central government and the other provinces.Hence there is no point in scolding Ottawa for its weakness in the face of Quebec demands, in demanding that it take a firmer stand and stop making concessions. It matters rather little that Quebec manages its own health insurance, its family allowances and its old age pensions ; of far greater seriousness would be its refusal to take part in the drafting and realization of an economic plan, its refusal to integrate therein its own economic policy and the various other measures within its jurisdiction. And it would be tragic if Quebec at this point were to stand aside, to be heedless of harmonizing the countries policies to its own ; of abstaining in the Commons from pronouncing itself on cost-sharing programs on grounds that it is a non-participant. The way things are going now, there is danger that Quebec not only will turn to managing its own affairs but will do so in a contrary manner to the rest of the country out of a bitter desire to assume the exclusively of the French Canadian identity, and to do it right down to the last detail.If the country is coming apart in our minds, then in those minds must there be an undertaking to secure it together again before it is too late. And if Confederation is to be restored to French Canadians as anything more that an economic common market, then they must be given, or re-given, that sentiment, that real feeling that the country belongs to them by the same token as it belongs to English Canadians.If this is to be so, the French Canadians must have a French life, not only in Quebec where they are making it their business to have it, but everywhere in Canada where they are numerous enough — such as in certain areas of Ontario and even in Toronto itself — to achieve a flourishing collective life that is no longer the outcome of day-by-day heroism. In order to achieve this, these French Canadians must also have an education system equal to that accorded to the English in Quebec. The State must provide them with radio and television that speaks their language. And your Parliament and your courts are going to have to hear them in their own language ; your children and grandchildren must be able to communicate with theirs in French in a fraternal association where cultural preoccupations will have stepped ahead of purely economic considerations.And above all, please don't try to tell me that as workers you can't do anything about the situation ; that your political party doesn't happen to be in power ; that if you had your own way Ontario by now would be just as bilingual as Quebec. I shall believe you when the Ontario Federation of Labour, which is your own exclusive property, is just as bilingual as the Quebec Federation of Labour. And that is something you could start working on right away tomorrow.Now you probably will answer me that all this is quite useless ; that it would be idiotic to spend considerable sums of money to have bilingual conventions and bilingual publications since French language Ontario workers understand and speak English — and that at all events they have never asked for such a service.Then it will be my turn to reply that at the QFL, which isn't nearly as well heeled as the OFL, we agree to these financial sacrifices at the altar of respect for human rights. If we ran our business exclusively in French we too could say that the anglophone workers of Quebec are bilingual, for by way of a natural, but non-democratic selection, we would obtain the participation of these only in our conventions and deliberations. Those among you who have had occasion to attend our conventions are aware that at times no more than a score of delegates turn to the simultaneous translation that we provide at fancy prices. If we were to eliminate this service on the pretext that little use is made of it, our deliberations wouldn't suffer very long because our affiliates would delegate only bilingual or unilingual French workers — as you do in reverse here. In this way we would create two classes of Quebec trade unionists : those able to take part on the trade union life, and the others watching mutely from the sidelines.A principle isn't respected because of the number of people who invoke it, for in that case we are respecting the force of numbers only — and this is much more akin to fear than to anything particularly noble.Be that as it may, at the QFL it is the principal of bilingualism and biculturalism that we respect. And we shall continue to respect it as long as our French language members allow us to do so ; that is as long as they conserve faith in their country and the hope that one day their fellow French Canadians outside Quebec will enjoy the same rights as those recognized for the anglophone minority of our province. But do not forget that the Quebec workers, those of the CNTU as well as of the QFL, are probably the last rampart of federalism in our province. If the day should come when they run against the tide of strictly material interests and topple into separatism, it would put the finish to Canadian Confederation.That is why, running counter to our own unwitting separatists in the trade union movement, who wait but one thing from you — lay off us and we'll lay off you — I personally attach great importance to the contribution that can and must constitute labour solidarity in the building of a true Canadian federalism. I think that if the French Canadian workers of Quebec have no interest in sharing the desire of their national elite to replace yours at the summit of our social hierarchy, then neither do you have any interest in banding together with your own national elite in their bid to keep to class privileges that have brought you little or no benefit. However, it isn't enough to say that the workers are united by community of interests. There must be acceptance of their cultural diversity ; it must be accepted as an opportunity for human enrichment rather than an obstacle to unity. There must be assurance that this diversity is safeguarded by equality of rights and opportunity to develop.In a word, what I propose to you as a working man addressing working men is no more and no less than a reciprocal agreement between the OFL and the QFL by which our two union centrals undertake to acknowledge the same rights for their linguistic minorities ; to provide them with the same services. And you may rest assured that I shall fight to the death in negotiation to obtain for your French language members the benefits that our English language members enjoy. You may also be certain that I shall abandon not a single one of our members' acquired rights, for that is something that a real trade union cannot afford to do. And let not the OFL invoke the management argument about inability to pay, or I shall rush a picket line at it with placards screeching « Unfair to Labour ».But all joking aside, I seriously believe that we should, within our trade union movement, go after a type of federalism that could serve as a model to our country. We are bound by no constitution in this respect, and if we want to make changes we don't need approval f\n"
     ]
    }
   ],
   "source": [
    "articles_md['abstract_word_count'] = abstract_wordcounts\n",
    "print(articles_md.sort_values('abstract_word_count').abstract.dropna().iloc[-1])"
   ]
  },
  {
   "cell_type": "markdown",
   "metadata": {},
   "source": [
    "## Registration authority"
   ]
  },
  {
   "cell_type": "code",
   "execution_count": 3,
   "metadata": {},
   "outputs": [
    {
     "name": "stdout",
     "output_type": "stream",
     "text": [
      "                            doi        ra\n",
      "count                   1598295   1598295\n",
      "unique                  1598295         1\n",
      "top     10.1111/1467-8330.00227  Crossref\n",
      "freq                          1   1598295\n"
     ]
    }
   ],
   "source": [
    "doi_ra = pd.read_csv('../data/doi_ra.csv').drop_duplicates(subset='doi').dropna()\n",
    "doi_ra = doi_ra[doi_ra.ra =='Crossref']\n",
    "print(doi_ra.describe())"
   ]
  },
  {
   "cell_type": "markdown",
   "metadata": {},
   "source": [
    "## Crossref data"
   ]
  },
  {
   "cell_type": "markdown",
   "metadata": {},
   "source": [
    "### Inspecting the raw data"
   ]
  },
  {
   "cell_type": "code",
   "execution_count": 2,
   "metadata": {},
   "outputs": [
    {
     "data": {
      "text/plain": [
       "dict_keys(['items'])"
      ]
     },
     "execution_count": 2,
     "metadata": {},
     "output_type": "execute_result"
    }
   ],
   "source": [
    "with gzip.open('../data/crossref_data_2023_04/0.json.gz') as f:\n",
    "    cr_json0 = json.load(f)\n",
    "cr_json0.keys()"
   ]
  },
  {
   "cell_type": "code",
   "execution_count": 7,
   "metadata": {},
   "outputs": [
    {
     "data": {
      "text/plain": [
       "dict_keys(['abstract', 'URL', 'resource', 'member', 'score', 'created', 'license', 'ISSN', 'container-title', 'issued', 'issue', 'prefix', 'reference-count', 'indexed', 'author', 'DOI', 'is-referenced-by-count', 'published', 'published-print', 'alternative-id', 'subject', 'content-domain', 'reference', 'title', 'link', 'source', 'type', 'publisher', 'journal-issue', 'volume', 'references-count', 'issn-type', 'deposited', 'language', 'page'])"
      ]
     },
     "execution_count": 7,
     "metadata": {},
     "output_type": "execute_result"
    }
   ],
   "source": [
    "cr_list0 = cr_json0['items']\n",
    "cr_list0[2].keys()"
   ]
  },
  {
   "cell_type": "code",
   "execution_count": 11,
   "metadata": {},
   "outputs": [
    {
     "data": {
      "text/plain": [
       "['Physical and Theoretical Chemistry', 'General Physics and Astronomy']"
      ]
     },
     "execution_count": 11,
     "metadata": {},
     "output_type": "execute_result"
    }
   ],
   "source": [
    "cr_list0[0]['subject']"
   ]
  },
  {
   "cell_type": "code",
   "execution_count": 29,
   "metadata": {},
   "outputs": [
    {
     "name": "stdout",
     "output_type": "stream",
     "text": [
      "<class 'pandas.core.frame.DataFrame'>\n",
      "RangeIndex: 5000 entries, 0 to 4999\n",
      "Data columns (total 3 columns):\n",
      " #   Column         Non-Null Count  Dtype \n",
      "---  ------         --------------  ----- \n",
      " 0   doi            5000 non-null   object\n",
      " 1   subjects       4742 non-null   object\n",
      " 2   journal_title  5000 non-null   object\n",
      "dtypes: object(3)\n",
      "memory usage: 117.3+ KB\n",
      "None\n"
     ]
    },
    {
     "data": {
      "text/html": [
       "<div>\n",
       "<style scoped>\n",
       "    .dataframe tbody tr th:only-of-type {\n",
       "        vertical-align: middle;\n",
       "    }\n",
       "\n",
       "    .dataframe tbody tr th {\n",
       "        vertical-align: top;\n",
       "    }\n",
       "\n",
       "    .dataframe thead th {\n",
       "        text-align: right;\n",
       "    }\n",
       "</style>\n",
       "<table border=\"1\" class=\"dataframe\">\n",
       "  <thead>\n",
       "    <tr style=\"text-align: right;\">\n",
       "      <th></th>\n",
       "      <th>doi</th>\n",
       "      <th>subjects</th>\n",
       "      <th>journal_title</th>\n",
       "    </tr>\n",
       "  </thead>\n",
       "  <tbody>\n",
       "    <tr>\n",
       "      <th>0</th>\n",
       "      <td>10.1063/1.1486445</td>\n",
       "      <td>'Physical and Theoretical Chemistry', 'General...</td>\n",
       "      <td>The Journal of Chemical Physics</td>\n",
       "    </tr>\n",
       "    <tr>\n",
       "      <th>1</th>\n",
       "      <td>10.1021/cm011675j</td>\n",
       "      <td>'Materials Chemistry', 'General Chemical Engin...</td>\n",
       "      <td>Chemistry of Materials</td>\n",
       "    </tr>\n",
       "    <tr>\n",
       "      <th>2</th>\n",
       "      <td>10.1108/01443579610125787</td>\n",
       "      <td>'Management of Technology and Innovation', 'St...</td>\n",
       "      <td>International Journal of Operations &amp;amp; Prod...</td>\n",
       "    </tr>\n",
       "    <tr>\n",
       "      <th>3</th>\n",
       "      <td>10.1108/01437730110380183</td>\n",
       "      <td>'Organizational Behavior and Human Resource Ma...</td>\n",
       "      <td>Leadership &amp;amp; Organization Development Journal</td>\n",
       "    </tr>\n",
       "    <tr>\n",
       "      <th>4</th>\n",
       "      <td>10.1149/1.1392654</td>\n",
       "      <td>'Materials Chemistry', 'Electrochemistry', 'Su...</td>\n",
       "      <td>Journal of The Electrochemical Society</td>\n",
       "    </tr>\n",
       "  </tbody>\n",
       "</table>\n",
       "</div>"
      ],
      "text/plain": [
       "                         doi  \\\n",
       "0          10.1063/1.1486445   \n",
       "1          10.1021/cm011675j   \n",
       "2  10.1108/01443579610125787   \n",
       "3  10.1108/01437730110380183   \n",
       "4          10.1149/1.1392654   \n",
       "\n",
       "                                            subjects  \\\n",
       "0  'Physical and Theoretical Chemistry', 'General...   \n",
       "1  'Materials Chemistry', 'General Chemical Engin...   \n",
       "2  'Management of Technology and Innovation', 'St...   \n",
       "3  'Organizational Behavior and Human Resource Ma...   \n",
       "4  'Materials Chemistry', 'Electrochemistry', 'Su...   \n",
       "\n",
       "                                       journal_title  \n",
       "0                    The Journal of Chemical Physics  \n",
       "1                             Chemistry of Materials  \n",
       "2  International Journal of Operations &amp; Prod...  \n",
       "3  Leadership &amp; Organization Development Journal  \n",
       "4             Journal of The Electrochemical Society  "
      ]
     },
     "execution_count": 29,
     "metadata": {},
     "output_type": "execute_result"
    }
   ],
   "source": [
    "cf_df0 = pd.DataFrame(\n",
    "    [{\n",
    "        'doi': item['DOI'],\n",
    "        'subjects': str(item['subject'])[1:-1] if 'subject' in item.keys() else np.NaN,\n",
    "        'journal_title': item['container-title'][0]\n",
    "    } for item in cr_list0]\n",
    ")\n",
    "print(cf_df0.info())\n",
    "cf_df0.head()"
   ]
  },
  {
   "cell_type": "code",
   "execution_count": 25,
   "metadata": {},
   "outputs": [
    {
     "name": "stdout",
     "output_type": "stream",
     "text": [
      "['Accounting' 'Acoustics and Ultrasonics'\n",
      " 'Advanced and Specialized Nursing' 'Aerospace Engineering' 'Aging'\n",
      " 'Agricultural and Biological Sciences (miscellaneous)'\n",
      " 'Agronomy and Crop Science' 'Algebra and Number Theory' 'Analysis'\n",
      " 'Analytical Chemistry' 'Anesthesiology and Pain Medicine'\n",
      " 'Animal Science and Zoology' 'Anthropology' 'Applied Mathematics'\n",
      " 'Applied Microbiology and Biotechnology' 'Applied Psychology'\n",
      " 'Aquatic Science' 'Architecture' 'Artificial Intelligence'\n",
      " 'Arts and Humanities (miscellaneous)' 'Astronomy and Astrophysics'\n",
      " 'Atomic and Molecular Physics, and Optics' 'Automotive Engineering'\n",
      " 'Behavioral Neuroscience' 'Biochemistry' 'Bioengineering' 'Biomaterials'\n",
      " 'Biomedical Engineering' 'Biophysics' 'Biotechnology'\n",
      " 'Building and Construction' 'Business and International Management'\n",
      " 'Business, Management and Accounting (miscellaneous)' 'Cancer Research'\n",
      " 'Cardiology and Cardiovascular Medicine' 'Catalysis' 'Cell Biology'\n",
      " 'Cellular and Molecular Neuroscience' 'Ceramics and Composites'\n",
      " 'Chemical Health and Safety' 'Chemistry (miscellaneous)'\n",
      " 'Civil and Structural Engineering' 'Clinical Biochemistry'\n",
      " 'Clinical Psychology' 'Cognitive Neuroscience'\n",
      " 'Colloid and Surface Chemistry' 'Communication' 'Community and Home Care'\n",
      " 'Complementary and Manual Therapy'\n",
      " 'Complementary and alternative medicine' 'Computational Mathematics'\n",
      " 'Computational Mechanics' 'Computational Theory and Mathematics'\n",
      " 'Computer Graphics and Computer-Aided Design'\n",
      " 'Computer Networks and Communications' 'Computer Science (miscellaneous)'\n",
      " 'Computer Science Applications' 'Computer Vision and Pattern Recognition'\n",
      " 'Condensed Matter Physics' 'Conservation' 'Control and Optimization'\n",
      " 'Control and Systems Engineering' 'Critical Care Nursing'\n",
      " 'Critical Care and Intensive Care Medicine' 'Cultural Studies'\n",
      " 'Demography' 'Dermatology' 'Development' 'Developmental Biology'\n",
      " 'Developmental Neuroscience' 'Developmental and Educational Psychology'\n",
      " 'Discrete Mathematics and Combinatorics' 'Drug Discovery'\n",
      " 'Earth-Surface Processes' 'Ecology'\n",
      " 'Ecology, Evolution, Behavior and Systematics'\n",
      " 'Economics and Econometrics'\n",
      " 'Economics, Econometrics and Finance (miscellaneous)' 'Education'\n",
      " 'Electrical and Electronic Engineering' 'Electrochemistry'\n",
      " 'Electronic, Optical and Magnetic Materials' 'Embryology'\n",
      " 'Emergency Medicine' 'Endocrine and Autonomic Systems' 'Endocrinology'\n",
      " 'Endocrinology, Diabetes and Metabolism'\n",
      " 'Energy Engineering and Power Technology' 'Engineering (miscellaneous)'\n",
      " 'Environmental Chemistry' 'Environmental Engineering'\n",
      " 'Environmental Science (miscellaneous)' 'Epidemiology'\n",
      " 'Experimental and Cognitive Psychology' 'Family Practice' 'Finance'\n",
      " 'Fluid Flow and Transfer Processes' 'Food Animals' 'Food Science'\n",
      " 'Forestry' 'Fuel Technology' 'Fundamentals and skills' 'Gastroenterology'\n",
      " 'Gender Studies' 'General Agricultural and Biological Sciences'\n",
      " 'General Arts and Humanities'\n",
      " 'General Biochemistry, Genetics and Molecular Biology'\n",
      " 'General Business, Management and Accounting'\n",
      " 'General Chemical Engineering' 'General Chemistry'\n",
      " 'General Computer Science' 'General Decision Sciences'\n",
      " 'General Dentistry' 'General Earth and Planetary Sciences'\n",
      " 'General Economics, Econometrics and Finance' 'General Energy'\n",
      " 'General Engineering' 'General Environmental Science'\n",
      " 'General Health Professions' 'General Immunology and Microbiology'\n",
      " 'General Materials Science' 'General Mathematics' 'General Medicine'\n",
      " 'General Neuroscience' 'General Nursing' 'General Physics and Astronomy'\n",
      " 'General Psychology' 'General Social Sciences' 'General Veterinary'\n",
      " 'Genetics' 'Genetics (clinical)' 'Geochemistry and Petrology'\n",
      " 'Geography, Planning and Development' 'Geology' 'Geometry and Topology'\n",
      " 'Geophysics' 'Geotechnical Engineering and Engineering Geology'\n",
      " 'Geriatrics and Gerontology' 'Global and Planetary Change'\n",
      " 'Hardware and Architecture' 'Health (social science)'\n",
      " 'Health Informatics' 'Health Information Management' 'Health Policy'\n",
      " 'Health, Toxicology and Mutagenesis' 'Hematology' 'Hepatology'\n",
      " 'Histology' 'History' 'History and Philosophy of Science' 'Horticulture'\n",
      " 'Human Factors and Ergonomics' 'Human-Computer Interaction' 'Immunology'\n",
      " 'Immunology and Allergy' 'Industrial and Manufacturing Engineering'\n",
      " 'Industrial relations' 'Infectious Diseases' 'Information Systems'\n",
      " 'Inorganic Chemistry' 'Insect Science' 'Instrumentation'\n",
      " 'Internal Medicine' 'Language and Linguistics' 'Law'\n",
      " 'Leadership and Management' 'Library and Information Sciences'\n",
      " 'Linguistics and Language' 'Literature and Literary Theory' 'Logic'\n",
      " 'Management Information Systems'\n",
      " 'Management Science and Operations Research'\n",
      " 'Management of Technology and Innovation'\n",
      " 'Management, Monitoring, Policy and Law' 'Marketing'\n",
      " 'Materials Chemistry' 'Maternity and Midwifery' 'Mathematical Physics'\n",
      " 'Mathematics (miscellaneous)' 'Mechanical Engineering'\n",
      " 'Mechanics of Materials' 'Media Technology' 'Medical–Surgical Nursing'\n",
      " 'Medicine (miscellaneous)' 'Metals and Alloys' 'Microbiology'\n",
      " 'Microbiology (medical)' 'Modeling and Simulation' 'Molecular Biology'\n",
      " 'Molecular Medicine' 'Multidisciplinary' 'Museology' 'Music'\n",
      " 'Nature and Landscape Conservation' 'Nephrology' 'Neurology'\n",
      " 'Neurology (clinical)' 'Neuropsychology and Physiological Psychology'\n",
      " 'Neuroscience (miscellaneous)' 'Nuclear Energy and Engineering'\n",
      " 'Nuclear and High Energy Physics' 'Numerical Analysis'\n",
      " 'Nutrition and Dietetics' 'Obstetrics and Gynecology' 'Ocean Engineering'\n",
      " 'Oceanography' 'Oncology' 'Oncology (nursing)' 'Ophthalmology'\n",
      " 'Oral Surgery' 'Organic Chemistry'\n",
      " 'Organizational Behavior and Human Resource Management' 'Orthodontics'\n",
      " 'Orthopedics and Sports Medicine' 'Otorhinolaryngology' 'Parasitology'\n",
      " 'Pathology and Forensic Medicine'\n",
      " 'Pediatrics, Perinatology and Child Health' 'Pharmaceutical Science'\n",
      " 'Pharmacology' 'Pharmacology (medical)' 'Philosophy'\n",
      " 'Physical Therapy, Sports Therapy and Rehabilitation'\n",
      " 'Physical and Theoretical Chemistry'\n",
      " 'Physics and Astronomy (miscellaneous)' 'Physiology'\n",
      " 'Physiology (medical)' 'Plant Science'\n",
      " 'Political Science and International Relations' 'Pollution'\n",
      " 'Polymers and Plastics' 'Pshychiatric Mental Health'\n",
      " 'Psychiatry and Mental health' 'Psychology (miscellaneous)'\n",
      " 'Public Administration'\n",
      " 'Public Health, Environmental and Occupational Health'\n",
      " 'Pulmonary and Respiratory Medicine' 'Radiation'\n",
      " 'Radiological and Ultrasound Technology'\n",
      " 'Radiology, Nuclear Medicine and imaging' 'Rehabilitation'\n",
      " 'Religious studies'\n",
      " 'Renewable Energy, Sustainability and the Environment'\n",
      " 'Reproductive Medicine' 'Rheumatology' 'Safety Research'\n",
      " 'Safety, Risk, Reliability and Quality' 'Sensory Systems'\n",
      " 'Signal Processing' 'Social Psychology' 'Social Sciences (miscellaneous)'\n",
      " 'Sociology and Political Science' 'Software'\n",
      " 'Space and Planetary Science' 'Spectroscopy' 'Speech and Hearing'\n",
      " 'Statistical and Nonlinear Physics' 'Statistics and Probability'\n",
      " 'Statistics, Probability and Uncertainty' 'Strategy and Management'\n",
      " 'Structural Biology' 'Surfaces and Interfaces'\n",
      " 'Surfaces, Coatings and Films' 'Surgery' 'Theoretical Computer Science'\n",
      " 'Tourism, Leisure and Hospitality Management' 'Toxicology'\n",
      " 'Transplantation' 'Transportation' 'Urban Studies' 'Urology' 'Virology'\n",
      " 'Visual Arts and Performing Arts' 'Waste Management and Disposal'\n",
      " 'Water Science and Technology']\n"
     ]
    }
   ],
   "source": [
    "subjects_list = []\n",
    "for l in cf_df0.subjects:\n",
    "    subjects_list.extend(l)\n",
    "subjects = pd.Series(subjects_list)\n",
    "# print(subjects.value_counts().index)\n",
    "print(np.unique(subjects_list))"
   ]
  },
  {
   "cell_type": "code",
   "execution_count": 33,
   "metadata": {},
   "outputs": [
    {
     "data": {
      "text/html": [
       "<div>\n",
       "<style scoped>\n",
       "    .dataframe tbody tr th:only-of-type {\n",
       "        vertical-align: middle;\n",
       "    }\n",
       "\n",
       "    .dataframe tbody tr th {\n",
       "        vertical-align: top;\n",
       "    }\n",
       "\n",
       "    .dataframe thead th {\n",
       "        text-align: right;\n",
       "    }\n",
       "</style>\n",
       "<table border=\"1\" class=\"dataframe\">\n",
       "  <thead>\n",
       "    <tr style=\"text-align: right;\">\n",
       "      <th></th>\n",
       "      <th>doi</th>\n",
       "      <th>subjects</th>\n",
       "      <th>journal_title</th>\n",
       "    </tr>\n",
       "  </thead>\n",
       "  <tbody>\n",
       "    <tr>\n",
       "      <th>1927</th>\n",
       "      <td>10.1080/147538202320147830</td>\n",
       "      <td>'Literature and Literary Theory', 'Cultural St...</td>\n",
       "      <td>Bulletin of Spanish Studies</td>\n",
       "    </tr>\n",
       "    <tr>\n",
       "      <th>2557</th>\n",
       "      <td>10.1016/s0304-422x(02)00008-6</td>\n",
       "      <td>'Literature and Literary Theory', 'Linguistics...</td>\n",
       "      <td>Poetics</td>\n",
       "    </tr>\n",
       "    <tr>\n",
       "      <th>2626</th>\n",
       "      <td>10.1163/156853302760013866</td>\n",
       "      <td>'Literature and Literary Theory', 'Linguistics...</td>\n",
       "      <td>Vetus Testamentum</td>\n",
       "    </tr>\n",
       "    <tr>\n",
       "      <th>3077</th>\n",
       "      <td>10.1080/13696810220146100</td>\n",
       "      <td>'Literature and Literary Theory', 'Linguistics...</td>\n",
       "      <td>Journal of African Cultural Studies</td>\n",
       "    </tr>\n",
       "    <tr>\n",
       "      <th>3157</th>\n",
       "      <td>10.1163/156853302760013857</td>\n",
       "      <td>'Literature and Literary Theory', 'Linguistics...</td>\n",
       "      <td>Vetus Testamentum</td>\n",
       "    </tr>\n",
       "    <tr>\n",
       "      <th>4730</th>\n",
       "      <td>10.1080/09670880220148348</td>\n",
       "      <td>'Literature and Literary Theory', 'Sociology a...</td>\n",
       "      <td>Irish Studies Review</td>\n",
       "    </tr>\n",
       "  </tbody>\n",
       "</table>\n",
       "</div>"
      ],
      "text/plain": [
       "                                doi  \\\n",
       "1927     10.1080/147538202320147830   \n",
       "2557  10.1016/s0304-422x(02)00008-6   \n",
       "2626     10.1163/156853302760013866   \n",
       "3077      10.1080/13696810220146100   \n",
       "3157     10.1163/156853302760013857   \n",
       "4730      10.1080/09670880220148348   \n",
       "\n",
       "                                               subjects  \\\n",
       "1927  'Literature and Literary Theory', 'Cultural St...   \n",
       "2557  'Literature and Literary Theory', 'Linguistics...   \n",
       "2626  'Literature and Literary Theory', 'Linguistics...   \n",
       "3077  'Literature and Literary Theory', 'Linguistics...   \n",
       "3157  'Literature and Literary Theory', 'Linguistics...   \n",
       "4730  'Literature and Literary Theory', 'Sociology a...   \n",
       "\n",
       "                            journal_title  \n",
       "1927          Bulletin of Spanish Studies  \n",
       "2557                              Poetics  \n",
       "2626                    Vetus Testamentum  \n",
       "3077  Journal of African Cultural Studies  \n",
       "3157                    Vetus Testamentum  \n",
       "4730                 Irish Studies Review  "
      ]
     },
     "execution_count": 33,
     "metadata": {},
     "output_type": "execute_result"
    }
   ],
   "source": [
    "# cf_df0[cf_df0.subjects.apply(lambda l: 'Literature and Literary Theory' in l)]\n",
    "cf_df0[cf_df0.subjects.str.contains('liter', case=False, na=False)]"
   ]
  },
  {
   "cell_type": "markdown",
   "metadata": {},
   "source": [
    "### Filtering subjects"
   ]
  },
  {
   "cell_type": "code",
   "execution_count": 3,
   "metadata": {},
   "outputs": [
    {
     "name": "stdout",
     "output_type": "stream",
     "text": [
      "<class 'pandas.core.frame.DataFrame'>\n",
      "RangeIndex: 80414 entries, 0 to 80413\n",
      "Data columns (total 4 columns):\n",
      " #   Column         Non-Null Count  Dtype \n",
      "---  ------         --------------  ----- \n",
      " 0   subjects       80414 non-null  object\n",
      " 1   journal_title  80357 non-null  object\n",
      " 2   title          80394 non-null  object\n",
      " 3   abstract       19967 non-null  object\n",
      "dtypes: object(4)\n",
      "memory usage: 2.5+ MB\n",
      "None\n",
      "                                            subjects  \\\n",
      "0  ['Sociology and Political Science', 'Cultural ...   \n",
      "1  ['Social Sciences (miscellaneous)', 'Environme...   \n",
      "2  ['Visual Arts and Performing Arts', 'Communica...   \n",
      "3  ['History and Philosophy of Science', 'General...   \n",
      "4  ['Linguistics and Language', 'History', 'Langu...   \n",
      "\n",
      "                                journal_title  \\\n",
      "0                        Soccer &amp; Society   \n",
      "1                    Environmental Humanities   \n",
      "2                   Visual Culture in Britain   \n",
      "3  Journal of the History of Economic Thought   \n",
      "4                 Historiographia Linguistica   \n",
      "\n",
      "                                               title  \\\n",
      "0  ['The ‘talk o’ the toon’? An examination of th...   \n",
      "1     ['Seeing Environmental Violence in Deep Time']   \n",
      "2  ['‘Forward from Wigan Pier’: Remaking Document...   \n",
      "3  ['Prospects for the Progress of Heterodox Econ...   \n",
      "4  ['Two Short Essays by Árni Magnússon on the Or...   \n",
      "\n",
      "                                            abstract  \n",
      "0                                                NaN  \n",
      "1  <jats:title>Abstract</jats:title>\\n           ...  \n",
      "2                                                NaN  \n",
      "3  <jats:p>What are the prospects for progress in...  \n",
      "4  <jats:title>Summary</jats:title>\\n            ...  \n"
     ]
    }
   ],
   "source": [
    "subjects_df = pd.read_csv('../data/cr_data.csv')\n",
    "print(subjects_df.info())\n",
    "print(subjects_df.head())\n",
    "with open('../data/all_subjects.txt', mode='r') as f:\n",
    "    all_subjects = f.read().split('\\n')\n",
    "all_subjects[:5]"
   ]
  },
  {
   "cell_type": "code",
   "execution_count": 16,
   "metadata": {},
   "outputs": [],
   "source": [
    "def subject_filter(s):\n",
    "    subject_phrases = [\n",
    "        'social sciences',\n",
    "        'literature',\n",
    "        'history',\n",
    "        'sociology',\n",
    "        'cultural studies',\n",
    "        'philosophy',\n",
    "        'arts',\n",
    "        'gender studies',\n",
    "        'urban studies',\n",
    "        'international relations'\n",
    "    ]\n",
    "    lowered = s.lower()\n",
    "    for phrase in subject_phrases:\n",
    "        if phrase in lowered:\n",
    "            return True\n",
    "    return False"
   ]
  },
  {
   "cell_type": "code",
   "execution_count": 17,
   "metadata": {},
   "outputs": [
    {
     "data": {
      "text/plain": [
       "subjects\n",
       "False    1514296\n",
       "True       80414\n",
       "Name: count, dtype: int64"
      ]
     },
     "execution_count": 17,
     "metadata": {},
     "output_type": "execute_result"
    }
   ],
   "source": [
    "subjects_mask = subjects_df.subjects.apply(subject_filter)\n",
    "subjects_mask.value_counts()"
   ]
  },
  {
   "cell_type": "code",
   "execution_count": 18,
   "metadata": {},
   "outputs": [
    {
     "data": {
      "text/html": [
       "<div>\n",
       "<style scoped>\n",
       "    .dataframe tbody tr th:only-of-type {\n",
       "        vertical-align: middle;\n",
       "    }\n",
       "\n",
       "    .dataframe tbody tr th {\n",
       "        vertical-align: top;\n",
       "    }\n",
       "\n",
       "    .dataframe thead th {\n",
       "        text-align: right;\n",
       "    }\n",
       "</style>\n",
       "<table border=\"1\" class=\"dataframe\">\n",
       "  <thead>\n",
       "    <tr style=\"text-align: right;\">\n",
       "      <th></th>\n",
       "      <th>subjects</th>\n",
       "      <th>journal_title</th>\n",
       "      <th>title</th>\n",
       "      <th>abstract</th>\n",
       "    </tr>\n",
       "  </thead>\n",
       "  <tbody>\n",
       "    <tr>\n",
       "      <th>8</th>\n",
       "      <td>['Sociology and Political Science', 'Cultural ...</td>\n",
       "      <td>Soccer &amp;amp; Society</td>\n",
       "      <td>['The ‘talk o’ the toon’? An examination of th...</td>\n",
       "      <td>NaN</td>\n",
       "    </tr>\n",
       "    <tr>\n",
       "      <th>18</th>\n",
       "      <td>['Social Sciences (miscellaneous)', 'Environme...</td>\n",
       "      <td>Environmental Humanities</td>\n",
       "      <td>['Seeing Environmental Violence in Deep Time']</td>\n",
       "      <td>&lt;jats:title&gt;Abstract&lt;/jats:title&gt;\\n           ...</td>\n",
       "    </tr>\n",
       "    <tr>\n",
       "      <th>44</th>\n",
       "      <td>['Visual Arts and Performing Arts', 'Communica...</td>\n",
       "      <td>Visual Culture in Britain</td>\n",
       "      <td>['‘Forward from Wigan Pier’: Remaking Document...</td>\n",
       "      <td>NaN</td>\n",
       "    </tr>\n",
       "    <tr>\n",
       "      <th>174</th>\n",
       "      <td>['History and Philosophy of Science', 'General...</td>\n",
       "      <td>Journal of the History of Economic Thought</td>\n",
       "      <td>['Prospects for the Progress of Heterodox Econ...</td>\n",
       "      <td>&lt;jats:p&gt;What are the prospects for progress in...</td>\n",
       "    </tr>\n",
       "    <tr>\n",
       "      <th>401</th>\n",
       "      <td>['Linguistics and Language', 'History', 'Langu...</td>\n",
       "      <td>Historiographia Linguistica</td>\n",
       "      <td>['Two Short Essays by Árni Magnússon on the Or...</td>\n",
       "      <td>&lt;jats:title&gt;Summary&lt;/jats:title&gt;\\n            ...</td>\n",
       "    </tr>\n",
       "  </tbody>\n",
       "</table>\n",
       "</div>"
      ],
      "text/plain": [
       "                                              subjects  \\\n",
       "8    ['Sociology and Political Science', 'Cultural ...   \n",
       "18   ['Social Sciences (miscellaneous)', 'Environme...   \n",
       "44   ['Visual Arts and Performing Arts', 'Communica...   \n",
       "174  ['History and Philosophy of Science', 'General...   \n",
       "401  ['Linguistics and Language', 'History', 'Langu...   \n",
       "\n",
       "                                  journal_title  \\\n",
       "8                          Soccer &amp; Society   \n",
       "18                     Environmental Humanities   \n",
       "44                    Visual Culture in Britain   \n",
       "174  Journal of the History of Economic Thought   \n",
       "401                 Historiographia Linguistica   \n",
       "\n",
       "                                                 title  \\\n",
       "8    ['The ‘talk o’ the toon’? An examination of th...   \n",
       "18      ['Seeing Environmental Violence in Deep Time']   \n",
       "44   ['‘Forward from Wigan Pier’: Remaking Document...   \n",
       "174  ['Prospects for the Progress of Heterodox Econ...   \n",
       "401  ['Two Short Essays by Árni Magnússon on the Or...   \n",
       "\n",
       "                                              abstract  \n",
       "8                                                  NaN  \n",
       "18   <jats:title>Abstract</jats:title>\\n           ...  \n",
       "44                                                 NaN  \n",
       "174  <jats:p>What are the prospects for progress in...  \n",
       "401  <jats:title>Summary</jats:title>\\n            ...  "
      ]
     },
     "execution_count": 18,
     "metadata": {},
     "output_type": "execute_result"
    }
   ],
   "source": [
    "filtered_subjects_df = subjects_df[subjects_mask]\n",
    "filtered_subjects_df.head()"
   ]
  },
  {
   "cell_type": "code",
   "execution_count": null,
   "metadata": {},
   "outputs": [],
   "source": [
    "filtered_subjects_df.to_csv('../data/cr_filtered_subjects.csv', index=False)"
   ]
  },
  {
   "cell_type": "markdown",
   "metadata": {},
   "source": [
    "## Joining CR and CORE Metadata"
   ]
  },
  {
   "cell_type": "code",
   "execution_count": 6,
   "metadata": {},
   "outputs": [
    {
     "name": "stdout",
     "output_type": "stream",
     "text": [
      "<class 'pandas.core.frame.DataFrame'>\n",
      "RangeIndex: 80414 entries, 0 to 80413\n",
      "Data columns (total 4 columns):\n",
      " #   Column         Non-Null Count  Dtype \n",
      "---  ------         --------------  ----- \n",
      " 0   subjects       80414 non-null  object\n",
      " 1   journal_title  80357 non-null  object\n",
      " 2   title          80394 non-null  object\n",
      " 3   abstract       19967 non-null  object\n",
      "dtypes: object(4)\n",
      "memory usage: 2.5+ MB\n"
     ]
    }
   ],
   "source": [
    "filtered_subjects_df = pd.read_csv('../data/cr_filtered_subjects.csv')\n",
    "filtered_subjects_df.info()"
   ]
  },
  {
   "cell_type": "code",
   "execution_count": 50,
   "metadata": {},
   "outputs": [],
   "source": [
    "filtered_subjects_df['abstract_word_count'] = filtered_subjects_df.abstract.apply(word_count)"
   ]
  },
  {
   "cell_type": "code",
   "execution_count": 51,
   "metadata": {},
   "outputs": [
    {
     "data": {
      "text/plain": [
       "count    19967.000000\n",
       "mean       158.904392\n",
       "std         94.525881\n",
       "min          1.000000\n",
       "25%        107.000000\n",
       "50%        146.000000\n",
       "75%        192.000000\n",
       "max       1959.000000\n",
       "Name: abstract_word_count, dtype: float64"
      ]
     },
     "execution_count": 51,
     "metadata": {},
     "output_type": "execute_result"
    }
   ],
   "source": [
    "filtered_subjects_df.abstract_word_count.describe()"
   ]
  },
  {
   "cell_type": "code",
   "execution_count": 56,
   "metadata": {},
   "outputs": [
    {
     "data": {
      "text/plain": [
       "\"<jats:p> This paper takes up Avtar Brah's (1999) invitation to write back to the issues she raises in her mapping of the production of gendered, classed and racialised subjectivities in west London. It addresses two topics that, together, illuminate racialised and gendered interpellation and psychosocial processes. The paper is divided into two main sections. The first draws on empirical research on the transition to motherhood conducted in east London to consider one mother's experience of giving birth in the local maternity hospital. The maternity ward constituted a site where racialised difference became salient, leading her to construct her maternal identity by asserting her difference from Bangladeshi mothers and so self-racialising, as well as ‘othering’ Bangladeshi mothers. The paper analyses the ways in which her biography may help to explain why her experience of the maternity hospital interpellates her into racialised positioning. The second section focuses on media responses to the riots in various English cities in August 2011. It examines the ways in which some media punditry racialised the riots and inclusion in the British postcolonial nation. The paper analyses three sets of commentaries and illuminates the ways in which they racialise the debate in essentialising ways, reproducing themes that were identified in the 1980s as ‘new racism’ and apportioning blame for the riots to ‘black gangster culture’. While these media pronouncements focus on racialisation, they are intersectional in implicitly also invoking gender and social class. The paper argues that the understanding of the mother's self-racialisation is deepened by a consideration of the racialised discourses that can be evoked (and are contested) in periods of social unrest. The paper thus draws on part of the methodology of ‘The Scent of Memory’ in layering media readings and biographical narratives to analyse the contemporary psychosocial space of racialisation. </jats:p>\""
      ]
     },
     "execution_count": 56,
     "metadata": {},
     "output_type": "execute_result"
    }
   ],
   "source": [
    "filtered_subjects_df.sort_values('abstract_word_count').abstract.dropna().iloc[-1000]"
   ]
  },
  {
   "cell_type": "code",
   "execution_count": 7,
   "metadata": {},
   "outputs": [
    {
     "ename": "KeyError",
     "evalue": "'doi'",
     "output_type": "error",
     "traceback": [
      "\u001b[0;31m---------------------------------------------------------------------------\u001b[0m",
      "\u001b[0;31mKeyError\u001b[0m                                  Traceback (most recent call last)",
      "\u001b[0;32m/tmp/ipykernel_7428/2721042086.py\u001b[0m in \u001b[0;36m?\u001b[0;34m()\u001b[0m\n\u001b[0;32m----> 1\u001b[0;31m \u001b[0mjoined_df\u001b[0m \u001b[0;34m=\u001b[0m \u001b[0marticles_md\u001b[0m\u001b[0;34m.\u001b[0m\u001b[0mmerge\u001b[0m\u001b[0;34m(\u001b[0m\u001b[0mfiltered_subjects_df\u001b[0m\u001b[0;34m,\u001b[0m \u001b[0mon\u001b[0m\u001b[0;34m=\u001b[0m\u001b[0;34m'doi'\u001b[0m\u001b[0;34m,\u001b[0m \u001b[0msuffixes\u001b[0m\u001b[0;34m=\u001b[0m\u001b[0;34m(\u001b[0m\u001b[0;34m'_core'\u001b[0m\u001b[0;34m,\u001b[0m \u001b[0;34m'_crossref'\u001b[0m\u001b[0;34m)\u001b[0m\u001b[0;34m,\u001b[0m \u001b[0mhow\u001b[0m\u001b[0;34m=\u001b[0m\u001b[0;34m'inner'\u001b[0m\u001b[0;34m)\u001b[0m\u001b[0;34m\u001b[0m\u001b[0;34m\u001b[0m\u001b[0m\n\u001b[0m\u001b[1;32m      2\u001b[0m \u001b[0mjoined_df\u001b[0m\u001b[0;34m.\u001b[0m\u001b[0mhead\u001b[0m\u001b[0;34m(\u001b[0m\u001b[0;34m)\u001b[0m\u001b[0;34m\u001b[0m\u001b[0;34m\u001b[0m\u001b[0m\n",
      "\u001b[0;32m~/.local/share/virtualenvs/QualAbstracts-R4Ruw4b-/lib/python3.9/site-packages/pandas/core/frame.py\u001b[0m in \u001b[0;36m?\u001b[0;34m(self, right, how, on, left_on, right_on, left_index, right_index, sort, suffixes, copy, indicator, validate)\u001b[0m\n\u001b[1;32m   9839\u001b[0m         \u001b[0mvalidate\u001b[0m\u001b[0;34m:\u001b[0m \u001b[0mstr\u001b[0m \u001b[0;34m|\u001b[0m \u001b[0;32mNone\u001b[0m \u001b[0;34m=\u001b[0m \u001b[0;32mNone\u001b[0m\u001b[0;34m,\u001b[0m\u001b[0;34m\u001b[0m\u001b[0;34m\u001b[0m\u001b[0m\n\u001b[1;32m   9840\u001b[0m     ) -> DataFrame:\n\u001b[1;32m   9841\u001b[0m         \u001b[0;32mfrom\u001b[0m \u001b[0mpandas\u001b[0m\u001b[0;34m.\u001b[0m\u001b[0mcore\u001b[0m\u001b[0;34m.\u001b[0m\u001b[0mreshape\u001b[0m\u001b[0;34m.\u001b[0m\u001b[0mmerge\u001b[0m \u001b[0;32mimport\u001b[0m \u001b[0mmerge\u001b[0m\u001b[0;34m\u001b[0m\u001b[0;34m\u001b[0m\u001b[0m\n\u001b[1;32m   9842\u001b[0m \u001b[0;34m\u001b[0m\u001b[0m\n\u001b[0;32m-> 9843\u001b[0;31m         return merge(\n\u001b[0m\u001b[1;32m   9844\u001b[0m             \u001b[0mself\u001b[0m\u001b[0;34m,\u001b[0m\u001b[0;34m\u001b[0m\u001b[0;34m\u001b[0m\u001b[0m\n\u001b[1;32m   9845\u001b[0m             \u001b[0mright\u001b[0m\u001b[0;34m,\u001b[0m\u001b[0;34m\u001b[0m\u001b[0;34m\u001b[0m\u001b[0m\n\u001b[1;32m   9846\u001b[0m             \u001b[0mhow\u001b[0m\u001b[0;34m=\u001b[0m\u001b[0mhow\u001b[0m\u001b[0;34m,\u001b[0m\u001b[0;34m\u001b[0m\u001b[0;34m\u001b[0m\u001b[0m\n",
      "\u001b[0;32m~/.local/share/virtualenvs/QualAbstracts-R4Ruw4b-/lib/python3.9/site-packages/pandas/core/reshape/merge.py\u001b[0m in \u001b[0;36m?\u001b[0;34m(left, right, how, on, left_on, right_on, left_index, right_index, sort, suffixes, copy, indicator, validate)\u001b[0m\n\u001b[1;32m    144\u001b[0m     \u001b[0mcopy\u001b[0m\u001b[0;34m:\u001b[0m \u001b[0mbool\u001b[0m \u001b[0;34m|\u001b[0m \u001b[0;32mNone\u001b[0m \u001b[0;34m=\u001b[0m \u001b[0;32mNone\u001b[0m\u001b[0;34m,\u001b[0m\u001b[0;34m\u001b[0m\u001b[0;34m\u001b[0m\u001b[0m\n\u001b[1;32m    145\u001b[0m     \u001b[0mindicator\u001b[0m\u001b[0;34m:\u001b[0m \u001b[0mstr\u001b[0m \u001b[0;34m|\u001b[0m \u001b[0mbool\u001b[0m \u001b[0;34m=\u001b[0m \u001b[0;32mFalse\u001b[0m\u001b[0;34m,\u001b[0m\u001b[0;34m\u001b[0m\u001b[0;34m\u001b[0m\u001b[0m\n\u001b[1;32m    146\u001b[0m     \u001b[0mvalidate\u001b[0m\u001b[0;34m:\u001b[0m \u001b[0mstr\u001b[0m \u001b[0;34m|\u001b[0m \u001b[0;32mNone\u001b[0m \u001b[0;34m=\u001b[0m \u001b[0;32mNone\u001b[0m\u001b[0;34m,\u001b[0m\u001b[0;34m\u001b[0m\u001b[0;34m\u001b[0m\u001b[0m\n\u001b[1;32m    147\u001b[0m ) -> DataFrame:\n\u001b[0;32m--> 148\u001b[0;31m     op = _MergeOperation(\n\u001b[0m\u001b[1;32m    149\u001b[0m         \u001b[0mleft\u001b[0m\u001b[0;34m,\u001b[0m\u001b[0;34m\u001b[0m\u001b[0;34m\u001b[0m\u001b[0m\n\u001b[1;32m    150\u001b[0m         \u001b[0mright\u001b[0m\u001b[0;34m,\u001b[0m\u001b[0;34m\u001b[0m\u001b[0;34m\u001b[0m\u001b[0m\n\u001b[1;32m    151\u001b[0m         \u001b[0mhow\u001b[0m\u001b[0;34m=\u001b[0m\u001b[0mhow\u001b[0m\u001b[0;34m,\u001b[0m\u001b[0;34m\u001b[0m\u001b[0;34m\u001b[0m\u001b[0m\n",
      "\u001b[0;32m~/.local/share/virtualenvs/QualAbstracts-R4Ruw4b-/lib/python3.9/site-packages/pandas/core/reshape/merge.py\u001b[0m in \u001b[0;36m?\u001b[0;34m(self, left, right, how, on, left_on, right_on, axis, left_index, right_index, sort, suffixes, indicator, validate)\u001b[0m\n\u001b[1;32m    733\u001b[0m         (\n\u001b[1;32m    734\u001b[0m             \u001b[0mself\u001b[0m\u001b[0;34m.\u001b[0m\u001b[0mleft_join_keys\u001b[0m\u001b[0;34m,\u001b[0m\u001b[0;34m\u001b[0m\u001b[0;34m\u001b[0m\u001b[0m\n\u001b[1;32m    735\u001b[0m             \u001b[0mself\u001b[0m\u001b[0;34m.\u001b[0m\u001b[0mright_join_keys\u001b[0m\u001b[0;34m,\u001b[0m\u001b[0;34m\u001b[0m\u001b[0;34m\u001b[0m\u001b[0m\n\u001b[1;32m    736\u001b[0m             \u001b[0mself\u001b[0m\u001b[0;34m.\u001b[0m\u001b[0mjoin_names\u001b[0m\u001b[0;34m,\u001b[0m\u001b[0;34m\u001b[0m\u001b[0;34m\u001b[0m\u001b[0m\n\u001b[0;32m--> 737\u001b[0;31m         ) = self._get_merge_keys()\n\u001b[0m\u001b[1;32m    738\u001b[0m \u001b[0;34m\u001b[0m\u001b[0m\n\u001b[1;32m    739\u001b[0m         \u001b[0;31m# validate the merge keys dtypes. We may need to coerce\u001b[0m\u001b[0;34m\u001b[0m\u001b[0;34m\u001b[0m\u001b[0m\n\u001b[1;32m    740\u001b[0m         \u001b[0;31m# to avoid incompatible dtypes\u001b[0m\u001b[0;34m\u001b[0m\u001b[0;34m\u001b[0m\u001b[0m\n",
      "\u001b[0;32m~/.local/share/virtualenvs/QualAbstracts-R4Ruw4b-/lib/python3.9/site-packages/pandas/core/reshape/merge.py\u001b[0m in \u001b[0;36m?\u001b[0;34m(self)\u001b[0m\n\u001b[1;32m   1199\u001b[0m                         \u001b[0;31m# Then we're either Hashable or a wrong-length arraylike,\u001b[0m\u001b[0;34m\u001b[0m\u001b[0;34m\u001b[0m\u001b[0m\n\u001b[1;32m   1200\u001b[0m                         \u001b[0;31m#  the latter of which will raise\u001b[0m\u001b[0;34m\u001b[0m\u001b[0;34m\u001b[0m\u001b[0m\n\u001b[1;32m   1201\u001b[0m                         \u001b[0mrk\u001b[0m \u001b[0;34m=\u001b[0m \u001b[0mcast\u001b[0m\u001b[0;34m(\u001b[0m\u001b[0mHashable\u001b[0m\u001b[0;34m,\u001b[0m \u001b[0mrk\u001b[0m\u001b[0;34m)\u001b[0m\u001b[0;34m\u001b[0m\u001b[0;34m\u001b[0m\u001b[0m\n\u001b[1;32m   1202\u001b[0m                         \u001b[0;32mif\u001b[0m \u001b[0mrk\u001b[0m \u001b[0;32mis\u001b[0m \u001b[0;32mnot\u001b[0m \u001b[0;32mNone\u001b[0m\u001b[0;34m:\u001b[0m\u001b[0;34m\u001b[0m\u001b[0;34m\u001b[0m\u001b[0m\n\u001b[0;32m-> 1203\u001b[0;31m                             \u001b[0mright_keys\u001b[0m\u001b[0;34m.\u001b[0m\u001b[0mappend\u001b[0m\u001b[0;34m(\u001b[0m\u001b[0mright\u001b[0m\u001b[0;34m.\u001b[0m\u001b[0m_get_label_or_level_values\u001b[0m\u001b[0;34m(\u001b[0m\u001b[0mrk\u001b[0m\u001b[0;34m)\u001b[0m\u001b[0;34m)\u001b[0m\u001b[0;34m\u001b[0m\u001b[0;34m\u001b[0m\u001b[0m\n\u001b[0m\u001b[1;32m   1204\u001b[0m                         \u001b[0;32melse\u001b[0m\u001b[0;34m:\u001b[0m\u001b[0;34m\u001b[0m\u001b[0;34m\u001b[0m\u001b[0m\n\u001b[1;32m   1205\u001b[0m                             \u001b[0;31m# work-around for merge_asof(right_index=True)\u001b[0m\u001b[0;34m\u001b[0m\u001b[0;34m\u001b[0m\u001b[0m\n\u001b[1;32m   1206\u001b[0m                             \u001b[0mright_keys\u001b[0m\u001b[0;34m.\u001b[0m\u001b[0mappend\u001b[0m\u001b[0;34m(\u001b[0m\u001b[0mright\u001b[0m\u001b[0;34m.\u001b[0m\u001b[0mindex\u001b[0m\u001b[0;34m)\u001b[0m\u001b[0;34m\u001b[0m\u001b[0;34m\u001b[0m\u001b[0m\n",
      "\u001b[0;32m~/.local/share/virtualenvs/QualAbstracts-R4Ruw4b-/lib/python3.9/site-packages/pandas/core/generic.py\u001b[0m in \u001b[0;36m?\u001b[0;34m(self, key, axis)\u001b[0m\n\u001b[1;32m   1774\u001b[0m             \u001b[0mvalues\u001b[0m \u001b[0;34m=\u001b[0m \u001b[0mself\u001b[0m\u001b[0;34m.\u001b[0m\u001b[0mxs\u001b[0m\u001b[0;34m(\u001b[0m\u001b[0mkey\u001b[0m\u001b[0;34m,\u001b[0m \u001b[0maxis\u001b[0m\u001b[0;34m=\u001b[0m\u001b[0mother_axes\u001b[0m\u001b[0;34m[\u001b[0m\u001b[0;36m0\u001b[0m\u001b[0;34m]\u001b[0m\u001b[0;34m)\u001b[0m\u001b[0;34m.\u001b[0m\u001b[0m_values\u001b[0m\u001b[0;34m\u001b[0m\u001b[0;34m\u001b[0m\u001b[0m\n\u001b[1;32m   1775\u001b[0m         \u001b[0;32melif\u001b[0m \u001b[0mself\u001b[0m\u001b[0;34m.\u001b[0m\u001b[0m_is_level_reference\u001b[0m\u001b[0;34m(\u001b[0m\u001b[0mkey\u001b[0m\u001b[0;34m,\u001b[0m \u001b[0maxis\u001b[0m\u001b[0;34m=\u001b[0m\u001b[0maxis\u001b[0m\u001b[0;34m)\u001b[0m\u001b[0;34m:\u001b[0m\u001b[0;34m\u001b[0m\u001b[0;34m\u001b[0m\u001b[0m\n\u001b[1;32m   1776\u001b[0m             \u001b[0mvalues\u001b[0m \u001b[0;34m=\u001b[0m \u001b[0mself\u001b[0m\u001b[0;34m.\u001b[0m\u001b[0maxes\u001b[0m\u001b[0;34m[\u001b[0m\u001b[0maxis\u001b[0m\u001b[0;34m]\u001b[0m\u001b[0;34m.\u001b[0m\u001b[0mget_level_values\u001b[0m\u001b[0;34m(\u001b[0m\u001b[0mkey\u001b[0m\u001b[0;34m)\u001b[0m\u001b[0;34m.\u001b[0m\u001b[0m_values\u001b[0m\u001b[0;34m\u001b[0m\u001b[0;34m\u001b[0m\u001b[0m\n\u001b[1;32m   1777\u001b[0m         \u001b[0;32melse\u001b[0m\u001b[0;34m:\u001b[0m\u001b[0;34m\u001b[0m\u001b[0;34m\u001b[0m\u001b[0m\n\u001b[0;32m-> 1778\u001b[0;31m             \u001b[0;32mraise\u001b[0m \u001b[0mKeyError\u001b[0m\u001b[0;34m(\u001b[0m\u001b[0mkey\u001b[0m\u001b[0;34m)\u001b[0m\u001b[0;34m\u001b[0m\u001b[0;34m\u001b[0m\u001b[0m\n\u001b[0m\u001b[1;32m   1779\u001b[0m \u001b[0;34m\u001b[0m\u001b[0m\n\u001b[1;32m   1780\u001b[0m         \u001b[0;31m# Check for duplicates\u001b[0m\u001b[0;34m\u001b[0m\u001b[0;34m\u001b[0m\u001b[0m\n\u001b[1;32m   1781\u001b[0m         \u001b[0;32mif\u001b[0m \u001b[0mvalues\u001b[0m\u001b[0;34m.\u001b[0m\u001b[0mndim\u001b[0m \u001b[0;34m>\u001b[0m \u001b[0;36m1\u001b[0m\u001b[0;34m:\u001b[0m\u001b[0;34m\u001b[0m\u001b[0;34m\u001b[0m\u001b[0m\n",
      "\u001b[0;31mKeyError\u001b[0m: 'doi'"
     ]
    }
   ],
   "source": [
    "joined_df = articles_md.merge(filtered_subjects_df, on='doi', suffixes=('_core', '_crossref'), how='inner')\n",
    "joined_df.head()"
   ]
  },
  {
   "cell_type": "code",
   "execution_count": 22,
   "metadata": {},
   "outputs": [
    {
     "data": {
      "text/html": [
       "<div>\n",
       "<style scoped>\n",
       "    .dataframe tbody tr th:only-of-type {\n",
       "        vertical-align: middle;\n",
       "    }\n",
       "\n",
       "    .dataframe tbody tr th {\n",
       "        vertical-align: top;\n",
       "    }\n",
       "\n",
       "    .dataframe thead th {\n",
       "        text-align: right;\n",
       "    }\n",
       "</style>\n",
       "<table border=\"1\" class=\"dataframe\">\n",
       "  <thead>\n",
       "    <tr style=\"text-align: right;\">\n",
       "      <th></th>\n",
       "      <th>doi</th>\n",
       "      <th>title</th>\n",
       "      <th>abstract</th>\n",
       "      <th>issn</th>\n",
       "      <th>subjects_core</th>\n",
       "      <th>subjects_crossref</th>\n",
       "      <th>journal_title</th>\n",
       "    </tr>\n",
       "  </thead>\n",
       "  <tbody>\n",
       "    <tr>\n",
       "      <th>22</th>\n",
       "      <td>10.1136/jme.2008.026401</td>\n",
       "      <td>Consent and informational responsibility.</td>\n",
       "      <td>The notion of “consent” is frequently referred...</td>\n",
       "      <td>'0306-6800', 'issn: 1473-4257', ' 1473-4257', ...</td>\n",
       "      <td>medicine</td>\n",
       "      <td>['Health Policy', 'Arts and Humanities (miscel...</td>\n",
       "      <td>Journal of Medical Ethics</td>\n",
       "    </tr>\n",
       "    <tr>\n",
       "      <th>31</th>\n",
       "      <td>10.1332/030557307781571632</td>\n",
       "      <td>The dilemmas of providing welfare in an ethnic...</td>\n",
       "      <td>Despite an increasing commitment to tackle dis...</td>\n",
       "      <td>'0305-5736'</td>\n",
       "      <td>economics</td>\n",
       "      <td>['Management, Monitoring, Policy and Law', 'Pu...</td>\n",
       "      <td>Policy &amp;amp; Politics</td>\n",
       "    </tr>\n",
       "    <tr>\n",
       "      <th>33</th>\n",
       "      <td>10.1332/1744264053730752</td>\n",
       "      <td>Reviewing the evidence : reflections from expe...</td>\n",
       "      <td>Evidence-based policy (EBP), along with the 's...</td>\n",
       "      <td>'1744-2648', ' 1744-2656', 'issn: 1744-2656', ...</td>\n",
       "      <td>sociology</td>\n",
       "      <td>['Social Sciences (miscellaneous)']</td>\n",
       "      <td>Evidence &amp;amp; Policy</td>\n",
       "    </tr>\n",
       "    <tr>\n",
       "      <th>38</th>\n",
       "      <td>10.3167/gps.2008.260402</td>\n",
       "      <td>The Merkel government's politics of the past.</td>\n",
       "      <td>Angela Merkel came to power at a crucial time ...</td>\n",
       "      <td>' 1558-5441', 'issn: 1558-5441', '1045-0300', ...</td>\n",
       "      <td>sociology</td>\n",
       "      <td>['Sociology and Political Science', 'History',...</td>\n",
       "      <td>German Politics and Society</td>\n",
       "    </tr>\n",
       "    <tr>\n",
       "      <th>39</th>\n",
       "      <td>10.1111/1475-4754.00048</td>\n",
       "      <td>Bayesian approach to sapwood estimates and fel...</td>\n",
       "      <td>An improved method of generating sapwood estim...</td>\n",
       "      <td>' 1475-4754', 'issn: 1475-4754', '0003-813x', ...</td>\n",
       "      <td>geology</td>\n",
       "      <td>['Archeology', 'History']</td>\n",
       "      <td>Archaeometry</td>\n",
       "    </tr>\n",
       "  </tbody>\n",
       "</table>\n",
       "</div>"
      ],
      "text/plain": [
       "                           doi  \\\n",
       "22     10.1136/jme.2008.026401   \n",
       "31  10.1332/030557307781571632   \n",
       "33    10.1332/1744264053730752   \n",
       "38     10.3167/gps.2008.260402   \n",
       "39     10.1111/1475-4754.00048   \n",
       "\n",
       "                                                title  \\\n",
       "22          Consent and informational responsibility.   \n",
       "31  The dilemmas of providing welfare in an ethnic...   \n",
       "33  Reviewing the evidence : reflections from expe...   \n",
       "38      The Merkel government's politics of the past.   \n",
       "39  Bayesian approach to sapwood estimates and fel...   \n",
       "\n",
       "                                             abstract  \\\n",
       "22  The notion of “consent” is frequently referred...   \n",
       "31  Despite an increasing commitment to tackle dis...   \n",
       "33  Evidence-based policy (EBP), along with the 's...   \n",
       "38  Angela Merkel came to power at a crucial time ...   \n",
       "39  An improved method of generating sapwood estim...   \n",
       "\n",
       "                                                 issn subjects_core  \\\n",
       "22  '0306-6800', 'issn: 1473-4257', ' 1473-4257', ...      medicine   \n",
       "31                                        '0305-5736'     economics   \n",
       "33  '1744-2648', ' 1744-2656', 'issn: 1744-2656', ...     sociology   \n",
       "38  ' 1558-5441', 'issn: 1558-5441', '1045-0300', ...     sociology   \n",
       "39  ' 1475-4754', 'issn: 1475-4754', '0003-813x', ...       geology   \n",
       "\n",
       "                                    subjects_crossref  \\\n",
       "22  ['Health Policy', 'Arts and Humanities (miscel...   \n",
       "31  ['Management, Monitoring, Policy and Law', 'Pu...   \n",
       "33                ['Social Sciences (miscellaneous)']   \n",
       "38  ['Sociology and Political Science', 'History',...   \n",
       "39                          ['Archeology', 'History']   \n",
       "\n",
       "                  journal_title  \n",
       "22    Journal of Medical Ethics  \n",
       "31        Policy &amp; Politics  \n",
       "33        Evidence &amp; Policy  \n",
       "38  German Politics and Society  \n",
       "39                 Archaeometry  "
      ]
     },
     "execution_count": 22,
     "metadata": {},
     "output_type": "execute_result"
    }
   ],
   "source": [
    "joined_df[~joined_df.subjects_core.isna()].head()"
   ]
  },
  {
   "cell_type": "code",
   "execution_count": 32,
   "metadata": {},
   "outputs": [
    {
     "data": {
      "text/html": [
       "<div>\n",
       "<style scoped>\n",
       "    .dataframe tbody tr th:only-of-type {\n",
       "        vertical-align: middle;\n",
       "    }\n",
       "\n",
       "    .dataframe tbody tr th {\n",
       "        vertical-align: top;\n",
       "    }\n",
       "\n",
       "    .dataframe thead th {\n",
       "        text-align: right;\n",
       "    }\n",
       "</style>\n",
       "<table border=\"1\" class=\"dataframe\">\n",
       "  <thead>\n",
       "    <tr style=\"text-align: right;\">\n",
       "      <th></th>\n",
       "      <th>doi</th>\n",
       "      <th>title</th>\n",
       "      <th>abstract</th>\n",
       "      <th>issn</th>\n",
       "      <th>subjects_core</th>\n",
       "      <th>subjects_crossref</th>\n",
       "      <th>journal_title</th>\n",
       "    </tr>\n",
       "  </thead>\n",
       "  <tbody>\n",
       "    <tr>\n",
       "      <th>6723</th>\n",
       "      <td>10.1007/s11186-012-9172-x</td>\n",
       "      <td>Discourse or dialogue? Habermas, the Bakhtin C...</td>\n",
       "      <td>This is the author's accepted manuscript. The ...</td>\n",
       "      <td>'issn:0304-2421', '0304-2421'</td>\n",
       "      <td>NaN</td>\n",
       "      <td>['Sociology and Political Science', 'History']</td>\n",
       "      <td>Theory and Society</td>\n",
       "    </tr>\n",
       "    <tr>\n",
       "      <th>10069</th>\n",
       "      <td>10.1007/bf00159259</td>\n",
       "      <td>Marx and morality: an impossible synthesis?</td>\n",
       "      <td>A discussion of Allen E. Buchanan, Marx and Ju...</td>\n",
       "      <td>'0304-2421'</td>\n",
       "      <td>NaN</td>\n",
       "      <td>['Sociology and Political Science', 'History']</td>\n",
       "      <td>Theory and Society</td>\n",
       "    </tr>\n",
       "    <tr>\n",
       "      <th>22651</th>\n",
       "      <td>10.1007/s11186-015-9251-x</td>\n",
       "      <td>Revolutions and the international</td>\n",
       "      <td>Although contemporary theorists of revolution ...</td>\n",
       "      <td>'0304-2421'</td>\n",
       "      <td>sociology</td>\n",
       "      <td>['Sociology and Political Science', 'History']</td>\n",
       "      <td>Theory and Society</td>\n",
       "    </tr>\n",
       "    <tr>\n",
       "      <th>27757</th>\n",
       "      <td>10.1007/s11186-016-9276-9</td>\n",
       "      <td>“Socialist accounting” by Karl Polanyi: with p...</td>\n",
       "      <td>Ariane Fischer, David Woodruff, and Johanna Bo...</td>\n",
       "      <td>'0304-2421'</td>\n",
       "      <td>sociology</td>\n",
       "      <td>['Sociology and Political Science', 'History']</td>\n",
       "      <td>Theory and Society</td>\n",
       "    </tr>\n",
       "    <tr>\n",
       "      <th>37839</th>\n",
       "      <td>10.1007/s11186-014-9234-3</td>\n",
       "      <td>Social Desire Paths: A New Theoretical Concept...</td>\n",
       "      <td>Social scientists are well-trained to observe ...</td>\n",
       "      <td>'0304-2421'</td>\n",
       "      <td>NaN</td>\n",
       "      <td>['Sociology and Political Science', 'History']</td>\n",
       "      <td>Theory and Society</td>\n",
       "    </tr>\n",
       "    <tr>\n",
       "      <th>38625</th>\n",
       "      <td>10.1007/s11186-013-9192-1</td>\n",
       "      <td>Insurgency and Institutionalization: The Polan...</td>\n",
       "      <td>Why is it that in the nearly 10 years since th...</td>\n",
       "      <td>'0304-2421'</td>\n",
       "      <td>NaN</td>\n",
       "      <td>['Sociology and Political Science', 'History']</td>\n",
       "      <td>Theory and Society</td>\n",
       "    </tr>\n",
       "    <tr>\n",
       "      <th>40357</th>\n",
       "      <td>10.1007/s11186-016-9278-7</td>\n",
       "      <td>Theorizing Emotional Capital</td>\n",
       "      <td>Theorizing a sociology of emotion that links m...</td>\n",
       "      <td>'0304-2421'</td>\n",
       "      <td>NaN</td>\n",
       "      <td>['Sociology and Political Science', 'History']</td>\n",
       "      <td>Theory and Society</td>\n",
       "    </tr>\n",
       "    <tr>\n",
       "      <th>41196</th>\n",
       "      <td>10.1007/s11186-012-9187-3</td>\n",
       "      <td>From Social Control to Financial Economics: Th...</td>\n",
       "      <td>This article draws on historical material to e...</td>\n",
       "      <td>'0304-2421'</td>\n",
       "      <td>sociology</td>\n",
       "      <td>['Sociology and Political Science', 'History']</td>\n",
       "      <td>Theory and Society</td>\n",
       "    </tr>\n",
       "    <tr>\n",
       "      <th>41211</th>\n",
       "      <td>10.1007/s11186-008-9082-0</td>\n",
       "      <td>The Social Order of Markets</td>\n",
       "      <td>In this article I develop a proposal for the t...</td>\n",
       "      <td>'0304-2421'</td>\n",
       "      <td>economics</td>\n",
       "      <td>['Sociology and Political Science', 'History']</td>\n",
       "      <td>Theory and Society</td>\n",
       "    </tr>\n",
       "    <tr>\n",
       "      <th>46852</th>\n",
       "      <td>10.1023/b:ryso.0000045757.93910.ed</td>\n",
       "      <td>Berle and Means revisited: The governance and ...</td>\n",
       "      <td>In The Modern Corporation and Private Property...</td>\n",
       "      <td>'issn:0304-2421', 'issn:1573-7853', '1573-7853...</td>\n",
       "      <td>sociology</td>\n",
       "      <td>['Sociology and Political Science', 'History']</td>\n",
       "      <td>Theory and Society</td>\n",
       "    </tr>\n",
       "  </tbody>\n",
       "</table>\n",
       "</div>"
      ],
      "text/plain": [
       "                                      doi  \\\n",
       "6723            10.1007/s11186-012-9172-x   \n",
       "10069                  10.1007/bf00159259   \n",
       "22651           10.1007/s11186-015-9251-x   \n",
       "27757           10.1007/s11186-016-9276-9   \n",
       "37839           10.1007/s11186-014-9234-3   \n",
       "38625           10.1007/s11186-013-9192-1   \n",
       "40357           10.1007/s11186-016-9278-7   \n",
       "41196           10.1007/s11186-012-9187-3   \n",
       "41211           10.1007/s11186-008-9082-0   \n",
       "46852  10.1023/b:ryso.0000045757.93910.ed   \n",
       "\n",
       "                                                   title  \\\n",
       "6723   Discourse or dialogue? Habermas, the Bakhtin C...   \n",
       "10069        Marx and morality: an impossible synthesis?   \n",
       "22651                  Revolutions and the international   \n",
       "27757  “Socialist accounting” by Karl Polanyi: with p...   \n",
       "37839  Social Desire Paths: A New Theoretical Concept...   \n",
       "38625  Insurgency and Institutionalization: The Polan...   \n",
       "40357                       Theorizing Emotional Capital   \n",
       "41196  From Social Control to Financial Economics: Th...   \n",
       "41211                        The Social Order of Markets   \n",
       "46852  Berle and Means revisited: The governance and ...   \n",
       "\n",
       "                                                abstract  \\\n",
       "6723   This is the author's accepted manuscript. The ...   \n",
       "10069  A discussion of Allen E. Buchanan, Marx and Ju...   \n",
       "22651  Although contemporary theorists of revolution ...   \n",
       "27757  Ariane Fischer, David Woodruff, and Johanna Bo...   \n",
       "37839  Social scientists are well-trained to observe ...   \n",
       "38625  Why is it that in the nearly 10 years since th...   \n",
       "40357  Theorizing a sociology of emotion that links m...   \n",
       "41196  This article draws on historical material to e...   \n",
       "41211  In this article I develop a proposal for the t...   \n",
       "46852  In The Modern Corporation and Private Property...   \n",
       "\n",
       "                                                    issn subjects_core  \\\n",
       "6723                       'issn:0304-2421', '0304-2421'           NaN   \n",
       "10069                                        '0304-2421'           NaN   \n",
       "22651                                        '0304-2421'     sociology   \n",
       "27757                                        '0304-2421'     sociology   \n",
       "37839                                        '0304-2421'           NaN   \n",
       "38625                                        '0304-2421'           NaN   \n",
       "40357                                        '0304-2421'           NaN   \n",
       "41196                                        '0304-2421'     sociology   \n",
       "41211                                        '0304-2421'     economics   \n",
       "46852  'issn:0304-2421', 'issn:1573-7853', '1573-7853...     sociology   \n",
       "\n",
       "                                    subjects_crossref       journal_title  \n",
       "6723   ['Sociology and Political Science', 'History']  Theory and Society  \n",
       "10069  ['Sociology and Political Science', 'History']  Theory and Society  \n",
       "22651  ['Sociology and Political Science', 'History']  Theory and Society  \n",
       "27757  ['Sociology and Political Science', 'History']  Theory and Society  \n",
       "37839  ['Sociology and Political Science', 'History']  Theory and Society  \n",
       "38625  ['Sociology and Political Science', 'History']  Theory and Society  \n",
       "40357  ['Sociology and Political Science', 'History']  Theory and Society  \n",
       "41196  ['Sociology and Political Science', 'History']  Theory and Society  \n",
       "41211  ['Sociology and Political Science', 'History']  Theory and Society  \n",
       "46852  ['Sociology and Political Science', 'History']  Theory and Society  "
      ]
     },
     "execution_count": 32,
     "metadata": {},
     "output_type": "execute_result"
    }
   ],
   "source": [
    "joined_df[joined_df.issn.str.contains('0304-2421', na=False)].head(10)"
   ]
  },
  {
   "cell_type": "code",
   "execution_count": 31,
   "metadata": {},
   "outputs": [
    {
     "name": "stdout",
     "output_type": "stream",
     "text": [
      "count    80963.000000\n",
      "mean      1170.996369\n",
      "std        771.465688\n",
      "min          1.000000\n",
      "25%        732.000000\n",
      "50%       1065.000000\n",
      "75%       1459.000000\n",
      "max      18387.000000\n",
      "Name: abstract, dtype: float64\n",
      "This is the post-print version of the Article. The official published version can be accessed from the link below - Copyright @ 2008 ElsevierThe importance of the user perspective to the wireless information access experience cannot be understated: simply put, users will not indulge in devices that are perceived to be difficult to use and in technologies that do not offer quality infotainment – combined information and entertainment – content. In this paper, we investigate the impact that mobile devices have on the user wireless infotainment access experience in practice. To this end, we have undertaken an empirical study placed in a ‘real-world’ setting, in which participants undertook typical infotainment access tasks on three different wireless-enabled mobile devices: a laptop, a personal digital assistant and a head mounted display device. Results show that, with the exception of participants’ level of self-consciousness when using such devices in public environments, the user wireless information access experience is generally unaffected by device type. Location was shown, though, to be a significant factor when users engage in tasks such as listening to online music or navigation. Whilst the interaction between device and environment was found to influence entertainment-related tasks in our experiments, the informational ones were not affected. However, the interaction effects between device and user type was found to affect both types of tasks. Lastly, a user’s particular computing experience was shown to influence the perceived ease of wireless information access only in the case of online searching, irrespective of whether this is done for primarily informational purposes or entertainment ones\n"
     ]
    }
   ],
   "source": [
    "print(joined_df.abstract.str.len().describe())\n",
    "print(joined_df[joined_df.abstract.str.len() > 1500].iloc[0].abstract)"
   ]
  },
  {
   "cell_type": "markdown",
   "metadata": {},
   "source": [
    "# Joining full text"
   ]
  },
  {
   "cell_type": "code",
   "execution_count": 2,
   "metadata": {},
   "outputs": [
    {
     "name": "stdout",
     "output_type": "stream",
     "text": [
      "<class 'pandas.core.frame.DataFrame'>\n",
      "RangeIndex: 10000 entries, 0 to 9999\n",
      "Data columns (total 6 columns):\n",
      " #   Column    Non-Null Count  Dtype \n",
      "---  ------    --------------  ----- \n",
      " 0   doi       10000 non-null  object\n",
      " 1   title     10000 non-null  object\n",
      " 2   fulltext  9995 non-null   object\n",
      " 3   abstract  10000 non-null  object\n",
      " 4   issn      9729 non-null   object\n",
      " 5   subjects  2669 non-null   object\n",
      "dtypes: object(6)\n",
      "memory usage: 468.9+ KB\n",
      "None\n"
     ]
    }
   ],
   "source": [
    "df400k = pd.read_csv('../data/400k_articles.csv.gz', nrows=10_000)\n",
    "print(df400k.info())\n",
    "df400k.head()"
   ]
  }
 ],
 "metadata": {
  "kernelspec": {
   "display_name": "QualAbstracts-_C7lXhsk",
   "language": "python",
   "name": "python3"
  },
  "language_info": {
   "codemirror_mode": {
    "name": "ipython",
    "version": 3
   },
   "file_extension": ".py",
   "mimetype": "text/x-python",
   "name": "python",
   "nbconvert_exporter": "python",
   "pygments_lexer": "ipython3",
   "version": "3.9.16"
  },
  "orig_nbformat": 4
 },
 "nbformat": 4,
 "nbformat_minor": 2
}
