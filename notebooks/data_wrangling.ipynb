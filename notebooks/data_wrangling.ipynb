{
 "cells": [
  {
   "cell_type": "markdown",
   "metadata": {},
   "source": [
    "Data Wrangling\n",
    "----"
   ]
  },
  {
   "cell_type": "markdown",
   "metadata": {},
   "source": [
    "# Outline"
   ]
  },
  {
   "cell_type": "markdown",
   "metadata": {},
   "source": [
    "# Setup"
   ]
  },
  {
   "cell_type": "code",
   "execution_count": 1,
   "metadata": {},
   "outputs": [
    {
     "name": "stdout",
     "output_type": "stream",
     "text": [
      "Working directory:  c:\\Users\\marks\\coding\\QualAbstracts\\notebooks\n"
     ]
    }
   ],
   "source": [
    "import pandas as pd\n",
    "from os import getcwd\n",
    "print(\"Working directory: \", getcwd())"
   ]
  },
  {
   "cell_type": "markdown",
   "metadata": {},
   "source": [
    "# Filtering for Social Science and Humanities Articles"
   ]
  },
  {
   "cell_type": "code",
   "execution_count": 2,
   "metadata": {},
   "outputs": [
    {
     "name": "stdout",
     "output_type": "stream",
     "text": [
      "<class 'pandas.core.frame.DataFrame'>\n",
      "RangeIndex: 1650037 entries, 0 to 1650036\n",
      "Data columns (total 5 columns):\n",
      " #   Column    Non-Null Count    Dtype \n",
      "---  ------    --------------    ----- \n",
      " 0   doi       1650036 non-null  object\n",
      " 1   title     1650033 non-null  object\n",
      " 2   abstract  1649014 non-null  object\n",
      " 3   issn      1548098 non-null  object\n",
      " 4   subjects  686568 non-null   object\n",
      "dtypes: object(5)\n",
      "memory usage: 62.9+ MB\n",
      "None\n"
     ]
    }
   ],
   "source": [
    "articles_raw = pd.read_csv('../data/all_articles_notext.csv')\n",
    "print(articles_raw.info())"
   ]
  },
  {
   "cell_type": "code",
   "execution_count": 5,
   "metadata": {},
   "outputs": [
    {
     "data": {
      "text/plain": [
       "subjects\n",
       "biology                  148608\n",
       "medicine                 129064\n",
       "physics                  123138\n",
       "mathematics               51656\n",
       "computer science          45946\n",
       "chemistry                 45657\n",
       "psychology                26950\n",
       "engineering               25483\n",
       "materials science         19748\n",
       "geology                   15202\n",
       "economics                 14037\n",
       "sociology                 13716\n",
       "history                    6482\n",
       "art                        5284\n",
       "geography                  4437\n",
       "business                   3121\n",
       "political science          2964\n",
       "philosophy                 2619\n",
       "environmental science      2456\n",
       "Name: count, dtype: int64"
      ]
     },
     "execution_count": 5,
     "metadata": {},
     "output_type": "execute_result"
    }
   ],
   "source": [
    "articles_raw.subjects.value_counts()"
   ]
  },
  {
   "cell_type": "markdown",
   "metadata": {},
   "source": [
    "# Reading in data"
   ]
  },
  {
   "cell_type": "code",
   "execution_count": 2,
   "metadata": {},
   "outputs": [
    {
     "name": "stdout",
     "output_type": "stream",
     "text": [
      "<class 'pandas.core.frame.DataFrame'>\n",
      "RangeIndex: 10000 entries, 0 to 9999\n",
      "Data columns (total 6 columns):\n",
      " #   Column    Non-Null Count  Dtype \n",
      "---  ------    --------------  ----- \n",
      " 0   doi       10000 non-null  object\n",
      " 1   title     10000 non-null  object\n",
      " 2   fulltext  9995 non-null   object\n",
      " 3   abstract  10000 non-null  object\n",
      " 4   issn      9729 non-null   object\n",
      " 5   subjects  2669 non-null   object\n",
      "dtypes: object(6)\n",
      "memory usage: 468.9+ KB\n",
      "None\n"
     ]
    }
   ],
   "source": [
    "df400k = pd.read_csv('../data/400k_articles.csv.gz', nrows=10_000)\n",
    "print(df400k.info())\n",
    "df400k.head()"
   ]
  },
  {
   "cell_type": "code",
   "execution_count": 3,
   "metadata": {},
   "outputs": [
    {
     "data": {
      "text/html": [
       "<div>\n",
       "<style scoped>\n",
       "    .dataframe tbody tr th:only-of-type {\n",
       "        vertical-align: middle;\n",
       "    }\n",
       "\n",
       "    .dataframe tbody tr th {\n",
       "        vertical-align: top;\n",
       "    }\n",
       "\n",
       "    .dataframe thead th {\n",
       "        text-align: right;\n",
       "    }\n",
       "</style>\n",
       "<table border=\"1\" class=\"dataframe\">\n",
       "  <thead>\n",
       "    <tr style=\"text-align: right;\">\n",
       "      <th></th>\n",
       "      <th>doi</th>\n",
       "      <th>title</th>\n",
       "      <th>fulltext</th>\n",
       "      <th>abstract</th>\n",
       "      <th>issn</th>\n",
       "      <th>subjects</th>\n",
       "    </tr>\n",
       "  </thead>\n",
       "  <tbody>\n",
       "    <tr>\n",
       "      <th>0</th>\n",
       "      <td>10.1111/1467-8330.00227</td>\n",
       "      <td>Institutionalising future geographies of finan...</td>\n",
       "      <td>1INSTITUTIONALISING FUTURE GEOGRAPHIES OF FINA...</td>\n",
       "      <td>This paper provides a critical overview of rec...</td>\n",
       "      <td>'0066-4812'</td>\n",
       "      <td>NaN</td>\n",
       "    </tr>\n",
       "    <tr>\n",
       "      <th>1</th>\n",
       "      <td>10.1163/13822373-90002428</td>\n",
       "      <td>Landscaping Hispaniola Moreau de Saint-Méry's ...</td>\n",
       "      <td>New West Indian Guide / Nieuwe West-Indische G...</td>\n",
       "      <td>This article focuses on Médéric Louis Élie Mor...</td>\n",
       "      <td>'issn:1382-2373', '1382-2373'</td>\n",
       "      <td>NaN</td>\n",
       "    </tr>\n",
       "    <tr>\n",
       "      <th>2</th>\n",
       "      <td>10.3354/meps09193</td>\n",
       "      <td>Modelling the effect of vertical mixing on bot...</td>\n",
       "      <td>MARINE ECOLOGY PROGRESS SERIES\\nMar Ecol Prog ...</td>\n",
       "      <td>Reliable estimates of in situ phytoplankton gr...</td>\n",
       "      <td>'1616-1599', 'issn:0171-8630', 'issn:1616-1599...</td>\n",
       "      <td>NaN</td>\n",
       "    </tr>\n",
       "    <tr>\n",
       "      <th>3</th>\n",
       "      <td>10.1177/1350508408095817</td>\n",
       "      <td>The Body Dances: Carnival Dance and Organization</td>\n",
       "      <td>The Body Dances: Carnival Dance  \\nand Organi...</td>\n",
       "      <td>Building on the work of Pierre Bourdieu and Ma...</td>\n",
       "      <td>'1350-5084'</td>\n",
       "      <td>sociology</td>\n",
       "    </tr>\n",
       "    <tr>\n",
       "      <th>4</th>\n",
       "      <td>10.1016/s0022-4049(02)00180-9</td>\n",
       "      <td>Arithmeticity of Orbifold Generalised Triangle...</td>\n",
       "      <td>NaN</td>\n",
       "      <td>Maclachlan and Martin have proved that only fi...</td>\n",
       "      <td>'0022-4049'</td>\n",
       "      <td>NaN</td>\n",
       "    </tr>\n",
       "  </tbody>\n",
       "</table>\n",
       "</div>"
      ],
      "text/plain": [
       "                             doi  \\\n",
       "0        10.1111/1467-8330.00227   \n",
       "1      10.1163/13822373-90002428   \n",
       "2              10.3354/meps09193   \n",
       "3       10.1177/1350508408095817   \n",
       "4  10.1016/s0022-4049(02)00180-9   \n",
       "\n",
       "                                               title  \\\n",
       "0  Institutionalising future geographies of finan...   \n",
       "1  Landscaping Hispaniola Moreau de Saint-Méry's ...   \n",
       "2  Modelling the effect of vertical mixing on bot...   \n",
       "3   The Body Dances: Carnival Dance and Organization   \n",
       "4  Arithmeticity of Orbifold Generalised Triangle...   \n",
       "\n",
       "                                            fulltext  \\\n",
       "0  1INSTITUTIONALISING FUTURE GEOGRAPHIES OF FINA...   \n",
       "1  New West Indian Guide / Nieuwe West-Indische G...   \n",
       "2  MARINE ECOLOGY PROGRESS SERIES\\nMar Ecol Prog ...   \n",
       "3   The Body Dances: Carnival Dance  \\nand Organi...   \n",
       "4                                                NaN   \n",
       "\n",
       "                                            abstract  \\\n",
       "0  This paper provides a critical overview of rec...   \n",
       "1  This article focuses on Médéric Louis Élie Mor...   \n",
       "2  Reliable estimates of in situ phytoplankton gr...   \n",
       "3  Building on the work of Pierre Bourdieu and Ma...   \n",
       "4  Maclachlan and Martin have proved that only fi...   \n",
       "\n",
       "                                                issn   subjects  \n",
       "0                                        '0066-4812'        NaN  \n",
       "1                      'issn:1382-2373', '1382-2373'        NaN  \n",
       "2  '1616-1599', 'issn:0171-8630', 'issn:1616-1599...        NaN  \n",
       "3                                        '1350-5084'  sociology  \n",
       "4                                        '0022-4049'        NaN  "
      ]
     },
     "execution_count": 3,
     "metadata": {},
     "output_type": "execute_result"
    }
   ],
   "source": []
  },
  {
   "cell_type": "code",
   "execution_count": 4,
   "metadata": {},
   "outputs": [
    {
     "name": "stdout",
     "output_type": "stream",
     "text": [
      "<class 'pandas.core.frame.DataFrame'>\n",
      "RangeIndex: 10000 entries, 0 to 9999\n",
      "Data columns (total 6 columns):\n",
      " #   Column    Non-Null Count  Dtype \n",
      "---  ------    --------------  ----- \n",
      " 0   doi       10000 non-null  object\n",
      " 1   title     10000 non-null  object\n",
      " 2   fulltext  9995 non-null   object\n",
      " 3   abstract  10000 non-null  object\n",
      " 4   issn      9729 non-null   object\n",
      " 5   subjects  2669 non-null   object\n",
      "dtypes: object(6)\n",
      "memory usage: 468.9+ KB\n",
      "None\n"
     ]
    },
    {
     "data": {
      "text/html": [
       "<div>\n",
       "<style scoped>\n",
       "    .dataframe tbody tr th:only-of-type {\n",
       "        vertical-align: middle;\n",
       "    }\n",
       "\n",
       "    .dataframe tbody tr th {\n",
       "        vertical-align: top;\n",
       "    }\n",
       "\n",
       "    .dataframe thead th {\n",
       "        text-align: right;\n",
       "    }\n",
       "</style>\n",
       "<table border=\"1\" class=\"dataframe\">\n",
       "  <thead>\n",
       "    <tr style=\"text-align: right;\">\n",
       "      <th></th>\n",
       "      <th>doi</th>\n",
       "      <th>title</th>\n",
       "      <th>fulltext</th>\n",
       "      <th>abstract</th>\n",
       "      <th>issn</th>\n",
       "      <th>subjects</th>\n",
       "    </tr>\n",
       "  </thead>\n",
       "  <tbody>\n",
       "    <tr>\n",
       "      <th>0</th>\n",
       "      <td>10.1111/1467-8330.00227</td>\n",
       "      <td>Institutionalising future geographies of finan...</td>\n",
       "      <td>1INSTITUTIONALISING FUTURE GEOGRAPHIES OF FINA...</td>\n",
       "      <td>This paper provides a critical overview of rec...</td>\n",
       "      <td>'0066-4812'</td>\n",
       "      <td>NaN</td>\n",
       "    </tr>\n",
       "    <tr>\n",
       "      <th>1</th>\n",
       "      <td>10.1163/13822373-90002428</td>\n",
       "      <td>Landscaping Hispaniola Moreau de Saint-Méry's ...</td>\n",
       "      <td>New West Indian Guide / Nieuwe West-Indische G...</td>\n",
       "      <td>This article focuses on Médéric Louis Élie Mor...</td>\n",
       "      <td>'issn:1382-2373', '1382-2373'</td>\n",
       "      <td>NaN</td>\n",
       "    </tr>\n",
       "    <tr>\n",
       "      <th>2</th>\n",
       "      <td>10.3354/meps09193</td>\n",
       "      <td>Modelling the effect of vertical mixing on bot...</td>\n",
       "      <td>MARINE ECOLOGY PROGRESS SERIES\\nMar Ecol Prog ...</td>\n",
       "      <td>Reliable estimates of in situ phytoplankton gr...</td>\n",
       "      <td>'1616-1599', 'issn:0171-8630', 'issn:1616-1599...</td>\n",
       "      <td>NaN</td>\n",
       "    </tr>\n",
       "    <tr>\n",
       "      <th>3</th>\n",
       "      <td>10.1177/1350508408095817</td>\n",
       "      <td>The Body Dances: Carnival Dance and Organization</td>\n",
       "      <td>The Body Dances: Carnival Dance  \\nand Organi...</td>\n",
       "      <td>Building on the work of Pierre Bourdieu and Ma...</td>\n",
       "      <td>'1350-5084'</td>\n",
       "      <td>sociology</td>\n",
       "    </tr>\n",
       "    <tr>\n",
       "      <th>4</th>\n",
       "      <td>10.1016/s0022-4049(02)00180-9</td>\n",
       "      <td>Arithmeticity of Orbifold Generalised Triangle...</td>\n",
       "      <td>NaN</td>\n",
       "      <td>Maclachlan and Martin have proved that only fi...</td>\n",
       "      <td>'0022-4049'</td>\n",
       "      <td>NaN</td>\n",
       "    </tr>\n",
       "  </tbody>\n",
       "</table>\n",
       "</div>"
      ],
      "text/plain": [
       "                             doi  \\\n",
       "0        10.1111/1467-8330.00227   \n",
       "1      10.1163/13822373-90002428   \n",
       "2              10.3354/meps09193   \n",
       "3       10.1177/1350508408095817   \n",
       "4  10.1016/s0022-4049(02)00180-9   \n",
       "\n",
       "                                               title  \\\n",
       "0  Institutionalising future geographies of finan...   \n",
       "1  Landscaping Hispaniola Moreau de Saint-Méry's ...   \n",
       "2  Modelling the effect of vertical mixing on bot...   \n",
       "3   The Body Dances: Carnival Dance and Organization   \n",
       "4  Arithmeticity of Orbifold Generalised Triangle...   \n",
       "\n",
       "                                            fulltext  \\\n",
       "0  1INSTITUTIONALISING FUTURE GEOGRAPHIES OF FINA...   \n",
       "1  New West Indian Guide / Nieuwe West-Indische G...   \n",
       "2  MARINE ECOLOGY PROGRESS SERIES\\nMar Ecol Prog ...   \n",
       "3   The Body Dances: Carnival Dance  \\nand Organi...   \n",
       "4                                                NaN   \n",
       "\n",
       "                                            abstract  \\\n",
       "0  This paper provides a critical overview of rec...   \n",
       "1  This article focuses on Médéric Louis Élie Mor...   \n",
       "2  Reliable estimates of in situ phytoplankton gr...   \n",
       "3  Building on the work of Pierre Bourdieu and Ma...   \n",
       "4  Maclachlan and Martin have proved that only fi...   \n",
       "\n",
       "                                                issn   subjects  \n",
       "0                                        '0066-4812'        NaN  \n",
       "1                      'issn:1382-2373', '1382-2373'        NaN  \n",
       "2  '1616-1599', 'issn:0171-8630', 'issn:1616-1599...        NaN  \n",
       "3                                        '1350-5084'  sociology  \n",
       "4                                        '0022-4049'        NaN  "
      ]
     },
     "execution_count": 4,
     "metadata": {},
     "output_type": "execute_result"
    }
   ],
   "source": [
    "df200k = pd.read_csv('../data/200k_articles.csv.gz', nrows=10_000)\n",
    "print(df200k.info())\n",
    "df200k.head()"
   ]
  },
  {
   "cell_type": "code",
   "execution_count": 7,
   "metadata": {},
   "outputs": [
    {
     "data": {
      "text/html": [
       "<div>\n",
       "<style scoped>\n",
       "    .dataframe tbody tr th:only-of-type {\n",
       "        vertical-align: middle;\n",
       "    }\n",
       "\n",
       "    .dataframe tbody tr th {\n",
       "        vertical-align: top;\n",
       "    }\n",
       "\n",
       "    .dataframe thead th {\n",
       "        text-align: right;\n",
       "    }\n",
       "</style>\n",
       "<table border=\"1\" class=\"dataframe\">\n",
       "  <thead>\n",
       "    <tr style=\"text-align: right;\">\n",
       "      <th></th>\n",
       "      <th>0</th>\n",
       "    </tr>\n",
       "  </thead>\n",
       "  <tbody>\n",
       "    <tr>\n",
       "      <th>0</th>\n",
       "      <td>0066-4812</td>\n",
       "    </tr>\n",
       "    <tr>\n",
       "      <th>1</th>\n",
       "      <td>1382-2373</td>\n",
       "    </tr>\n",
       "    <tr>\n",
       "      <th>2</th>\n",
       "      <td>1616-1599</td>\n",
       "    </tr>\n",
       "    <tr>\n",
       "      <th>3</th>\n",
       "      <td>1350-5084</td>\n",
       "    </tr>\n",
       "    <tr>\n",
       "      <th>4</th>\n",
       "      <td>0022-4049</td>\n",
       "    </tr>\n",
       "  </tbody>\n",
       "</table>\n",
       "</div>"
      ],
      "text/plain": [
       "           0\n",
       "0  0066-4812\n",
       "1  1382-2373\n",
       "2  1616-1599\n",
       "3  1350-5084\n",
       "4  0022-4049"
      ]
     },
     "execution_count": 7,
     "metadata": {},
     "output_type": "execute_result"
    }
   ],
   "source": [
    "issn = df400k.issn.str.extract(r'(\\d{4}-\\d{4})')\n",
    "issn.head()"
   ]
  }
 ],
 "metadata": {
  "kernelspec": {
   "display_name": "QualAbstracts-_C7lXhsk",
   "language": "python",
   "name": "python3"
  },
  "language_info": {
   "codemirror_mode": {
    "name": "ipython",
    "version": 3
   },
   "file_extension": ".py",
   "mimetype": "text/x-python",
   "name": "python",
   "nbconvert_exporter": "python",
   "pygments_lexer": "ipython3",
   "version": "3.9.13"
  },
  "orig_nbformat": 4
 },
 "nbformat": 4,
 "nbformat_minor": 2
}
