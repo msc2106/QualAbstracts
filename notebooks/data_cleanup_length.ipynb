{
 "cells": [
  {
   "cell_type": "code",
   "execution_count": 1,
   "metadata": {},
   "outputs": [],
   "source": [
    "import pandas as pd"
   ]
  },
  {
   "cell_type": "code",
   "execution_count": 2,
   "metadata": {},
   "outputs": [
    {
     "name": "stdout",
     "output_type": "stream",
     "text": [
      "<class 'pandas.core.frame.DataFrame'>\n",
      "RangeIndex: 7656 entries, 0 to 7655\n",
      "Data columns (total 2 columns):\n",
      " #   Column    Non-Null Count  Dtype \n",
      "---  ------    --------------  ----- \n",
      " 0   abstract  7656 non-null   object\n",
      " 1   fulltext  7656 non-null   object\n",
      "dtypes: object(2)\n",
      "memory usage: 119.8+ KB\n",
      "None\n",
      "<class 'pandas.core.frame.DataFrame'>\n",
      "RangeIndex: 1914 entries, 0 to 1913\n",
      "Data columns (total 2 columns):\n",
      " #   Column    Non-Null Count  Dtype \n",
      "---  ------    --------------  ----- \n",
      " 0   abstract  1914 non-null   object\n",
      " 1   fulltext  1914 non-null   object\n",
      "dtypes: object(2)\n",
      "memory usage: 30.0+ KB\n",
      "None\n"
     ]
    }
   ],
   "source": [
    "train_df = pd.read_csv('../data/backup.train.csv.gz')\n",
    "test_df = pd.read_csv('../data/backup.test.csv.gz')\n",
    "print(train_df.info())\n",
    "print(test_df.info())"
   ]
  },
  {
   "cell_type": "code",
   "execution_count": 3,
   "metadata": {},
   "outputs": [],
   "source": [
    "def word_count(s):\n",
    "    return len(s.split(' '))\n",
    "train_df['textlen'] = train_df.fulltext.apply(word_count)\n",
    "test_df['textlen'] = test_df.fulltext.apply(word_count)"
   ]
  },
  {
   "cell_type": "code",
   "execution_count": 4,
   "metadata": {},
   "outputs": [
    {
     "name": "stdout",
     "output_type": "stream",
     "text": [
      "count     7656.000000\n",
      "mean      8828.829284\n",
      "std       2434.773417\n",
      "min          2.000000\n",
      "25%       7185.000000\n",
      "50%       8669.500000\n",
      "75%      10404.750000\n",
      "max      21384.000000\n",
      "Name: textlen, dtype: float64\n",
      "count     1914.000000\n",
      "mean      8957.456635\n",
      "std       2508.866276\n",
      "min          2.000000\n",
      "25%       7311.750000\n",
      "50%       8836.500000\n",
      "75%      10534.500000\n",
      "max      26340.000000\n",
      "Name: textlen, dtype: float64\n"
     ]
    }
   ],
   "source": [
    "print(train_df.textlen.describe())\n",
    "print(test_df.textlen.describe())"
   ]
  },
  {
   "cell_type": "code",
   "execution_count": 5,
   "metadata": {},
   "outputs": [
    {
     "name": "stdout",
     "output_type": "stream",
     "text": [
      "83\n",
      "22\n"
     ]
    }
   ],
   "source": [
    "print((train_df.textlen < 2000).sum())\n",
    "print((test_df.textlen < 2000).sum())"
   ]
  },
  {
   "cell_type": "code",
   "execution_count": 11,
   "metadata": {},
   "outputs": [
    {
     "data": {
      "text/html": [
       "<div>\n",
       "<style scoped>\n",
       "    .dataframe tbody tr th:only-of-type {\n",
       "        vertical-align: middle;\n",
       "    }\n",
       "\n",
       "    .dataframe tbody tr th {\n",
       "        vertical-align: top;\n",
       "    }\n",
       "\n",
       "    .dataframe thead th {\n",
       "        text-align: right;\n",
       "    }\n",
       "</style>\n",
       "<table border=\"1\" class=\"dataframe\">\n",
       "  <thead>\n",
       "    <tr style=\"text-align: right;\">\n",
       "      <th></th>\n",
       "      <th>abstract</th>\n",
       "      <th>fulltext</th>\n",
       "      <th>textlen</th>\n",
       "    </tr>\n",
       "  </thead>\n",
       "  <tbody>\n",
       "    <tr>\n",
       "      <th>36</th>\n",
       "      <td>Greater Angkor was the capital of the Khmer Em...</td>\n",
       "      <td>Keywords: Greater Angkor, urban landscape, Kh...</td>\n",
       "      <td>55</td>\n",
       "    </tr>\n",
       "    <tr>\n",
       "      <th>354</th>\n",
       "      <td>Sāmoa, Fiji, and Tonga have emerged as strong ...</td>\n",
       "      <td>keywords: sport, rugby, Sāmoa, embodiment, de...</td>\n",
       "      <td>8</td>\n",
       "    </tr>\n",
       "    <tr>\n",
       "      <th>525</th>\n",
       "      <td>Small Pacific islands, especially atolls, have...</td>\n",
       "      <td>keywords: atolls, climate change, sea level, t...</td>\n",
       "      <td>9</td>\n",
       "    </tr>\n",
       "    <tr>\n",
       "      <th>689</th>\n",
       "      <td>This paper undertakes a major survey of the ge...</td>\n",
       "      <td>ﬁcally linked with this dispersal, it follows ...</td>\n",
       "      <td>101</td>\n",
       "    </tr>\n",
       "    <tr>\n",
       "      <th>822</th>\n",
       "      <td>In reflecting on the relation between early em...</td>\n",
       "      <td>-ization of the soul’?Keywords: Physiology of ...</td>\n",
       "      <td>18</td>\n",
       "    </tr>\n",
       "    <tr>\n",
       "      <th>912</th>\n",
       "      <td>Radiocarbon analysis and ceramic typology asse...</td>\n",
       "      <td>Keywords: radio-carbon dating, relative datin...</td>\n",
       "      <td>18</td>\n",
       "    </tr>\n",
       "    <tr>\n",
       "      <th>976</th>\n",
       "      <td>Despite considerable debate about whether or n...</td>\n",
       "      <td>keywords: climate change, migration, relocatio...</td>\n",
       "      <td>11</td>\n",
       "    </tr>\n",
       "    <tr>\n",
       "      <th>1064</th>\n",
       "      <td>In the midst of a noncommunicable disease (ncd...</td>\n",
       "      <td>keywords: sport for development, education, mi...</td>\n",
       "      <td>8</td>\n",
       "    </tr>\n",
       "    <tr>\n",
       "      <th>1259</th>\n",
       "      <td>For a long time one has been convinced that th...</td>\n",
       "      <td>Willems, J. (1993). Naar een andere aanpak In...</td>\n",
       "      <td>31</td>\n",
       "    </tr>\n",
       "    <tr>\n",
       "      <th>1367</th>\n",
       "      <td>The possibility of selective use of lithic raw...</td>\n",
       "      <td></td>\n",
       "      <td>2</td>\n",
       "    </tr>\n",
       "    <tr>\n",
       "      <th>1402</th>\n",
       "      <td>This article challenges the ethical allegory o...</td>\n",
       "      <td>silverman ? after CANNIBAL TOURS 257messages a...</td>\n",
       "      <td>181</td>\n",
       "    </tr>\n",
       "    <tr>\n",
       "      <th>1450</th>\n",
       "      <td>This article examines the production, uses, an...</td>\n",
       "      <td>Keywords: landscape archaeology, war-fare, po...</td>\n",
       "      <td>30</td>\n",
       "    </tr>\n",
       "    <tr>\n",
       "      <th>1736</th>\n",
       "      <td>In New Caledonia, where a referendum deciding ...</td>\n",
       "      <td>keywords: territorialization, neoliberalizatio...</td>\n",
       "      <td>5</td>\n",
       "    </tr>\n",
       "    <tr>\n",
       "      <th>1822</th>\n",
       "      <td>This essay reflects on developments in the fie...</td>\n",
       "      <td>keywords: Pacific studies, epistemology, indig...</td>\n",
       "      <td>8</td>\n",
       "    </tr>\n",
       "  </tbody>\n",
       "</table>\n",
       "</div>"
      ],
      "text/plain": [
       "                                               abstract  \\\n",
       "36    Greater Angkor was the capital of the Khmer Em...   \n",
       "354   Sāmoa, Fiji, and Tonga have emerged as strong ...   \n",
       "525   Small Pacific islands, especially atolls, have...   \n",
       "689   This paper undertakes a major survey of the ge...   \n",
       "822   In reflecting on the relation between early em...   \n",
       "912   Radiocarbon analysis and ceramic typology asse...   \n",
       "976   Despite considerable debate about whether or n...   \n",
       "1064  In the midst of a noncommunicable disease (ncd...   \n",
       "1259  For a long time one has been convinced that th...   \n",
       "1367  The possibility of selective use of lithic raw...   \n",
       "1402  This article challenges the ethical allegory o...   \n",
       "1450  This article examines the production, uses, an...   \n",
       "1736  In New Caledonia, where a referendum deciding ...   \n",
       "1822  This essay reflects on developments in the fie...   \n",
       "\n",
       "                                               fulltext  textlen  \n",
       "36     Keywords: Greater Angkor, urban landscape, Kh...       55  \n",
       "354    keywords: sport, rugby, Sāmoa, embodiment, de...        8  \n",
       "525   keywords: atolls, climate change, sea level, t...        9  \n",
       "689   ﬁcally linked with this dispersal, it follows ...      101  \n",
       "822   -ization of the soul’?Keywords: Physiology of ...       18  \n",
       "912    Keywords: radio-carbon dating, relative datin...       18  \n",
       "976   keywords: climate change, migration, relocatio...       11  \n",
       "1064  keywords: sport for development, education, mi...        8  \n",
       "1259   Willems, J. (1993). Naar een andere aanpak In...       31  \n",
       "1367                                                           2  \n",
       "1402  silverman ? after CANNIBAL TOURS 257messages a...      181  \n",
       "1450   Keywords: landscape archaeology, war-fare, po...       30  \n",
       "1736  keywords: territorialization, neoliberalizatio...        5  \n",
       "1822  keywords: Pacific studies, epistemology, indig...        8  "
      ]
     },
     "execution_count": 11,
     "metadata": {},
     "output_type": "execute_result"
    }
   ],
   "source": [
    "test_df[test_df.textlen < 500]"
   ]
  },
  {
   "cell_type": "code",
   "execution_count": 23,
   "metadata": {},
   "outputs": [],
   "source": [
    "def cleanup(df):\n",
    "    return df.loc[\n",
    "        df.textlen > 2000,\n",
    "        ['abstract', 'fulltext']\n",
    "    ]\n",
    "\n",
    "cleanup(train_df).to_csv('../data/train.csv.gz', index=False)\n",
    "cleanup(test_df).to_csv('../data/test.csv.gz', index=False)\n"
   ]
  },
  {
   "cell_type": "code",
   "execution_count": 24,
   "metadata": {},
   "outputs": [
    {
     "name": "stdout",
     "output_type": "stream",
     "text": [
      "<class 'pandas.core.frame.DataFrame'>\n",
      "RangeIndex: 7573 entries, 0 to 7572\n",
      "Data columns (total 2 columns):\n",
      " #   Column    Non-Null Count  Dtype \n",
      "---  ------    --------------  ----- \n",
      " 0   abstract  7573 non-null   object\n",
      " 1   fulltext  7573 non-null   object\n",
      "dtypes: object(2)\n",
      "memory usage: 118.5+ KB\n",
      "None\n",
      "<class 'pandas.core.frame.DataFrame'>\n",
      "RangeIndex: 1892 entries, 0 to 1891\n",
      "Data columns (total 2 columns):\n",
      " #   Column    Non-Null Count  Dtype \n",
      "---  ------    --------------  ----- \n",
      " 0   abstract  1892 non-null   object\n",
      " 1   fulltext  1892 non-null   object\n",
      "dtypes: object(2)\n",
      "memory usage: 29.7+ KB\n",
      "None\n",
      "count     7573.000000\n",
      "mean      8919.148158\n",
      "std       2288.262696\n",
      "min       2122.000000\n",
      "25%       7246.000000\n",
      "50%       8705.000000\n",
      "75%      10431.000000\n",
      "max      21384.000000\n",
      "Name: textlen, dtype: float64\n",
      "count     1892.000000\n",
      "mean      9056.260042\n",
      "std       2348.102398\n",
      "min       2201.000000\n",
      "25%       7365.750000\n",
      "50%       8867.000000\n",
      "75%      10564.250000\n",
      "max      26340.000000\n",
      "Name: textlen, dtype: float64\n"
     ]
    }
   ],
   "source": [
    "confirm_train_df = pd.read_csv('../data/train.csv.gz')\n",
    "confirm_test_df = pd.read_csv('../data/test.csv.gz')\n",
    "print(confirm_train_df.info())\n",
    "print(confirm_test_df.info())\n",
    "confirm_train_df['textlen'] = confirm_train_df.fulltext.apply(word_count)\n",
    "confirm_test_df['textlen'] = confirm_test_df.fulltext.apply(word_count)\n",
    "print(confirm_train_df.textlen.describe())\n",
    "print(confirm_test_df.textlen.describe())"
   ]
  }
 ],
 "metadata": {
  "kernelspec": {
   "display_name": "QualAbstracts-_C7lXhsk",
   "language": "python",
   "name": "python3"
  },
  "language_info": {
   "codemirror_mode": {
    "name": "ipython",
    "version": 3
   },
   "file_extension": ".py",
   "mimetype": "text/x-python",
   "name": "python",
   "nbconvert_exporter": "python",
   "pygments_lexer": "ipython3",
   "version": "3.9.13"
  },
  "orig_nbformat": 4
 },
 "nbformat": 4,
 "nbformat_minor": 2
}
