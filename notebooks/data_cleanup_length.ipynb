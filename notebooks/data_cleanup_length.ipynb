{
 "cells": [
  {
   "cell_type": "code",
   "execution_count": 18,
   "metadata": {},
   "outputs": [],
   "source": [
    "import pandas as pd"
   ]
  },
  {
   "cell_type": "code",
   "execution_count": 19,
   "metadata": {},
   "outputs": [
    {
     "name": "stdout",
     "output_type": "stream",
     "text": [
      "<class 'pandas.core.frame.DataFrame'>\n",
      "RangeIndex: 7656 entries, 0 to 7655\n",
      "Data columns (total 2 columns):\n",
      " #   Column    Non-Null Count  Dtype \n",
      "---  ------    --------------  ----- \n",
      " 0   abstract  7656 non-null   object\n",
      " 1   fulltext  7656 non-null   object\n",
      "dtypes: object(2)\n",
      "memory usage: 119.8+ KB\n",
      "None\n",
      "<class 'pandas.core.frame.DataFrame'>\n",
      "RangeIndex: 1914 entries, 0 to 1913\n",
      "Data columns (total 2 columns):\n",
      " #   Column    Non-Null Count  Dtype \n",
      "---  ------    --------------  ----- \n",
      " 0   abstract  1914 non-null   object\n",
      " 1   fulltext  1914 non-null   object\n",
      "dtypes: object(2)\n",
      "memory usage: 30.0+ KB\n",
      "None\n"
     ]
    }
   ],
   "source": [
    "train_df = pd.read_csv('../data/backup.train.csv.gz')\n",
    "test_df = pd.read_csv('../data/backup.test.csv.gz')\n",
    "print(train_df.info())\n",
    "print(test_df.info())"
   ]
  },
  {
   "cell_type": "code",
   "execution_count": 20,
   "metadata": {},
   "outputs": [],
   "source": [
    "def word_count(s):\n",
    "    return len(s.split(' '))\n",
    "train_df['textlen'] = train_df.fulltext.apply(word_count)\n",
    "test_df['textlen'] = test_df.fulltext.apply(word_count)"
   ]
  },
  {
   "cell_type": "code",
   "execution_count": 21,
   "metadata": {},
   "outputs": [
    {
     "name": "stdout",
     "output_type": "stream",
     "text": [
      "count     7656.000000\n",
      "mean      8828.829284\n",
      "std       2434.773417\n",
      "min          2.000000\n",
      "25%       7185.000000\n",
      "50%       8669.500000\n",
      "75%      10404.750000\n",
      "max      21384.000000\n",
      "Name: textlen, dtype: float64\n",
      "count     1914.000000\n",
      "mean      8957.456635\n",
      "std       2508.866276\n",
      "min          2.000000\n",
      "25%       7311.750000\n",
      "50%       8836.500000\n",
      "75%      10534.500000\n",
      "max      26340.000000\n",
      "Name: textlen, dtype: float64\n"
     ]
    }
   ],
   "source": [
    "print(train_df.textlen.describe())\n",
    "print(test_df.textlen.describe())"
   ]
  },
  {
   "cell_type": "code",
   "execution_count": 22,
   "metadata": {},
   "outputs": [
    {
     "name": "stdout",
     "output_type": "stream",
     "text": [
      "83\n",
      "22\n"
     ]
    }
   ],
   "source": [
    "print((train_df.textlen < 2000).sum())\n",
    "print((test_df.textlen < 2000).sum())"
   ]
  },
  {
   "cell_type": "code",
   "execution_count": 23,
   "metadata": {},
   "outputs": [],
   "source": [
    "def cleanup(df):\n",
    "    return df.loc[\n",
    "        df.textlen > 2000,\n",
    "        ['abstract', 'fulltext']\n",
    "    ]\n",
    "\n",
    "cleanup(train_df).to_csv('../data/train.csv.gz', index=False)\n",
    "cleanup(test_df).to_csv('../data/test.csv.gz', index=False)\n"
   ]
  },
  {
   "cell_type": "code",
   "execution_count": 24,
   "metadata": {},
   "outputs": [
    {
     "name": "stdout",
     "output_type": "stream",
     "text": [
      "<class 'pandas.core.frame.DataFrame'>\n",
      "RangeIndex: 7573 entries, 0 to 7572\n",
      "Data columns (total 2 columns):\n",
      " #   Column    Non-Null Count  Dtype \n",
      "---  ------    --------------  ----- \n",
      " 0   abstract  7573 non-null   object\n",
      " 1   fulltext  7573 non-null   object\n",
      "dtypes: object(2)\n",
      "memory usage: 118.5+ KB\n",
      "None\n",
      "<class 'pandas.core.frame.DataFrame'>\n",
      "RangeIndex: 1892 entries, 0 to 1891\n",
      "Data columns (total 2 columns):\n",
      " #   Column    Non-Null Count  Dtype \n",
      "---  ------    --------------  ----- \n",
      " 0   abstract  1892 non-null   object\n",
      " 1   fulltext  1892 non-null   object\n",
      "dtypes: object(2)\n",
      "memory usage: 29.7+ KB\n",
      "None\n",
      "count     7573.000000\n",
      "mean      8919.148158\n",
      "std       2288.262696\n",
      "min       2122.000000\n",
      "25%       7246.000000\n",
      "50%       8705.000000\n",
      "75%      10431.000000\n",
      "max      21384.000000\n",
      "Name: textlen, dtype: float64\n",
      "count     1892.000000\n",
      "mean      9056.260042\n",
      "std       2348.102398\n",
      "min       2201.000000\n",
      "25%       7365.750000\n",
      "50%       8867.000000\n",
      "75%      10564.250000\n",
      "max      26340.000000\n",
      "Name: textlen, dtype: float64\n"
     ]
    }
   ],
   "source": [
    "confirm_train_df = pd.read_csv('../data/train.csv.gz')\n",
    "confirm_test_df = pd.read_csv('../data/test.csv.gz')\n",
    "print(confirm_train_df.info())\n",
    "print(confirm_test_df.info())\n",
    "confirm_train_df['textlen'] = confirm_train_df.fulltext.apply(word_count)\n",
    "confirm_test_df['textlen'] = confirm_test_df.fulltext.apply(word_count)\n",
    "print(confirm_train_df.textlen.describe())\n",
    "print(confirm_test_df.textlen.describe())"
   ]
  }
 ],
 "metadata": {
  "kernelspec": {
   "display_name": "QualAbstracts-_C7lXhsk",
   "language": "python",
   "name": "python3"
  },
  "language_info": {
   "codemirror_mode": {
    "name": "ipython",
    "version": 3
   },
   "file_extension": ".py",
   "mimetype": "text/x-python",
   "name": "python",
   "nbconvert_exporter": "python",
   "pygments_lexer": "ipython3",
   "version": "3.9.13"
  },
  "orig_nbformat": 4
 },
 "nbformat": 4,
 "nbformat_minor": 2
}
