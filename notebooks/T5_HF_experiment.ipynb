{
 "cells": [
  {
   "cell_type": "markdown",
   "metadata": {},
   "source": [
    "T5 Flan\n",
    "----\n",
    "This notebook follows this guide: https://huggingface.co/docs/transformers/tasks/summarization"
   ]
  },
  {
   "cell_type": "markdown",
   "metadata": {},
   "source": [
    "# Setup"
   ]
  },
  {
   "cell_type": "code",
   "execution_count": 1,
   "metadata": {},
   "outputs": [
    {
     "name": "stdout",
     "output_type": "stream",
     "text": [
      "Collecting transformers\n",
      "  Downloading transformers-4.31.0-py3-none-any.whl (7.4 MB)\n",
      "\u001b[2K     \u001b[90m━━━━━━━━━━━━━━━━━━━━━━━━━━━━━━━━━━━━━━━━\u001b[0m \u001b[32m7.4/7.4 MB\u001b[0m \u001b[31m20.8 MB/s\u001b[0m eta \u001b[36m0:00:00\u001b[0m00:01\u001b[0m00:01\u001b[0m\n",
      "\u001b[?25hCollecting datasets\n",
      "  Downloading datasets-2.14.1-py3-none-any.whl (492 kB)\n",
      "\u001b[2K     \u001b[90m━━━━━━━━━━━━━━━━━━━━━━━━━━━━━━━━━━━━━━\u001b[0m \u001b[32m492.4/492.4 kB\u001b[0m \u001b[31m23.1 MB/s\u001b[0m eta \u001b[36m0:00:00\u001b[0m\n",
      "\u001b[?25hCollecting evaluate\n",
      "  Downloading evaluate-0.4.0-py3-none-any.whl (81 kB)\n",
      "\u001b[2K     \u001b[90m━━━━━━━━━━━━━━━━━━━━━━━━━━━━━━━━━━━━━━━━\u001b[0m \u001b[32m81.4/81.4 kB\u001b[0m \u001b[31m16.6 MB/s\u001b[0m eta \u001b[36m0:00:00\u001b[0m\n",
      "\u001b[?25hCollecting rouge_score\n",
      "  Downloading rouge_score-0.1.2.tar.gz (17 kB)\n",
      "  Preparing metadata (setup.py) ... \u001b[?25ldone\n",
      "\u001b[?25hCollecting filelock (from transformers)\n",
      "  Downloading filelock-3.12.2-py3-none-any.whl (10 kB)\n",
      "Collecting huggingface-hub<1.0,>=0.14.1 (from transformers)\n",
      "  Downloading huggingface_hub-0.16.4-py3-none-any.whl (268 kB)\n",
      "\u001b[2K     \u001b[90m━━━━━━━━━━━━━━━━━━━━━━━━━━━━━━━━━━━━━━\u001b[0m \u001b[32m268.8/268.8 kB\u001b[0m \u001b[31m20.1 MB/s\u001b[0m eta \u001b[36m0:00:00\u001b[0m\n",
      "\u001b[?25hRequirement already satisfied: numpy>=1.17 in /home/mark/.local/share/virtualenvs/QualAbstracts-R4Ruw4b-/lib/python3.9/site-packages (from transformers) (1.25.1)\n",
      "Requirement already satisfied: packaging>=20.0 in /home/mark/.local/share/virtualenvs/QualAbstracts-R4Ruw4b-/lib/python3.9/site-packages (from transformers) (23.1)\n",
      "Requirement already satisfied: pyyaml>=5.1 in /home/mark/.local/share/virtualenvs/QualAbstracts-R4Ruw4b-/lib/python3.9/site-packages (from transformers) (6.0.1)\n",
      "Collecting regex!=2019.12.17 (from transformers)\n",
      "  Downloading regex-2023.6.3-cp39-cp39-manylinux_2_17_x86_64.manylinux2014_x86_64.whl (769 kB)\n",
      "\u001b[2K     \u001b[90m━━━━━━━━━━━━━━━━━━━━━━━━━━━━━━━━━━━━━━\u001b[0m \u001b[32m769.9/769.9 kB\u001b[0m \u001b[31m21.4 MB/s\u001b[0m eta \u001b[36m0:00:00\u001b[0m00:01\u001b[0m\n",
      "\u001b[?25hRequirement already satisfied: requests in /home/mark/.local/share/virtualenvs/QualAbstracts-R4Ruw4b-/lib/python3.9/site-packages (from transformers) (2.31.0)\n",
      "Collecting tokenizers!=0.11.3,<0.14,>=0.11.1 (from transformers)\n",
      "  Downloading tokenizers-0.13.3-cp39-cp39-manylinux_2_17_x86_64.manylinux2014_x86_64.whl (7.8 MB)\n",
      "\u001b[2K     \u001b[90m━━━━━━━━━━━━━━━━━━━━━━━━━━━━━━━━━━━━━━━━\u001b[0m \u001b[32m7.8/7.8 MB\u001b[0m \u001b[31m21.5 MB/s\u001b[0m eta \u001b[36m0:00:00\u001b[0m00:01\u001b[0m00:01\u001b[0m\n",
      "\u001b[?25hCollecting safetensors>=0.3.1 (from transformers)\n",
      "  Downloading safetensors-0.3.1-cp39-cp39-manylinux_2_17_x86_64.manylinux2014_x86_64.whl (1.3 MB)\n",
      "\u001b[2K     \u001b[90m━━━━━━━━━━━━━━━━━━━━━━━━━━━━━━━━━━━━━━━━\u001b[0m \u001b[32m1.3/1.3 MB\u001b[0m \u001b[31m22.1 MB/s\u001b[0m eta \u001b[36m0:00:00\u001b[0ma \u001b[36m0:00:01\u001b[0m\n",
      "\u001b[?25hCollecting tqdm>=4.27 (from transformers)\n",
      "  Downloading tqdm-4.65.0-py3-none-any.whl (77 kB)\n",
      "\u001b[2K     \u001b[90m━━━━━━━━━━━━━━━━━━━━━━━━━━━━━━━━━━━━━━━━\u001b[0m \u001b[32m77.1/77.1 kB\u001b[0m \u001b[31m16.0 MB/s\u001b[0m eta \u001b[36m0:00:00\u001b[0m\n",
      "\u001b[?25hCollecting pyarrow>=8.0.0 (from datasets)\n",
      "  Downloading pyarrow-12.0.1-cp39-cp39-manylinux_2_17_x86_64.manylinux2014_x86_64.whl (39.0 MB)\n",
      "\u001b[2K     \u001b[90m━━━━━━━━━━━━━━━━━━━━━━━━━━━━━━━━━━━━━━━━\u001b[0m \u001b[32m39.0/39.0 MB\u001b[0m \u001b[31m19.8 MB/s\u001b[0m eta \u001b[36m0:00:00\u001b[0m00:01\u001b[0m00:01\u001b[0m\n",
      "\u001b[?25hCollecting dill<0.3.8,>=0.3.0 (from datasets)\n",
      "  Downloading dill-0.3.7-py3-none-any.whl (115 kB)\n",
      "\u001b[2K     \u001b[90m━━━━━━━━━━━━━━━━━━━━━━━━━━━━━━━━━━━━━━\u001b[0m \u001b[32m115.3/115.3 kB\u001b[0m \u001b[31m20.0 MB/s\u001b[0m eta \u001b[36m0:00:00\u001b[0m\n",
      "\u001b[?25hRequirement already satisfied: pandas in /home/mark/.local/share/virtualenvs/QualAbstracts-R4Ruw4b-/lib/python3.9/site-packages (from datasets) (2.0.3)\n",
      "Collecting xxhash (from datasets)\n",
      "  Downloading xxhash-3.2.0-cp39-cp39-manylinux_2_17_x86_64.manylinux2014_x86_64.whl (212 kB)\n",
      "\u001b[2K     \u001b[90m━━━━━━━━━━━━━━━━━━━━━━━━━━━━━━━━━━━━━━\u001b[0m \u001b[32m212.2/212.2 kB\u001b[0m \u001b[31m18.6 MB/s\u001b[0m eta \u001b[36m0:00:00\u001b[0m\n",
      "\u001b[?25hCollecting multiprocess (from datasets)\n",
      "  Downloading multiprocess-0.70.15-py39-none-any.whl (133 kB)\n",
      "\u001b[2K     \u001b[90m━━━━━━━━━━━━━━━━━━━━━━━━━━━━━━━━━━━━━━\u001b[0m \u001b[32m133.3/133.3 kB\u001b[0m \u001b[31m22.4 MB/s\u001b[0m eta \u001b[36m0:00:00\u001b[0m\n",
      "\u001b[?25hCollecting fsspec[http]>=2021.11.1 (from datasets)\n",
      "  Downloading fsspec-2023.6.0-py3-none-any.whl (163 kB)\n",
      "\u001b[2K     \u001b[90m━━━━━━━━━━━━━━━━━━━━━━━━━━━━━━━━━━━━━━\u001b[0m \u001b[32m163.8/163.8 kB\u001b[0m \u001b[31m15.7 MB/s\u001b[0m eta \u001b[36m0:00:00\u001b[0m\n",
      "\u001b[?25hCollecting aiohttp (from datasets)\n",
      "  Downloading aiohttp-3.8.5-cp39-cp39-manylinux_2_17_x86_64.manylinux2014_x86_64.whl (1.1 MB)\n",
      "\u001b[2K     \u001b[90m━━━━━━━━━━━━━━━━━━━━━━━━━━━━━━━━━━━━━━━━\u001b[0m \u001b[32m1.1/1.1 MB\u001b[0m \u001b[31m20.1 MB/s\u001b[0m eta \u001b[36m0:00:00\u001b[0ma \u001b[36m0:00:01\u001b[0m\n",
      "\u001b[?25hCollecting responses<0.19 (from evaluate)\n",
      "  Downloading responses-0.18.0-py3-none-any.whl (38 kB)\n",
      "Collecting absl-py (from rouge_score)\n",
      "  Downloading absl_py-1.4.0-py3-none-any.whl (126 kB)\n",
      "\u001b[2K     \u001b[90m━━━━━━━━━━━━━━━━━━━━━━━━━━━━━━━━━━━━━━\u001b[0m \u001b[32m126.5/126.5 kB\u001b[0m \u001b[31m16.9 MB/s\u001b[0m eta \u001b[36m0:00:00\u001b[0m\n",
      "\u001b[?25hCollecting nltk (from rouge_score)\n",
      "  Downloading nltk-3.8.1-py3-none-any.whl (1.5 MB)\n",
      "\u001b[2K     \u001b[90m━━━━━━━━━━━━━━━━━━━━━━━━━━━━━━━━━━━━━━━━\u001b[0m \u001b[32m1.5/1.5 MB\u001b[0m \u001b[31m21.5 MB/s\u001b[0m eta \u001b[36m0:00:00\u001b[0m00:01\u001b[0m00:01\u001b[0m\n",
      "\u001b[?25hRequirement already satisfied: six>=1.14.0 in /home/mark/.local/share/virtualenvs/QualAbstracts-R4Ruw4b-/lib/python3.9/site-packages (from rouge_score) (1.16.0)\n",
      "Requirement already satisfied: attrs>=17.3.0 in /home/mark/.local/share/virtualenvs/QualAbstracts-R4Ruw4b-/lib/python3.9/site-packages (from aiohttp->datasets) (23.1.0)\n",
      "Requirement already satisfied: charset-normalizer<4.0,>=2.0 in /home/mark/.local/share/virtualenvs/QualAbstracts-R4Ruw4b-/lib/python3.9/site-packages (from aiohttp->datasets) (3.2.0)\n",
      "Collecting multidict<7.0,>=4.5 (from aiohttp->datasets)\n",
      "  Downloading multidict-6.0.4-cp39-cp39-manylinux_2_17_x86_64.manylinux2014_x86_64.whl (114 kB)\n",
      "\u001b[2K     \u001b[90m━━━━━━━━━━━━━━━━━━━━━━━━━━━━━━━━━━━━━━━\u001b[0m \u001b[32m114.2/114.2 kB\u001b[0m \u001b[31m5.1 MB/s\u001b[0m eta \u001b[36m0:00:00\u001b[0m\n",
      "\u001b[?25hCollecting async-timeout<5.0,>=4.0.0a3 (from aiohttp->datasets)\n",
      "  Downloading async_timeout-4.0.2-py3-none-any.whl (5.8 kB)\n",
      "Collecting yarl<2.0,>=1.0 (from aiohttp->datasets)\n",
      "  Downloading yarl-1.9.2-cp39-cp39-manylinux_2_17_x86_64.manylinux2014_x86_64.whl (269 kB)\n",
      "\u001b[2K     \u001b[90m━━━━━━━━━━━━━━━━━━━━━━━━━━━━━━━━━━━━━━\u001b[0m \u001b[32m269.4/269.4 kB\u001b[0m \u001b[31m21.8 MB/s\u001b[0m eta \u001b[36m0:00:00\u001b[0m\n",
      "\u001b[?25hCollecting frozenlist>=1.1.1 (from aiohttp->datasets)\n",
      "  Downloading frozenlist-1.4.0-cp39-cp39-manylinux_2_5_x86_64.manylinux1_x86_64.manylinux_2_17_x86_64.manylinux2014_x86_64.whl (228 kB)\n",
      "\u001b[2K     \u001b[90m━━━━━━━━━━━━━━━━━━━━━━━━━━━━━━━━━━━━━━\u001b[0m \u001b[32m228.0/228.0 kB\u001b[0m \u001b[31m18.5 MB/s\u001b[0m eta \u001b[36m0:00:00\u001b[0m\n",
      "\u001b[?25hCollecting aiosignal>=1.1.2 (from aiohttp->datasets)\n",
      "  Downloading aiosignal-1.3.1-py3-none-any.whl (7.6 kB)\n",
      "Requirement already satisfied: typing-extensions>=3.7.4.3 in /home/mark/.local/share/virtualenvs/QualAbstracts-R4Ruw4b-/lib/python3.9/site-packages (from huggingface-hub<1.0,>=0.14.1->transformers) (4.7.1)\n",
      "Requirement already satisfied: idna<4,>=2.5 in /home/mark/.local/share/virtualenvs/QualAbstracts-R4Ruw4b-/lib/python3.9/site-packages (from requests->transformers) (3.4)\n",
      "Requirement already satisfied: urllib3<3,>=1.21.1 in /home/mark/.local/share/virtualenvs/QualAbstracts-R4Ruw4b-/lib/python3.9/site-packages (from requests->transformers) (2.0.4)\n",
      "Requirement already satisfied: certifi>=2017.4.17 in /home/mark/.local/share/virtualenvs/QualAbstracts-R4Ruw4b-/lib/python3.9/site-packages (from requests->transformers) (2023.7.22)\n",
      "Collecting click (from nltk->rouge_score)\n",
      "  Downloading click-8.1.6-py3-none-any.whl (97 kB)\n",
      "\u001b[2K     \u001b[90m━━━━━━━━━━━━━━━━━━━━━━━━━━━━━━━━━━━━━━━━\u001b[0m \u001b[32m97.9/97.9 kB\u001b[0m \u001b[31m15.2 MB/s\u001b[0m eta \u001b[36m0:00:00\u001b[0m\n",
      "\u001b[?25hCollecting joblib (from nltk->rouge_score)\n",
      "  Downloading joblib-1.3.1-py3-none-any.whl (301 kB)\n",
      "\u001b[2K     \u001b[90m━━━━━━━━━━━━━━━━━━━━━━━━━━━━━━━━━━━━━━\u001b[0m \u001b[32m302.0/302.0 kB\u001b[0m \u001b[31m37.7 MB/s\u001b[0m eta \u001b[36m0:00:00\u001b[0m\n",
      "\u001b[?25hRequirement already satisfied: python-dateutil>=2.8.2 in /home/mark/.local/share/virtualenvs/QualAbstracts-R4Ruw4b-/lib/python3.9/site-packages (from pandas->datasets) (2.8.2)\n",
      "Requirement already satisfied: pytz>=2020.1 in /home/mark/.local/share/virtualenvs/QualAbstracts-R4Ruw4b-/lib/python3.9/site-packages (from pandas->datasets) (2023.3)\n",
      "Requirement already satisfied: tzdata>=2022.1 in /home/mark/.local/share/virtualenvs/QualAbstracts-R4Ruw4b-/lib/python3.9/site-packages (from pandas->datasets) (2023.3)\n",
      "Building wheels for collected packages: rouge_score\n",
      "  Building wheel for rouge_score (setup.py) ... \u001b[?25ldone\n",
      "\u001b[?25h  Created wheel for rouge_score: filename=rouge_score-0.1.2-py3-none-any.whl size=24934 sha256=0e70744b6a7e5a4971721573c978bd258891aa4e8fa2173cf286213dc494fd15\n",
      "  Stored in directory: /home/mark/.cache/pip/wheels/9b/3d/39/09558097d3119ca0a4d462df68f22c6f3c1b345ac63a09b86e\n",
      "Successfully built rouge_score\n",
      "Installing collected packages: tokenizers, safetensors, xxhash, tqdm, regex, pyarrow, multidict, joblib, fsspec, frozenlist, filelock, dill, click, async-timeout, absl-py, yarl, responses, nltk, multiprocess, huggingface-hub, aiosignal, transformers, rouge_score, aiohttp, datasets, evaluate\n",
      "Successfully installed absl-py-1.4.0 aiohttp-3.8.5 aiosignal-1.3.1 async-timeout-4.0.2 click-8.1.6 datasets-2.14.1 dill-0.3.7 evaluate-0.4.0 filelock-3.12.2 frozenlist-1.4.0 fsspec-2023.6.0 huggingface-hub-0.16.4 joblib-1.3.1 multidict-6.0.4 multiprocess-0.70.15 nltk-3.8.1 pyarrow-12.0.1 regex-2023.6.3 responses-0.18.0 rouge_score-0.1.2 safetensors-0.3.1 tokenizers-0.13.3 tqdm-4.65.0 transformers-4.31.0 xxhash-3.2.0 yarl-1.9.2\n",
      "\n",
      "\u001b[1m[\u001b[0m\u001b[34;49mnotice\u001b[0m\u001b[1;39;49m]\u001b[0m\u001b[39;49m A new release of pip is available: \u001b[0m\u001b[31;49m23.1.2\u001b[0m\u001b[39;49m -> \u001b[0m\u001b[32;49m23.2.1\u001b[0m\n",
      "\u001b[1m[\u001b[0m\u001b[34;49mnotice\u001b[0m\u001b[1;39;49m]\u001b[0m\u001b[39;49m To update, run: \u001b[0m\u001b[32;49mpip install --upgrade pip\u001b[0m\n"
     ]
    }
   ],
   "source": [
    "! pip install transformers datasets evaluate rouge_score"
   ]
  },
  {
   "cell_type": "code",
   "execution_count": 1,
   "metadata": {},
   "outputs": [
    {
     "name": "stderr",
     "output_type": "stream",
     "text": [
      "2023-07-28 12:02:12.141392: I tensorflow/core/util/port.cc:110] oneDNN custom operations are on. You may see slightly different numerical results due to floating-point round-off errors from different computation orders. To turn them off, set the environment variable `TF_ENABLE_ONEDNN_OPTS=0`.\n",
      "2023-07-28 12:02:12.148999: I tensorflow/tsl/cuda/cudart_stub.cc:28] Could not find cuda drivers on your machine, GPU will not be used.\n",
      "2023-07-28 12:02:12.259425: I tensorflow/tsl/cuda/cudart_stub.cc:28] Could not find cuda drivers on your machine, GPU will not be used.\n",
      "2023-07-28 12:02:12.261205: I tensorflow/core/platform/cpu_feature_guard.cc:182] This TensorFlow binary is optimized to use available CPU instructions in performance-critical operations.\n",
      "To enable the following instructions: AVX2 AVX512F AVX512_VNNI FMA, in other operations, rebuild TensorFlow with the appropriate compiler flags.\n",
      "2023-07-28 12:02:13.095440: W tensorflow/compiler/tf2tensorrt/utils/py_utils.cc:38] TF-TRT Warning: Could not find TensorRT\n",
      "/home/mark/.local/share/virtualenvs/QualAbstracts-R4Ruw4b-/lib/python3.9/site-packages/tqdm/auto.py:21: TqdmWarning: IProgress not found. Please update jupyter and ipywidgets. See https://ipywidgets.readthedocs.io/en/stable/user_install.html\n",
      "  from .autonotebook import tqdm as notebook_tqdm\n"
     ]
    }
   ],
   "source": [
    "import tensorflow as tf\n",
    "from datasets import load_dataset\n",
    "from transformers import AutoTokenizer, DataCollatorForSeq2Seq, TFAutoModelForSeq2SeqLM, create_optimizer, AdamWeightDecay, pipeline\n",
    "from transformers.keras_callbacks import KerasMetricCallback\n",
    "import evaluate\n",
    "import numpy as np"
   ]
  },
  {
   "cell_type": "markdown",
   "metadata": {},
   "source": [
    "Defining the model to use."
   ]
  },
  {
   "cell_type": "code",
   "execution_count": 2,
   "metadata": {},
   "outputs": [],
   "source": [
    "checkpoint = 'google/flan-t5-small'"
   ]
  },
  {
   "cell_type": "markdown",
   "metadata": {},
   "source": [
    "# Data"
   ]
  },
  {
   "cell_type": "code",
   "execution_count": 3,
   "metadata": {},
   "outputs": [
    {
     "name": "stdout",
     "output_type": "stream",
     "text": [
      "{'text': 'The people of the State of California do enact as follows:\\n\\n\\nSECTION 1.\\nSection 21655.1 is added to the Vehicle Code, to read:\\n21655.1.\\n(a) A person shall not operate a motor vehicle on a portion of a highway that has been designated for the exclusive use of public transit buses, except in compliance with the directions of a peace officer or official traffic control device.\\n(b) This section does not apply to a driver who is required to enter a lane designated for the exclusive use of public transit buses in order to make a right turn or a left turn in a location where there is no left-turn lane for motorists, or who is entering into or exiting from a highway, unless there are signs prohibiting turns across the lane or the lane is delineated by a physical separation, including, but not limited to, a curb, fence, landscaping, or other barrier.\\n(c) A public transit agency, with the agreement of the agency with jurisdiction over the highway, shall place and maintain, or cause to be placed and maintained, signs and other official traffic control devices, as necessary, indicating that a portion of a highway is designated for the exclusive use of public transit buses and to advise motorists of the hours of operation of the lane as an exclusive public transit bus lane.\\nSEC. 2.\\nSection 22500 of the Vehicle Code is amended to read:\\n22500.\\nA person shall not stop, park, or leave standing any vehicle whether attended or unattended, except when necessary to avoid conflict with other traffic or in compliance with the directions of a peace officer or official traffic control device, in any of the following places:\\n(a) Within an intersection, except adjacent to curbs as may be permitted by local ordinance.\\n(b) On a crosswalk, except that a bus engaged as a common carrier or a taxicab may stop in an unmarked crosswalk to load or unload passengers when authorized by the legislative body of a city pursuant to an ordinance.\\n(c) Between a safety zone and the adjacent right-hand curb or within the area between the zone and the curb as may be indicated by a sign or red paint on the curb, which sign or paint was erected or placed by local authorities pursuant to an ordinance.\\n(d) Within 15 feet of the driveway entrance to a fire station. This subdivision does not apply to any vehicle owned or operated by a fire department and clearly marked as a fire department vehicle.\\n(e) (1) In front of a public or private driveway, except that a bus engaged as a common carrier, schoolbus, or a taxicab may stop to load or unload passengers when authorized by local authorities pursuant to an ordinance.\\n(2) In unincorporated territory, where the entrance of a private road or driveway is not delineated by an opening in a curb or by other curb construction, so much of the surface of the ground as is paved, surfaced, or otherwise plainly marked by vehicle use as a private road or driveway entrance, shall constitute a driveway.\\n(f) On a portion of a sidewalk, or with the body of the vehicle extending over a portion of a sidewalk, except electric carts when authorized by local ordinance, as specified in Section 21114.5. Lights, mirrors, or devices that are required to be mounted upon a vehicle under this code may extend from the body of the vehicle over the sidewalk to a distance of not more than 10 inches.\\n(g) Alongside or opposite a street or highway excavation or obstruction when stopping, standing, or parking would obstruct traffic.\\n(h) On the roadway side of a vehicle stopped, parked, or standing at the curb or edge of a highway, except for a schoolbus when stopped to load or unload pupils in a business or residence district where the speed limit is 25 miles per hour or less.\\n(i) Except as provided under Section 22500.5, alongside curb space authorized for the loading and unloading of passengers of a bus engaged as a common carrier in local transportation when indicated by a sign or red paint on the curb erected or painted by local authorities pursuant to an ordinance.\\n(j) In a tube or tunnel, except vehicles of the authorities in charge, being used in the repair, maintenance, or inspection of the facility.\\n(k) Upon a bridge, except vehicles of the authorities in charge, being used in the repair, maintenance, or inspection of the facility, and except that buses engaged as a common carrier in local transportation may stop to load or unload passengers upon a bridge where sidewalks are provided, when authorized by local authorities pursuant to an ordinance, and except that local authorities pursuant to an ordinance or the Department of Transportation pursuant to an order, within their respective jurisdictions, may permit parking on bridges having sidewalks and shoulders of sufficient width to permit parking without interfering with the normal movement of traffic on the roadway. Local authorities, by ordinance or resolution, may permit parking on these bridges on state highways in their respective jurisdictions if the ordinance or resolution is first approved in writing by the Department of Transportation. Parking shall not be permitted unless there are signs in place, as may be necessary, to indicate the provisions of local ordinances or the order of the Department of Transportation.\\n(l) In front of or upon that portion of a curb that has been cut down, lowered, or constructed to provide wheelchair accessibility to the sidewalk.\\n(m) In a portion of a highway that has been designated for the exclusive use of public transit buses.\\nSEC. 3.\\nNo reimbursement is required by this act pursuant to Section 6 of Article XIII\\u2009B of the California Constitution because the only costs that may be incurred by a local agency or school district will be incurred because this act creates a new crime or infraction, eliminates a crime or infraction, or changes the penalty for a crime or infraction, within the meaning of Section 17556 of the Government Code, or changes the definition of a crime within the meaning of Section 6 of Article XIII\\u2009B of the California Constitution.', 'summary': 'Existing law makes it unlawful for a person to stop or park a motor vehicle in specified places, including an area designated as a fire lane by the fire department or fire district, as specified. A violation of these provisions is an infraction.\\nThis bill would prohibit a person from operating a motor vehicle, or stopping, parking, or leaving a vehicle standing, on a portion of the highway designated for the exclusive use of public transit buses, subject to specified exceptions. Because a violation of these provisions would be a crime, this bill would impose a state-mandated local program. The bill would also require a public transit agency to place and maintain signs and traffic control devices indicating that a portion of a highway is designated for the exclusive use of public transit buses, as specified.\\nThe California Constitution requires the state to reimburse local agencies and school districts for certain costs mandated by the state. Statutory provisions establish procedures for making that reimbursement.\\nThis bill would provide that no reimbursement is required by this act for a specified reason.', 'title': 'An act to amend Section 22500 of, and to add Section 21655.1 to, the Vehicle Code, relating to vehicles.'}\n",
      "['Existing law makes it unlawful for a person to stop or park a motor vehicle in specified places, including an area designated as a fire lane by the fire department or fire district, as specified. A violation of these provisions is an infraction.\\nThis bill would prohibit a person from operating a motor vehicle, or stopping, parking, or leaving a vehicle standing, on a portion of the highway designated for the exclusive use of public transit buses, subject to specified exceptions. Because a violation of these provisions would be a crime, this bill would impose a state-mandated local program. The bill would also require a public transit agency to place and maintain signs and traffic control devices indicating that a portion of a highway is designated for the exclusive use of public transit buses, as specified.\\nThe California Constitution requires the state to reimburse local agencies and school districts for certain costs mandated by the state. Statutory provisions establish procedures for making that reimbursement.\\nThis bill would provide that no reimbursement is required by this act for a specified reason.', '(1)\\xa0Existing law establishes the Aid to Families with Dependent Children-Foster Care (AFDC-FC) program, under which counties provide payments to foster care providers on behalf of qualified children in foster care. Existing law establishes a schedule of basic rates to be paid for the care and supervision of each foster child. Existing law also establishes the Kinship Guardianship Assistance Payment Program (Kin-GAP), which provides aid on behalf of eligible children who are placed in the home of a relative caretaker.\\nExisting law requires, when a child is living with a parent who receives AFDC-FC or Kin-GAP benefits, that the rate paid to the foster care provider on behalf of the parent include an additional amount, known as an infant supplement, for the care and supervision of the child.\\nThis bill would make a pregnant minor or nonminor dependent eligible for the infant supplement for a specified period before the expected date of birth, subject to a verification of pregnancy, as specified. Because counties would administer these extended benefits, this bill would impose a state-mandated local program.\\n(2)\\xa0This bill would incorporate changes to Section 11465 of the Welfare and Institutions Code proposed by both this bill and AB 1997, which would become operative only if both bills are enacted and become effective on or before January 1, 2017, and this bill is chaptered last.\\n(3)\\xa0The California Constitution requires the state to reimburse local agencies and school districts for certain costs mandated by the state. Statutory provisions establish procedures for making that reimbursement.\\nThis bill would provide that no reimbursement is required by this act for a specified reason.', 'Existing law requires all voting to be by ballot and requires each polling place to provide, at each election at which public officers are to be voted for, but one form of ballot for all candidates for public office, except for partisan primary elections, as specified. Existing law specifies the order of precedence of offices on the ballot and authorizes a county elections official to vary the order for certain offices and measures submitted to the voters, in order to allow for the most efficient use of space on the ballot in counties that use a voting system, as defined. Existing law requires state measures to always precede local measures.\\nThis bill, for the November 8, 2016, statewide general election only, would authorize a county board of supervisors to direct the county elections official to place a local measure related to\\na\\nlocal transportation\\ntax\\nfinance\\nabove state measures.\\nThis bill would declare that it is to take effect immediately as an urgency statute.', 'Existing law requires the Department of Human Resources to administer the Limited Examination and Appointment Program (LEAP) to provide an alternative to the traditional civil service examination and appointment process to facilitate the hiring of persons with disabilities in the state civil services. Existing law requires the department to conduct competitive examinations to determine eligibility for appointment under LEAP and to refer the names of eligible applicants who meet the minimum qualifications of a job classification to the appointing powers for examination appointments, as specified.\\nThis bill would permit a person with a developmental disability to either complete a written examination or readiness evaluation or an internship, as specified, to qualify for service under LEAP. The bill would require that the use of an internship as a competitive examination in this context consist of a successful completion of an internship with a state agency of not less than 512 hours in duration and a specified certification by the agency. The bill would require the department to refer the names of eligible applicants who successfully complete the internship to the appointing powers for examination appointments. The bill would require the department to create that internship program in coordination with the State Department of Developmental Services and the Department of Rehabilitation, as specified. The bill would require a state agency that provides the internship or appoints a person with a developmental disability to a position under LEAP to allow that person to receive on-the-job support. The bill would authorize an agency to finance the internship or position with personnel funds or other available funds assigned to a vacant or unfilled position, as specified, but would provide that on-the-job support services are not the financial or programmatic responsibility of any state agency engaged in establishing the LEAP internship process. The bill would specify that LEAP is not a mandate on any state agency employer or job applicant except to the extent specifically directed by the State Personnel Board. The bill would repeal these provisions on January 1, 2021.', 'Existing law subjects an employer who is, or wishes to become, a contractor with the state for public works, or for goods or services, to various nondiscrimination requirements. Existing law authorizes requiring an employer to submit a nondiscrimination program to the Department of Fair Employment and Housing for approval and certification, prior to becoming a contractor or subcontractor with the state, as well as requiring the provision of periodic reports of contractor or subcontractor compliance with that program.\\nThis bill would enact the Equal Pay for Equal Work Act of 2015. The bill would require an employer with 100 or more employees in state, as specified, and a contract of 30 days or more, prior to becoming a contractor or subcontractor with the state, to submit a nondiscrimination program to the Department of Fair Employment and Housing and to submit periodic reports no more than annually of its compliance with that program. The bill would authorize the department to require approval and certification of the program. The bill would permit the department to require an employer with fewer than 100 employees in state or a contract of less than 30 days to submit a nondiscrimination report. The bill would require the department to define an employee for these purposes. The bill would require the nondiscrimination program to include policies and procedures designed to ensure equal employment opportunities for all applicants and employees, an analysis of employment selection procedures, and a workforce analysis, as specified. The bill would specify that its provisions are not to be construed to negate certain exemptions established by regulation that predate its enactment or to require the department to reevaluate the validity of these exemptions, as specified. The bill would make a statement of legislative findings.']\n"
     ]
    }
   ],
   "source": [
    "billsum = load_dataset('billsum', split='ca_test').train_test_split(test_size=0.2)\n",
    "\n",
    "# HF data objects can be indexed EITHER by obs or key: the former returns a dict, the latter a list\n",
    "print(billsum['train'][0])\n",
    "print(billsum['train']['summary'][:5])"
   ]
  },
  {
   "cell_type": "code",
   "execution_count": 4,
   "metadata": {},
   "outputs": [],
   "source": [
    "tokenizer = AutoTokenizer.from_pretrained(checkpoint)"
   ]
  },
  {
   "cell_type": "code",
   "execution_count": 5,
   "metadata": {},
   "outputs": [],
   "source": [
    "def preprocess_function(data):\n",
    "    prefix = \"summarize: \"\n",
    "    inputs = [prefix + text for text in data['text']]\n",
    "    model_inputs = tokenizer(inputs, max_length=1024, truncation=True)\n",
    "    \n",
    "    labels = tokenizer(text_target=data['summary'], max_length=128, truncation=True)\n",
    "    model_inputs['labels'] = labels['input_ids']\n",
    "    return model_inputs"
   ]
  },
  {
   "cell_type": "code",
   "execution_count": 6,
   "metadata": {},
   "outputs": [
    {
     "name": "stderr",
     "output_type": "stream",
     "text": [
      "Map: 100%|██████████| 989/989 [00:02<00:00, 454.33 examples/s]\n",
      "Map: 100%|██████████| 248/248 [00:00<00:00, 449.39 examples/s]\n"
     ]
    }
   ],
   "source": [
    "tokenized_billsum = billsum.map(preprocess_function, batched=True)\n",
    "data_collator = DataCollatorForSeq2Seq(\n",
    "    tokenizer=tokenizer,\n",
    "    model=checkpoint,\n",
    "    return_tensors='tf'\n",
    ")"
   ]
  },
  {
   "cell_type": "markdown",
   "metadata": {},
   "source": [
    "# Defining Model and Metrics"
   ]
  },
  {
   "cell_type": "code",
   "execution_count": 7,
   "metadata": {},
   "outputs": [],
   "source": [
    "rouge = evaluate.load('rouge')\n",
    "def compute_metrics(eval_pred, evalutor=rouge, tokenizer=tokenizer):\n",
    "    predictions, labels = eval_pred\n",
    "    decoded_preds = tokenizer.batch_decode(predictions, skip_special_tokens=True)\n",
    "    prediction_lens = [np.count_nonzero(pred != tokenizer.pad_token_id) for pred in predictions]\n",
    "    \n",
    "    labels = np.where(labels != -100, labels, tokenizer.pad_token_id) # not sure what this is doing\n",
    "    decoded_labels = tokenizer.batch_decode(labels, skip_special_tokens=True)\n",
    "\n",
    "    result = evalutor.compute(\n",
    "        predictions=decoded_preds,\n",
    "        references=decoded_labels,\n",
    "        use_stemmer=True\n",
    "    )\n",
    "    result[\"gen_len\"] = np.mean(prediction_lens)\n",
    "\n",
    "    return {k: round(v, 4) for k, v in result.items()}\n"
   ]
  },
  {
   "cell_type": "markdown",
   "metadata": {},
   "source": [
    "Note that HF models have built-in loss functions, so one does not need to be specified when compiling."
   ]
  },
  {
   "cell_type": "code",
   "execution_count": 8,
   "metadata": {},
   "outputs": [
    {
     "name": "stderr",
     "output_type": "stream",
     "text": [
      "Downloading (…)lve/main/config.json: 100%|██████████| 1.40k/1.40k [00:00<00:00, 1.99MB/s]\n",
      "Downloading tf_model.h5: 100%|██████████| 440M/440M [00:24<00:00, 18.0MB/s] \n",
      "/home/mark/.local/share/virtualenvs/QualAbstracts-R4Ruw4b-/lib/python3.9/site-packages/keras/src/initializers/initializers.py:120: UserWarning: The initializer RandomNormal is unseeded and being called multiple times, which will return identical values each time (even if the initializer is unseeded). Please update your code to provide a seed to the initializer, or avoid using the same initializer instance more than once.\n",
      "  warnings.warn(\n",
      "All model checkpoint layers were used when initializing TFT5ForConditionalGeneration.\n",
      "\n",
      "All the layers of TFT5ForConditionalGeneration were initialized from the model checkpoint at google/flan-t5-small.\n",
      "If your task is similar to the task the model of the checkpoint was trained on, you can already use TFT5ForConditionalGeneration for predictions without further training.\n",
      "Downloading (…)neration_config.json: 100%|██████████| 147/147 [00:00<00:00, 133kB/s]\n",
      "You're using a T5TokenizerFast tokenizer. Please note that with a fast tokenizer, using the `__call__` method is faster than using a method to encode the text followed by a call to the `pad` method to get a padded encoding.\n"
     ]
    },
    {
     "name": "stdout",
     "output_type": "stream",
     "text": [
      "Epoch 1/3\n"
     ]
    },
    {
     "ename": "",
     "evalue": "",
     "output_type": "error",
     "traceback": [
      "\u001b[1;31mCannot execute code, session has been disposed. Please try restarting the Kernel."
     ]
    },
    {
     "ename": "",
     "evalue": "",
     "output_type": "error",
     "traceback": [
      "\u001b[1;31mThe Kernel crashed while executing code in the the current cell or a previous cell. Please review the code in the cell(s) to identify a possible cause of the failure. Click <a href='https://aka.ms/vscodeJupyterKernelCrash'>here</a> for more info. View Jupyter <a href='command:jupyter.viewOutput'>log</a> for further details."
     ]
    }
   ],
   "source": [
    "optimizer = AdamWeightDecay(learning_rate=2e-5, weight_decay_rate=0.01)\n",
    "model = TFAutoModelForSeq2SeqLM.from_pretrained(checkpoint)\n",
    "model.compile(optimizer=optimizer)\n",
    "\n",
    "train_set = model.prepare_tf_dataset(\n",
    "    tokenized_billsum['train'],\n",
    "    shuffle=True,\n",
    "    batch_size=16,\n",
    "    collate_fn=data_collator\n",
    ")\n",
    "test_set = model.prepare_tf_dataset(\n",
    "    tokenized_billsum['test'],\n",
    "    shuffle=False,\n",
    "    batch_size=16,\n",
    "    collate_fn=data_collator\n",
    ")\n",
    "\n",
    "metric_callback = KerasMetricCallback(metric_fn=compute_metrics, eval_dataset=test_set)\n",
    "\n",
    "model.fit(\n",
    "    x=train_set,\n",
    "    validation_data=test_set,\n",
    "    epochs=3,\n",
    "    callbacks=[metric_callback]\n",
    ")"
   ]
  }
 ],
 "metadata": {
  "kernelspec": {
   "display_name": "QualAbstracts-R4Ruw4b-",
   "language": "python",
   "name": "python3"
  },
  "language_info": {
   "codemirror_mode": {
    "name": "ipython",
    "version": 3
   },
   "file_extension": ".py",
   "mimetype": "text/x-python",
   "name": "python",
   "nbconvert_exporter": "python",
   "pygments_lexer": "ipython3",
   "version": "3.9.16"
  },
  "orig_nbformat": 4
 },
 "nbformat": 4,
 "nbformat_minor": 2
}
