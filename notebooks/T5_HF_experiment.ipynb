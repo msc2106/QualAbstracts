{
 "cells": [
  {
   "cell_type": "markdown",
   "metadata": {},
   "source": [
    "T5 Flan\n",
    "----\n",
    "This notebook follows this guide: https://huggingface.co/docs/transformers/tasks/summarization"
   ]
  },
  {
   "cell_type": "markdown",
   "metadata": {},
   "source": [
    "# Setup"
   ]
  },
  {
   "cell_type": "code",
   "execution_count": 1,
   "metadata": {},
   "outputs": [
    {
     "name": "stdout",
     "output_type": "stream",
     "text": [
      "Collecting transformers\n",
      "  Downloading transformers-4.31.0-py3-none-any.whl (7.4 MB)\n",
      "\u001b[2K     \u001b[90m━━━━━━━━━━━━━━━━━━━━━━━━━━━━━━━━━━━━━━━━\u001b[0m \u001b[32m7.4/7.4 MB\u001b[0m \u001b[31m20.8 MB/s\u001b[0m eta \u001b[36m0:00:00\u001b[0m00:01\u001b[0m00:01\u001b[0m\n",
      "\u001b[?25hCollecting datasets\n",
      "  Downloading datasets-2.14.1-py3-none-any.whl (492 kB)\n",
      "\u001b[2K     \u001b[90m━━━━━━━━━━━━━━━━━━━━━━━━━━━━━━━━━━━━━━\u001b[0m \u001b[32m492.4/492.4 kB\u001b[0m \u001b[31m23.1 MB/s\u001b[0m eta \u001b[36m0:00:00\u001b[0m\n",
      "\u001b[?25hCollecting evaluate\n",
      "  Downloading evaluate-0.4.0-py3-none-any.whl (81 kB)\n",
      "\u001b[2K     \u001b[90m━━━━━━━━━━━━━━━━━━━━━━━━━━━━━━━━━━━━━━━━\u001b[0m \u001b[32m81.4/81.4 kB\u001b[0m \u001b[31m16.6 MB/s\u001b[0m eta \u001b[36m0:00:00\u001b[0m\n",
      "\u001b[?25hCollecting rouge_score\n",
      "  Downloading rouge_score-0.1.2.tar.gz (17 kB)\n",
      "  Preparing metadata (setup.py) ... \u001b[?25ldone\n",
      "\u001b[?25hCollecting filelock (from transformers)\n",
      "  Downloading filelock-3.12.2-py3-none-any.whl (10 kB)\n",
      "Collecting huggingface-hub<1.0,>=0.14.1 (from transformers)\n",
      "  Downloading huggingface_hub-0.16.4-py3-none-any.whl (268 kB)\n",
      "\u001b[2K     \u001b[90m━━━━━━━━━━━━━━━━━━━━━━━━━━━━━━━━━━━━━━\u001b[0m \u001b[32m268.8/268.8 kB\u001b[0m \u001b[31m20.1 MB/s\u001b[0m eta \u001b[36m0:00:00\u001b[0m\n",
      "\u001b[?25hRequirement already satisfied: numpy>=1.17 in /home/mark/.local/share/virtualenvs/QualAbstracts-R4Ruw4b-/lib/python3.9/site-packages (from transformers) (1.25.1)\n",
      "Requirement already satisfied: packaging>=20.0 in /home/mark/.local/share/virtualenvs/QualAbstracts-R4Ruw4b-/lib/python3.9/site-packages (from transformers) (23.1)\n",
      "Requirement already satisfied: pyyaml>=5.1 in /home/mark/.local/share/virtualenvs/QualAbstracts-R4Ruw4b-/lib/python3.9/site-packages (from transformers) (6.0.1)\n",
      "Collecting regex!=2019.12.17 (from transformers)\n",
      "  Downloading regex-2023.6.3-cp39-cp39-manylinux_2_17_x86_64.manylinux2014_x86_64.whl (769 kB)\n",
      "\u001b[2K     \u001b[90m━━━━━━━━━━━━━━━━━━━━━━━━━━━━━━━━━━━━━━\u001b[0m \u001b[32m769.9/769.9 kB\u001b[0m \u001b[31m21.4 MB/s\u001b[0m eta \u001b[36m0:00:00\u001b[0m00:01\u001b[0m\n",
      "\u001b[?25hRequirement already satisfied: requests in /home/mark/.local/share/virtualenvs/QualAbstracts-R4Ruw4b-/lib/python3.9/site-packages (from transformers) (2.31.0)\n",
      "Collecting tokenizers!=0.11.3,<0.14,>=0.11.1 (from transformers)\n",
      "  Downloading tokenizers-0.13.3-cp39-cp39-manylinux_2_17_x86_64.manylinux2014_x86_64.whl (7.8 MB)\n",
      "\u001b[2K     \u001b[90m━━━━━━━━━━━━━━━━━━━━━━━━━━━━━━━━━━━━━━━━\u001b[0m \u001b[32m7.8/7.8 MB\u001b[0m \u001b[31m21.5 MB/s\u001b[0m eta \u001b[36m0:00:00\u001b[0m00:01\u001b[0m00:01\u001b[0m\n",
      "\u001b[?25hCollecting safetensors>=0.3.1 (from transformers)\n",
      "  Downloading safetensors-0.3.1-cp39-cp39-manylinux_2_17_x86_64.manylinux2014_x86_64.whl (1.3 MB)\n",
      "\u001b[2K     \u001b[90m━━━━━━━━━━━━━━━━━━━━━━━━━━━━━━━━━━━━━━━━\u001b[0m \u001b[32m1.3/1.3 MB\u001b[0m \u001b[31m22.1 MB/s\u001b[0m eta \u001b[36m0:00:00\u001b[0ma \u001b[36m0:00:01\u001b[0m\n",
      "\u001b[?25hCollecting tqdm>=4.27 (from transformers)\n",
      "  Downloading tqdm-4.65.0-py3-none-any.whl (77 kB)\n",
      "\u001b[2K     \u001b[90m━━━━━━━━━━━━━━━━━━━━━━━━━━━━━━━━━━━━━━━━\u001b[0m \u001b[32m77.1/77.1 kB\u001b[0m \u001b[31m16.0 MB/s\u001b[0m eta \u001b[36m0:00:00\u001b[0m\n",
      "\u001b[?25hCollecting pyarrow>=8.0.0 (from datasets)\n",
      "  Downloading pyarrow-12.0.1-cp39-cp39-manylinux_2_17_x86_64.manylinux2014_x86_64.whl (39.0 MB)\n",
      "\u001b[2K     \u001b[90m━━━━━━━━━━━━━━━━━━━━━━━━━━━━━━━━━━━━━━━━\u001b[0m \u001b[32m39.0/39.0 MB\u001b[0m \u001b[31m19.8 MB/s\u001b[0m eta \u001b[36m0:00:00\u001b[0m00:01\u001b[0m00:01\u001b[0m\n",
      "\u001b[?25hCollecting dill<0.3.8,>=0.3.0 (from datasets)\n",
      "  Downloading dill-0.3.7-py3-none-any.whl (115 kB)\n",
      "\u001b[2K     \u001b[90m━━━━━━━━━━━━━━━━━━━━━━━━━━━━━━━━━━━━━━\u001b[0m \u001b[32m115.3/115.3 kB\u001b[0m \u001b[31m20.0 MB/s\u001b[0m eta \u001b[36m0:00:00\u001b[0m\n",
      "\u001b[?25hRequirement already satisfied: pandas in /home/mark/.local/share/virtualenvs/QualAbstracts-R4Ruw4b-/lib/python3.9/site-packages (from datasets) (2.0.3)\n",
      "Collecting xxhash (from datasets)\n",
      "  Downloading xxhash-3.2.0-cp39-cp39-manylinux_2_17_x86_64.manylinux2014_x86_64.whl (212 kB)\n",
      "\u001b[2K     \u001b[90m━━━━━━━━━━━━━━━━━━━━━━━━━━━━━━━━━━━━━━\u001b[0m \u001b[32m212.2/212.2 kB\u001b[0m \u001b[31m18.6 MB/s\u001b[0m eta \u001b[36m0:00:00\u001b[0m\n",
      "\u001b[?25hCollecting multiprocess (from datasets)\n",
      "  Downloading multiprocess-0.70.15-py39-none-any.whl (133 kB)\n",
      "\u001b[2K     \u001b[90m━━━━━━━━━━━━━━━━━━━━━━━━━━━━━━━━━━━━━━\u001b[0m \u001b[32m133.3/133.3 kB\u001b[0m \u001b[31m22.4 MB/s\u001b[0m eta \u001b[36m0:00:00\u001b[0m\n",
      "\u001b[?25hCollecting fsspec[http]>=2021.11.1 (from datasets)\n",
      "  Downloading fsspec-2023.6.0-py3-none-any.whl (163 kB)\n",
      "\u001b[2K     \u001b[90m━━━━━━━━━━━━━━━━━━━━━━━━━━━━━━━━━━━━━━\u001b[0m \u001b[32m163.8/163.8 kB\u001b[0m \u001b[31m15.7 MB/s\u001b[0m eta \u001b[36m0:00:00\u001b[0m\n",
      "\u001b[?25hCollecting aiohttp (from datasets)\n",
      "  Downloading aiohttp-3.8.5-cp39-cp39-manylinux_2_17_x86_64.manylinux2014_x86_64.whl (1.1 MB)\n",
      "\u001b[2K     \u001b[90m━━━━━━━━━━━━━━━━━━━━━━━━━━━━━━━━━━━━━━━━\u001b[0m \u001b[32m1.1/1.1 MB\u001b[0m \u001b[31m20.1 MB/s\u001b[0m eta \u001b[36m0:00:00\u001b[0ma \u001b[36m0:00:01\u001b[0m\n",
      "\u001b[?25hCollecting responses<0.19 (from evaluate)\n",
      "  Downloading responses-0.18.0-py3-none-any.whl (38 kB)\n",
      "Collecting absl-py (from rouge_score)\n",
      "  Downloading absl_py-1.4.0-py3-none-any.whl (126 kB)\n",
      "\u001b[2K     \u001b[90m━━━━━━━━━━━━━━━━━━━━━━━━━━━━━━━━━━━━━━\u001b[0m \u001b[32m126.5/126.5 kB\u001b[0m \u001b[31m16.9 MB/s\u001b[0m eta \u001b[36m0:00:00\u001b[0m\n",
      "\u001b[?25hCollecting nltk (from rouge_score)\n",
      "  Downloading nltk-3.8.1-py3-none-any.whl (1.5 MB)\n",
      "\u001b[2K     \u001b[90m━━━━━━━━━━━━━━━━━━━━━━━━━━━━━━━━━━━━━━━━\u001b[0m \u001b[32m1.5/1.5 MB\u001b[0m \u001b[31m21.5 MB/s\u001b[0m eta \u001b[36m0:00:00\u001b[0m00:01\u001b[0m00:01\u001b[0m\n",
      "\u001b[?25hRequirement already satisfied: six>=1.14.0 in /home/mark/.local/share/virtualenvs/QualAbstracts-R4Ruw4b-/lib/python3.9/site-packages (from rouge_score) (1.16.0)\n",
      "Requirement already satisfied: attrs>=17.3.0 in /home/mark/.local/share/virtualenvs/QualAbstracts-R4Ruw4b-/lib/python3.9/site-packages (from aiohttp->datasets) (23.1.0)\n",
      "Requirement already satisfied: charset-normalizer<4.0,>=2.0 in /home/mark/.local/share/virtualenvs/QualAbstracts-R4Ruw4b-/lib/python3.9/site-packages (from aiohttp->datasets) (3.2.0)\n",
      "Collecting multidict<7.0,>=4.5 (from aiohttp->datasets)\n",
      "  Downloading multidict-6.0.4-cp39-cp39-manylinux_2_17_x86_64.manylinux2014_x86_64.whl (114 kB)\n",
      "\u001b[2K     \u001b[90m━━━━━━━━━━━━━━━━━━━━━━━━━━━━━━━━━━━━━━━\u001b[0m \u001b[32m114.2/114.2 kB\u001b[0m \u001b[31m5.1 MB/s\u001b[0m eta \u001b[36m0:00:00\u001b[0m\n",
      "\u001b[?25hCollecting async-timeout<5.0,>=4.0.0a3 (from aiohttp->datasets)\n",
      "  Downloading async_timeout-4.0.2-py3-none-any.whl (5.8 kB)\n",
      "Collecting yarl<2.0,>=1.0 (from aiohttp->datasets)\n",
      "  Downloading yarl-1.9.2-cp39-cp39-manylinux_2_17_x86_64.manylinux2014_x86_64.whl (269 kB)\n",
      "\u001b[2K     \u001b[90m━━━━━━━━━━━━━━━━━━━━━━━━━━━━━━━━━━━━━━\u001b[0m \u001b[32m269.4/269.4 kB\u001b[0m \u001b[31m21.8 MB/s\u001b[0m eta \u001b[36m0:00:00\u001b[0m\n",
      "\u001b[?25hCollecting frozenlist>=1.1.1 (from aiohttp->datasets)\n",
      "  Downloading frozenlist-1.4.0-cp39-cp39-manylinux_2_5_x86_64.manylinux1_x86_64.manylinux_2_17_x86_64.manylinux2014_x86_64.whl (228 kB)\n",
      "\u001b[2K     \u001b[90m━━━━━━━━━━━━━━━━━━━━━━━━━━━━━━━━━━━━━━\u001b[0m \u001b[32m228.0/228.0 kB\u001b[0m \u001b[31m18.5 MB/s\u001b[0m eta \u001b[36m0:00:00\u001b[0m\n",
      "\u001b[?25hCollecting aiosignal>=1.1.2 (from aiohttp->datasets)\n",
      "  Downloading aiosignal-1.3.1-py3-none-any.whl (7.6 kB)\n",
      "Requirement already satisfied: typing-extensions>=3.7.4.3 in /home/mark/.local/share/virtualenvs/QualAbstracts-R4Ruw4b-/lib/python3.9/site-packages (from huggingface-hub<1.0,>=0.14.1->transformers) (4.7.1)\n",
      "Requirement already satisfied: idna<4,>=2.5 in /home/mark/.local/share/virtualenvs/QualAbstracts-R4Ruw4b-/lib/python3.9/site-packages (from requests->transformers) (3.4)\n",
      "Requirement already satisfied: urllib3<3,>=1.21.1 in /home/mark/.local/share/virtualenvs/QualAbstracts-R4Ruw4b-/lib/python3.9/site-packages (from requests->transformers) (2.0.4)\n",
      "Requirement already satisfied: certifi>=2017.4.17 in /home/mark/.local/share/virtualenvs/QualAbstracts-R4Ruw4b-/lib/python3.9/site-packages (from requests->transformers) (2023.7.22)\n",
      "Collecting click (from nltk->rouge_score)\n",
      "  Downloading click-8.1.6-py3-none-any.whl (97 kB)\n",
      "\u001b[2K     \u001b[90m━━━━━━━━━━━━━━━━━━━━━━━━━━━━━━━━━━━━━━━━\u001b[0m \u001b[32m97.9/97.9 kB\u001b[0m \u001b[31m15.2 MB/s\u001b[0m eta \u001b[36m0:00:00\u001b[0m\n",
      "\u001b[?25hCollecting joblib (from nltk->rouge_score)\n",
      "  Downloading joblib-1.3.1-py3-none-any.whl (301 kB)\n",
      "\u001b[2K     \u001b[90m━━━━━━━━━━━━━━━━━━━━━━━━━━━━━━━━━━━━━━\u001b[0m \u001b[32m302.0/302.0 kB\u001b[0m \u001b[31m37.7 MB/s\u001b[0m eta \u001b[36m0:00:00\u001b[0m\n",
      "\u001b[?25hRequirement already satisfied: python-dateutil>=2.8.2 in /home/mark/.local/share/virtualenvs/QualAbstracts-R4Ruw4b-/lib/python3.9/site-packages (from pandas->datasets) (2.8.2)\n",
      "Requirement already satisfied: pytz>=2020.1 in /home/mark/.local/share/virtualenvs/QualAbstracts-R4Ruw4b-/lib/python3.9/site-packages (from pandas->datasets) (2023.3)\n",
      "Requirement already satisfied: tzdata>=2022.1 in /home/mark/.local/share/virtualenvs/QualAbstracts-R4Ruw4b-/lib/python3.9/site-packages (from pandas->datasets) (2023.3)\n",
      "Building wheels for collected packages: rouge_score\n",
      "  Building wheel for rouge_score (setup.py) ... \u001b[?25ldone\n",
      "\u001b[?25h  Created wheel for rouge_score: filename=rouge_score-0.1.2-py3-none-any.whl size=24934 sha256=0e70744b6a7e5a4971721573c978bd258891aa4e8fa2173cf286213dc494fd15\n",
      "  Stored in directory: /home/mark/.cache/pip/wheels/9b/3d/39/09558097d3119ca0a4d462df68f22c6f3c1b345ac63a09b86e\n",
      "Successfully built rouge_score\n",
      "Installing collected packages: tokenizers, safetensors, xxhash, tqdm, regex, pyarrow, multidict, joblib, fsspec, frozenlist, filelock, dill, click, async-timeout, absl-py, yarl, responses, nltk, multiprocess, huggingface-hub, aiosignal, transformers, rouge_score, aiohttp, datasets, evaluate\n",
      "Successfully installed absl-py-1.4.0 aiohttp-3.8.5 aiosignal-1.3.1 async-timeout-4.0.2 click-8.1.6 datasets-2.14.1 dill-0.3.7 evaluate-0.4.0 filelock-3.12.2 frozenlist-1.4.0 fsspec-2023.6.0 huggingface-hub-0.16.4 joblib-1.3.1 multidict-6.0.4 multiprocess-0.70.15 nltk-3.8.1 pyarrow-12.0.1 regex-2023.6.3 responses-0.18.0 rouge_score-0.1.2 safetensors-0.3.1 tokenizers-0.13.3 tqdm-4.65.0 transformers-4.31.0 xxhash-3.2.0 yarl-1.9.2\n",
      "\n",
      "\u001b[1m[\u001b[0m\u001b[34;49mnotice\u001b[0m\u001b[1;39;49m]\u001b[0m\u001b[39;49m A new release of pip is available: \u001b[0m\u001b[31;49m23.1.2\u001b[0m\u001b[39;49m -> \u001b[0m\u001b[32;49m23.2.1\u001b[0m\n",
      "\u001b[1m[\u001b[0m\u001b[34;49mnotice\u001b[0m\u001b[1;39;49m]\u001b[0m\u001b[39;49m To update, run: \u001b[0m\u001b[32;49mpip install --upgrade pip\u001b[0m\n"
     ]
    }
   ],
   "source": [
    "! pip install transformers datasets evaluate rouge_score"
   ]
  },
  {
   "cell_type": "code",
   "execution_count": 2,
   "metadata": {},
   "outputs": [],
   "source": [
    "import tensorflow as tf\n",
    "from datasets import load_dataset\n",
    "from transformers import AutoTokenizer, DataCollatorForSeq2Seq, TFAutoModelForSeq2SeqLM, create_optimizer, AdamWeightDecay, pipeline\n",
    "from transformers.keras_callbacks import KerasMetricCallback\n",
    "import evaluate\n",
    "import numpy as np"
   ]
  },
  {
   "cell_type": "markdown",
   "metadata": {},
   "source": [
    "Defining the model to use."
   ]
  },
  {
   "cell_type": "code",
   "execution_count": 3,
   "metadata": {},
   "outputs": [],
   "source": [
    "checkpoint = 'google/flan-t5-small'"
   ]
  },
  {
   "cell_type": "markdown",
   "metadata": {},
   "source": [
    "# Data"
   ]
  },
  {
   "cell_type": "code",
   "execution_count": 4,
   "metadata": {},
   "outputs": [
    {
     "name": "stderr",
     "output_type": "stream",
     "text": [
      "Downloading builder script: 100%|██████████| 3.66k/3.66k [00:00<00:00, 3.87MB/s]\n",
      "Downloading metadata: 100%|██████████| 1.80k/1.80k [00:00<?, ?B/s]\n",
      "Downloading readme: 100%|██████████| 6.70k/6.70k [00:00<?, ?B/s]\n",
      "Downloading data: 100%|██████████| 67.3M/67.3M [00:02<00:00, 22.7MB/s]\n",
      "Generating train split: 100%|██████████| 18949/18949 [00:01<00:00, 15658.03 examples/s]\n",
      "Generating test split: 100%|██████████| 3269/3269 [00:00<00:00, 14886.16 examples/s]\n",
      "Generating ca_test split: 100%|██████████| 1237/1237 [00:00<00:00, 10245.06 examples/s]"
     ]
    },
    {
     "name": "stdout",
     "output_type": "stream",
     "text": [
      "{'text': 'The people of the State of California do enact as follows:\\n\\n\\nSECTION 1.\\nSection 82013 of the Government Code is amended to read:\\n82013.\\n“Committee” means any person or combination of persons who directly or indirectly does any of the following:\\n(a) Receives contributions totaling two thousand dollars ($2,000) or more in a calendar year.\\n(b) Makes independent expenditures totaling one thousand dollars ($1,000) or more in a calendar year; or\\n(c) Makes contributions totaling ten thousand dollars ($10,000) or more in a calendar year to or at the behest of candidates or committees.\\nA person or combination of persons that becomes a committee shall retain its status as a committee until such time as that status is terminated pursuant to Section 84214.\\nSEC. 2.\\nSection 82036 of the Government Code is amended to read:\\n82036.\\n“Late contribution” means any of the following:\\n(a) A contribution, including a loan, that totals in the aggregate one thousand dollars ($1,000) or more and is made to or received by a candidate, a controlled committee, or a committee formed or existing primarily to support or oppose a candidate or measure during the 90-day period preceding the date of the election, or on the date of the election, at which the candidate or measure is to be voted on. For purposes of the Board of Administration of the Public Employees’ Retirement System and the Teachers’ Retirement Board, “the date of the election” is the deadline to return ballots.\\n(b) A contribution, including a loan, that totals in the aggregate one thousand dollars ($1,000) or more and is made to or received by a political party committee, as defined in Section 85205, within 90 days before the date of a state election or on the date of the election.\\nSEC. 3.\\nSection 82036.5 of the Government Code is amended to read:\\n82036.5.\\n“Late independent expenditure” means an independent expenditure that totals in the aggregate one thousand dollars ($1,000) or more and is made for or against a specific candidate or measure involved in an election during the 90-day period preceding the date of the election or on the date of the election. For purposes of the Board of Administration of the Public Employees’ Retirement System and the Teachers’ Retirement Board, “the date of the election” is the deadline to return ballots.\\nSEC. 4.\\nSection 84101 of the Government Code is amended to read:\\n84101.\\n(a) A committee that is a committee by virtue of subdivision (a) of Section 82013 shall file a statement of organization. The committee shall file the original of the statement of organization with the Secretary of State and shall also file a copy of the statement of organization with the local filing officer, if any, with whom the committee is required to file the originals of its campaign reports pursuant to Section 84215. The original and copy of the statement of organization shall be filed within 10 days after the committee has qualified as a committee. The Secretary of State shall assign a number to each committee that files a statement of organization and shall notify the committee of the number. The Secretary of State shall send a copy of statements filed pursuant to this section to the county elections official of each county that he or she deems appropriate. A county elections official who receives a copy of a statement of organization from the Secretary of State pursuant to this section shall send a copy of the statement to the clerk of each city in the county that he or she deems appropriate.\\n(b) In addition to filing the statement of organization as required by subdivision (a), if a committee qualifies as a committee under subdivision (a) of Section 82013 before the date of an election in connection with which the committee is required to file preelection statements, but after the closing date of the last campaign statement required to be filed before the election pursuant to Section 84200.8 or 84200.9, the committee shall file, by facsimile transmission, online transmission, guaranteed overnight delivery, or personal delivery within 24 hours of qualifying as a committee, the information required to be reported in the statement of organization. The information required by this subdivision shall be filed with the filing officer with whom the committee is required to file the originals of its campaign reports pursuant to Section 84215.\\n(c) If an independent expenditure committee qualifies as a committee pursuant to subdivision (a) of Section 82013 during the time period described in Section 82036.5 and makes independent expenditures of one thousand dollars ($1,000) or more to support or oppose a candidate or candidates for office, the committee shall file, by facsimile transmission, online transmission, guaranteed overnight delivery, or personal delivery within 24 hours of qualifying as a committee, the information required to be reported in the statement of organization. The information required by this section shall be filed with the filing officer with whom the committee is required to file the original of its campaign reports pursuant to Section 84215, and shall be filed at all locations required for the candidate or candidates supported or opposed by the independent expenditures. The filings required by this section are in addition to filings that may be required by Section 84204.\\n(d) For purposes of this section, in calculating whether two thousand dollars ($2,000) in contributions has been received, payments for a filing fee or for a statement of qualifications to appear in a sample ballot shall not be included if these payments have been made from the candidate’s personal funds.\\nSEC. 5.\\nSection 84103 of the Government Code is amended to read:\\n84103.\\n(a) If there is a change in any of the information contained in a statement of organization, an amendment shall be filed within 10 days to reflect the change. The committee shall file the original of the amendment with the Secretary of State and shall also file a copy of the amendment with the local filing officer, if any, with whom the committee is required to file the originals of its campaign reports pursuant to Section 84215.\\n(b) In addition to filing an amendment to a statement of organization as required by subdivision (a), a committee as defined in subdivision (a) of Section 82013 shall, by facsimile transmission, online transmission, guaranteed overnight delivery, or personal delivery within 24 hours, notify the filing officer with whom it is required to file the originals of its campaign reports pursuant to Section 84215 if the change requiring the amendment occurs before the date of the election in connection with which the committee is required to file a preelection statement, but after the closing date of the last preelection statement required to be filed for the election pursuant to Section 84200.8, if any of the following information is changed:\\n(1) The name of the committee.\\n(2) The name of the treasurer or other principal officers.\\n(3) The name of any candidate or committee by which the committee is controlled or with which it acts jointly.\\nThe notification shall include the changed information, the date of the change, the name of the person providing the notification, and the committee’s name and identification number.\\nA committee may file a notification online only if the appropriate filing officer is capable of receiving the notification in that manner.\\nSEC. 6.\\nSection 84200.5 of the Government Code is repealed.\\nSEC. 7.\\nSection 84200.5 is added to the Government Code, to read:\\n84200.5.\\nIn addition to the campaign statements required by Section 84200, elected officers, candidates, and committees shall file preelection statements as follows:\\n(a) All candidates appearing on the ballot to be voted on at the next election, their controlled committees, and committees primarily formed to support or oppose an elected officer, candidate, or a measure appearing on the ballot to be voted on at the next election shall file the applicable preelection statements specified in Section 84200.8.\\n(b) All elected state officers and candidates for elective state office who are not appearing on the ballot at the next statewide primary or general election, and who, during the preelection reporting periods covered by Section 84200.8, contribute to any committee required to report receipts, expenditures, or contributions pursuant to this title, or make an independent expenditure of five hundred dollars ($500) or more in connection with the statewide primary or general election, shall file the applicable preelection statements specified in Section 84200.8.\\n(c) A state or county general purpose committee formed pursuant to subdivision (a) of Section 82013, other than a political party committee as defined in Section 85205, shall file the applicable preelection statements specified in Section 84200.8 if it makes contributions or independent expenditures totaling five hundred dollars ($500) or more in connection with the statewide primary or general election during the period covered by the preelection statements. However, a state or county general purpose committee formed pursuant to subdivision (b) or (c) of Section 82013 is not required to file the preelection statements specified in Section 84200.8.\\n(d) A political party committee as defined in Section 85205 shall file the applicable preelection statements specified in Section 84200.8 in connection with a state election if the committee receives contributions totaling one thousand dollars ($1,000) or more, or if it makes contributions or independent expenditures totaling five hundred dollars ($500) or more, in connection with the election during the period covered by the preelection statement.\\n(e) A city general purpose committee formed pursuant to subdivision (a) of Section 82013 shall file the applicable preelection statements specified in Section 84200.8 if it makes contributions or independent expenditures totaling five hundred dollars ($500) or more in connection with a city election in the committee’s jurisdiction during the period covered by the preelection statements. However, a city general purpose committee formed pursuant to subdivision (b) or (c) of Section 82013 is not required to file the preelection statements specified in Section 84200.8.\\n(f) During an election period for the Board of Administration of the Public Employees’ Retirement System or the Teachers’ Retirement Board:\\n(1) All candidates for these boards, their controlled committees, and committees primarily formed to support or oppose the candidates shall file the preelection statements specified in Section 84200.9.\\n(2) A state or county general purpose committee formed pursuant to subdivision (a) of Section 82013 shall file the preelection statements specified in Section 84200.9 if it makes contributions or independent expenditures totaling five hundred dollars ($500) or more during the period covered by the preelection statement to support or oppose a candidate, or a committee primarily formed to support or oppose a candidate on the ballot for the Board of Administration of the Public Employees’ Retirement System or the Teachers’ Retirement Board.\\n(3) However, a general purpose committee formed pursuant to subdivision (b) or (c) of Section 82013 is not required to file the statements specified in Section 84200.9.\\nSEC. 8.\\nSection 84200.6 of the Government Code is amended to read:\\n84200.6.\\nIn addition to the campaign statements required by Sections 84200 and 84200.5, all candidates and committees shall file the following special statements and reports:\\n(a) Late contribution reports, when required by Section 84203.\\n(b) Late independent expenditure reports, when required by Section 84204.\\nSEC. 9.\\nSection 84200.7 of the Government Code is repealed.\\nSEC. 10.\\nSection 84202.5 of the Government Code is repealed.\\nSEC. 11.\\nSection 84203.5 of the Government Code is repealed.\\nSEC. 12.\\nSection 84206 of the Government Code is amended to read:\\n84206.\\n(a) The commission shall provide by regulation for a short form for filing reports required by this article for candidates or officeholders who receive contributions of less than two thousand dollars ($2,000), and who make expenditures of less than two thousand dollars ($2,000), in a calendar year.\\n(b) For the purposes of this section, in calculating whether two thousand dollars ($2,000) in expenditures have been made, payments for a filing fee or for a statement of qualification shall not be included if these payments have been made from the candidate’s personal funds.\\n(c) Every candidate or officeholder who has filed a short form pursuant to subdivision (a), and who thereafter receives contributions or makes expenditures totaling two thousand dollars ($2,000) or more in a calendar year, shall send written notification to the Secretary of State, the local filing officer, and each candidate contending for the same office within 48 hours of receiving or expending a total of two thousand dollars ($2,000). The written notification shall revoke the previously filed short form statement.\\nSEC. 13.\\nSection 84207 of the Government Code is amended to read:\\n84207.\\n(a) An elected member of, or a candidate for election to, a county central committee of a qualified political party who receives contributions of less than two thousand dollars ($2,000) and who makes expenditures of less than two thousand dollars ($2,000) in a calendar year shall not be required to file any campaign statements required by this title.\\n(b) Notwithstanding Sections 81009.5 and 81013, a local government agency shall not impose any filing requirements on an elected member of, or a candidate for election to, a county central committee of a qualified political party who receives contributions of less than two thousand dollars ($2,000) and who makes expenditures of less than two thousand dollars ($2,000) in a calendar year.\\nSEC. 14.\\nSection 84218 of the Government Code is amended to read:\\n84218.\\n(a) A slate mailer organization shall file semiannual campaign statements no later than July 31 for the period ending June 30, and no later than January 31 for the period ending December 31.\\n(b) In addition to the semiannual statements required by subdivision (a), a slate mailer organization which produces a slate mailer supporting or opposing candidates or measures being voted on in an election shall file the statements specified in Section 84200.8 if, during the period covered by the preelection statement, the slate mailer organization receives payments totaling five hundred dollars ($500) or more from any person for the support of or opposition to candidates or ballot measures in one or more slate mailers, or expends five hundred dollars ($500) or more to produce one or more slate mailers.\\n(c) A slate mailer organization shall file two copies of its campaign reports with the clerk of the county in which it is domiciled. A slate mailer organization is domiciled at the address listed on its statement of organization unless it is domiciled outside California, in which case its domicile shall be deemed to be Los Angeles County for purposes of this section.\\nIn addition, slate mailer organizations shall file campaign reports as follows:\\n(1) A slate mailer organization which produces one or more slate mailers supporting or opposing candidates or measures voted on in a state election, or in more than one county, shall file campaign reports in the same manner as state general purpose committees pursuant to subdivision (a) of Section 84215.\\n(2) A slate mailer organization which produces one or more slate mailers supporting or opposing candidates or measures voted on in only one county, or in more than one jurisdiction within one county, shall file campaign reports in the same manner as county general purpose committees pursuant to subdivision (c) of Section 84215.\\n(3) A slate mailer organization which produces one or more slate mailers supporting or opposing candidates or measures voted on in only one city shall file campaign reports in the same manner as city general purpose committees pursuant to subdivision (d) of Section 84215.\\n(4) Notwithstanding the above, no slate mailer organization shall be required to file more than the original and one copy, or two copies, of a campaign report with any one county or city clerk or with the Secretary of State.\\nSEC. 15.\\nSection 85201 of the Government Code is amended to read:\\n85201.\\n(a) Upon the filing of the statement of intention pursuant to Section 85200, the individual shall establish one campaign contribution account at an office of a financial institution located in the state.\\n(b) As required by subdivision (f) of Section 84102, a candidate who raises contributions of two thousand dollars ($2,000) or more in a calendar year shall set forth the name and address of the financial institution where the candidate has established a campaign contribution account and the account number on the committee statement of organization filed pursuant to Sections 84101 and 84103.\\n(c) All contributions or loans made to the candidate, to a person on behalf of the candidate, or to the candidate’s controlled committee shall be deposited in the account.\\n(d) Any personal funds which will be utilized to promote the election of the candidate shall be deposited in the account prior to expenditure.\\n(e) All campaign expenditures shall be made from the account.\\n(f) Subdivisions (d) and (e) do not apply to a candidate’s payment for a filing fee and statement of qualifications from his or her personal funds.\\n(g) This section does not apply to a candidate who will not receive contributions and who makes expenditures from personal funds of less than two thousand dollars ($2,000) in a calendar year to support his or her candidacy. For purposes of this section, a candidate’s payment for a filing fee and statement of qualifications shall not be included in calculating the total expenditures made.\\n(h) An individual who raises contributions from others for his or her campaign, but who raises or spends less than two thousand dollars ($2,000) in a calendar year, and does not qualify as a committee under Section 82013, shall establish a campaign contribution account pursuant to subdivision (a), but is not required to file a committee statement of organization pursuant to Section 84101 or other statement of bank account information.\\nSEC. 16.\\nNo reimbursement is required by this act pursuant to Section 6 of Article XIII\\u2009B of the California Constitution because the only costs that may be incurred by a local agency or school district will be incurred because this act creates a new crime or infraction, eliminates a crime or infraction, or changes the penalty for a crime or infraction, within the meaning of Section 17556 of the Government Code, or changes the definition of a crime within the meaning of Section 6 of Article XIII\\u2009B of the California Constitution.\\nSEC. 17.\\nThe Legislature finds and declares that this bill furthers the purposes of the Political Reform Act of 1974 within the meaning of subdivision (a) of Section 81012 of the Government Code.', 'summary': 'Existing law, the Political Reform Act of 1974, provides for the comprehensive regulation of campaign financing, including requiring the reporting of campaign contributions and expenditures and imposing other reporting and recordkeeping requirements on campaign committees. The act requires elected officers, candidates, and committees to file various reports, including semiannual reports, preelection statements, and supplemental preelection statements.\\nThis bill would recast the requirements for filing preelection statements and would repeal other reporting requirements, including supplemental preelection statements and supplemental independent expenditure reports.\\nThe act defines “committee” to include a person or combination of persons who receives contributions or makes independent expenditures of $1,000 or more in a calendar year. The act defines “late contributions” and “late independent expenditures” for purposes of the act to include certain contributions and independent expenditures, respectively, that are made within 90 days before the date of the election.\\nThis bill would revise the definition of “committee” by increasing the qualifying monetary threshold to $2,000 for contributions received by a person or combination of persons.\\nThis bill would revise the definitions of “late contributions” and “late independent expenditures” to specify that those terms also include contributions and independent expenditures that are made on the date of the election.\\nThe bill would also make conforming changes.\\nA violation of the act’s provisions is punishable as a misdemeanor. By expanding the scope of a crime, this bill would impose a state-mandated local program.\\nThe California Constitution requires the state to reimburse local agencies and school districts for certain costs mandated by the state. Statutory provisions establish procedures for making that reimbursement.\\nThis bill would provide that no reimbursement is required by this act for a specified reason.\\nThe Political Reform Act of 1974, an initiative measure, provides that the Legislature may amend the act to further the act’s purposes upon a\\n2/3\\nvote of each house and compliance with specified procedural requirements.\\nThis bill would declare that it furthers the purposes of the act.', 'title': 'An act to amend Sections 82013, 82036, 82036.5, 84101, 84103, 84200.6, 84206, 84207, 84218, and 85201 of, to repeal Sections 84200.7, 84202.5, and 84203.5 of, and to repeal and add Section 84200.5 of, the Government Code, relating to the Political Reform Act of 1974.'}\n",
      "['Existing law, the Political Reform Act of 1974, provides for the comprehensive regulation of campaign financing, including requiring the reporting of campaign contributions and expenditures and imposing other reporting and recordkeeping requirements on campaign committees. The act requires elected officers, candidates, and committees to file various reports, including semiannual reports, preelection statements, and supplemental preelection statements.\\nThis bill would recast the requirements for filing preelection statements and would repeal other reporting requirements, including supplemental preelection statements and supplemental independent expenditure reports.\\nThe act defines “committee” to include a person or combination of persons who receives contributions or makes independent expenditures of $1,000 or more in a calendar year. The act defines “late contributions” and “late independent expenditures” for purposes of the act to include certain contributions and independent expenditures, respectively, that are made within 90 days before the date of the election.\\nThis bill would revise the definition of “committee” by increasing the qualifying monetary threshold to $2,000 for contributions received by a person or combination of persons.\\nThis bill would revise the definitions of “late contributions” and “late independent expenditures” to specify that those terms also include contributions and independent expenditures that are made on the date of the election.\\nThe bill would also make conforming changes.\\nA violation of the act’s provisions is punishable as a misdemeanor. By expanding the scope of a crime, this bill would impose a state-mandated local program.\\nThe California Constitution requires the state to reimburse local agencies and school districts for certain costs mandated by the state. Statutory provisions establish procedures for making that reimbursement.\\nThis bill would provide that no reimbursement is required by this act for a specified reason.\\nThe Political Reform Act of 1974, an initiative measure, provides that the Legislature may amend the act to further the act’s purposes upon a\\n2/3\\nvote of each house and compliance with specified procedural requirements.\\nThis bill would declare that it furthers the purposes of the act.', 'Existing law authorizes the governing board of a school district to request an emergency apportionment through the Superintendent of Public Instruction if the governing board of a school district determines during a fiscal year that its revenues are less than the amount necessary to meet its current year expenditure obligations. Existing law provides that if a school district accepts an emergency apportionment that exceeds an amount equal to 200% of the amount of the reserve recommended for that school district, as specified, the Superintendent must, among other things, assume all the legal rights, duties, and powers of the governing board of the qualifying school district, as defined, and, in consultation with the county superintendent of schools, appoint an administrator to act on the Superintendent’s behalf. Existing law authorizes the administrator to take certain actions, including, among others, revising the educational program of the qualifying school district to reflect realistic income projections and pupil performance relative to state standards.\\nExisting law, on or before July 1, 2014, requires the governing board of each school district and each county board of education to adopt a local control and accountability plan and requires the governing board of each school district and each county board of education to update its local control and accountability plan on or before July 1 of each year. Existing law requires the local control and accountability plan to include certain elements and requires the charter petition for a charter school to include some of those same elements.\\nExisting law establishes the California Collaborative for Educational Excellence for purposes of advising and assisting school districts, county superintendents of schools, and charter schools in achieving the goals set forth in a local control and accountability plan. Existing law authorizes the Superintendent to direct the collaborative to advise and assist a school district, county superintendent of schools, or charter school in specified circumstances, including upon their request.\\nThis bill would also authorize the state-appointed administrator of a school district to request the advice and assistance of the collaborative.', 'Existing law provides that school districts and county offices of education are responsible for the overall development of a comprehensive school safety plan for each of their constituent schools, and encourages school safety plans to include clear guidelines for the roles and responsibilities of certain parties with school-related health and safety responsibilities, as specified.\\nThis bill would require the State Department of Education to develop model referral protocols, as provided, for addressing pupil mental health concerns. The bill would require the department to consult with various entities in developing the protocols, including current classroom teachers and administrators. The bill would require the department to post the model referral protocols on its Internet Web site. The bill would make these provisions contingent upon funds being appropriated for its purpose in the annual Budget Act or other legislation, or state, federal, or private funds being allocated for this purpose. The bill would also state various findings and declarations of the Legislature relating to pupil mental health.', '(1)\\xa0Existing law, known as the Donahoe Higher Education Act, sets forth the missions and functions of the segments of postsecondary education in this state. The California State University, under the administration of the Trustees of the California State University, the California Community Colleges, under the administration of the Board of Governors of the California Community Colleges, and the University of California, under the administration of the Regents of the University of California, constitute the 3 segments of public postsecondary education in this state. Provisions of the Donahoe Higher Education Act apply to the University of California only to the extent that the regents act, by appropriate resolution, to make those provisions applicable.\\nAn existing chapter of the Donahoe Higher Education Act relates to the use of academic materials, and provides that a court of competent jurisdiction is authorized to grant relief that is necessary to enforce the provisions of this chapter, including through the issuance of an injunction.\\nThis chapter also includes the College Textbook Transparency Act which, among other things, provides that certain faculty members, defined as adopters, are authorized to receive royalties or other compensation from sales of course materials that include the instructor’s writing or other work, subject to the employer’s standing policies or collective bargaining agreements relating to employee conflicts of interest.\\nThis bill would add to this chapter a provision that requires the trustees and the governing board of each community college district, and requests the regents, to require their faculty members to annually disclose, on or before April 15, 2017, and on or before April 15 of each year thereafter, on a form and in a manner to be determined by the trustees, the governing board, or the regents, as appropriate, all of the income he or she received in the immediately preceding calendar year from a publisher, periodical, or provider of online content for royalties, advances, consulting services, or for any other purpose.\\nThe bill would require faculty members to whom the bill is applicable to file a form even if they have no disclosable income in the calendar year. The bill would require that these forms be filed under penalty of perjury, thereby imposing a state-mandated local program by expanding the scope of the crime of perjury.\\nThe bill would require that the information provided by the faculty members under this bill be available to the public on the Internet Web site of the institution at which the faculty members teach, as specified. The bill would authorize the trustees, community college governing boards, or regents to require a faculty member who does not file the information required under this bill in a timely manner to pay an administrative fine of up to\\n25% of the unreported income or $5,000, whichever is smaller,\\n$50,\\nas specified.\\nThe bill would authorize the trustees and the community college district governing boards to expend the proceeds of these fines for general educational purposes at the campuses at which the faculty members who were assessed the fines were employed. With respect to the California State University, the bill would establish the California State University Faculty Royalty Disclosure Fund as a continuously appropriated fund for the deposit of fine proceeds and their allocation to the appropriate campuses. The bill would request the regents to allocate the proceeds of any administrative fines they collect pursuant to the bill in a manner similar to that described for the California State University.\\nTo the extent that this provision would impose new duties on community college districts, this bill would constitute a state-mandated local program.\\n(2)The California Constitution requires the state to reimburse local agencies and school districts for certain costs mandated by the state. Statutory provisions establish procedures for making that reimbursement.\\nThis bill would provide that, if the Commission on State Mandates determines that the bill contains costs mandated by the state, reimbursement for those costs shall be made pursuant to these statutory provisions.\\n(2)\\xa0The California Constitution requires the state to reimburse local agencies and school districts for certain costs mandated by the state. Statutory provisions establish procedures for making that reimbursement.\\nThis bill would provide that with regard to certain mandates no reimbursement is required by this act for a specified reason.\\nWith regard to any other mandates, this bill would provide that, if the Commission on State Mandates determines that the bill contains costs so mandated by the state, reimbursement for those costs shall be made pursuant to the statutory provisions noted above.', 'The Warren-Alquist State Energy Resources Conservation and Development Act establishes the State Energy Resources Conservation and Development Commission and requires it to certify sufficient sites and related facilities that are required to provide a supply of electricity sufficient to accommodate projected demand for electricity in that commission’s most recent forecast of statewide and service area electricity demand.\\nThis bill would make nonsubstantive revisions to the State Energy Resources Conservation and Development Commission’s certification requirements.\\nExisting law requires the Public Utilities Commission, in cooperation with the State Energy Resources Conservation and Development Commission, the State Air Resources Board, air quality management districts and air pollution control districts, electrical and gas corporations, and the motor vehicle industry, to evaluate and implement policies to promote the development of equipment and infrastructure needed to facilitate the use of electricity and natural gas to fuel low-emission vehicles.\\nThis bill would make nonsubstantive revisions to these requirements of the Public Utilities Commission.']\n"
     ]
    },
    {
     "name": "stderr",
     "output_type": "stream",
     "text": [
      "\n"
     ]
    }
   ],
   "source": [
    "billsum = load_dataset('billsum', split='ca_test').train_test_split(test_size=0.2)\n",
    "\n",
    "# HF data objects can be indexed EITHER by obs or key: the former returns a dict, the latter a list\n",
    "print(billsum['train'][0])\n",
    "print(billsum['train']['summary'][:5])"
   ]
  },
  {
   "cell_type": "code",
   "execution_count": 5,
   "metadata": {},
   "outputs": [
    {
     "name": "stderr",
     "output_type": "stream",
     "text": [
      "Downloading (…)okenizer_config.json: 100%|██████████| 2.54k/2.54k [00:00<00:00, 508kB/s]\n",
      "c:\\Users\\marks\\.virtualenvs\\QualAbstracts-_C7lXhsk\\lib\\site-packages\\huggingface_hub\\file_download.py:133: UserWarning: `huggingface_hub` cache-system uses symlinks by default to efficiently store duplicated files but your machine does not support them in C:\\Users\\marks\\.cache\\huggingface\\hub. Caching files will still work but in a degraded version that might require more space on your disk. This warning can be disabled by setting the `HF_HUB_DISABLE_SYMLINKS_WARNING` environment variable. For more details, see https://huggingface.co/docs/huggingface_hub/how-to-cache#limitations.\n",
      "To support symlinks on Windows, you either need to activate Developer Mode or to run Python as an administrator. In order to see activate developer mode, see this article: https://docs.microsoft.com/en-us/windows/apps/get-started/enable-your-device-for-development\n",
      "  warnings.warn(message)\n",
      "Downloading spiece.model: 100%|██████████| 792k/792k [00:00<00:00, 815kB/s]\n",
      "Downloading (…)/main/tokenizer.json: 100%|██████████| 2.42M/2.42M [00:01<00:00, 2.03MB/s]\n",
      "Downloading (…)cial_tokens_map.json: 100%|██████████| 2.20k/2.20k [00:00<00:00, 310kB/s]\n"
     ]
    }
   ],
   "source": [
    "tokenizer = AutoTokenizer.from_pretrained(checkpoint)"
   ]
  },
  {
   "cell_type": "code",
   "execution_count": 6,
   "metadata": {},
   "outputs": [],
   "source": [
    "def preprocess_function(data):\n",
    "    prefix = \"summarize: \"\n",
    "    inputs = [prefix + text for text in data['text']]\n",
    "    model_inputs = tokenizer(inputs, max_length=1024, truncation=True)\n",
    "    \n",
    "    labels = tokenizer(text_target=data['summary'], max_length=128, truncation=True)\n",
    "    model_inputs['labels'] = labels['input_ids']\n",
    "    return model_inputs"
   ]
  },
  {
   "cell_type": "code",
   "execution_count": 7,
   "metadata": {},
   "outputs": [
    {
     "name": "stderr",
     "output_type": "stream",
     "text": [
      "Map:   0%|          | 0/989 [00:00<?, ? examples/s]"
     ]
    },
    {
     "name": "stderr",
     "output_type": "stream",
     "text": [
      "Map: 100%|██████████| 989/989 [00:03<00:00, 303.63 examples/s]\n",
      "Map: 100%|██████████| 248/248 [00:01<00:00, 222.75 examples/s]\n"
     ]
    }
   ],
   "source": [
    "tokenized_billsum = billsum.map(preprocess_function, batched=True)\n",
    "data_collator = DataCollatorForSeq2Seq(\n",
    "    tokenizer=tokenizer,\n",
    "    model=checkpoint,\n",
    "    return_tensors='tf'\n",
    ")"
   ]
  },
  {
   "cell_type": "markdown",
   "metadata": {},
   "source": [
    "# Defining Model and Metrics"
   ]
  },
  {
   "cell_type": "code",
   "execution_count": 8,
   "metadata": {},
   "outputs": [
    {
     "name": "stderr",
     "output_type": "stream",
     "text": [
      "Downloading builder script: 100%|██████████| 6.27k/6.27k [00:00<?, ?B/s]\n"
     ]
    }
   ],
   "source": [
    "rouge = evaluate.load('rouge')\n",
    "def compute_metrics(eval_pred, evalutor=rouge, tokenizer=tokenizer):\n",
    "    predictions, labels = eval_pred\n",
    "    decoded_preds = tokenizer.batch_decode(predictions, skip_special_tokens=True)\n",
    "    prediction_lens = [np.count_nonzero(pred != tokenizer.pad_token_id) for pred in predictions]\n",
    "    \n",
    "    labels = np.where(labels != -100, labels, tokenizer.pad_token_id) # not sure what this is doing\n",
    "    decoded_labels = tokenizer.batch_decode(labels, skip_special_tokens=True)\n",
    "\n",
    "    result = evalutor.compute(\n",
    "        predictions=decoded_preds,\n",
    "        references=decoded_labels,\n",
    "        use_stemmer=True\n",
    "    )\n",
    "    result[\"gen_len\"] = np.mean(prediction_lens)\n",
    "\n",
    "    return {k: round(v, 4) for k, v in result.items()}\n"
   ]
  },
  {
   "cell_type": "markdown",
   "metadata": {},
   "source": [
    "Note that HF models have built-in loss functions, so one does not need to be specified when compiling."
   ]
  },
  {
   "cell_type": "code",
   "execution_count": 9,
   "metadata": {},
   "outputs": [
    {
     "name": "stderr",
     "output_type": "stream",
     "text": [
      "Downloading (…)lve/main/config.json: 100%|██████████| 1.40k/1.40k [00:00<00:00, 276kB/s]\n",
      "Downloading tf_model.h5: 100%|██████████| 440M/440M [00:21<00:00, 20.0MB/s] \n",
      "c:\\Users\\marks\\.virtualenvs\\QualAbstracts-_C7lXhsk\\lib\\site-packages\\keras\\src\\initializers\\initializers.py:120: UserWarning: The initializer RandomNormal is unseeded and being called multiple times, which will return identical values each time (even if the initializer is unseeded). Please update your code to provide a seed to the initializer, or avoid using the same initializer instance more than once.\n",
      "  warnings.warn(\n",
      "All model checkpoint layers were used when initializing TFT5ForConditionalGeneration.\n",
      "\n",
      "All the layers of TFT5ForConditionalGeneration were initialized from the model checkpoint at google/flan-t5-small.\n",
      "If your task is similar to the task the model of the checkpoint was trained on, you can already use TFT5ForConditionalGeneration for predictions without further training.\n",
      "Downloading (…)neration_config.json: 100%|██████████| 147/147 [00:00<00:00, 24.2kB/s]\n",
      "You're using a T5TokenizerFast tokenizer. Please note that with a fast tokenizer, using the `__call__` method is faster than using a method to encode the text followed by a call to the `pad` method to get a padded encoding.\n"
     ]
    },
    {
     "name": "stdout",
     "output_type": "stream",
     "text": [
      "Epoch 1/3\n",
      " 1/61 [..............................] - ETA: 2:14:28 - loss: 2.9154"
     ]
    },
    {
     "ename": "",
     "evalue": "",
     "output_type": "error",
     "traceback": [
      "\u001b[1;31mCannot execute code, session has been disposed. Please try restarting the Kernel."
     ]
    },
    {
     "ename": "",
     "evalue": "",
     "output_type": "error",
     "traceback": [
      "\u001b[1;31mThe Kernel crashed while executing code in the the current cell or a previous cell. Please review the code in the cell(s) to identify a possible cause of the failure. Click <a href='https://aka.ms/vscodeJupyterKernelCrash'>here</a> for more info. View Jupyter <a href='command:jupyter.viewOutput'>log</a> for further details."
     ]
    }
   ],
   "source": [
    "optimizer = AdamWeightDecay(learning_rate=2e-5, weight_decay_rate=0.01)\n",
    "model = TFAutoModelForSeq2SeqLM.from_pretrained(checkpoint)\n",
    "model.compile(optimizer=optimizer)\n",
    "\n",
    "train_set = model.prepare_tf_dataset(\n",
    "    tokenized_billsum['train'],\n",
    "    shuffle=True,\n",
    "    batch_size=16,\n",
    "    collate_fn=data_collator\n",
    ")\n",
    "test_set = model.prepare_tf_dataset(\n",
    "    tokenized_billsum['test'],\n",
    "    shuffle=False,\n",
    "    batch_size=16,\n",
    "    collate_fn=data_collator\n",
    ")\n",
    "\n",
    "metric_callback = KerasMetricCallback(metric_fn=compute_metrics, eval_dataset=test_set)\n",
    "\n",
    "model.fit(\n",
    "    x=train_set,\n",
    "    validation_data=test_set,\n",
    "    epochs=3,\n",
    "    callbacks=[metric_callback]\n",
    ")"
   ]
  }
 ],
 "metadata": {
  "kernelspec": {
   "display_name": "QualAbstracts-R4Ruw4b-",
   "language": "python",
   "name": "python3"
  },
  "language_info": {
   "codemirror_mode": {
    "name": "ipython",
    "version": 3
   },
   "file_extension": ".py",
   "mimetype": "text/x-python",
   "name": "python",
   "nbconvert_exporter": "python",
   "pygments_lexer": "ipython3",
   "version": "3.9.13"
  },
  "orig_nbformat": 4
 },
 "nbformat": 4,
 "nbformat_minor": 2
}
