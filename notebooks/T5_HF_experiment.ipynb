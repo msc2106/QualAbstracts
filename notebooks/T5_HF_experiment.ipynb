{
 "cells": [
  {
   "cell_type": "markdown",
   "metadata": {},
   "source": [
    "T5 Flan\n",
    "----\n",
    "This notebook follows this guide: https://huggingface.co/docs/transformers/tasks/summarization"
   ]
  },
  {
   "cell_type": "markdown",
   "metadata": {},
   "source": [
    "# Setup"
   ]
  },
  {
   "cell_type": "code",
   "execution_count": 1,
   "metadata": {},
   "outputs": [],
   "source": [
    "# ! pip install transformers datasets evaluate rouge_score"
   ]
  },
  {
   "cell_type": "code",
   "execution_count": 2,
   "metadata": {},
   "outputs": [],
   "source": [
    "pt = True\n",
    "\n",
    "from datasets import load_dataset\n",
    "from transformers import AutoTokenizer, DataCollatorForSeq2Seq\n",
    "if pt:\n",
    "    from transformers import TFAutoModelForSeq2SeqLM, AdamWeightDecay\n",
    "else:\n",
    "    import tensorflow as tf\n",
    "    from transformers import AutoModelForSeq2SeqLM, Seq2SeqTrainingArguments, Seq2SeqTrainer\n",
    "    from transformers.keras_callbacks import KerasMetricCallback\n",
    "import evaluate\n",
    "import numpy as np\n",
    "# from google.colab import drive"
   ]
  },
  {
   "cell_type": "markdown",
   "metadata": {},
   "source": [
    "Defining the model to use."
   ]
  },
  {
   "cell_type": "code",
   "execution_count": 3,
   "metadata": {},
   "outputs": [],
   "source": [
    "# google_drive = '/content/drive'\n",
    "# drive.mount(google_drive)\n",
    "\n",
    "checkpoint = 'google/flan-t5-small'\n",
    "base_path = '..'\n",
    "# base_path = google_drive + '/My Drive/coding/flan_t5_small'\n",
    "output_path = base_path + '/out'\n",
    "model_save_path = base_path + '/model'"
   ]
  },
  {
   "cell_type": "markdown",
   "metadata": {},
   "source": [
    "# Data"
   ]
  },
  {
   "cell_type": "code",
   "execution_count": 4,
   "metadata": {},
   "outputs": [
    {
     "name": "stdout",
     "output_type": "stream",
     "text": [
      "{'text': 'The people of the State of California do enact as follows:\\n\\n\\nSECTION 1.\\n(a) It is the intent of the Legislature to clarify that pawnbrokers and other secondhand dealers are to report their acquisition of tangible personal property received in pledge, trade, consignment, or auction or by purchase using plain text, in descriptive language historically used in the pawn and secondhand industries when reporting to the single, statewide, and uniform electronic reporting system operated by the Department of Justice, or if not yet implemented in their respective jurisdictions, on paper forms sent to the local police chief or sheriff of the jurisdiction in which the secondhand dealer is physically located.\\n(b) It is further the intent of the Legislature that by specifying this manner of reporting, it will relieve all secondhand dealers and pawnbrokers of the inherent costs and burdens imposed under existing law that requires these businesses to report their daily acquisitions of secondhand tangible personal property on paper forms limited to a single transaction, or where the electronic reporting system is implemented, the cost associated with converting industry standard descriptions to specific law enforcement categories, the ongoing costs of training to that standard, and the costs of implementing software to maintain that standard.\\n(c) Further, it is the intent of the Legislature that the Department of Justice shall continue to accept the plain text descriptive language historically used in the pawn and secondhand industries and may provide article field descriptors to secondhand dealers in order to facilitate communication between the single, statewide, and uniform electronic reporting system and law enforcement databases. It is the intent of the Legislature that only properly trained law enforcement personnel of the Department of Justice or local law enforcement classify and encode for law enforcement databases property reported by pawnbrokers and secondhand dealers.\\nSEC. 2.\\nSection 21627.5 is added to the Business and Professions Code, to read:\\n21627.5.\\n“CAPSS” means the California Pawn and SecondhandDealer System, which is a single, statewide, uniform electronic reporting system that receives secondhand dealer reports and is operated by the Department of Justice consistent with Resolution Chapter 16 of the Statutes of 2010. The maintenance and operation of CAPSS is funded by the Secondhand Dealer and Pawnbroker Fund established pursuant to Section 21642.5.\\nSEC. 3.\\nSection 21628 of the Business and Professions Code, as amended by Section 1 of Chapter 169 of the Statutes of 2015, is amended to read:\\n21628.\\n(a) Every secondhand dealer or coin dealer described in Section 21626 shall report daily, or no later than the next business day excluding weekends and holidays after receipt or purchase of secondhand tangible personal property, to CAPSS, all secondhand tangible personal property, except for firearms, which he or she has purchased, taken in trade, taken in pawn, accepted for sale on consignment, or accepted for auctioning, in accordance with the provisions of Section 21630 and subdivision (d). The report shall be legible, prepared in English, completed where applicable, and include only the following information:\\n(1) The name and current address of the intended seller or pledger of the property.\\n(2) The identification of the intended seller or pledger. The identification of the seller or pledger of the property shall be verified by the person taking the information, who may use technology, including, but not limited to, cameras or software, or both, to obtain information and verify identity remotely. The verification shall be valid if the person taking the information reasonably relies on any one of the following documents, provided that the document is currently valid or has been issued within five years and contains a photograph or description, or both, of the person named on it, and, where applicable, is signed by the person, and bears a serial or other identifying number:\\n(A) A passport of the United States.\\n(B) A driver’s license issued by any state or Canada.\\n(C) An identification card issued by any state.\\n(D) An identification card issued by the United States.\\n(E) A passport from any other country in addition to another item of identification bearing an address.\\n(F) A Matricula Consular in addition to another item of identification bearing an address.\\n(3) (A) A property description. The property description shall be a complete and reasonably accurate description of the property, including, but not limited to, the following: serial number, personalized inscriptions, and other identifying marks or symbols, owner-applied numbers, the size, color, material, and, if known by the secondhand dealer, the manufacturer’s pattern name. The property description shall include the brand and model name or number of the item if known to, or reasonably ascertainable by, the secondhand dealer. The property description shall include a plain text description of the item generally accepted by the secondhand industry. Watches need not be disassembled when special skill or special tools are required to obtain the required information, unless specifically requested to do so by a peace officer. A special tool does not include a penknife, caseknife, or similar instrument and disassembling a watch with a penknife, caseknife, or similar instrument does not constitute a special skill. In all instances where the required information may be obtained by removal of a watchband, then the watchband shall be removed. The cost associated with opening the watch shall be borne by the pawnbroker, secondhand dealer, or customer.\\n(B) A secondhand dealer shall utilize in the article field either an article field descriptor, the format of which shall be provided by the Department of Justice, or a properly spelled and non-abbreviated plain text descriptor commonly recognized and utilized by the pawn and secondhand dealer industry. The lack of an article field descriptor provided by the Department of Justice shall not be relevant to any determination as to whether the secondhand dealer has received evidence of authority to sell or pledge the property pursuant to paragraph (1) of subdivision (b) so long as the secondhand dealer reports an article field descriptor consistent with this subdivision.\\n(C) In the case of the receipt or purchase of a handheld electronic device by a secondhand dealer, the serial number reported pursuant to subparagraph (A) may be the International Mobile Station Equipment Identity (IMEI), the mobile equipment identifier (MEID), or other unique identifying number assigned to that device by the device manufacturer. If none of these identifying numbers are available by the time period required for reporting pursuant to this subdivision, the report shall be updated with the IMEI, MEID, or other unique identifying number assigned to that device by the device manufacturer as soon as reasonably possible but no later than 10 working days after receipt or purchase of the handheld electronic device.\\n(D) For the purpose of this paragraph, “handheld electronic device” means any portable device that is capable of creating, receiving, accessing, or storing electronic data or communications and includes, but is not limited to, a cellular phone, smartphone, or tablet.\\n(4) A certification by the intended seller or pledger that he or she is the owner of the property or has the authority of the owner to sell or pledge the property.\\n(5) A certification by the intended seller or pledger that to his or her knowledge and belief the information is true and complete.\\n(6) A legible fingerprint taken from the intended seller or pledger, as prescribed by the Department of Justice. This requirement does not apply to a coin dealer, unless required pursuant to local regulation.\\n(7) A report submitted by a pawnbroker or secondhand dealer shall be deemed to have been accepted by the Department of Justice if a good faith effort has been made to supply all of the required information. An error or omission on the report shall be noted, and the reporting pawnbroker or secondhand dealer shall be notified of the error or omission by the Department of Justice. A reporting pawnbroker or secondhand dealer shall have three business days from that notice to amend or correct the report before being subject to any enforcement violation.\\n(b) (1) When a secondhand dealer complies with all of the provisions of this section, he or she shall be deemed to have received from the seller or pledger adequate evidence of authority to sell or pledge the property for all purposes included in this article, and Division 8 (commencing with Section 21000) of the Financial Code.\\n(2) In enacting this subdivision, it is the intent of the Legislature that its provisions shall not adversely affect the implementation of, or prosecution under, any provision of the Penal Code.\\n(c) Any person who conducts business as a secondhand dealer at any gun show or event, as defined in Section 478.100 of Title 27 of the Code of Federal Regulations, or its successor, outside the jurisdiction that issued the secondhand dealer license in accordance with subdivision (d) of Section 21641, may be required to submit a duplicate of the transaction report prepared pursuant to this section to the local law enforcement agency where the gun show or event is conducted.\\n(d) (1) The Department of Justice shall recognize and accept the properly spelled and non-abbreviated plain text property descriptors generally accepted in the pawn and secondhand industries provided by pawnbrokers and secondhand dealers, as has been the longstanding practice of chiefs of police and sheriffs when they had received paper reports from pawnbrokers and secondhand dealers.\\n(2) A report required of a secondhand dealer pursuant to this section shall be transmitted by electronic means to CAPSS by the secondhand dealer.\\n(3) Unless specifically identified in this section, the Department of Justice, chiefs of police, and sheriffs shall not require a secondhand dealer to include any additional information concerning the seller, the pledger, or the property received by the secondhand dealer in the report required by this section.\\n(4) If there is a future change to the reporting requirements of CAPSS that substantively alters the reporting standards provided by this article, those changes shall be implemented and operated in compliance with the Administrative Procedure Act (Chapter 3.5 (commencing with Section 11340) of Part 1 of Division 3 of Title 2 of the Government Code). In implementing and operating a future change to CAPSS, the Department of Justice, chiefs of police, and sheriffs shall comply with Sections 21637 and 21638. Notwithstanding any other law, the Department of Justice shall not take any action with respect to the implementation, operation, or maintenance of CAPSS required by this chapter by adoption of an emergency regulation.\\n(5) On or before July 1, 2017, the Department of Justice shall convene a meeting with the Department of Technology to discuss issues pertaining to any proposed changes or upgrades to CAPSS required by this chapter. The Department of Technology may provide technological assistance for ongoing improvements, updates, or changes to CAPSS required by this chapter, as requested.\\n(6) A coin dealer shall report the information required by this section under the reporting standard described in paragraph (1) on a form developed by the Attorney General that the coin dealer shall transmit each day by facsimile transmission or by mail to the chief of police or sheriff. A transaction shall consist of not more than one item.\\n(7) For purposes of this subdivision, “item” shall mean any single physical article. However, with respect to a commonly accepted grouping of articles that are purchased as a set, including, but not limited to, a pair of earrings or place settings of china, silverware, or other tableware, “item” shall mean that commonly accepted grouping.\\n(8) Nothing in this subdivision shall be construed as excepting a secondhand dealer from the fingerprinting requirement of paragraph (6) of subdivision (a).\\n(e) Nothing in this section shall be construed to exempt a person licensed as a firearms dealer pursuant to Sections 26700 to 26915, inclusive, of the Penal Code from the reporting requirements for the delivery of firearms pursuant to Sections 26700 to 26915, inclusive, of the Penal Code.\\nSEC. 4.\\nSection 21628.1 of the Business and Professions Code is repealed.\\nSEC. 5.\\nSection 21630 of the Business and Professions Code is repealed.\\nSEC. 6.\\nSection 21630 is added to the Business and Professions Code, to read:\\n21630.\\n(a) A secondhand dealer or coin dealer shall electronically transmit to CAPSS no later than the next business day after the date of transaction excluding weekends and holidays or, if not then possible due to an electrical, telecommunications, or other malfunction, as soon as reasonable thereafter, the report of acquisition of tangible personal property as required by Section 21628.\\n(b) Notwithstanding Section 21628, submission of a tangible property acquisition report is not required if the report of an acquisition of the same property from the same customer has been submitted within the preceding 12 months.\\nSEC. 7.\\nSection 21633 of the Business and Professions Code is repealed.\\nSEC. 8.\\nSection 21642.5 of the Business and Professions Code is amended to read:\\n21642.5.\\n(a) The Department of Justice shall require each applicant for an initial license under Section 21641 of this code or Section 21300 of the Financial Code and each applicant for renewal of a license under Section 21642 of this code or Section 21301 of the Financial Code to pay a fee not to exceed three hundred dollars ($300), but in no event exceeding the costs described in subdivision (b), except that the fee may be increased at a rate not to exceed any increase in the California Consumer Price Index as compiled and reported by the Department of Industrial Relations.\\n(b) The fees assessed pursuant to subdivision (a) shall be no more than necessary to cover the reasonable regulatory costs to the department of doing all of the following:\\n(1) Processing initial license applications under Section 21641 of this code and Section 21300 of the Financial Code.\\n(2) Processing renewal applications under Section 21642 of this code and Section 21301 of the Financial Code.\\n(3) Implementing, operating, and maintaining CAPSS described in Section 21627.5.\\n(c) All licensees holding a license issued before the effective date of the act adding this section pursuant to Section 21641 or 21642 of this code or Section 21300 or 21301 of the Financial Code shall, within 120 days after enactment of the act adding this section in the 2011–12 Regular Session, in addition to any fee required under subdivision (a), pay a fee not to exceed two hundred eighty-eight dollars ($288) to the Department of Justice.\\n(d) The fees paid pursuant to subdivisions (a) and (c) shall be deposited in the Secondhand Dealer and Pawnbroker Fund, which is hereby established in the State Treasury. The revenue in the fund shall, upon appropriation by the Legislature, be used by the Department of Justice for the purpose of paying for the costs described in paragraphs (1) to (3), inclusive, of subdivision (b), except that the revenue received pursuant to subdivision (c) shall, upon appropriation by the Legislature, be used by the Department of Justice for the purpose of paying for the costs described in paragraph (3) of subdivision (b).\\n(e) Applicants described in subdivision (a) shall submit to the Department of Justice fingerprint images and related information required by the Department of Justice for the purposes of obtaining information as to the existence and contents of a record of state convictions and state arrests and information as to the existence and contents of a record of state arrests for which the Department of Justice establishes that the person is free on bail or on his or her own recognizance pending trial or appeal.\\n(1) The Department of Justice shall prepare a state-level response pursuant to paragraph (1) of subdivision (l) of Section 11105 of the Penal Code.\\n(2) The Department of Justice shall provide subsequent notification service pursuant to Section 11105.2 of the Penal Code for applicants described in this subdivision.\\n(3) The Department of Justice shall charge a fee sufficient to cover the cost of processing the request described in this subdivision. The fee revenues shall be deposited in the Fingerprint Fee Account and shall, upon appropriation by the Legislature, be used by the department for the purposes of paying the costs associated with this subdivision.\\nSEC. 9.\\nThis act is an urgency statute necessary for the immediate preservation of the public peace, health, or safety within the meaning of Article IV of the Constitution and shall go into immediate effect. The facts constituting the necessity are:\\nIn order to protect the public from the dissemination of stolen property, make the single, statewide, uniform electronic system a cost savings for secondhand dealers and pawnbrokers, and to require the plain text property descriptions historically utilized by these industries to be accepted by the Department of Justice, just as these plain text descriptions have historically been accepted by chiefs of police and sheriffs, at the earliest possible time, it is necessary that this act take effect immediately.', 'summary': 'Existing law regulates secondhand dealers and coin dealers, and makes it unlawful for a person to engage in the business of a secondhand dealer without a license issued by the chief of police, the sheriff, or, where appropriate, the police commission. Existing law also regulates pawnbrokers. Existing law requires a local law enforcement agency to issue a license to engage in the business of a sehe bill would require the Department of Justice to accept the properly spelled and non-abbreviated plain text property descriptions commonly recognized and utilized by the pawn and secondhand dealer industries. The bill would require a secondhand dealer to provide a property description in an article field descriptor, as specified. This bill would prohibit the Department of Justice, chiefs of police, and sheriffs from requiring secondhand dealers to report any additional information other than that which is required by these provisions. The bill would require that a future change to the reporting requirements of CAPSS that substantively alters the reporting standards be implemented and operated in compliance with the Administrative Procedure Act and prohibit the Department of Justice from taking any action with respect to the implementation, operation, or maintenance of CAPSS by adoption of an emergency regulation. The bill would also require the Department of Justice to convene a meeting with the Department of Technology to discuss issues pertaining to any proposed changes or upgrades, and authorize the Department of Technology to provide technological assistance for ongoing improvements, updates, or changes, to CAPSS.\\nExisting law provides an exception to the reporting requirement for the acquisition of the same property from the same customer within 12 months of a reported transfer, except when submission of the report is specifically requested in writing by the local authorities.\\nThis bill would expand the reporting requirement exception to all acquisitions of the same property from the same customer within 12 months of a reported transfer.\\nThis bill would declare that it is to take effect immediately as an urgency statute.', 'title': 'An act to amend Sections 21628 and 21642.5 of, to add Section 21627.5 to, to repeal Sections 21628.1 and 21633 of, and to repeal and add Section 21630 of, the Business and Professions Code, relating to secondhand goods, and declaring the urgency thereof, to take effect immediately.'}\n",
      "['Existing law regulates secondhand dealers and coin dealers, and makes it unlawful for a person to engage in the business of a secondhand dealer without a license issued by the chief of police, the sheriff, or, where appropriate, the police commission. Existing law also regulates pawnbrokers. Existing law requires a local law enforcement agency to issue a license to engage in the business of a sehe bill would require the Department of Justice to accept the properly spelled and non-abbreviated plain text property descriptions commonly recognized and utilized by the pawn and secondhand dealer industries. The bill would require a secondhand dealer to provide a property description in an article field descriptor, as specified. This bill would prohibit the Department of Justice, chiefs of police, and sheriffs from requiring secondhand dealers to report any additional information other than that which is required by these provisions. The bill would require that a future change to the reporting requirements of CAPSS that substantively alters the reporting standards be implemented and operated in compliance with the Administrative Procedure Act and prohibit the Department of Justice from taking any action with respect to the implementation, operation, or maintenance of CAPSS by adoption of an emergency regulation. The bill would also require the Department of Justice to convene a meeting with the Department of Technology to discuss issues pertaining to any proposed changes or upgrades, and authorize the Department of Technology to provide technological assistance for ongoing improvements, updates, or changes, to CAPSS.\\nExisting law provides an exception to the reporting requirement for the acquisition of the same property from the same customer within 12 months of a reported transfer, except when submission of the report is specifically requested in writing by the local authorities.\\nThis bill would expand the reporting requirement exception to all acquisitions of the same property from the same customer within 12 months of a reported transfer.\\nThis bill would declare that it is to take effect immediately as an urgency statute.', 'Existing law requires the state to achieve a 20% reduction in urban per capita water use in California by December 31, 2020, and requires the state to make incremental progress towards this goal by reducing per capita water use by at least 10% on or before December 31, 2015. Existing law requires each urban retail water supplier to develop urban water use targets and an interim urban water use target, in accordance with specified requirements.\\nThis bill would require each urban retail water supplier, on or before October 1, 2017, and on or before October 1 of each year thereafter, to submit a completed and validated water loss audit report for the previous calendar year or previous fiscal year as prescribed by rules adopted by the Department of Water Resources on or before January 1, 2017, and updated as provided. The bill would require the department to post all validated water loss audit reports on its Internet Web site in a manner that allows for comparisons across water suppliers and to make these reports available for public viewing. This bill would require the department to provide technical assistance to guide urban retail water suppliers’ water loss detection programs. The bill would require the State Water Resources Control Board, no earlier than January 1, 2019, and no later than July 1, 2020, to adopt rules requiring urban retail water suppliers to meet performance standards for the volume of water losses. This bill would require the board to contribute up to $400,000 using funds available for the 2016–17 fiscal year towards procuring water loss audit report validation assistance for urban retail water suppliers.', 'Existing law makes it the duty of a coroner to inquire into and determine the circumstances, manner, and cause of deaths under prescribed conditions, including deaths under such circumstances as to afford a reasonable ground to suspect that the death was caused by the criminal act of another. Existing law provides for the execution of a certificate of religious belief stating that postmortem anatomical dissection or specified procedures would violate the religious convictions of the person, and, except as specified, prohibits a coroner from performing the procedure. Existing law requires a postmortem examination or autopsy to include certain procedures, including, among others, taking available fingerprints and palm prints and a dental examination including dental charts and dental X-rays, as specified. Existing law authorizes the postmortem examination or autopsy of the unidentified body or remains to include full body X-rays.\\nThis bill, except as specified, would authorize a coroner, medical examiner, or other agency required to perform an autopsy in a death under those prescribed conditions to use an electronic image system, including, but not limited to, an X-ray computed tomography scanning system, to fulfill specified postmortem examination or autopsy requirements. The bill would prohibit a coroner, medical examiner, or other agency performing an autopsy in a death under those prescribed conditions from using an electronic image system to conduct the autopsy in any investigation where the circumstances surrounding the death afford a reasonable basis to suspect that the death was caused by or related to the criminal act of another and it is necessary to collect evidence for presentation in a court of law. The bill would require a dissection autopsy to be performed to determine the cause and manner of death if the results of an autopsy performed using electronic imaging provides the basis to suspect that the death was caused by or related to the criminal act of another and it is necessary to collect evidence for presentation in a court of law. The bill would allow an autopsy to be conducted using an X-ray computed tomography scanning system without regard to the existence of a properly-executed certificate of religious belief.', 'Existing law authorizes the governing board of a school district to provide for the transportation of pupils to and from school whenever in the judgment of the board the transportation is advisable and good reasons exist to do so.\\nThis bill would entitle a pupil who attends a public, noncharter school that\\nis eligible for\\nreceives\\nTitle 1 federal funding to free transportation to and from school if certain conditions are met. The bill would require a school district not currently providing transportation to all pupils attending schools that\\nare eligible for\\nreceive\\nTitle 1 federal funding to implement a plan developed, in consultation with specified stakeholders, to ensure that all pupils entitled to free transportation receive the transportation. The bill would authorize school districts to contract with a municipally owned transit system to transport pupils if certain conditions are met. By\\nrequiring\\nimposing\\nnew duties on a local educational agency, the bill would\\nimpose\\nconstitute\\na state-mandated local program.\\nThis bill would create the Transportation and Access to Public School Fund and require the Superintendent of Public Instruction, upon appropriation to this fund by the Legislature, to allocate moneys from this fund to school districts, county offices of education, entities providing services under a school transportation joint powers agreement, or regional occupational centers or programs that provide pupil transportation an amount equal to the actual costs of the entitled transportation pursuant to this bill. The bill would provide that these provisions shall become operative only to the extent that funding is provided in the annual Budget Act or another statute.\\nThe California Constitution requires the state to reimburse local agencies and school districts for certain costs mandated by the state. Statutory provisions establish procedures for making that reimbursement.\\nThis bill would provide that, if the Commission on State Mandates determines that the bill contains costs mandated by the state, reimbursement for those costs shall be made pursuant to these statutory provisions.', 'Existing law, the Mental Health Services Act, an initiative measure enacted by the voters as Proposition 63 at the November 2, 2004, statewide general election, establishes the Mental Health Services Fund to fund various county mental health programs, and establishes the Mental Health Services Oversight and Accountability Commission, which consists of 16 members, to oversee the administration of various parts of the act. Existing law authorizes the act to be amended by a\\n2/3\\nvote of the Legislature if the amendments are consistent with, and further the purposes of, the act.\\nThis bill would expand the commission by 2 additional members who each have specified mental health knowledge and experience, to be appointed by the Governor. By amending the provisions of the Mental Health Services Act, this bill requires a\\n2/3\\nvote of the Legislature.\\nExisting law, the Veterans Housing and Homeless Prevention Bond Act of 2014 (bond act), an initiative measure enacted by the voters as Proposition 41 at the June 3, 2014, primary election, authorized $600 million in bonds to provide multifamily housing to low-income veterans and supportive housing for homeless veterans, through the Veterans Housing and Homeless Prevention Act of 2014. Existing law, the Veterans Housing and Homeless Prevention Act of 2014, provides for the acquisition, construction, rehabilitation, and preservation of affordable multifamily supportive housing, affordable transitional housing, affordable rental housing, and related facilities for veterans and their families to allow veterans to access and maintain housing stability. Existing law requires the California Housing Finance Agency, the Department of Housing and Community Development, and the Department of Veterans Affairs, to work collaboratively for those purposes.\\nThis bill would require those departments to give a preference to applicants for funding pursuant to the bond act for supportive housing projects when the applicant can demonstrate a multiyear commitment of Mental Health Services Act funding for the applicant’s housing project funding plan.\\nExisting law requires county mental health plans, whether administered by public or private entities, to be governed by specified guidelines, including, among other things, providing for culturally competent and age-appropriate services, to the extent feasible. Existing law requires a mental health plan to have a cultural competence plan with specified components.\\nThis bill would require the Department of Health Care Services to\\nsubmit\\npost\\nthe cultural competence plan component of each county mental health plan\\nto the Legislature\\non a dedicated Internet Web page\\nwithin 30 days of the department receiving the\\nplan.\\nplan and to notify the appropriate fiscal and policy committees of the Legislature when the plan is available on the Internet Web page.\\nThe bill would declare that the amendments to the provisions of the Mental Health Services Act are consistent with, and further the purposes of, that act.']\n"
     ]
    }
   ],
   "source": [
    "billsum = load_dataset('billsum', split='ca_test').train_test_split(test_size=0.2)\n",
    "\n",
    "# HF data objects can be indexed EITHER by obs or key: the former returns a dict, the latter a list\n",
    "print(billsum['train'][0])\n",
    "print(billsum['train']['summary'][:5])"
   ]
  },
  {
   "cell_type": "code",
   "execution_count": 5,
   "metadata": {},
   "outputs": [],
   "source": [
    "tokenizer = AutoTokenizer.from_pretrained(checkpoint)"
   ]
  },
  {
   "cell_type": "code",
   "execution_count": 6,
   "metadata": {},
   "outputs": [],
   "source": [
    "def preprocess_function(data):\n",
    "    prefix = \"summarize: \"\n",
    "    inputs = [prefix + text for text in data['text']]\n",
    "    model_inputs = tokenizer(inputs, max_length=1024, truncation=True)\n",
    "    \n",
    "    labels = tokenizer(text_target=data['summary'], max_length=128, truncation=True)\n",
    "    model_inputs['labels'] = labels['input_ids']\n",
    "    return model_inputs"
   ]
  },
  {
   "cell_type": "code",
   "execution_count": 7,
   "metadata": {},
   "outputs": [
    {
     "data": {
      "application/vnd.jupyter.widget-view+json": {
       "model_id": "ae5ec25c732645068a869da2be48fbe3",
       "version_major": 2,
       "version_minor": 0
      },
      "text/plain": [
       "Map:   0%|          | 0/989 [00:00<?, ? examples/s]"
      ]
     },
     "metadata": {},
     "output_type": "display_data"
    },
    {
     "data": {
      "application/vnd.jupyter.widget-view+json": {
       "model_id": "525218eb36594eb5af90b76b6b354baa",
       "version_major": 2,
       "version_minor": 0
      },
      "text/plain": [
       "Map:   0%|          | 0/248 [00:00<?, ? examples/s]"
      ]
     },
     "metadata": {},
     "output_type": "display_data"
    }
   ],
   "source": [
    "tokenized_billsum = billsum.map(preprocess_function, batched=True)\n",
    "data_collator = DataCollatorForSeq2Seq(\n",
    "    tokenizer=tokenizer,\n",
    "    model=checkpoint,\n",
    "    return_tensors='tf'\n",
    ")"
   ]
  },
  {
   "cell_type": "markdown",
   "metadata": {},
   "source": [
    "# Defining Model and Metrics"
   ]
  },
  {
   "cell_type": "code",
   "execution_count": 8,
   "metadata": {},
   "outputs": [],
   "source": [
    "rouge = evaluate.load('rouge')\n",
    "def compute_metrics(eval_pred, evalutor=rouge, tokenizer=tokenizer):\n",
    "    predictions, labels = eval_pred\n",
    "    decoded_preds = tokenizer.batch_decode(predictions, skip_special_tokens=True)\n",
    "    prediction_lens = [np.count_nonzero(pred != tokenizer.pad_token_id) for pred in predictions]\n",
    "    \n",
    "    labels = np.where(labels != -100, labels, tokenizer.pad_token_id) # not sure what this is doing\n",
    "    decoded_labels = tokenizer.batch_decode(labels, skip_special_tokens=True)\n",
    "\n",
    "    result = evalutor.compute(\n",
    "        predictions=decoded_preds,\n",
    "        references=decoded_labels,\n",
    "        use_stemmer=True\n",
    "    )\n",
    "    result[\"gen_len\"] = np.mean(prediction_lens)\n",
    "\n",
    "    return {k: round(v, 4) for k, v in result.items()}\n"
   ]
  },
  {
   "cell_type": "markdown",
   "metadata": {},
   "source": [
    "## PyTorch"
   ]
  },
  {
   "cell_type": "code",
   "execution_count": null,
   "metadata": {},
   "outputs": [],
   "source": [
    "model = AutoModelForSeq2SeqLM.from_pretrained(checkpoint)\n",
    "training_args = Seq2SeqTrainingArguments(\n",
    "    output_dir='./model_temp',\n",
    "    evaluation_strategy=\"epoch\",\n",
    "    learning_rate=2e-5,\n",
    "    per_device_train_batch_size=16,\n",
    "    per_device_eval_batch_size=16,\n",
    "    weight_decay=0.01,\n",
    "    save_total_limit=3,\n",
    "    num_train_epochs=4,\n",
    "    predict_with_generate=True,\n",
    "    fp16=True\n",
    ")\n",
    "\n",
    "trainer = Seq2SeqTrainer(\n",
    "    model=model,\n",
    "    args=training_args,\n",
    "    train_dataset=tokenized_billsum[\"train\"],\n",
    "    eval_dataset=tokenized_billsum[\"test\"],\n",
    "    tokenizer=tokenizer,\n",
    "    data_collator=data_collator,\n",
    "    compute_metrics=compute_metrics,\n",
    ")\n",
    "\n",
    "trainer.train()"
   ]
  },
  {
   "cell_type": "markdown",
   "metadata": {},
   "source": [
    "## TensorFlow"
   ]
  },
  {
   "cell_type": "code",
   "execution_count": 9,
   "metadata": {},
   "outputs": [
    {
     "name": "stderr",
     "output_type": "stream",
     "text": [
      "c:\\Users\\marks\\.virtualenvs\\QualAbstracts-_C7lXhsk\\lib\\site-packages\\keras\\src\\initializers\\initializers.py:120: UserWarning: The initializer RandomNormal is unseeded and being called multiple times, which will return identical values each time (even if the initializer is unseeded). Please update your code to provide a seed to the initializer, or avoid using the same initializer instance more than once.\n",
      "  warnings.warn(\n",
      "All model checkpoint layers were used when initializing TFT5ForConditionalGeneration.\n",
      "\n",
      "All the layers of TFT5ForConditionalGeneration were initialized from the model checkpoint at google/flan-t5-small.\n",
      "If your task is similar to the task the model of the checkpoint was trained on, you can already use TFT5ForConditionalGeneration for predictions without further training.\n"
     ]
    }
   ],
   "source": [
    "optimizer = AdamWeightDecay(learning_rate=2e-5, weight_decay_rate=0.01)\n",
    "model = TFAutoModelForSeq2SeqLM.from_pretrained(checkpoint)\n",
    "model.compile(optimizer=optimizer)"
   ]
  },
  {
   "cell_type": "markdown",
   "metadata": {},
   "source": [
    "Note that HF models have built-in loss functions, so one does not need to be specified when compiling."
   ]
  },
  {
   "cell_type": "code",
   "execution_count": null,
   "metadata": {},
   "outputs": [],
   "source": [
    "train_set = model.prepare_tf_dataset(\n",
    "    tokenized_billsum['train'],\n",
    "    shuffle=True,\n",
    "    batch_size=16,\n",
    "    collate_fn=data_collator\n",
    ")\n",
    "test_set = model.prepare_tf_dataset(\n",
    "    tokenized_billsum['test'],\n",
    "    shuffle=False,\n",
    "    batch_size=16,\n",
    "    collate_fn=data_collator\n",
    ")\n",
    "\n",
    "metric_callback = KerasMetricCallback(metric_fn=compute_metrics, eval_dataset=test_set)\n",
    "\n",
    "model.fit(\n",
    "    x=train_set,\n",
    "    validation_data=test_set,\n",
    "    epochs=3,\n",
    "    callbacks=[metric_callback]\n",
    ")"
   ]
  },
  {
   "cell_type": "code",
   "execution_count": null,
   "metadata": {},
   "outputs": [],
   "source": [
    "tokenizer.save_pretrained(model_save_path)\n",
    "model.save_pretrained(model_save_path)"
   ]
  },
  {
   "cell_type": "code",
   "execution_count": 15,
   "metadata": {},
   "outputs": [
    {
     "ename": "OSError",
     "evalue": "[Errno 22] Invalid argument: './out/T5_billsum_example_text_2023-07-28 17:16:18.633901.txt'",
     "output_type": "error",
     "traceback": [
      "\u001b[1;31m---------------------------------------------------------------------------\u001b[0m",
      "\u001b[1;31mOSError\u001b[0m                                   Traceback (most recent call last)",
      "Cell \u001b[1;32mIn[15], line 9\u001b[0m\n\u001b[0;32m      6\u001b[0m raw_output \u001b[39m=\u001b[39m model\u001b[39m.\u001b[39mgenerate(tokenized_input, max_new_tokens\u001b[39m=\u001b[39m\u001b[39m200\u001b[39m, do_sample\u001b[39m=\u001b[39m\u001b[39mFalse\u001b[39;00m)\n\u001b[0;32m      7\u001b[0m text_output \u001b[39m=\u001b[39m tokenizer\u001b[39m.\u001b[39mdecode(raw_output[\u001b[39m0\u001b[39m], skip_special_tokens\u001b[39m=\u001b[39m\u001b[39mTrue\u001b[39;00m)\n\u001b[1;32m----> 9\u001b[0m \u001b[39mwith\u001b[39;00m \u001b[39mopen\u001b[39;49m(\u001b[39mf\u001b[39;49m\u001b[39m'\u001b[39;49m\u001b[39m./out/T5_billsum_example_text_\u001b[39;49m\u001b[39m{\u001b[39;49;00msave_time\u001b[39m}\u001b[39;49;00m\u001b[39m.txt\u001b[39;49m\u001b[39m'\u001b[39;49m, \u001b[39m'\u001b[39;49m\u001b[39mw\u001b[39;49m\u001b[39m'\u001b[39;49m) \u001b[39mas\u001b[39;00m f:\n\u001b[0;32m     10\u001b[0m     f\u001b[39m.\u001b[39mwrite(one_test_case)\n\u001b[0;32m     11\u001b[0m \u001b[39mwith\u001b[39;00m \u001b[39mopen\u001b[39m(\u001b[39mf\u001b[39m\u001b[39m'\u001b[39m\u001b[39mT5_billsum_example_output_\u001b[39m\u001b[39m{\u001b[39;00msave_time\u001b[39m}\u001b[39;00m\u001b[39m'\u001b[39m, \u001b[39m'\u001b[39m\u001b[39mw\u001b[39m\u001b[39m'\u001b[39m) \u001b[39mas\u001b[39;00m f:\n",
      "File \u001b[1;32mc:\\Users\\marks\\.virtualenvs\\QualAbstracts-_C7lXhsk\\lib\\site-packages\\IPython\\core\\interactiveshell.py:284\u001b[0m, in \u001b[0;36m_modified_open\u001b[1;34m(file, *args, **kwargs)\u001b[0m\n\u001b[0;32m    277\u001b[0m \u001b[39mif\u001b[39;00m file \u001b[39min\u001b[39;00m {\u001b[39m0\u001b[39m, \u001b[39m1\u001b[39m, \u001b[39m2\u001b[39m}:\n\u001b[0;32m    278\u001b[0m     \u001b[39mraise\u001b[39;00m \u001b[39mValueError\u001b[39;00m(\n\u001b[0;32m    279\u001b[0m         \u001b[39mf\u001b[39m\u001b[39m\"\u001b[39m\u001b[39mIPython won\u001b[39m\u001b[39m'\u001b[39m\u001b[39mt let you open fd=\u001b[39m\u001b[39m{\u001b[39;00mfile\u001b[39m}\u001b[39;00m\u001b[39m by default \u001b[39m\u001b[39m\"\u001b[39m\n\u001b[0;32m    280\u001b[0m         \u001b[39m\"\u001b[39m\u001b[39mas it is likely to crash IPython. If you know what you are doing, \u001b[39m\u001b[39m\"\u001b[39m\n\u001b[0;32m    281\u001b[0m         \u001b[39m\"\u001b[39m\u001b[39myou can use builtins\u001b[39m\u001b[39m'\u001b[39m\u001b[39m open.\u001b[39m\u001b[39m\"\u001b[39m\n\u001b[0;32m    282\u001b[0m     )\n\u001b[1;32m--> 284\u001b[0m \u001b[39mreturn\u001b[39;00m io_open(file, \u001b[39m*\u001b[39margs, \u001b[39m*\u001b[39m\u001b[39m*\u001b[39mkwargs)\n",
      "\u001b[1;31mOSError\u001b[0m: [Errno 22] Invalid argument: './out/T5_billsum_example_text_2023-07-28 17:16:18.633901.txt'"
     ]
    }
   ],
   "source": [
    "from datetime import datetime\n",
    "\n",
    "model = AutoModelForSeq2SeqLM.from_pretrained(model_save_path)\n",
    "tokenizer = AutoTokenizer.from_pretrained(model_save_path)\n",
    "one_test_case = 'summarize: ' + billsum['test'][0]['text']\n",
    "tokenized_input = tokenizer(one_test_case, return_tensors='pt').input_ids\n",
    "raw_output = model.generate(tokenized_input, max_new_tokens=128, do_sample=False)\n",
    "# raw_output = model.generate(**tokenized_input)\n",
    "text_output = tokenizer.decode(raw_output[0], skip_special_tokens=True)\n",
    "\n",
    "print(text_output)\n",
    "\n",
    "save_time = datetime.now().strftime(r'%Y%m%d%H%M%S')\n",
    "with open(output_path + f'/T5_billsum_example_text_{save_time}.txt', 'w', encoding='utf8') as f:\n",
    "    f.write(one_test_case)\n",
    "with open(output_path + f'/T5_billsum_example_output_{save_time}.txt', 'w', encoding='utf8') as f:\n",
    "    f.write(text_output)"
   ]
  }
 ],
 "metadata": {
  "kernelspec": {
   "display_name": "QualAbstracts-R4Ruw4b-",
   "language": "python",
   "name": "python3"
  },
  "language_info": {
   "codemirror_mode": {
    "name": "ipython",
    "version": 3
   },
   "file_extension": ".py",
   "mimetype": "text/x-python",
   "name": "python",
   "nbconvert_exporter": "python",
   "pygments_lexer": "ipython3",
   "version": "3.9.13"
  },
  "orig_nbformat": 4
 },
 "nbformat": 4,
 "nbformat_minor": 2
}
