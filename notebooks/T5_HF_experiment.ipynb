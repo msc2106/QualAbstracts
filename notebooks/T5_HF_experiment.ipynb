{
 "cells": [
  {
   "cell_type": "markdown",
   "metadata": {},
   "source": [
    "T5 Flan\n",
    "----\n",
    "This notebook follows this guide: https://huggingface.co/docs/transformers/tasks/summarization"
   ]
  },
  {
   "cell_type": "markdown",
   "metadata": {},
   "source": [
    "# Setup"
   ]
  },
  {
   "cell_type": "code",
   "execution_count": 1,
   "metadata": {},
   "outputs": [],
   "source": [
    "# ! pip install transformers datasets evaluate rouge_score"
   ]
  },
  {
   "cell_type": "code",
   "execution_count": 2,
   "metadata": {},
   "outputs": [],
   "source": [
    "pt = True\n",
    "\n",
    "from datasets import load_dataset\n",
    "from transformers import AutoTokenizer, DataCollatorForSeq2Seq\n",
    "if pt:\n",
    "    from transformers import AutoModelForSeq2SeqLM, Seq2SeqTrainingArguments, Seq2SeqTrainer\n",
    "    import torch\n",
    "else:\n",
    "    import tensorflow as tf\n",
    "    from transformers import TFAutoModelForSeq2SeqLM, AdamWeightDecay\n",
    "    from transformers.keras_callbacks import KerasMetricCallback\n",
    "import evaluate\n",
    "import numpy as np\n",
    "# from google.colab import drive"
   ]
  },
  {
   "cell_type": "markdown",
   "metadata": {},
   "source": [
    "Defining the model to use."
   ]
  },
  {
   "cell_type": "code",
   "execution_count": 3,
   "metadata": {},
   "outputs": [],
   "source": [
    "# google_drive = '/content/drive'\n",
    "# drive.mount(google_drive)\n",
    "\n",
    "checkpoint = 'google/flan-t5-small'\n",
    "base_path = '..'\n",
    "# base_path = google_drive + '/My Drive/coding/flan_t5_small'\n",
    "output_path = base_path + '/out'\n",
    "model_save_path = base_path + '/model'"
   ]
  },
  {
   "cell_type": "markdown",
   "metadata": {},
   "source": [
    "# Data"
   ]
  },
  {
   "cell_type": "code",
   "execution_count": 4,
   "metadata": {},
   "outputs": [
    {
     "name": "stdout",
     "output_type": "stream",
     "text": [
      "{'text': 'The people of the State of California do enact as follows:\\n\\n\\nSECTION 1.\\nSection 1259 of the Health and Safety Code is amended to read:\\n1259.\\n(a) (1) The Legislature finds and declares that California is becoming a land of people whose languages and cultures give the state a global quality. The Legislature further finds and declares that access to basic health care services is the right of every resident of the state, and that access to information regarding basic health care services is an essential element of that right.\\n(2) Therefore, it is the intent of the Legislature that when language or communication barriers exist between patients and the staff of any general acute care hospital, arrangements shall be made for interpreters or bilingual professional staff to ensure adequate and speedy communication between patients and staff.\\n(b)  As used in this section:\\n(1)  “Interpreter” means a person fluent in English and in the necessary second language, who can accurately speak, read, and readily interpret the necessary second language, or a person who can accurately sign and read sign language. Interpreters shall have the ability to translate the names of body parts and to describe competently symptoms and injuries in both languages. Interpreters may include members of the medical or professional staff.\\n(2)  “Language or communication barriers” means:\\n(A)  With respect to spoken language, barriers that are experienced by individuals who are limited-English-speaking or non-English-speaking individuals who speak the same primary language and who comprise at least 5 percent of the population of the geographical area served by the hospital or of the actual patient population of the hospital. In cases of dispute, the state department shall determine, based on objective data, whether the 5 percent population standard applies to a given hospital.\\n(B)  With respect to sign language, barriers that are experienced by individuals who are deaf and whose primary language is sign language.\\n(c)  To ensure access to health care information and services for limited-English-speaking or non-English-speaking residents and deaf residents, licensed general acute care hospitals shall:\\n(1)  Review existing policies regarding interpreters for patients with limited-English proficiency and for patients who are deaf, including the availability of staff to act as interpreters.\\n(2)  (A) (i) Adopt and review annually a policy for providing language assistance services to patients with language or communication barriers. The policy shall include procedures for providing, to the extent possible, as determined by the hospital, the use of an interpreter whenever a language or communication barrier exists, except when the patient, after being informed of the availability of the interpreter service, chooses to use a family member or friend who volunteers to interpret. The procedures shall be designed to maximize efficient use of interpreters and minimize delays in providing interpreters to patients. The procedures shall ensure, to the extent possible, as determined by the hospital, that interpreters are available, either on the premises or accessible by telephone, 24 hours a day.\\n(ii) The hospital shall, on or before July 1, 2016, and every January 1 thereafter, make the updated policy and a notice of availability of language assistance services available to the public on its Internet Web site. The notice shall be in English and in the other languages most commonly spoken in the hospital’s service area. For purposes of this paragraph, the hospital shall make the notice available in the language of individuals who meet the definition of having a language barrier pursuant to subparagraph (A) of paragraph (2) of subdivision (b); however, a hospital is not required to make the notice available in more than five languages other than English.\\n(B) (i) The hospital shall, on or before July 1, 2016, and every January 1 thereafter, transmit to the department a copy of the updated policy and shall include a description of its efforts to ensure adequate and speedy communication between patients with language or communication barriers and staff.\\n(ii) The department shall make the updated policy available to the public on its Internet Web site.\\n(3)  Develop, and post in conspicuous locations, notices that advise patients and their families of the availability of interpreters, the procedure for obtaining an interpreter and the telephone numbers where complaints may be filed concerning interpreter service problems, including, but not limited to, a T.D.D. number for the hearing impaired. The notices shall be posted, at a minimum, in the emergency room, the admitting area, the entrance, and in outpatient areas. Notices shall inform patients that interpreter services are available upon request, shall list the languages for which interpreter services are available, shall instruct patients to direct complaints regarding interpreter services to the state department, and shall provide the local address and telephone number of the state department, including, but not limited to, a T.D.D. number for the hearing impaired.\\n(4)  Identify and record a patient’s primary language and dialect on one or more of the following: patient medical chart, hospital bracelet, bedside notice, or nursing card.\\n(5)  Prepare and maintain as needed a list of interpreters who have been identified as proficient in sign language and in the languages of the population of the geographical area serviced who have the ability to translate the names of body parts, injuries, and symptoms.\\n(6)  Notify employees of the hospital’s commitment to provide interpreters to all patients who request them.\\n(7)  Review all standardized written forms, waivers, documents, and informational materials available to patients upon admission to determine which to translate into languages other than English.\\n(8)  Consider providing its nonbilingual staff with standardized picture and phrase sheets for use in routine communications with patients who have language or communication barriers.\\n(9)  Consider developing community liaison groups to enable the hospital and the limited-English-speaking and deaf communities to ensure the adequacy of the interpreter services.\\n(d)  Noncompliance with this section shall be reportable to licensing authorities.\\n(e)  Section 1290 shall not apply to this section.\\nSEC. 2.\\nNo reimbursement is required by this act pursuant to Section 6 of Article XIII\\u2009B of the California Constitution because the only costs that may be incurred by a local agency or school district will be incurred because this act creates a new crime or infraction, eliminates a crime or infraction, or changes the penalty for a crime or infraction, within the meaning of Section 17556 of the Government Code, or changes the definition of a crime within the meaning of Section 6 of Article XIII\\u2009B of the California Constitution.', 'summary': '(1)\\xa0Existing law provides for the licensure and regulation by the State Department of Public Health of health facilities, including general acute care hospitals. A violation of these provisions is a crime. Existing law requires those hospitals to adopt and review annually a policy for providing language assistance services to patients with language or communication barriers, as defined. Existing law requires a hospital to annually transmit to the department a copy of its updated policy and to include a description of its efforts to ensure adequate and speedy communication between patients with language or communication barriers and staff.\\nThis bill would require a general acute care hospital and the department to make the hospital’s updated policy available annually to the public on their respective Internet Web sites. The bill would also require a general acute care hospital to post on its Internet Web site a notice, in English and in the other most commonly spoken languages in the hospital’s service area, of the availability of language assistance services. Because a violation of these provisions by a health facility would be a crime, the bill would impose a state-mandated local program.\\n(2)\\xa0The California Constitution requires the state to reimburse local agencies and school districts for certain costs mandated by the state. Statutory provisions establish procedures for making that reimbursement.\\nThis bill would provide that no reimbursement is required by this act for a specified reason.', 'title': 'An act to amend Section 1259 of the Health and Safety Code, relating to health facilities.'}\n",
      "['(1)\\xa0Existing law provides for the licensure and regulation by the State Department of Public Health of health facilities, including general acute care hospitals. A violation of these provisions is a crime. Existing law requires those hospitals to adopt and review annually a policy for providing language assistance services to patients with language or communication barriers, as defined. Existing law requires a hospital to annually transmit to the department a copy of its updated policy and to include a description of its efforts to ensure adequate and speedy communication between patients with language or communication barriers and staff.\\nThis bill would require a general acute care hospital and the department to make the hospital’s updated policy available annually to the public on their respective Internet Web sites. The bill would also require a general acute care hospital to post on its Internet Web site a notice, in English and in the other most commonly spoken languages in the hospital’s service area, of the availability of language assistance services. Because a violation of these provisions by a health facility would be a crime, the bill would impose a state-mandated local program.\\n(2)\\xa0The California Constitution requires the state to reimburse local agencies and school districts for certain costs mandated by the state. Statutory provisions establish procedures for making that reimbursement.\\nThis bill would provide that no reimbursement is required by this act for a specified reason.', 'Existing law provides for the State Supplementary Program for the Aged, Blind and Disabled (SSP), which requires the State Department of Social Services to contract with the United States Secretary of Health and Human Services to make payments to SSP recipients to supplement Supplemental Security Income (SSI) payments made available pursuant to the federal Social Security Act.\\nUnder existing law, benefit payments under the SSP are calculated by establishing the maximum level of nonexempt income and federal SSI and state SSP benefits for each category of eligible recipient. The state SSP payment is the amount, when added to the nonexempt income and SSI benefits available to the recipient, which would be required to provide the maximum benefit payment.\\nThis bill, for the 2015–16 fiscal year, and annually thereafter, would require the state maximum SSP grant for individuals to be readjusted and increased so that the state SSP payment and federal SSI payment, when combined, equal 112% of the federal poverty level. By increasing the amount of SSP payments, which are expended from a continuously appropriated fund, the bill would make an appropriation.\\nExisting law prohibits a licensee of a long-term health care facility from discriminating or retaliating in any manner against a complainant, or a patient or employee in its facility, based on the presentation of a grievance or complaint or activities related to a specified investigation or proceeding at the facility. Existing law makes the willful violation of these provisions punishable as a crime.\\nThis bill would expand the antiretaliation protections to apply to all health care workers of a long-term health care facility. The bill would increase the civil penalties and criminal penalties that apply to licensees who violate the provisions. The bill would also specify that a complainant who has been discriminated against may recover attorney’s fees and other legal costs.\\nBecause this bill would expand the scope of a crime, it would impose a state-mandated local program.\\nThe California Constitution requires the state to reimburse local agencies and school districts for certain costs mandated by the state. Statutory provisions establish procedures for making that reimbursement.\\nThis bill would provide that no reimbursement is required by this act for a specified reason.', '(1)\\xa0The California Emergency Services Act sets forth the duties of the Office of Emergency Services with respect to specified emergency preparedness, mitigation, and response activities within the state. Existing law establishes the Department of Technology under the supervision of the Director of Technology who is also known as the State Chief Information Officer, and generally requires the Department of Technology to be responsible for the approval and oversight of information technology projects by, among other things, consulting with state agencies during initial project planning to ensure that project proposals are based on well-defined programmatic needs. Existing law establishes the Office of Information Security, within the Department of Technology, under the direction of a chief who reports to the Director of Technology.\\nThis bill would require the Department of Technology, in consultation with the Office of Emergency Services and compliance with the information security program required to be established by the chief of the Office of Information Security, to update the Technology Recovery Plan element of the State Administrative Manual to ensure the inclusion of cybersecurity strategy incident response standards for each state agency to secure its critical infrastructure controls and critical infrastructure information. The bill would require each state agency to provide its updated Technology Recovery Plan and report on its compliance with these updated standards to the department, as specified, and authorize the department, in consultation with the Office of Emergency Services, to provide suggestions for a state agency to improve compliance with these standards. The bill would define terms for its purposes and make legislative findings in support of its provisions. The bill would prohibit public disclosure of reports and public records relating to the cybersecurity strategies of state agencies, as specified.\\n(2)\\xa0Existing constitutional provisions require that a statute that limits the right of access to the meetings of public bodies or the writings of public officials and agencies be adopted with findings demonstrating the interest protected by the limitation and the need for protecting that interest.\\nThis bill would make legislative findings to that effect.', 'The Pharmacy Law provides for the licensure and regulation of pharmacists by the California State Board of Pharmacy. That law requires a pharmacist to dispense a prescription in a container that, among other things, is correctly labeled with the directions for use of the drug, and requires the board to promulgate regulations that require, on or before January 1, 2011, a standardized, patient-centered, prescription drug label on all prescription medicine dispensed to patients in California. Existing regulations of the board implement that requirement, establishing standardized directions for use to be used when applicable, and requiring that the board publish on its Internet Web site translation of those directions for use into at least 5 languages other than English. A violation of that law is a crime.\\nThis bill would require a pharmacist to use professional judgment to provide a patient with directions for use of a prescription that enhance the patient’s understanding of those directions, consistent with the prescriber’s instructions. The bill would also require a dispenser, excluding a veterinarian, upon the request of a patient or patient’s representative, to provide translated directions for use as prescribed. The bill would authorize a dispenser to use translations made available by the board pursuant to those existing regulations. The bill would make a dispenser responsible for the accuracy of English-language directions for use provided to the patient. By imposing new requirements on dispensers, the violation of which would be a crime, this bill would impose a state-mandated local program.\\nThe Pharmacy Law also provides for the licensure and regulation of veterinary food-animal drug retailers by the board. That law subjects to specific prescription drug labeling requirements any veterinary food-animal drug dispensed pursuant to a prescription from a licensed veterinarian for food-producing animals from a veterinary food-animal drug retailer pursuant to that law.\\nThis bill would also subject any veterinary food-animal drug so dispensed to the above drug labeling requirements relating to standardized directions for use.\\nThe California Constitution requires the state to reimburse local agencies and school districts for certain costs mandated by the state. Statutory provisions establish procedures for making that reimbursement.\\nThis bill would provide that no reimbursement is required by this act for a specified reason.', 'Existing law authorizes the governing board of a school district to provide a comprehensive educational counseling program for all pupils enrolled in the schools of the district, and, if the program is provided, requires educational counseling to include both academic counseling and career and vocational counseling in specified areas.\\nThis bill would state the Legislature’s intent that school counselors also perform specified other functions and services to support pupil learning and achievement and would specify that educational counseling may also include counseling in specified other areas, including, but not limited to, individualized review of a pupil’s career goals. The bill would require professional development related to career and vocational counseling to include strategies for counseling pupils in specified areas. The bill would make a conforming change by deleting a provision relating to school counselors providing services prior to January 1, 1987.']\n"
     ]
    }
   ],
   "source": [
    "billsum = load_dataset('billsum', split='ca_test').train_test_split(test_size=0.2)\n",
    "\n",
    "# HF data objects can be indexed EITHER by obs or key: the former returns a dict, the latter a list\n",
    "print(billsum['train'][0])\n",
    "print(billsum['train']['summary'][:5])"
   ]
  },
  {
   "cell_type": "code",
   "execution_count": 5,
   "metadata": {},
   "outputs": [],
   "source": [
    "tokenizer = AutoTokenizer.from_pretrained(checkpoint)"
   ]
  },
  {
   "cell_type": "code",
   "execution_count": 6,
   "metadata": {},
   "outputs": [],
   "source": [
    "def preprocess_function(data):\n",
    "    prefix = \"summarize: \"\n",
    "    inputs = [prefix + text for text in data['text']]\n",
    "    model_inputs = tokenizer(inputs, max_length=1024, truncation=True)\n",
    "    \n",
    "    labels = tokenizer(text_target=data['summary'], max_length=128, truncation=True)\n",
    "    model_inputs['labels'] = labels['input_ids']\n",
    "    return model_inputs"
   ]
  },
  {
   "cell_type": "code",
   "execution_count": 7,
   "metadata": {},
   "outputs": [
    {
     "data": {
      "application/vnd.jupyter.widget-view+json": {
       "model_id": "7bbe172e05ce4c3a81664f231f27d2ab",
       "version_major": 2,
       "version_minor": 0
      },
      "text/plain": [
       "Map:   0%|          | 0/989 [00:00<?, ? examples/s]"
      ]
     },
     "metadata": {},
     "output_type": "display_data"
    },
    {
     "data": {
      "application/vnd.jupyter.widget-view+json": {
       "model_id": "ccb92bda2ccd4a9f8ef934719fe40a4a",
       "version_major": 2,
       "version_minor": 0
      },
      "text/plain": [
       "Map:   0%|          | 0/248 [00:00<?, ? examples/s]"
      ]
     },
     "metadata": {},
     "output_type": "display_data"
    }
   ],
   "source": [
    "tokenized_billsum = billsum.map(preprocess_function, batched=True)\n",
    "data_collator = DataCollatorForSeq2Seq(\n",
    "    tokenizer=tokenizer,\n",
    "    model=checkpoint,\n",
    "    return_tensors='tf'\n",
    ")"
   ]
  },
  {
   "cell_type": "markdown",
   "metadata": {},
   "source": [
    "# Defining Model and Metrics"
   ]
  },
  {
   "cell_type": "code",
   "execution_count": 8,
   "metadata": {},
   "outputs": [],
   "source": [
    "rouge = evaluate.load('rouge')\n",
    "def compute_metrics(eval_pred, evalutor=rouge, tokenizer=tokenizer):\n",
    "    predictions, labels = eval_pred\n",
    "    decoded_preds = tokenizer.batch_decode(predictions, skip_special_tokens=True)\n",
    "    prediction_lens = [np.count_nonzero(pred != tokenizer.pad_token_id) for pred in predictions]\n",
    "    \n",
    "    labels = np.where(labels != -100, labels, tokenizer.pad_token_id) # not sure what this is doing\n",
    "    decoded_labels = tokenizer.batch_decode(labels, skip_special_tokens=True)\n",
    "\n",
    "    result = evalutor.compute(\n",
    "        predictions=decoded_preds,\n",
    "        references=decoded_labels,\n",
    "        use_stemmer=True\n",
    "    )\n",
    "    result[\"gen_len\"] = np.mean(prediction_lens)\n",
    "\n",
    "    return {k: round(v, 4) for k, v in result.items()}\n"
   ]
  },
  {
   "cell_type": "markdown",
   "metadata": {},
   "source": [
    "## PyTorch"
   ]
  },
  {
   "cell_type": "code",
   "execution_count": null,
   "metadata": {},
   "outputs": [],
   "source": [
    "model = AutoModelForSeq2SeqLM.from_pretrained(checkpoint)\n",
    "training_args = Seq2SeqTrainingArguments(\n",
    "    output_dir='./model_temp',\n",
    "    evaluation_strategy=\"epoch\",\n",
    "    learning_rate=2e-5,\n",
    "    per_device_train_batch_size=16,\n",
    "    per_device_eval_batch_size=16,\n",
    "    weight_decay=0.01,\n",
    "    save_total_limit=3,\n",
    "    num_train_epochs=4,\n",
    "    predict_with_generate=True,\n",
    "    fp16=True\n",
    ")\n",
    "\n",
    "trainer = Seq2SeqTrainer(\n",
    "    model=model,\n",
    "    args=training_args,\n",
    "    train_dataset=tokenized_billsum[\"train\"],\n",
    "    eval_dataset=tokenized_billsum[\"test\"],\n",
    "    tokenizer=tokenizer,\n",
    "    data_collator=data_collator,\n",
    "    compute_metrics=compute_metrics,\n",
    ")\n",
    "\n",
    "trainer.train()"
   ]
  },
  {
   "cell_type": "markdown",
   "metadata": {},
   "source": [
    "## TensorFlow"
   ]
  },
  {
   "cell_type": "code",
   "execution_count": 9,
   "metadata": {},
   "outputs": [
    {
     "name": "stderr",
     "output_type": "stream",
     "text": [
      "c:\\Users\\marks\\.virtualenvs\\QualAbstracts-_C7lXhsk\\lib\\site-packages\\keras\\src\\initializers\\initializers.py:120: UserWarning: The initializer RandomNormal is unseeded and being called multiple times, which will return identical values each time (even if the initializer is unseeded). Please update your code to provide a seed to the initializer, or avoid using the same initializer instance more than once.\n",
      "  warnings.warn(\n",
      "All model checkpoint layers were used when initializing TFT5ForConditionalGeneration.\n",
      "\n",
      "All the layers of TFT5ForConditionalGeneration were initialized from the model checkpoint at google/flan-t5-small.\n",
      "If your task is similar to the task the model of the checkpoint was trained on, you can already use TFT5ForConditionalGeneration for predictions without further training.\n"
     ]
    }
   ],
   "source": [
    "optimizer = AdamWeightDecay(learning_rate=2e-5, weight_decay_rate=0.01)\n",
    "model = TFAutoModelForSeq2SeqLM.from_pretrained(checkpoint)\n",
    "model.compile(optimizer=optimizer)"
   ]
  },
  {
   "cell_type": "markdown",
   "metadata": {},
   "source": [
    "Note that HF models have built-in loss functions, so one does not need to be specified when compiling."
   ]
  },
  {
   "cell_type": "code",
   "execution_count": null,
   "metadata": {},
   "outputs": [],
   "source": [
    "train_set = model.prepare_tf_dataset(\n",
    "    tokenized_billsum['train'],\n",
    "    shuffle=True,\n",
    "    batch_size=16,\n",
    "    collate_fn=data_collator\n",
    ")\n",
    "test_set = model.prepare_tf_dataset(\n",
    "    tokenized_billsum['test'],\n",
    "    shuffle=False,\n",
    "    batch_size=16,\n",
    "    collate_fn=data_collator\n",
    ")\n",
    "\n",
    "metric_callback = KerasMetricCallback(metric_fn=compute_metrics, eval_dataset=test_set)\n",
    "\n",
    "model.fit(\n",
    "    x=train_set,\n",
    "    validation_data=test_set,\n",
    "    epochs=3,\n",
    "    callbacks=[metric_callback]\n",
    ")"
   ]
  },
  {
   "cell_type": "code",
   "execution_count": 13,
   "metadata": {},
   "outputs": [
    {
     "ename": "NameError",
     "evalue": "name 'model' is not defined",
     "output_type": "error",
     "traceback": [
      "\u001b[1;31m---------------------------------------------------------------------------\u001b[0m",
      "\u001b[1;31mNameError\u001b[0m                                 Traceback (most recent call last)",
      "Cell \u001b[1;32mIn[13], line 2\u001b[0m\n\u001b[0;32m      1\u001b[0m tokenizer\u001b[39m.\u001b[39msave_pretrained(model_save_path)\n\u001b[1;32m----> 2\u001b[0m model\u001b[39m.\u001b[39msave_pretrained(model_save_path)\n",
      "\u001b[1;31mNameError\u001b[0m: name 'model' is not defined"
     ]
    }
   ],
   "source": [
    "tokenizer.save_pretrained(model_save_path)\n",
    "model.save_pretrained(model_save_path)"
   ]
  },
  {
   "cell_type": "markdown",
   "metadata": {},
   "source": [
    "# Inference"
   ]
  },
  {
   "cell_type": "code",
   "execution_count": 9,
   "metadata": {},
   "outputs": [
    {
     "data": {
      "application/vnd.jupyter.widget-view+json": {
       "model_id": "be698996b918476a874cae6659cb7662",
       "version_major": 2,
       "version_minor": 0
      },
      "text/plain": [
       "Downloading pytorch_model.bin:   0%|          | 0.00/308M [00:00<?, ?B/s]"
      ]
     },
     "metadata": {},
     "output_type": "display_data"
    },
    {
     "name": "stderr",
     "output_type": "stream",
     "text": [
      "c:\\Users\\marks\\.virtualenvs\\QualAbstracts-_C7lXhsk\\lib\\site-packages\\huggingface_hub\\file_download.py:133: UserWarning: `huggingface_hub` cache-system uses symlinks by default to efficiently store duplicated files but your machine does not support them in C:\\Users\\marks\\.cache\\huggingface\\hub. Caching files will still work but in a degraded version that might require more space on your disk. This warning can be disabled by setting the `HF_HUB_DISABLE_SYMLINKS_WARNING` environment variable. For more details, see https://huggingface.co/docs/huggingface_hub/how-to-cache#limitations.\n",
      "To support symlinks on Windows, you either need to activate Developer Mode or to run Python as an administrator. In order to see activate developer mode, see this article: https://docs.microsoft.com/en-us/windows/apps/get-started/enable-your-device-for-development\n",
      "  warnings.warn(message)\n"
     ]
    },
    {
     "name": "stdout",
     "output_type": "stream",
     "text": [
      "Inflation Reduction Act: The most aggressive action on tackling climate change in America.\n"
     ]
    }
   ],
   "source": [
    "from datetime import datetime\n",
    "\n",
    "model = AutoModelForSeq2SeqLM.from_pretrained(checkpoint)\n",
    "tokenizer = AutoTokenizer.from_pretrained(checkpoint)\n",
    "one_test_case = \"summarize: The Inflation Reduction Act lowers prescription drug costs, health care costs, and energy costs. It's the most aggressive action on tackling the climate crisis in American history, which will lift up American workers and create good-paying, union jobs across the country. It'll lower the deficit and ask the ultra-wealthy and corporations to pay their fair share. And no one making under $400,000 per year will pay a penny more in taxes.\"\n",
    "\n",
    "tokenized_input = tokenizer(one_test_case, return_tensors='pt').input_ids\n",
    "raw_output = model.generate(tokenized_input, max_new_tokens=128, do_sample=False)\n",
    "# raw_output = model.generate(**tokenized_input)\n",
    "text_output = tokenizer.decode(raw_output[0], skip_special_tokens=True)\n",
    "\n",
    "print(text_output)\n",
    "\n",
    "save_time = datetime.now().strftime(r'%Y%m%d%H%M%S')\n",
    "with open(output_path + f'/T5_billsum_baseline_text_{save_time}.txt', 'w', encoding='utf8') as f:\n",
    "    f.write(one_test_case)\n",
    "with open(output_path + f'/T5_billsum_baseline_output_{save_time}.txt', 'w', encoding='utf8') as f:\n",
    "    f.write(text_output)"
   ]
  },
  {
   "cell_type": "code",
   "execution_count": 15,
   "metadata": {},
   "outputs": [
    {
     "ename": "OSError",
     "evalue": "[Errno 22] Invalid argument: './out/T5_billsum_example_text_2023-07-28 17:16:18.633901.txt'",
     "output_type": "error",
     "traceback": [
      "\u001b[1;31m---------------------------------------------------------------------------\u001b[0m",
      "\u001b[1;31mOSError\u001b[0m                                   Traceback (most recent call last)",
      "Cell \u001b[1;32mIn[15], line 9\u001b[0m\n\u001b[0;32m      6\u001b[0m raw_output \u001b[39m=\u001b[39m model\u001b[39m.\u001b[39mgenerate(tokenized_input, max_new_tokens\u001b[39m=\u001b[39m\u001b[39m200\u001b[39m, do_sample\u001b[39m=\u001b[39m\u001b[39mFalse\u001b[39;00m)\n\u001b[0;32m      7\u001b[0m text_output \u001b[39m=\u001b[39m tokenizer\u001b[39m.\u001b[39mdecode(raw_output[\u001b[39m0\u001b[39m], skip_special_tokens\u001b[39m=\u001b[39m\u001b[39mTrue\u001b[39;00m)\n\u001b[1;32m----> 9\u001b[0m \u001b[39mwith\u001b[39;00m \u001b[39mopen\u001b[39;49m(\u001b[39mf\u001b[39;49m\u001b[39m'\u001b[39;49m\u001b[39m./out/T5_billsum_example_text_\u001b[39;49m\u001b[39m{\u001b[39;49;00msave_time\u001b[39m}\u001b[39;49;00m\u001b[39m.txt\u001b[39;49m\u001b[39m'\u001b[39;49m, \u001b[39m'\u001b[39;49m\u001b[39mw\u001b[39;49m\u001b[39m'\u001b[39;49m) \u001b[39mas\u001b[39;00m f:\n\u001b[0;32m     10\u001b[0m     f\u001b[39m.\u001b[39mwrite(one_test_case)\n\u001b[0;32m     11\u001b[0m \u001b[39mwith\u001b[39;00m \u001b[39mopen\u001b[39m(\u001b[39mf\u001b[39m\u001b[39m'\u001b[39m\u001b[39mT5_billsum_example_output_\u001b[39m\u001b[39m{\u001b[39;00msave_time\u001b[39m}\u001b[39;00m\u001b[39m'\u001b[39m, \u001b[39m'\u001b[39m\u001b[39mw\u001b[39m\u001b[39m'\u001b[39m) \u001b[39mas\u001b[39;00m f:\n",
      "File \u001b[1;32mc:\\Users\\marks\\.virtualenvs\\QualAbstracts-_C7lXhsk\\lib\\site-packages\\IPython\\core\\interactiveshell.py:284\u001b[0m, in \u001b[0;36m_modified_open\u001b[1;34m(file, *args, **kwargs)\u001b[0m\n\u001b[0;32m    277\u001b[0m \u001b[39mif\u001b[39;00m file \u001b[39min\u001b[39;00m {\u001b[39m0\u001b[39m, \u001b[39m1\u001b[39m, \u001b[39m2\u001b[39m}:\n\u001b[0;32m    278\u001b[0m     \u001b[39mraise\u001b[39;00m \u001b[39mValueError\u001b[39;00m(\n\u001b[0;32m    279\u001b[0m         \u001b[39mf\u001b[39m\u001b[39m\"\u001b[39m\u001b[39mIPython won\u001b[39m\u001b[39m'\u001b[39m\u001b[39mt let you open fd=\u001b[39m\u001b[39m{\u001b[39;00mfile\u001b[39m}\u001b[39;00m\u001b[39m by default \u001b[39m\u001b[39m\"\u001b[39m\n\u001b[0;32m    280\u001b[0m         \u001b[39m\"\u001b[39m\u001b[39mas it is likely to crash IPython. If you know what you are doing, \u001b[39m\u001b[39m\"\u001b[39m\n\u001b[0;32m    281\u001b[0m         \u001b[39m\"\u001b[39m\u001b[39myou can use builtins\u001b[39m\u001b[39m'\u001b[39m\u001b[39m open.\u001b[39m\u001b[39m\"\u001b[39m\n\u001b[0;32m    282\u001b[0m     )\n\u001b[1;32m--> 284\u001b[0m \u001b[39mreturn\u001b[39;00m io_open(file, \u001b[39m*\u001b[39margs, \u001b[39m*\u001b[39m\u001b[39m*\u001b[39mkwargs)\n",
      "\u001b[1;31mOSError\u001b[0m: [Errno 22] Invalid argument: './out/T5_billsum_example_text_2023-07-28 17:16:18.633901.txt'"
     ]
    }
   ],
   "source": [
    "from datetime import datetime\n",
    "\n",
    "model = AutoModelForSeq2SeqLM.from_pretrained(model_save_path)\n",
    "tokenizer = AutoTokenizer.from_pretrained(model_save_path)\n",
    "one_test_case = 'summarize: ' + billsum['test'][0]['text']\n",
    "tokenized_input = tokenizer(one_test_case, return_tensors='pt').input_ids\n",
    "raw_output = model.generate(tokenized_input, max_new_tokens=128, do_sample=False)\n",
    "# raw_output = model.generate(**tokenized_input)\n",
    "text_output = tokenizer.decode(raw_output[0], skip_special_tokens=True)\n",
    "\n",
    "print(text_output)\n",
    "\n",
    "save_time = datetime.now().strftime(r'%Y%m%d%H%M%S')\n",
    "with open(output_path + f'/T5_billsum_example_text_{save_time}.txt', 'w', encoding='utf8') as f:\n",
    "    f.write(one_test_case)\n",
    "with open(output_path + f'/T5_billsum_example_output_{save_time}.txt', 'w', encoding='utf8') as f:\n",
    "    f.write(text_output)"
   ]
  }
 ],
 "metadata": {
  "kernelspec": {
   "display_name": "QualAbstracts-R4Ruw4b-",
   "language": "python",
   "name": "python3"
  },
  "language_info": {
   "codemirror_mode": {
    "name": "ipython",
    "version": 3
   },
   "file_extension": ".py",
   "mimetype": "text/x-python",
   "name": "python",
   "nbconvert_exporter": "python",
   "pygments_lexer": "ipython3",
   "version": "3.9.13"
  },
  "orig_nbformat": 4
 },
 "nbformat": 4,
 "nbformat_minor": 2
}
